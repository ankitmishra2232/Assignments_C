{
 "cells": [
  {
   "cell_type": "code",
   "execution_count": 42,
   "id": "fb86184b",
   "metadata": {},
   "outputs": [],
   "source": [
    "import pandas as pd\n",
    "pd.options.display.max_columns = 200\n",
    "pd.options.display.max_rows = 200"
   ]
  },
  {
   "cell_type": "code",
   "execution_count": 43,
   "id": "458f0d2d",
   "metadata": {},
   "outputs": [],
   "source": [
    "# !pip install openpyxl"
   ]
  },
  {
   "cell_type": "code",
   "execution_count": 44,
   "id": "38b381b4",
   "metadata": {},
   "outputs": [],
   "source": [
    "data = pd.read_excel('E:/Assignments_C/Real estate valuation data set.xlsx')"
   ]
  },
  {
   "cell_type": "code",
   "execution_count": 45,
   "id": "07cdd94e",
   "metadata": {},
   "outputs": [
    {
     "data": {
      "text/html": [
       "<div>\n",
       "<style scoped>\n",
       "    .dataframe tbody tr th:only-of-type {\n",
       "        vertical-align: middle;\n",
       "    }\n",
       "\n",
       "    .dataframe tbody tr th {\n",
       "        vertical-align: top;\n",
       "    }\n",
       "\n",
       "    .dataframe thead th {\n",
       "        text-align: right;\n",
       "    }\n",
       "</style>\n",
       "<table border=\"1\" class=\"dataframe\">\n",
       "  <thead>\n",
       "    <tr style=\"text-align: right;\">\n",
       "      <th></th>\n",
       "      <th>X1 transaction date</th>\n",
       "      <th>X2 house age</th>\n",
       "      <th>X3 distance to the nearest MRT station</th>\n",
       "      <th>X4 number of convenience stores</th>\n",
       "      <th>X5 latitude</th>\n",
       "      <th>X6 longitude</th>\n",
       "      <th>Y house price of unit area</th>\n",
       "    </tr>\n",
       "  </thead>\n",
       "  <tbody>\n",
       "    <tr>\n",
       "      <th>0</th>\n",
       "      <td>2012.916667</td>\n",
       "      <td>32.0</td>\n",
       "      <td>84.87882</td>\n",
       "      <td>10</td>\n",
       "      <td>24.98298</td>\n",
       "      <td>121.54024</td>\n",
       "      <td>37.9</td>\n",
       "    </tr>\n",
       "    <tr>\n",
       "      <th>1</th>\n",
       "      <td>2012.916667</td>\n",
       "      <td>19.5</td>\n",
       "      <td>306.59470</td>\n",
       "      <td>9</td>\n",
       "      <td>24.98034</td>\n",
       "      <td>121.53951</td>\n",
       "      <td>42.2</td>\n",
       "    </tr>\n",
       "    <tr>\n",
       "      <th>2</th>\n",
       "      <td>2013.583333</td>\n",
       "      <td>13.3</td>\n",
       "      <td>561.98450</td>\n",
       "      <td>5</td>\n",
       "      <td>24.98746</td>\n",
       "      <td>121.54391</td>\n",
       "      <td>47.3</td>\n",
       "    </tr>\n",
       "    <tr>\n",
       "      <th>3</th>\n",
       "      <td>2013.500000</td>\n",
       "      <td>13.3</td>\n",
       "      <td>561.98450</td>\n",
       "      <td>5</td>\n",
       "      <td>24.98746</td>\n",
       "      <td>121.54391</td>\n",
       "      <td>54.8</td>\n",
       "    </tr>\n",
       "    <tr>\n",
       "      <th>4</th>\n",
       "      <td>2012.833333</td>\n",
       "      <td>5.0</td>\n",
       "      <td>390.56840</td>\n",
       "      <td>5</td>\n",
       "      <td>24.97937</td>\n",
       "      <td>121.54245</td>\n",
       "      <td>43.1</td>\n",
       "    </tr>\n",
       "    <tr>\n",
       "      <th>...</th>\n",
       "      <td>...</td>\n",
       "      <td>...</td>\n",
       "      <td>...</td>\n",
       "      <td>...</td>\n",
       "      <td>...</td>\n",
       "      <td>...</td>\n",
       "      <td>...</td>\n",
       "    </tr>\n",
       "    <tr>\n",
       "      <th>409</th>\n",
       "      <td>2013.000000</td>\n",
       "      <td>13.7</td>\n",
       "      <td>4082.01500</td>\n",
       "      <td>0</td>\n",
       "      <td>24.94155</td>\n",
       "      <td>121.50381</td>\n",
       "      <td>15.4</td>\n",
       "    </tr>\n",
       "    <tr>\n",
       "      <th>410</th>\n",
       "      <td>2012.666667</td>\n",
       "      <td>5.6</td>\n",
       "      <td>90.45606</td>\n",
       "      <td>9</td>\n",
       "      <td>24.97433</td>\n",
       "      <td>121.54310</td>\n",
       "      <td>50.0</td>\n",
       "    </tr>\n",
       "    <tr>\n",
       "      <th>411</th>\n",
       "      <td>2013.250000</td>\n",
       "      <td>18.8</td>\n",
       "      <td>390.96960</td>\n",
       "      <td>7</td>\n",
       "      <td>24.97923</td>\n",
       "      <td>121.53986</td>\n",
       "      <td>40.6</td>\n",
       "    </tr>\n",
       "    <tr>\n",
       "      <th>412</th>\n",
       "      <td>2013.000000</td>\n",
       "      <td>8.1</td>\n",
       "      <td>104.81010</td>\n",
       "      <td>5</td>\n",
       "      <td>24.96674</td>\n",
       "      <td>121.54067</td>\n",
       "      <td>52.5</td>\n",
       "    </tr>\n",
       "    <tr>\n",
       "      <th>413</th>\n",
       "      <td>2013.500000</td>\n",
       "      <td>6.5</td>\n",
       "      <td>90.45606</td>\n",
       "      <td>9</td>\n",
       "      <td>24.97433</td>\n",
       "      <td>121.54310</td>\n",
       "      <td>63.9</td>\n",
       "    </tr>\n",
       "  </tbody>\n",
       "</table>\n",
       "<p>414 rows × 7 columns</p>\n",
       "</div>"
      ],
      "text/plain": [
       "     X1 transaction date  X2 house age  \\\n",
       "0            2012.916667          32.0   \n",
       "1            2012.916667          19.5   \n",
       "2            2013.583333          13.3   \n",
       "3            2013.500000          13.3   \n",
       "4            2012.833333           5.0   \n",
       "..                   ...           ...   \n",
       "409          2013.000000          13.7   \n",
       "410          2012.666667           5.6   \n",
       "411          2013.250000          18.8   \n",
       "412          2013.000000           8.1   \n",
       "413          2013.500000           6.5   \n",
       "\n",
       "     X3 distance to the nearest MRT station  X4 number of convenience stores  \\\n",
       "0                                  84.87882                               10   \n",
       "1                                 306.59470                                9   \n",
       "2                                 561.98450                                5   \n",
       "3                                 561.98450                                5   \n",
       "4                                 390.56840                                5   \n",
       "..                                      ...                              ...   \n",
       "409                              4082.01500                                0   \n",
       "410                                90.45606                                9   \n",
       "411                               390.96960                                7   \n",
       "412                               104.81010                                5   \n",
       "413                                90.45606                                9   \n",
       "\n",
       "     X5 latitude  X6 longitude  Y house price of unit area  \n",
       "0       24.98298     121.54024                        37.9  \n",
       "1       24.98034     121.53951                        42.2  \n",
       "2       24.98746     121.54391                        47.3  \n",
       "3       24.98746     121.54391                        54.8  \n",
       "4       24.97937     121.54245                        43.1  \n",
       "..           ...           ...                         ...  \n",
       "409     24.94155     121.50381                        15.4  \n",
       "410     24.97433     121.54310                        50.0  \n",
       "411     24.97923     121.53986                        40.6  \n",
       "412     24.96674     121.54067                        52.5  \n",
       "413     24.97433     121.54310                        63.9  \n",
       "\n",
       "[414 rows x 7 columns]"
      ]
     },
     "execution_count": 45,
     "metadata": {},
     "output_type": "execute_result"
    }
   ],
   "source": [
    "data.pop('No')\n",
    "data"
   ]
  },
  {
   "cell_type": "code",
   "execution_count": 46,
   "id": "f079f5ec",
   "metadata": {},
   "outputs": [
    {
     "name": "stdout",
     "output_type": "stream",
     "text": [
      "<class 'pandas.core.frame.DataFrame'>\n",
      "RangeIndex: 414 entries, 0 to 413\n",
      "Data columns (total 7 columns):\n",
      " #   Column                                  Non-Null Count  Dtype  \n",
      "---  ------                                  --------------  -----  \n",
      " 0   X1 transaction date                     414 non-null    float64\n",
      " 1   X2 house age                            414 non-null    float64\n",
      " 2   X3 distance to the nearest MRT station  414 non-null    float64\n",
      " 3   X4 number of convenience stores         414 non-null    int64  \n",
      " 4   X5 latitude                             414 non-null    float64\n",
      " 5   X6 longitude                            414 non-null    float64\n",
      " 6   Y house price of unit area              414 non-null    float64\n",
      "dtypes: float64(6), int64(1)\n",
      "memory usage: 22.8 KB\n"
     ]
    }
   ],
   "source": [
    "data.info()"
   ]
  },
  {
   "cell_type": "code",
   "execution_count": 47,
   "id": "fa27f5c7",
   "metadata": {},
   "outputs": [
    {
     "data": {
      "text/html": [
       "<div>\n",
       "<style scoped>\n",
       "    .dataframe tbody tr th:only-of-type {\n",
       "        vertical-align: middle;\n",
       "    }\n",
       "\n",
       "    .dataframe tbody tr th {\n",
       "        vertical-align: top;\n",
       "    }\n",
       "\n",
       "    .dataframe thead th {\n",
       "        text-align: right;\n",
       "    }\n",
       "</style>\n",
       "<table border=\"1\" class=\"dataframe\">\n",
       "  <thead>\n",
       "    <tr style=\"text-align: right;\">\n",
       "      <th></th>\n",
       "      <th>X1 transaction date</th>\n",
       "      <th>X2 house age</th>\n",
       "      <th>X3 distance to the nearest MRT station</th>\n",
       "      <th>X4 number of convenience stores</th>\n",
       "      <th>X5 latitude</th>\n",
       "      <th>X6 longitude</th>\n",
       "      <th>Y house price of unit area</th>\n",
       "    </tr>\n",
       "  </thead>\n",
       "  <tbody>\n",
       "    <tr>\n",
       "      <th>count</th>\n",
       "      <td>414.000000</td>\n",
       "      <td>414.000000</td>\n",
       "      <td>414.000000</td>\n",
       "      <td>414.000000</td>\n",
       "      <td>414.000000</td>\n",
       "      <td>414.000000</td>\n",
       "      <td>414.000000</td>\n",
       "    </tr>\n",
       "    <tr>\n",
       "      <th>mean</th>\n",
       "      <td>2013.148953</td>\n",
       "      <td>17.712560</td>\n",
       "      <td>1083.885689</td>\n",
       "      <td>4.094203</td>\n",
       "      <td>24.969030</td>\n",
       "      <td>121.533361</td>\n",
       "      <td>37.980193</td>\n",
       "    </tr>\n",
       "    <tr>\n",
       "      <th>std</th>\n",
       "      <td>0.281995</td>\n",
       "      <td>11.392485</td>\n",
       "      <td>1262.109595</td>\n",
       "      <td>2.945562</td>\n",
       "      <td>0.012410</td>\n",
       "      <td>0.015347</td>\n",
       "      <td>13.606488</td>\n",
       "    </tr>\n",
       "    <tr>\n",
       "      <th>min</th>\n",
       "      <td>2012.666667</td>\n",
       "      <td>0.000000</td>\n",
       "      <td>23.382840</td>\n",
       "      <td>0.000000</td>\n",
       "      <td>24.932070</td>\n",
       "      <td>121.473530</td>\n",
       "      <td>7.600000</td>\n",
       "    </tr>\n",
       "    <tr>\n",
       "      <th>25%</th>\n",
       "      <td>2012.916667</td>\n",
       "      <td>9.025000</td>\n",
       "      <td>289.324800</td>\n",
       "      <td>1.000000</td>\n",
       "      <td>24.963000</td>\n",
       "      <td>121.528085</td>\n",
       "      <td>27.700000</td>\n",
       "    </tr>\n",
       "    <tr>\n",
       "      <th>50%</th>\n",
       "      <td>2013.166667</td>\n",
       "      <td>16.100000</td>\n",
       "      <td>492.231300</td>\n",
       "      <td>4.000000</td>\n",
       "      <td>24.971100</td>\n",
       "      <td>121.538630</td>\n",
       "      <td>38.450000</td>\n",
       "    </tr>\n",
       "    <tr>\n",
       "      <th>75%</th>\n",
       "      <td>2013.416667</td>\n",
       "      <td>28.150000</td>\n",
       "      <td>1454.279000</td>\n",
       "      <td>6.000000</td>\n",
       "      <td>24.977455</td>\n",
       "      <td>121.543305</td>\n",
       "      <td>46.600000</td>\n",
       "    </tr>\n",
       "    <tr>\n",
       "      <th>max</th>\n",
       "      <td>2013.583333</td>\n",
       "      <td>43.800000</td>\n",
       "      <td>6488.021000</td>\n",
       "      <td>10.000000</td>\n",
       "      <td>25.014590</td>\n",
       "      <td>121.566270</td>\n",
       "      <td>117.500000</td>\n",
       "    </tr>\n",
       "  </tbody>\n",
       "</table>\n",
       "</div>"
      ],
      "text/plain": [
       "       X1 transaction date  X2 house age  \\\n",
       "count           414.000000    414.000000   \n",
       "mean           2013.148953     17.712560   \n",
       "std               0.281995     11.392485   \n",
       "min            2012.666667      0.000000   \n",
       "25%            2012.916667      9.025000   \n",
       "50%            2013.166667     16.100000   \n",
       "75%            2013.416667     28.150000   \n",
       "max            2013.583333     43.800000   \n",
       "\n",
       "       X3 distance to the nearest MRT station  \\\n",
       "count                              414.000000   \n",
       "mean                              1083.885689   \n",
       "std                               1262.109595   \n",
       "min                                 23.382840   \n",
       "25%                                289.324800   \n",
       "50%                                492.231300   \n",
       "75%                               1454.279000   \n",
       "max                               6488.021000   \n",
       "\n",
       "       X4 number of convenience stores  X5 latitude  X6 longitude  \\\n",
       "count                       414.000000   414.000000    414.000000   \n",
       "mean                          4.094203    24.969030    121.533361   \n",
       "std                           2.945562     0.012410      0.015347   \n",
       "min                           0.000000    24.932070    121.473530   \n",
       "25%                           1.000000    24.963000    121.528085   \n",
       "50%                           4.000000    24.971100    121.538630   \n",
       "75%                           6.000000    24.977455    121.543305   \n",
       "max                          10.000000    25.014590    121.566270   \n",
       "\n",
       "       Y house price of unit area  \n",
       "count                  414.000000  \n",
       "mean                    37.980193  \n",
       "std                     13.606488  \n",
       "min                      7.600000  \n",
       "25%                     27.700000  \n",
       "50%                     38.450000  \n",
       "75%                     46.600000  \n",
       "max                    117.500000  "
      ]
     },
     "execution_count": 47,
     "metadata": {},
     "output_type": "execute_result"
    }
   ],
   "source": [
    "data.describe()"
   ]
  },
  {
   "cell_type": "code",
   "execution_count": 48,
   "id": "c8475456",
   "metadata": {},
   "outputs": [
    {
     "data": {
      "text/plain": [
       "X1 transaction date                       0\n",
       "X2 house age                              0\n",
       "X3 distance to the nearest MRT station    0\n",
       "X4 number of convenience stores           0\n",
       "X5 latitude                               0\n",
       "X6 longitude                              0\n",
       "Y house price of unit area                0\n",
       "dtype: int64"
      ]
     },
     "execution_count": 48,
     "metadata": {},
     "output_type": "execute_result"
    }
   ],
   "source": [
    "data.isna().sum()"
   ]
  },
  {
   "cell_type": "code",
   "execution_count": 49,
   "id": "cf9e7b01",
   "metadata": {},
   "outputs": [
    {
     "data": {
      "text/plain": [
       "Index(['X1 transaction date', 'X2 house age',\n",
       "       'X3 distance to the nearest MRT station',\n",
       "       'X4 number of convenience stores', 'X5 latitude', 'X6 longitude',\n",
       "       'Y house price of unit area'],\n",
       "      dtype='object')"
      ]
     },
     "execution_count": 49,
     "metadata": {},
     "output_type": "execute_result"
    }
   ],
   "source": [
    "data.columns"
   ]
  },
  {
   "cell_type": "code",
   "execution_count": 50,
   "id": "844388a3",
   "metadata": {},
   "outputs": [],
   "source": [
    "import matplotlib.pyplot as plt\n",
    "import seaborn as sns\n",
    "sns.set_style(\"darkgrid\")\n",
    "# !pip install plotly\n",
    "import plotly.express as px"
   ]
  },
  {
   "cell_type": "code",
   "execution_count": 51,
   "id": "8694aceb",
   "metadata": {},
   "outputs": [
    {
     "data": {
      "application/vnd.plotly.v1+json": {
       "config": {
        "plotlyServerURL": "https://plot.ly"
       },
       "data": [
        {
         "alignmentgroup": "True",
         "bingroup": "x",
         "histfunc": "sum",
         "hovertemplate": "Y house price of unit area=37.9<br>X2 house age=%{x}<br>sum of X4 number of convenience stores=%{y}<extra></extra>",
         "legendgroup": "37.9",
         "marker": {
          "color": "#636efa",
          "pattern": {
           "shape": ""
          }
         },
         "name": "37.9",
         "offsetgroup": "37.9",
         "orientation": "v",
         "showlegend": true,
         "type": "histogram",
         "x": [
          32,
          0
         ],
         "xaxis": "x",
         "y": [
          10,
          0
         ],
         "yaxis": "y"
        },
        {
         "alignmentgroup": "True",
         "bingroup": "x",
         "histfunc": "sum",
         "hovertemplate": "Y house price of unit area=42.2<br>X2 house age=%{x}<br>sum of X4 number of convenience stores=%{y}<extra></extra>",
         "legendgroup": "42.2",
         "marker": {
          "color": "#EF553B",
          "pattern": {
           "shape": ""
          }
         },
         "name": "42.2",
         "offsetgroup": "42.2",
         "orientation": "v",
         "showlegend": true,
         "type": "histogram",
         "x": [
          19.5,
          33.4,
          21.3
         ],
         "xaxis": "x",
         "y": [
          9,
          6,
          4
         ],
         "yaxis": "y"
        },
        {
         "alignmentgroup": "True",
         "bingroup": "x",
         "histfunc": "sum",
         "hovertemplate": "Y house price of unit area=47.3<br>X2 house age=%{x}<br>sum of X4 number of convenience stores=%{y}<extra></extra>",
         "legendgroup": "47.3",
         "marker": {
          "color": "#00cc96",
          "pattern": {
           "shape": ""
          }
         },
         "name": "47.3",
         "offsetgroup": "47.3",
         "orientation": "v",
         "showlegend": true,
         "type": "histogram",
         "x": [
          13.3,
          8
         ],
         "xaxis": "x",
         "y": [
          5,
          9
         ],
         "yaxis": "y"
        },
        {
         "alignmentgroup": "True",
         "bingroup": "x",
         "histfunc": "sum",
         "hovertemplate": "Y house price of unit area=54.8<br>X2 house age=%{x}<br>sum of X4 number of convenience stores=%{y}<extra></extra>",
         "legendgroup": "54.8",
         "marker": {
          "color": "#ab63fa",
          "pattern": {
           "shape": ""
          }
         },
         "name": "54.8",
         "offsetgroup": "54.8",
         "orientation": "v",
         "showlegend": true,
         "type": "histogram",
         "x": [
          13.3
         ],
         "xaxis": "x",
         "y": [
          5
         ],
         "yaxis": "y"
        },
        {
         "alignmentgroup": "True",
         "bingroup": "x",
         "histfunc": "sum",
         "hovertemplate": "Y house price of unit area=43.1<br>X2 house age=%{x}<br>sum of X4 number of convenience stores=%{y}<extra></extra>",
         "legendgroup": "43.1",
         "marker": {
          "color": "#FFA15A",
          "pattern": {
           "shape": ""
          }
         },
         "name": "43.1",
         "offsetgroup": "43.1",
         "orientation": "v",
         "showlegend": true,
         "type": "histogram",
         "x": [
          5,
          18.2
         ],
         "xaxis": "x",
         "y": [
          5,
          1
         ],
         "yaxis": "y"
        },
        {
         "alignmentgroup": "True",
         "bingroup": "x",
         "histfunc": "sum",
         "hovertemplate": "Y house price of unit area=32.1<br>X2 house age=%{x}<br>sum of X4 number of convenience stores=%{y}<extra></extra>",
         "legendgroup": "32.1",
         "marker": {
          "color": "#19d3f3",
          "pattern": {
           "shape": ""
          }
         },
         "name": "32.1",
         "offsetgroup": "32.1",
         "orientation": "v",
         "showlegend": true,
         "type": "histogram",
         "x": [
          7.1
         ],
         "xaxis": "x",
         "y": [
          3
         ],
         "yaxis": "y"
        },
        {
         "alignmentgroup": "True",
         "bingroup": "x",
         "histfunc": "sum",
         "hovertemplate": "Y house price of unit area=40.3<br>X2 house age=%{x}<br>sum of X4 number of convenience stores=%{y}<extra></extra>",
         "legendgroup": "40.3",
         "marker": {
          "color": "#FF6692",
          "pattern": {
           "shape": ""
          }
         },
         "name": "40.3",
         "offsetgroup": "40.3",
         "orientation": "v",
         "showlegend": true,
         "type": "histogram",
         "x": [
          34.5,
          11.8,
          29.1,
          16.9
         ],
         "xaxis": "x",
         "y": [
          7,
          4,
          4,
          4
         ],
         "yaxis": "y"
        },
        {
         "alignmentgroup": "True",
         "bingroup": "x",
         "histfunc": "sum",
         "hovertemplate": "Y house price of unit area=46.7<br>X2 house age=%{x}<br>sum of X4 number of convenience stores=%{y}<extra></extra>",
         "legendgroup": "46.7",
         "marker": {
          "color": "#B6E880",
          "pattern": {
           "shape": ""
          }
         },
         "name": "46.7",
         "offsetgroup": "46.7",
         "orientation": "v",
         "showlegend": true,
         "type": "histogram",
         "x": [
          20.3
         ],
         "xaxis": "x",
         "y": [
          6
         ],
         "yaxis": "y"
        },
        {
         "alignmentgroup": "True",
         "bingroup": "x",
         "histfunc": "sum",
         "hovertemplate": "Y house price of unit area=18.8<br>X2 house age=%{x}<br>sum of X4 number of convenience stores=%{y}<extra></extra>",
         "legendgroup": "18.8",
         "marker": {
          "color": "#FF97FF",
          "pattern": {
           "shape": ""
          }
         },
         "name": "18.8",
         "offsetgroup": "18.8",
         "orientation": "v",
         "showlegend": true,
         "type": "histogram",
         "x": [
          31.7,
          17
         ],
         "xaxis": "x",
         "y": [
          1,
          0
         ],
         "yaxis": "y"
        },
        {
         "alignmentgroup": "True",
         "bingroup": "x",
         "histfunc": "sum",
         "hovertemplate": "Y house price of unit area=22.1<br>X2 house age=%{x}<br>sum of X4 number of convenience stores=%{y}<extra></extra>",
         "legendgroup": "22.1",
         "marker": {
          "color": "#FECB52",
          "pattern": {
           "shape": ""
          }
         },
         "name": "22.1",
         "offsetgroup": "22.1",
         "orientation": "v",
         "showlegend": true,
         "type": "histogram",
         "x": [
          17.9,
          25.9
         ],
         "xaxis": "x",
         "y": [
          3,
          0
         ],
         "yaxis": "y"
        },
        {
         "alignmentgroup": "True",
         "bingroup": "x",
         "histfunc": "sum",
         "hovertemplate": "Y house price of unit area=41.4<br>X2 house age=%{x}<br>sum of X4 number of convenience stores=%{y}<extra></extra>",
         "legendgroup": "41.4",
         "marker": {
          "color": "#636efa",
          "pattern": {
           "shape": ""
          }
         },
         "name": "41.4",
         "offsetgroup": "41.4",
         "orientation": "v",
         "showlegend": true,
         "type": "histogram",
         "x": [
          34.8,
          13.7
         ],
         "xaxis": "x",
         "y": [
          1,
          7
         ],
         "yaxis": "y"
        },
        {
         "alignmentgroup": "True",
         "bingroup": "x",
         "histfunc": "sum",
         "hovertemplate": "Y house price of unit area=58.1<br>X2 house age=%{x}<br>sum of X4 number of convenience stores=%{y}<extra></extra>",
         "legendgroup": "58.1",
         "marker": {
          "color": "#EF553B",
          "pattern": {
           "shape": ""
          }
         },
         "name": "58.1",
         "offsetgroup": "58.1",
         "orientation": "v",
         "showlegend": true,
         "type": "histogram",
         "x": [
          6.3,
          6.6
         ],
         "xaxis": "x",
         "y": [
          9,
          9
         ],
         "yaxis": "y"
        },
        {
         "alignmentgroup": "True",
         "bingroup": "x",
         "histfunc": "sum",
         "hovertemplate": "Y house price of unit area=39.3<br>X2 house age=%{x}<br>sum of X4 number of convenience stores=%{y}<extra></extra>",
         "legendgroup": "39.3",
         "marker": {
          "color": "#00cc96",
          "pattern": {
           "shape": ""
          }
         },
         "name": "39.3",
         "offsetgroup": "39.3",
         "orientation": "v",
         "showlegend": true,
         "type": "histogram",
         "x": [
          13,
          12.9
         ],
         "xaxis": "x",
         "y": [
          5,
          7
         ],
         "yaxis": "y"
        },
        {
         "alignmentgroup": "True",
         "bingroup": "x",
         "histfunc": "sum",
         "hovertemplate": "Y house price of unit area=23.8<br>X2 house age=%{x}<br>sum of X4 number of convenience stores=%{y}<extra></extra>",
         "legendgroup": "23.8",
         "marker": {
          "color": "#ab63fa",
          "pattern": {
           "shape": ""
          }
         },
         "name": "23.8",
         "offsetgroup": "23.8",
         "orientation": "v",
         "showlegend": true,
         "type": "histogram",
         "x": [
          20.4,
          21.7
         ],
         "xaxis": "x",
         "y": [
          4,
          0
         ],
         "yaxis": "y"
        },
        {
         "alignmentgroup": "True",
         "bingroup": "x",
         "histfunc": "sum",
         "hovertemplate": "Y house price of unit area=34.3<br>X2 house age=%{x}<br>sum of X4 number of convenience stores=%{y}<extra></extra>",
         "legendgroup": "34.3",
         "marker": {
          "color": "#FFA15A",
          "pattern": {
           "shape": ""
          }
         },
         "name": "34.3",
         "offsetgroup": "34.3",
         "orientation": "v",
         "showlegend": true,
         "type": "histogram",
         "x": [
          13.2
         ],
         "xaxis": "x",
         "y": [
          4
         ],
         "yaxis": "y"
        },
        {
         "alignmentgroup": "True",
         "bingroup": "x",
         "histfunc": "sum",
         "hovertemplate": "Y house price of unit area=50.5<br>X2 house age=%{x}<br>sum of X4 number of convenience stores=%{y}<extra></extra>",
         "legendgroup": "50.5",
         "marker": {
          "color": "#19d3f3",
          "pattern": {
           "shape": ""
          }
         },
         "name": "50.5",
         "offsetgroup": "50.5",
         "orientation": "v",
         "showlegend": true,
         "type": "histogram",
         "x": [
          35.7
         ],
         "xaxis": "x",
         "y": [
          2
         ],
         "yaxis": "y"
        },
        {
         "alignmentgroup": "True",
         "bingroup": "x",
         "histfunc": "sum",
         "hovertemplate": "Y house price of unit area=70.1<br>X2 house age=%{x}<br>sum of X4 number of convenience stores=%{y}<extra></extra>",
         "legendgroup": "70.1",
         "marker": {
          "color": "#FF6692",
          "pattern": {
           "shape": ""
          }
         },
         "name": "70.1",
         "offsetgroup": "70.1",
         "orientation": "v",
         "showlegend": true,
         "type": "histogram",
         "x": [
          0
         ],
         "xaxis": "x",
         "y": [
          6
         ],
         "yaxis": "y"
        },
        {
         "alignmentgroup": "True",
         "bingroup": "x",
         "histfunc": "sum",
         "hovertemplate": "Y house price of unit area=37.4<br>X2 house age=%{x}<br>sum of X4 number of convenience stores=%{y}<extra></extra>",
         "legendgroup": "37.4",
         "marker": {
          "color": "#B6E880",
          "pattern": {
           "shape": ""
          }
         },
         "name": "37.4",
         "offsetgroup": "37.4",
         "orientation": "v",
         "showlegend": true,
         "type": "histogram",
         "x": [
          17.7,
          15.5,
          27.6,
          37.3
         ],
         "xaxis": "x",
         "y": [
          1,
          4,
          5,
          8
         ],
         "yaxis": "y"
        },
        {
         "alignmentgroup": "True",
         "bingroup": "x",
         "histfunc": "sum",
         "hovertemplate": "Y house price of unit area=42.3<br>X2 house age=%{x}<br>sum of X4 number of convenience stores=%{y}<extra></extra>",
         "legendgroup": "42.3",
         "marker": {
          "color": "#FF97FF",
          "pattern": {
           "shape": ""
          }
         },
         "name": "42.3",
         "offsetgroup": "42.3",
         "orientation": "v",
         "showlegend": true,
         "type": "histogram",
         "x": [
          16.9,
          35.3,
          9.1,
          13.2
         ],
         "xaxis": "x",
         "y": [
          8,
          8,
          0,
          5
         ],
         "yaxis": "y"
        },
        {
         "alignmentgroup": "True",
         "bingroup": "x",
         "histfunc": "sum",
         "hovertemplate": "Y house price of unit area=47.7<br>X2 house age=%{x}<br>sum of X4 number of convenience stores=%{y}<extra></extra>",
         "legendgroup": "47.7",
         "marker": {
          "color": "#FECB52",
          "pattern": {
           "shape": ""
          }
         },
         "name": "47.7",
         "offsetgroup": "47.7",
         "orientation": "v",
         "showlegend": true,
         "type": "histogram",
         "x": [
          1.5,
          3.1
         ],
         "xaxis": "x",
         "y": [
          7,
          6
         ],
         "yaxis": "y"
        },
        {
         "alignmentgroup": "True",
         "bingroup": "x",
         "histfunc": "sum",
         "hovertemplate": "Y house price of unit area=29.3<br>X2 house age=%{x}<br>sum of X4 number of convenience stores=%{y}<extra></extra>",
         "legendgroup": "29.3",
         "marker": {
          "color": "#636efa",
          "pattern": {
           "shape": ""
          }
         },
         "name": "29.3",
         "offsetgroup": "29.3",
         "orientation": "v",
         "showlegend": true,
         "type": "histogram",
         "x": [
          4.5,
          15.2,
          13.2,
          16.3
         ],
         "xaxis": "x",
         "y": [
          3,
          0,
          1,
          0
         ],
         "yaxis": "y"
        },
        {
         "alignmentgroup": "True",
         "bingroup": "x",
         "histfunc": "sum",
         "hovertemplate": "Y house price of unit area=51.6<br>X2 house age=%{x}<br>sum of X4 number of convenience stores=%{y}<extra></extra>",
         "legendgroup": "51.6",
         "marker": {
          "color": "#EF553B",
          "pattern": {
           "shape": ""
          }
         },
         "name": "51.6",
         "offsetgroup": "51.6",
         "orientation": "v",
         "showlegend": true,
         "type": "histogram",
         "x": [
          10.5,
          8.1
         ],
         "xaxis": "x",
         "y": [
          7,
          5
         ],
         "yaxis": "y"
        },
        {
         "alignmentgroup": "True",
         "bingroup": "x",
         "histfunc": "sum",
         "hovertemplate": "Y house price of unit area=24.6<br>X2 house age=%{x}<br>sum of X4 number of convenience stores=%{y}<extra></extra>",
         "legendgroup": "24.6",
         "marker": {
          "color": "#00cc96",
          "pattern": {
           "shape": ""
          }
         },
         "name": "24.6",
         "offsetgroup": "24.6",
         "orientation": "v",
         "showlegend": true,
         "type": "histogram",
         "x": [
          14.7
         ],
         "xaxis": "x",
         "y": [
          1
         ],
         "yaxis": "y"
        },
        {
         "alignmentgroup": "True",
         "bingroup": "x",
         "histfunc": "sum",
         "hovertemplate": "Y house price of unit area=47.9<br>X2 house age=%{x}<br>sum of X4 number of convenience stores=%{y}<extra></extra>",
         "legendgroup": "47.9",
         "marker": {
          "color": "#ab63fa",
          "pattern": {
           "shape": ""
          }
         },
         "name": "47.9",
         "offsetgroup": "47.9",
         "orientation": "v",
         "showlegend": true,
         "type": "histogram",
         "x": [
          10.1
         ],
         "xaxis": "x",
         "y": [
          7
         ],
         "yaxis": "y"
        },
        {
         "alignmentgroup": "True",
         "bingroup": "x",
         "histfunc": "sum",
         "hovertemplate": "Y house price of unit area=38.8<br>X2 house age=%{x}<br>sum of X4 number of convenience stores=%{y}<extra></extra>",
         "legendgroup": "38.8",
         "marker": {
          "color": "#FFA15A",
          "pattern": {
           "shape": ""
          }
         },
         "name": "38.8",
         "offsetgroup": "38.8",
         "orientation": "v",
         "showlegend": true,
         "type": "histogram",
         "x": [
          39.6
         ],
         "xaxis": "x",
         "y": [
          4
         ],
         "yaxis": "y"
        },
        {
         "alignmentgroup": "True",
         "bingroup": "x",
         "histfunc": "sum",
         "hovertemplate": "Y house price of unit area=27.0<br>X2 house age=%{x}<br>sum of X4 number of convenience stores=%{y}<extra></extra>",
         "legendgroup": "27.0",
         "marker": {
          "color": "#19d3f3",
          "pattern": {
           "shape": ""
          }
         },
         "name": "27.0",
         "offsetgroup": "27.0",
         "orientation": "v",
         "showlegend": true,
         "type": "histogram",
         "x": [
          29.3,
          32.1,
          1.8
         ],
         "xaxis": "x",
         "y": [
          2,
          3,
          1
         ],
         "yaxis": "y"
        },
        {
         "alignmentgroup": "True",
         "bingroup": "x",
         "histfunc": "sum",
         "hovertemplate": "Y house price of unit area=56.2<br>X2 house age=%{x}<br>sum of X4 number of convenience stores=%{y}<extra></extra>",
         "legendgroup": "56.2",
         "marker": {
          "color": "#FF6692",
          "pattern": {
           "shape": ""
          }
         },
         "name": "56.2",
         "offsetgroup": "56.2",
         "orientation": "v",
         "showlegend": true,
         "type": "histogram",
         "x": [
          3.1
         ],
         "xaxis": "x",
         "y": [
          5
         ],
         "yaxis": "y"
        },
        {
         "alignmentgroup": "True",
         "bingroup": "x",
         "histfunc": "sum",
         "hovertemplate": "Y house price of unit area=33.6<br>X2 house age=%{x}<br>sum of X4 number of convenience stores=%{y}<extra></extra>",
         "legendgroup": "33.6",
         "marker": {
          "color": "#B6E880",
          "pattern": {
           "shape": ""
          }
         },
         "name": "33.6",
         "offsetgroup": "33.6",
         "orientation": "v",
         "showlegend": true,
         "type": "histogram",
         "x": [
          10.4
         ],
         "xaxis": "x",
         "y": [
          5
         ],
         "yaxis": "y"
        },
        {
         "alignmentgroup": "True",
         "bingroup": "x",
         "histfunc": "sum",
         "hovertemplate": "Y house price of unit area=47.0<br>X2 house age=%{x}<br>sum of X4 number of convenience stores=%{y}<extra></extra>",
         "legendgroup": "47.0",
         "marker": {
          "color": "#FF97FF",
          "pattern": {
           "shape": ""
          }
         },
         "name": "47.0",
         "offsetgroup": "47.0",
         "orientation": "v",
         "showlegend": true,
         "type": "histogram",
         "x": [
          19.2,
          7.8
         ],
         "xaxis": "x",
         "y": [
          4,
          5
         ],
         "yaxis": "y"
        },
        {
         "alignmentgroup": "True",
         "bingroup": "x",
         "histfunc": "sum",
         "hovertemplate": "Y house price of unit area=57.1<br>X2 house age=%{x}<br>sum of X4 number of convenience stores=%{y}<extra></extra>",
         "legendgroup": "57.1",
         "marker": {
          "color": "#FECB52",
          "pattern": {
           "shape": ""
          }
         },
         "name": "57.1",
         "offsetgroup": "57.1",
         "orientation": "v",
         "showlegend": true,
         "type": "histogram",
         "x": [
          7.1
         ],
         "xaxis": "x",
         "y": [
          5
         ],
         "yaxis": "y"
        },
        {
         "alignmentgroup": "True",
         "bingroup": "x",
         "histfunc": "sum",
         "hovertemplate": "Y house price of unit area=25.0<br>X2 house age=%{x}<br>sum of X4 number of convenience stores=%{y}<extra></extra>",
         "legendgroup": "25.0",
         "marker": {
          "color": "#636efa",
          "pattern": {
           "shape": ""
          }
         },
         "name": "25.0",
         "offsetgroup": "25.0",
         "orientation": "v",
         "showlegend": true,
         "type": "histogram",
         "x": [
          29.6
         ],
         "xaxis": "x",
         "y": [
          7
         ],
         "yaxis": "y"
        },
        {
         "alignmentgroup": "True",
         "bingroup": "x",
         "histfunc": "sum",
         "hovertemplate": "Y house price of unit area=34.2<br>X2 house age=%{x}<br>sum of X4 number of convenience stores=%{y}<extra></extra>",
         "legendgroup": "34.2",
         "marker": {
          "color": "#EF553B",
          "pattern": {
           "shape": ""
          }
         },
         "name": "34.2",
         "offsetgroup": "34.2",
         "orientation": "v",
         "showlegend": true,
         "type": "histogram",
         "x": [
          37.9,
          38.5
         ],
         "xaxis": "x",
         "y": [
          1,
          3
         ],
         "yaxis": "y"
        },
        {
         "alignmentgroup": "True",
         "bingroup": "x",
         "histfunc": "sum",
         "hovertemplate": "Y house price of unit area=49.3<br>X2 house age=%{x}<br>sum of X4 number of convenience stores=%{y}<extra></extra>",
         "legendgroup": "49.3",
         "marker": {
          "color": "#00cc96",
          "pattern": {
           "shape": ""
          }
         },
         "name": "49.3",
         "offsetgroup": "49.3",
         "orientation": "v",
         "showlegend": true,
         "type": "histogram",
         "x": [
          16.5,
          9.7
         ],
         "xaxis": "x",
         "y": [
          6,
          5
         ],
         "yaxis": "y"
        },
        {
         "alignmentgroup": "True",
         "bingroup": "x",
         "histfunc": "sum",
         "hovertemplate": "Y house price of unit area=55.1<br>X2 house age=%{x}<br>sum of X4 number of convenience stores=%{y}<extra></extra>",
         "legendgroup": "55.1",
         "marker": {
          "color": "#ab63fa",
          "pattern": {
           "shape": ""
          }
         },
         "name": "55.1",
         "offsetgroup": "55.1",
         "orientation": "v",
         "showlegend": true,
         "type": "histogram",
         "x": [
          15.4
         ],
         "xaxis": "x",
         "y": [
          7
         ],
         "yaxis": "y"
        },
        {
         "alignmentgroup": "True",
         "bingroup": "x",
         "histfunc": "sum",
         "hovertemplate": "Y house price of unit area=27.3<br>X2 house age=%{x}<br>sum of X4 number of convenience stores=%{y}<extra></extra>",
         "legendgroup": "27.3",
         "marker": {
          "color": "#FFA15A",
          "pattern": {
           "shape": ""
          }
         },
         "name": "27.3",
         "offsetgroup": "27.3",
         "orientation": "v",
         "showlegend": true,
         "type": "histogram",
         "x": [
          13.9,
          15.6,
          10.4
         ],
         "xaxis": "x",
         "y": [
          0,
          2,
          4
         ],
         "yaxis": "y"
        },
        {
         "alignmentgroup": "True",
         "bingroup": "x",
         "histfunc": "sum",
         "hovertemplate": "Y house price of unit area=22.9<br>X2 house age=%{x}<br>sum of X4 number of convenience stores=%{y}<extra></extra>",
         "legendgroup": "22.9",
         "marker": {
          "color": "#19d3f3",
          "pattern": {
           "shape": ""
          }
         },
         "name": "22.9",
         "offsetgroup": "22.9",
         "orientation": "v",
         "showlegend": true,
         "type": "histogram",
         "x": [
          14.7
         ],
         "xaxis": "x",
         "y": [
          2
         ],
         "yaxis": "y"
        },
        {
         "alignmentgroup": "True",
         "bingroup": "x",
         "histfunc": "sum",
         "hovertemplate": "Y house price of unit area=25.3<br>X2 house age=%{x}<br>sum of X4 number of convenience stores=%{y}<extra></extra>",
         "legendgroup": "25.3",
         "marker": {
          "color": "#FF6692",
          "pattern": {
           "shape": ""
          }
         },
         "name": "25.3",
         "offsetgroup": "25.3",
         "orientation": "v",
         "showlegend": true,
         "type": "histogram",
         "x": [
          12,
          17.5,
          23
         ],
         "xaxis": "x",
         "y": [
          1,
          0,
          0
         ],
         "yaxis": "y"
        },
        {
         "alignmentgroup": "True",
         "bingroup": "x",
         "histfunc": "sum",
         "hovertemplate": "Y house price of unit area=46.2<br>X2 house age=%{x}<br>sum of X4 number of convenience stores=%{y}<extra></extra>",
         "legendgroup": "46.2",
         "marker": {
          "color": "#B6E880",
          "pattern": {
           "shape": ""
          }
         },
         "name": "46.2",
         "offsetgroup": "46.2",
         "orientation": "v",
         "showlegend": true,
         "type": "histogram",
         "x": [
          16.2
         ],
         "xaxis": "x",
         "y": [
          5
         ],
         "yaxis": "y"
        },
        {
         "alignmentgroup": "True",
         "bingroup": "x",
         "histfunc": "sum",
         "hovertemplate": "Y house price of unit area=15.9<br>X2 house age=%{x}<br>sum of X4 number of convenience stores=%{y}<extra></extra>",
         "legendgroup": "15.9",
         "marker": {
          "color": "#FF97FF",
          "pattern": {
           "shape": ""
          }
         },
         "name": "15.9",
         "offsetgroup": "15.9",
         "orientation": "v",
         "showlegend": true,
         "type": "histogram",
         "x": [
          13.6
         ],
         "xaxis": "x",
         "y": [
          0
         ],
         "yaxis": "y"
        },
        {
         "alignmentgroup": "True",
         "bingroup": "x",
         "histfunc": "sum",
         "hovertemplate": "Y house price of unit area=18.2<br>X2 house age=%{x}<br>sum of X4 number of convenience stores=%{y}<extra></extra>",
         "legendgroup": "18.2",
         "marker": {
          "color": "#FECB52",
          "pattern": {
           "shape": ""
          }
         },
         "name": "18.2",
         "offsetgroup": "18.2",
         "orientation": "v",
         "showlegend": true,
         "type": "histogram",
         "x": [
          16.8
         ],
         "xaxis": "x",
         "y": [
          0
         ],
         "yaxis": "y"
        },
        {
         "alignmentgroup": "True",
         "bingroup": "x",
         "histfunc": "sum",
         "hovertemplate": "Y house price of unit area=34.7<br>X2 house age=%{x}<br>sum of X4 number of convenience stores=%{y}<extra></extra>",
         "legendgroup": "34.7",
         "marker": {
          "color": "#636efa",
          "pattern": {
           "shape": ""
          }
         },
         "name": "34.7",
         "offsetgroup": "34.7",
         "orientation": "v",
         "showlegend": true,
         "type": "histogram",
         "x": [
          36.1
         ],
         "xaxis": "x",
         "y": [
          5
         ],
         "yaxis": "y"
        },
        {
         "alignmentgroup": "True",
         "bingroup": "x",
         "histfunc": "sum",
         "hovertemplate": "Y house price of unit area=34.1<br>X2 house age=%{x}<br>sum of X4 number of convenience stores=%{y}<extra></extra>",
         "legendgroup": "34.1",
         "marker": {
          "color": "#EF553B",
          "pattern": {
           "shape": ""
          }
         },
         "name": "34.1",
         "offsetgroup": "34.1",
         "orientation": "v",
         "showlegend": true,
         "type": "histogram",
         "x": [
          34.4,
          31.4,
          12.5
         ],
         "xaxis": "x",
         "y": [
          6,
          2,
          4
         ],
         "yaxis": "y"
        },
        {
         "alignmentgroup": "True",
         "bingroup": "x",
         "histfunc": "sum",
         "hovertemplate": "Y house price of unit area=53.9<br>X2 house age=%{x}<br>sum of X4 number of convenience stores=%{y}<extra></extra>",
         "legendgroup": "53.9",
         "marker": {
          "color": "#00cc96",
          "pattern": {
           "shape": ""
          }
         },
         "name": "53.9",
         "offsetgroup": "53.9",
         "orientation": "v",
         "showlegend": true,
         "type": "histogram",
         "x": [
          2.7
         ],
         "xaxis": "x",
         "y": [
          4
         ],
         "yaxis": "y"
        },
        {
         "alignmentgroup": "True",
         "bingroup": "x",
         "histfunc": "sum",
         "hovertemplate": "Y house price of unit area=38.3<br>X2 house age=%{x}<br>sum of X4 number of convenience stores=%{y}<extra></extra>",
         "legendgroup": "38.3",
         "marker": {
          "color": "#ab63fa",
          "pattern": {
           "shape": ""
          }
         },
         "name": "38.3",
         "offsetgroup": "38.3",
         "orientation": "v",
         "showlegend": true,
         "type": "histogram",
         "x": [
          36.6
         ],
         "xaxis": "x",
         "y": [
          8
         ],
         "yaxis": "y"
        },
        {
         "alignmentgroup": "True",
         "bingroup": "x",
         "histfunc": "sum",
         "hovertemplate": "Y house price of unit area=42.0<br>X2 house age=%{x}<br>sum of X4 number of convenience stores=%{y}<extra></extra>",
         "legendgroup": "42.0",
         "marker": {
          "color": "#FFA15A",
          "pattern": {
           "shape": ""
          }
         },
         "name": "42.0",
         "offsetgroup": "42.0",
         "orientation": "v",
         "showlegend": true,
         "type": "histogram",
         "x": [
          21.7,
          12.5,
          33,
          13.3
         ],
         "xaxis": "x",
         "y": [
          9,
          5,
          9,
          7
         ],
         "yaxis": "y"
        },
        {
         "alignmentgroup": "True",
         "bingroup": "x",
         "histfunc": "sum",
         "hovertemplate": "Y house price of unit area=61.5<br>X2 house age=%{x}<br>sum of X4 number of convenience stores=%{y}<extra></extra>",
         "legendgroup": "61.5",
         "marker": {
          "color": "#19d3f3",
          "pattern": {
           "shape": ""
          }
         },
         "name": "61.5",
         "offsetgroup": "61.5",
         "orientation": "v",
         "showlegend": true,
         "type": "histogram",
         "x": [
          35.9
         ],
         "xaxis": "x",
         "y": [
          3
         ],
         "yaxis": "y"
        },
        {
         "alignmentgroup": "True",
         "bingroup": "x",
         "histfunc": "sum",
         "hovertemplate": "Y house price of unit area=13.4<br>X2 house age=%{x}<br>sum of X4 number of convenience stores=%{y}<extra></extra>",
         "legendgroup": "13.4",
         "marker": {
          "color": "#FF6692",
          "pattern": {
           "shape": ""
          }
         },
         "name": "13.4",
         "offsetgroup": "13.4",
         "orientation": "v",
         "showlegend": true,
         "type": "histogram",
         "x": [
          24.2
         ],
         "xaxis": "x",
         "y": [
          0
         ],
         "yaxis": "y"
        },
        {
         "alignmentgroup": "True",
         "bingroup": "x",
         "histfunc": "sum",
         "hovertemplate": "Y house price of unit area=13.2<br>X2 house age=%{x}<br>sum of X4 number of convenience stores=%{y}<extra></extra>",
         "legendgroup": "13.2",
         "marker": {
          "color": "#B6E880",
          "pattern": {
           "shape": ""
          }
         },
         "name": "13.2",
         "offsetgroup": "13.2",
         "orientation": "v",
         "showlegend": true,
         "type": "histogram",
         "x": [
          29.4
         ],
         "xaxis": "x",
         "y": [
          1
         ],
         "yaxis": "y"
        },
        {
         "alignmentgroup": "True",
         "bingroup": "x",
         "histfunc": "sum",
         "hovertemplate": "Y house price of unit area=44.2<br>X2 house age=%{x}<br>sum of X4 number of convenience stores=%{y}<extra></extra>",
         "legendgroup": "44.2",
         "marker": {
          "color": "#FF97FF",
          "pattern": {
           "shape": ""
          }
         },
         "name": "44.2",
         "offsetgroup": "44.2",
         "orientation": "v",
         "showlegend": true,
         "type": "histogram",
         "x": [
          21.7
         ],
         "xaxis": "x",
         "y": [
          4
         ],
         "yaxis": "y"
        },
        {
         "alignmentgroup": "True",
         "bingroup": "x",
         "histfunc": "sum",
         "hovertemplate": "Y house price of unit area=20.7<br>X2 house age=%{x}<br>sum of X4 number of convenience stores=%{y}<extra></extra>",
         "legendgroup": "20.7",
         "marker": {
          "color": "#FECB52",
          "pattern": {
           "shape": ""
          }
         },
         "name": "20.7",
         "offsetgroup": "20.7",
         "orientation": "v",
         "showlegend": true,
         "type": "histogram",
         "x": [
          31.3,
          16.9
         ],
         "xaxis": "x",
         "y": [
          1,
          0
         ],
         "yaxis": "y"
        },
        {
         "alignmentgroup": "True",
         "bingroup": "x",
         "histfunc": "sum",
         "hovertemplate": "Y house price of unit area=38.9<br>X2 house age=%{x}<br>sum of X4 number of convenience stores=%{y}<extra></extra>",
         "legendgroup": "38.9",
         "marker": {
          "color": "#636efa",
          "pattern": {
           "shape": ""
          }
         },
         "name": "38.9",
         "offsetgroup": "38.9",
         "orientation": "v",
         "showlegend": true,
         "type": "histogram",
         "x": [
          13.3
         ],
         "xaxis": "x",
         "y": [
          5
         ],
         "yaxis": "y"
        },
        {
         "alignmentgroup": "True",
         "bingroup": "x",
         "histfunc": "sum",
         "hovertemplate": "Y house price of unit area=51.7<br>X2 house age=%{x}<br>sum of X4 number of convenience stores=%{y}<extra></extra>",
         "legendgroup": "51.7",
         "marker": {
          "color": "#EF553B",
          "pattern": {
           "shape": ""
          }
         },
         "name": "51.7",
         "offsetgroup": "51.7",
         "orientation": "v",
         "showlegend": true,
         "type": "histogram",
         "x": [
          16.1,
          4.1
         ],
         "xaxis": "x",
         "y": [
          5,
          5
         ],
         "yaxis": "y"
        },
        {
         "alignmentgroup": "True",
         "bingroup": "x",
         "histfunc": "sum",
         "hovertemplate": "Y house price of unit area=13.7<br>X2 house age=%{x}<br>sum of X4 number of convenience stores=%{y}<extra></extra>",
         "legendgroup": "13.7",
         "marker": {
          "color": "#00cc96",
          "pattern": {
           "shape": ""
          }
         },
         "name": "13.7",
         "offsetgroup": "13.7",
         "orientation": "v",
         "showlegend": true,
         "type": "histogram",
         "x": [
          31.7
         ],
         "xaxis": "x",
         "y": [
          0
         ],
         "yaxis": "y"
        },
        {
         "alignmentgroup": "True",
         "bingroup": "x",
         "histfunc": "sum",
         "hovertemplate": "Y house price of unit area=41.9<br>X2 house age=%{x}<br>sum of X4 number of convenience stores=%{y}<extra></extra>",
         "legendgroup": "41.9",
         "marker": {
          "color": "#ab63fa",
          "pattern": {
           "shape": ""
          }
         },
         "name": "41.9",
         "offsetgroup": "41.9",
         "orientation": "v",
         "showlegend": true,
         "type": "histogram",
         "x": [
          33.6
         ],
         "xaxis": "x",
         "y": [
          8
         ],
         "yaxis": "y"
        },
        {
         "alignmentgroup": "True",
         "bingroup": "x",
         "histfunc": "sum",
         "hovertemplate": "Y house price of unit area=53.5<br>X2 house age=%{x}<br>sum of X4 number of convenience stores=%{y}<extra></extra>",
         "legendgroup": "53.5",
         "marker": {
          "color": "#FFA15A",
          "pattern": {
           "shape": ""
          }
         },
         "name": "53.5",
         "offsetgroup": "53.5",
         "orientation": "v",
         "showlegend": true,
         "type": "histogram",
         "x": [
          3.5,
          5.7
         ],
         "xaxis": "x",
         "y": [
          7,
          9
         ],
         "yaxis": "y"
        },
        {
         "alignmentgroup": "True",
         "bingroup": "x",
         "histfunc": "sum",
         "hovertemplate": "Y house price of unit area=22.6<br>X2 house age=%{x}<br>sum of X4 number of convenience stores=%{y}<extra></extra>",
         "legendgroup": "22.6",
         "marker": {
          "color": "#19d3f3",
          "pattern": {
           "shape": ""
          }
         },
         "name": "22.6",
         "offsetgroup": "22.6",
         "orientation": "v",
         "showlegend": true,
         "type": "histogram",
         "x": [
          30.3
         ],
         "xaxis": "x",
         "y": [
          1
         ],
         "yaxis": "y"
        },
        {
         "alignmentgroup": "True",
         "bingroup": "x",
         "histfunc": "sum",
         "hovertemplate": "Y house price of unit area=42.4<br>X2 house age=%{x}<br>sum of X4 number of convenience stores=%{y}<extra></extra>",
         "legendgroup": "42.4",
         "marker": {
          "color": "#FF6692",
          "pattern": {
           "shape": ""
          }
         },
         "name": "42.4",
         "offsetgroup": "42.4",
         "orientation": "v",
         "showlegend": true,
         "type": "histogram",
         "x": [
          13.3
         ],
         "xaxis": "x",
         "y": [
          5
         ],
         "yaxis": "y"
        },
        {
         "alignmentgroup": "True",
         "bingroup": "x",
         "histfunc": "sum",
         "hovertemplate": "Y house price of unit area=21.3<br>X2 house age=%{x}<br>sum of X4 number of convenience stores=%{y}<extra></extra>",
         "legendgroup": "21.3",
         "marker": {
          "color": "#B6E880",
          "pattern": {
           "shape": ""
          }
         },
         "name": "21.3",
         "offsetgroup": "21.3",
         "orientation": "v",
         "showlegend": true,
         "type": "histogram",
         "x": [
          11
         ],
         "xaxis": "x",
         "y": [
          2
         ],
         "yaxis": "y"
        },
        {
         "alignmentgroup": "True",
         "bingroup": "x",
         "histfunc": "sum",
         "hovertemplate": "Y house price of unit area=63.2<br>X2 house age=%{x}<br>sum of X4 number of convenience stores=%{y}<extra></extra>",
         "legendgroup": "63.2",
         "marker": {
          "color": "#FF97FF",
          "pattern": {
           "shape": ""
          }
         },
         "name": "63.2",
         "offsetgroup": "63.2",
         "orientation": "v",
         "showlegend": true,
         "type": "histogram",
         "x": [
          5.3
         ],
         "xaxis": "x",
         "y": [
          6
         ],
         "yaxis": "y"
        },
        {
         "alignmentgroup": "True",
         "bingroup": "x",
         "histfunc": "sum",
         "hovertemplate": "Y house price of unit area=27.7<br>X2 house age=%{x}<br>sum of X4 number of convenience stores=%{y}<extra></extra>",
         "legendgroup": "27.7",
         "marker": {
          "color": "#FECB52",
          "pattern": {
           "shape": ""
          }
         },
         "name": "27.7",
         "offsetgroup": "27.7",
         "orientation": "v",
         "showlegend": true,
         "type": "histogram",
         "x": [
          17.2,
          21.2,
          7.6
         ],
         "xaxis": "x",
         "y": [
          3,
          3,
          3
         ],
         "yaxis": "y"
        },
        {
         "alignmentgroup": "True",
         "bingroup": "x",
         "histfunc": "sum",
         "hovertemplate": "Y house price of unit area=55.0<br>X2 house age=%{x}<br>sum of X4 number of convenience stores=%{y}<extra></extra>",
         "legendgroup": "55.0",
         "marker": {
          "color": "#636efa",
          "pattern": {
           "shape": ""
          }
         },
         "name": "55.0",
         "offsetgroup": "55.0",
         "orientation": "v",
         "showlegend": true,
         "type": "histogram",
         "x": [
          2.6,
          3.8,
          16.2
         ],
         "xaxis": "x",
         "y": [
          4,
          5,
          5
         ],
         "yaxis": "y"
        },
        {
         "alignmentgroup": "True",
         "bingroup": "x",
         "histfunc": "sum",
         "hovertemplate": "Y house price of unit area=44.3<br>X2 house age=%{x}<br>sum of X4 number of convenience stores=%{y}<extra></extra>",
         "legendgroup": "44.3",
         "marker": {
          "color": "#EF553B",
          "pattern": {
           "shape": ""
          }
         },
         "name": "44.3",
         "offsetgroup": "44.3",
         "orientation": "v",
         "showlegend": true,
         "type": "histogram",
         "x": [
          40.1,
          34.8
         ],
         "xaxis": "x",
         "y": [
          8,
          8
         ],
         "yaxis": "y"
        },
        {
         "alignmentgroup": "True",
         "bingroup": "x",
         "histfunc": "sum",
         "hovertemplate": "Y house price of unit area=50.7<br>X2 house age=%{x}<br>sum of X4 number of convenience stores=%{y}<extra></extra>",
         "legendgroup": "50.7",
         "marker": {
          "color": "#00cc96",
          "pattern": {
           "shape": ""
          }
         },
         "name": "50.7",
         "offsetgroup": "50.7",
         "orientation": "v",
         "showlegend": true,
         "type": "histogram",
         "x": [
          1
         ],
         "xaxis": "x",
         "y": [
          6
         ],
         "yaxis": "y"
        },
        {
         "alignmentgroup": "True",
         "bingroup": "x",
         "histfunc": "sum",
         "hovertemplate": "Y house price of unit area=56.8<br>X2 house age=%{x}<br>sum of X4 number of convenience stores=%{y}<extra></extra>",
         "legendgroup": "56.8",
         "marker": {
          "color": "#ab63fa",
          "pattern": {
           "shape": ""
          }
         },
         "name": "56.8",
         "offsetgroup": "56.8",
         "orientation": "v",
         "showlegend": true,
         "type": "histogram",
         "x": [
          8.5,
          3.9
         ],
         "xaxis": "x",
         "y": [
          5,
          8
         ],
         "yaxis": "y"
        },
        {
         "alignmentgroup": "True",
         "bingroup": "x",
         "histfunc": "sum",
         "hovertemplate": "Y house price of unit area=36.2<br>X2 house age=%{x}<br>sum of X4 number of convenience stores=%{y}<extra></extra>",
         "legendgroup": "36.2",
         "marker": {
          "color": "#FFA15A",
          "pattern": {
           "shape": ""
          }
         },
         "name": "36.2",
         "offsetgroup": "36.2",
         "orientation": "v",
         "showlegend": true,
         "type": "histogram",
         "x": [
          30.4
         ],
         "xaxis": "x",
         "y": [
          6
         ],
         "yaxis": "y"
        },
        {
         "alignmentgroup": "True",
         "bingroup": "x",
         "histfunc": "sum",
         "hovertemplate": "Y house price of unit area=59.0<br>X2 house age=%{x}<br>sum of X4 number of convenience stores=%{y}<extra></extra>",
         "legendgroup": "59.0",
         "marker": {
          "color": "#19d3f3",
          "pattern": {
           "shape": ""
          }
         },
         "name": "59.0",
         "offsetgroup": "59.0",
         "orientation": "v",
         "showlegend": true,
         "type": "histogram",
         "x": [
          6.6
         ],
         "xaxis": "x",
         "y": [
          9
         ],
         "yaxis": "y"
        },
        {
         "alignmentgroup": "True",
         "bingroup": "x",
         "histfunc": "sum",
         "hovertemplate": "Y house price of unit area=40.8<br>X2 house age=%{x}<br>sum of X4 number of convenience stores=%{y}<extra></extra>",
         "legendgroup": "40.8",
         "marker": {
          "color": "#FF6692",
          "pattern": {
           "shape": ""
          }
         },
         "name": "40.8",
         "offsetgroup": "40.8",
         "orientation": "v",
         "showlegend": true,
         "type": "histogram",
         "x": [
          35.5,
          28,
          7.5
         ],
         "xaxis": "x",
         "y": [
          3,
          6,
          5
         ],
         "yaxis": "y"
        },
        {
         "alignmentgroup": "True",
         "bingroup": "x",
         "histfunc": "sum",
         "hovertemplate": "Y house price of unit area=36.3<br>X2 house age=%{x}<br>sum of X4 number of convenience stores=%{y}<extra></extra>",
         "legendgroup": "36.3",
         "marker": {
          "color": "#B6E880",
          "pattern": {
           "shape": ""
          }
         },
         "name": "36.3",
         "offsetgroup": "36.3",
         "orientation": "v",
         "showlegend": true,
         "type": "histogram",
         "x": [
          32.5,
          31.5
         ],
         "xaxis": "x",
         "y": [
          8,
          9
         ],
         "yaxis": "y"
        },
        {
         "alignmentgroup": "True",
         "bingroup": "x",
         "histfunc": "sum",
         "hovertemplate": "Y house price of unit area=20.0<br>X2 house age=%{x}<br>sum of X4 number of convenience stores=%{y}<extra></extra>",
         "legendgroup": "20.0",
         "marker": {
          "color": "#FF97FF",
          "pattern": {
           "shape": ""
          }
         },
         "name": "20.0",
         "offsetgroup": "20.0",
         "orientation": "v",
         "showlegend": true,
         "type": "histogram",
         "x": [
          13.8
         ],
         "xaxis": "x",
         "y": [
          0
         ],
         "yaxis": "y"
        },
        {
         "alignmentgroup": "True",
         "bingroup": "x",
         "histfunc": "sum",
         "hovertemplate": "Y house price of unit area=54.4<br>X2 house age=%{x}<br>sum of X4 number of convenience stores=%{y}<extra></extra>",
         "legendgroup": "54.4",
         "marker": {
          "color": "#FECB52",
          "pattern": {
           "shape": ""
          }
         },
         "name": "54.4",
         "offsetgroup": "54.4",
         "orientation": "v",
         "showlegend": true,
         "type": "histogram",
         "x": [
          6.8,
          1.1,
          3.4
         ],
         "xaxis": "x",
         "y": [
          10,
          6,
          7
         ],
         "yaxis": "y"
        },
        {
         "alignmentgroup": "True",
         "bingroup": "x",
         "histfunc": "sum",
         "hovertemplate": "Y house price of unit area=29.5<br>X2 house age=%{x}<br>sum of X4 number of convenience stores=%{y}<extra></extra>",
         "legendgroup": "29.5",
         "marker": {
          "color": "#636efa",
          "pattern": {
           "shape": ""
          }
         },
         "name": "29.5",
         "offsetgroup": "29.5",
         "orientation": "v",
         "showlegend": true,
         "type": "histogram",
         "x": [
          12.3,
          17.3
         ],
         "xaxis": "x",
         "y": [
          1,
          4
         ],
         "yaxis": "y"
        },
        {
         "alignmentgroup": "True",
         "bingroup": "x",
         "histfunc": "sum",
         "hovertemplate": "Y house price of unit area=36.8<br>X2 house age=%{x}<br>sum of X4 number of convenience stores=%{y}<extra></extra>",
         "legendgroup": "36.8",
         "marker": {
          "color": "#EF553B",
          "pattern": {
           "shape": ""
          }
         },
         "name": "36.8",
         "offsetgroup": "36.8",
         "orientation": "v",
         "showlegend": true,
         "type": "histogram",
         "x": [
          35.9,
          30.8
         ],
         "xaxis": "x",
         "y": [
          3,
          6
         ],
         "yaxis": "y"
        },
        {
         "alignmentgroup": "True",
         "bingroup": "x",
         "histfunc": "sum",
         "hovertemplate": "Y house price of unit area=25.6<br>X2 house age=%{x}<br>sum of X4 number of convenience stores=%{y}<extra></extra>",
         "legendgroup": "25.6",
         "marker": {
          "color": "#00cc96",
          "pattern": {
           "shape": ""
          }
         },
         "name": "25.6",
         "offsetgroup": "25.6",
         "orientation": "v",
         "showlegend": true,
         "type": "histogram",
         "x": [
          20.5,
          2,
          16.2
         ],
         "xaxis": "x",
         "y": [
          3,
          1,
          3
         ],
         "yaxis": "y"
        },
        {
         "alignmentgroup": "True",
         "bingroup": "x",
         "histfunc": "sum",
         "hovertemplate": "Y house price of unit area=29.8<br>X2 house age=%{x}<br>sum of X4 number of convenience stores=%{y}<extra></extra>",
         "legendgroup": "29.8",
         "marker": {
          "color": "#ab63fa",
          "pattern": {
           "shape": ""
          }
         },
         "name": "29.8",
         "offsetgroup": "29.8",
         "orientation": "v",
         "showlegend": true,
         "type": "histogram",
         "x": [
          38.2
         ],
         "xaxis": "x",
         "y": [
          2
         ],
         "yaxis": "y"
        },
        {
         "alignmentgroup": "True",
         "bingroup": "x",
         "histfunc": "sum",
         "hovertemplate": "Y house price of unit area=26.5<br>X2 house age=%{x}<br>sum of X4 number of convenience stores=%{y}<extra></extra>",
         "legendgroup": "26.5",
         "marker": {
          "color": "#FFA15A",
          "pattern": {
           "shape": ""
          }
         },
         "name": "26.5",
         "offsetgroup": "26.5",
         "orientation": "v",
         "showlegend": true,
         "type": "histogram",
         "x": [
          18,
          14.6,
          17.7
         ],
         "xaxis": "x",
         "y": [
          1,
          1,
          8
         ],
         "yaxis": "y"
        },
        {
         "alignmentgroup": "True",
         "bingroup": "x",
         "histfunc": "sum",
         "hovertemplate": "Y house price of unit area=48.1<br>X2 house age=%{x}<br>sum of X4 number of convenience stores=%{y}<extra></extra>",
         "legendgroup": "48.1",
         "marker": {
          "color": "#19d3f3",
          "pattern": {
           "shape": ""
          }
         },
         "name": "48.1",
         "offsetgroup": "48.1",
         "orientation": "v",
         "showlegend": true,
         "type": "histogram",
         "x": [
          13.2,
          19.2
         ],
         "xaxis": "x",
         "y": [
          7,
          8
         ],
         "yaxis": "y"
        },
        {
         "alignmentgroup": "True",
         "bingroup": "x",
         "histfunc": "sum",
         "hovertemplate": "Y house price of unit area=17.7<br>X2 house age=%{x}<br>sum of X4 number of convenience stores=%{y}<extra></extra>",
         "legendgroup": "17.7",
         "marker": {
          "color": "#FF6692",
          "pattern": {
           "shape": ""
          }
         },
         "name": "17.7",
         "offsetgroup": "17.7",
         "orientation": "v",
         "showlegend": true,
         "type": "histogram",
         "x": [
          25.3
         ],
         "xaxis": "x",
         "y": [
          3
         ],
         "yaxis": "y"
        },
        {
         "alignmentgroup": "True",
         "bingroup": "x",
         "histfunc": "sum",
         "hovertemplate": "Y house price of unit area=43.7<br>X2 house age=%{x}<br>sum of X4 number of convenience stores=%{y}<extra></extra>",
         "legendgroup": "43.7",
         "marker": {
          "color": "#B6E880",
          "pattern": {
           "shape": ""
          }
         },
         "name": "43.7",
         "offsetgroup": "43.7",
         "orientation": "v",
         "showlegend": true,
         "type": "histogram",
         "x": [
          15.1
         ],
         "xaxis": "x",
         "y": [
          7
         ],
         "yaxis": "y"
        },
        {
         "alignmentgroup": "True",
         "bingroup": "x",
         "histfunc": "sum",
         "hovertemplate": "Y house price of unit area=50.8<br>X2 house age=%{x}<br>sum of X4 number of convenience stores=%{y}<extra></extra>",
         "legendgroup": "50.8",
         "marker": {
          "color": "#FF97FF",
          "pattern": {
           "shape": ""
          }
         },
         "name": "50.8",
         "offsetgroup": "50.8",
         "orientation": "v",
         "showlegend": true,
         "type": "histogram",
         "x": [
          0
         ],
         "xaxis": "x",
         "y": [
          9
         ],
         "yaxis": "y"
        },
        {
         "alignmentgroup": "True",
         "bingroup": "x",
         "histfunc": "sum",
         "hovertemplate": "Y house price of unit area=18.3<br>X2 house age=%{x}<br>sum of X4 number of convenience stores=%{y}<extra></extra>",
         "legendgroup": "18.3",
         "marker": {
          "color": "#FECB52",
          "pattern": {
           "shape": ""
          }
         },
         "name": "18.3",
         "offsetgroup": "18.3",
         "orientation": "v",
         "showlegend": true,
         "type": "histogram",
         "x": [
          16.9,
          30.7
         ],
         "xaxis": "x",
         "y": [
          0,
          0
         ],
         "yaxis": "y"
        },
        {
         "alignmentgroup": "True",
         "bingroup": "x",
         "histfunc": "sum",
         "hovertemplate": "Y house price of unit area=48.0<br>X2 house age=%{x}<br>sum of X4 number of convenience stores=%{y}<extra></extra>",
         "legendgroup": "48.0",
         "marker": {
          "color": "#636efa",
          "pattern": {
           "shape": ""
          }
         },
         "name": "48.0",
         "offsetgroup": "48.0",
         "orientation": "v",
         "showlegend": true,
         "type": "histogram",
         "x": [
          8.9,
          13.6,
          32.3
         ],
         "xaxis": "x",
         "y": [
          0,
          5,
          10
         ],
         "yaxis": "y"
        },
        {
         "alignmentgroup": "True",
         "bingroup": "x",
         "histfunc": "sum",
         "hovertemplate": "Y house price of unit area=45.4<br>X2 house age=%{x}<br>sum of X4 number of convenience stores=%{y}<extra></extra>",
         "legendgroup": "45.4",
         "marker": {
          "color": "#EF553B",
          "pattern": {
           "shape": ""
          }
         },
         "name": "45.4",
         "offsetgroup": "45.4",
         "orientation": "v",
         "showlegend": true,
         "type": "histogram",
         "x": [
          0,
          2.3
         ],
         "xaxis": "x",
         "y": [
          1,
          6
         ],
         "yaxis": "y"
        },
        {
         "alignmentgroup": "True",
         "bingroup": "x",
         "histfunc": "sum",
         "hovertemplate": "Y house price of unit area=43.2<br>X2 house age=%{x}<br>sum of X4 number of convenience stores=%{y}<extra></extra>",
         "legendgroup": "43.2",
         "marker": {
          "color": "#00cc96",
          "pattern": {
           "shape": ""
          }
         },
         "name": "43.2",
         "offsetgroup": "43.2",
         "orientation": "v",
         "showlegend": true,
         "type": "histogram",
         "x": [
          9.1,
          3.2
         ],
         "xaxis": "x",
         "y": [
          0,
          8
         ],
         "yaxis": "y"
        },
        {
         "alignmentgroup": "True",
         "bingroup": "x",
         "histfunc": "sum",
         "hovertemplate": "Y house price of unit area=21.8<br>X2 house age=%{x}<br>sum of X4 number of convenience stores=%{y}<extra></extra>",
         "legendgroup": "21.8",
         "marker": {
          "color": "#ab63fa",
          "pattern": {
           "shape": ""
          }
         },
         "name": "21.8",
         "offsetgroup": "21.8",
         "orientation": "v",
         "showlegend": true,
         "type": "histogram",
         "x": [
          20.6,
          14.1,
          18.2
         ],
         "xaxis": "x",
         "y": [
          4,
          0,
          3
         ],
         "yaxis": "y"
        },
        {
         "alignmentgroup": "True",
         "bingroup": "x",
         "histfunc": "sum",
         "hovertemplate": "Y house price of unit area=16.1<br>X2 house age=%{x}<br>sum of X4 number of convenience stores=%{y}<extra></extra>",
         "legendgroup": "16.1",
         "marker": {
          "color": "#FFA15A",
          "pattern": {
           "shape": ""
          }
         },
         "name": "16.1",
         "offsetgroup": "16.1",
         "orientation": "v",
         "showlegend": true,
         "type": "histogram",
         "x": [
          31.9
         ],
         "xaxis": "x",
         "y": [
          0
         ],
         "yaxis": "y"
        },
        {
         "alignmentgroup": "True",
         "bingroup": "x",
         "histfunc": "sum",
         "hovertemplate": "Y house price of unit area=41.0<br>X2 house age=%{x}<br>sum of X4 number of convenience stores=%{y}<extra></extra>",
         "legendgroup": "41.0",
         "marker": {
          "color": "#19d3f3",
          "pattern": {
           "shape": ""
          }
         },
         "name": "41.0",
         "offsetgroup": "41.0",
         "orientation": "v",
         "showlegend": true,
         "type": "histogram",
         "x": [
          40.9,
          38.5,
          27.5
         ],
         "xaxis": "x",
         "y": [
          5,
          7,
          7
         ],
         "yaxis": "y"
        },
        {
         "alignmentgroup": "True",
         "bingroup": "x",
         "histfunc": "sum",
         "hovertemplate": "Y house price of unit area=51.8<br>X2 house age=%{x}<br>sum of X4 number of convenience stores=%{y}<extra></extra>",
         "legendgroup": "51.8",
         "marker": {
          "color": "#FF6692",
          "pattern": {
           "shape": ""
          }
         },
         "name": "51.8",
         "offsetgroup": "51.8",
         "orientation": "v",
         "showlegend": true,
         "type": "histogram",
         "x": [
          8,
          1.1
         ],
         "xaxis": "x",
         "y": [
          5,
          5
         ],
         "yaxis": "y"
        },
        {
         "alignmentgroup": "True",
         "bingroup": "x",
         "histfunc": "sum",
         "hovertemplate": "Y house price of unit area=59.5<br>X2 house age=%{x}<br>sum of X4 number of convenience stores=%{y}<extra></extra>",
         "legendgroup": "59.5",
         "marker": {
          "color": "#B6E880",
          "pattern": {
           "shape": ""
          }
         },
         "name": "59.5",
         "offsetgroup": "59.5",
         "orientation": "v",
         "showlegend": true,
         "type": "histogram",
         "x": [
          6.4
         ],
         "xaxis": "x",
         "y": [
          9
         ],
         "yaxis": "y"
        },
        {
         "alignmentgroup": "True",
         "bingroup": "x",
         "histfunc": "sum",
         "hovertemplate": "Y house price of unit area=34.6<br>X2 house age=%{x}<br>sum of X4 number of convenience stores=%{y}<extra></extra>",
         "legendgroup": "34.6",
         "marker": {
          "color": "#FF97FF",
          "pattern": {
           "shape": ""
          }
         },
         "name": "34.6",
         "offsetgroup": "34.6",
         "orientation": "v",
         "showlegend": true,
         "type": "histogram",
         "x": [
          28.4,
          15.2
         ],
         "xaxis": "x",
         "y": [
          3,
          5
         ],
         "yaxis": "y"
        },
        {
         "alignmentgroup": "True",
         "bingroup": "x",
         "histfunc": "sum",
         "hovertemplate": "Y house price of unit area=51.0<br>X2 house age=%{x}<br>sum of X4 number of convenience stores=%{y}<extra></extra>",
         "legendgroup": "51.0",
         "marker": {
          "color": "#FECB52",
          "pattern": {
           "shape": ""
          }
         },
         "name": "51.0",
         "offsetgroup": "51.0",
         "orientation": "v",
         "showlegend": true,
         "type": "histogram",
         "x": [
          16.4,
          16.6
         ],
         "xaxis": "x",
         "y": [
          5,
          6
         ],
         "yaxis": "y"
        },
        {
         "alignmentgroup": "True",
         "bingroup": "x",
         "histfunc": "sum",
         "hovertemplate": "Y house price of unit area=62.2<br>X2 house age=%{x}<br>sum of X4 number of convenience stores=%{y}<extra></extra>",
         "legendgroup": "62.2",
         "marker": {
          "color": "#636efa",
          "pattern": {
           "shape": ""
          }
         },
         "name": "62.2",
         "offsetgroup": "62.2",
         "orientation": "v",
         "showlegend": true,
         "type": "histogram",
         "x": [
          6.4
         ],
         "xaxis": "x",
         "y": [
          9
         ],
         "yaxis": "y"
        },
        {
         "alignmentgroup": "True",
         "bingroup": "x",
         "histfunc": "sum",
         "hovertemplate": "Y house price of unit area=38.2<br>X2 house age=%{x}<br>sum of X4 number of convenience stores=%{y}<extra></extra>",
         "legendgroup": "38.2",
         "marker": {
          "color": "#EF553B",
          "pattern": {
           "shape": ""
          }
         },
         "name": "38.2",
         "offsetgroup": "38.2",
         "orientation": "v",
         "showlegend": true,
         "type": "histogram",
         "x": [
          17.5
         ],
         "xaxis": "x",
         "y": [
          4
         ],
         "yaxis": "y"
        },
        {
         "alignmentgroup": "True",
         "bingroup": "x",
         "histfunc": "sum",
         "hovertemplate": "Y house price of unit area=32.9<br>X2 house age=%{x}<br>sum of X4 number of convenience stores=%{y}<extra></extra>",
         "legendgroup": "32.9",
         "marker": {
          "color": "#00cc96",
          "pattern": {
           "shape": ""
          }
         },
         "name": "32.9",
         "offsetgroup": "32.9",
         "orientation": "v",
         "showlegend": true,
         "type": "histogram",
         "x": [
          12.7,
          19.2
         ],
         "xaxis": "x",
         "y": [
          1,
          5
         ],
         "yaxis": "y"
        },
        {
         "alignmentgroup": "True",
         "bingroup": "x",
         "histfunc": "sum",
         "hovertemplate": "Y house price of unit area=45.7<br>X2 house age=%{x}<br>sum of X4 number of convenience stores=%{y}<extra></extra>",
         "legendgroup": "45.7",
         "marker": {
          "color": "#ab63fa",
          "pattern": {
           "shape": ""
          }
         },
         "name": "45.7",
         "offsetgroup": "45.7",
         "orientation": "v",
         "showlegend": true,
         "type": "histogram",
         "x": [
          0
         ],
         "xaxis": "x",
         "y": [
          6
         ],
         "yaxis": "y"
        },
        {
         "alignmentgroup": "True",
         "bingroup": "x",
         "histfunc": "sum",
         "hovertemplate": "Y house price of unit area=30.5<br>X2 house age=%{x}<br>sum of X4 number of convenience stores=%{y}<extra></extra>",
         "legendgroup": "30.5",
         "marker": {
          "color": "#FFA15A",
          "pattern": {
           "shape": ""
          }
         },
         "name": "30.5",
         "offsetgroup": "30.5",
         "orientation": "v",
         "showlegend": true,
         "type": "histogram",
         "x": [
          32.7,
          14.7
         ],
         "xaxis": "x",
         "y": [
          6,
          2
         ],
         "yaxis": "y"
        },
        {
         "alignmentgroup": "True",
         "bingroup": "x",
         "histfunc": "sum",
         "hovertemplate": "Y house price of unit area=71.0<br>X2 house age=%{x}<br>sum of X4 number of convenience stores=%{y}<extra></extra>",
         "legendgroup": "71.0",
         "marker": {
          "color": "#19d3f3",
          "pattern": {
           "shape": ""
          }
         },
         "name": "71.0",
         "offsetgroup": "71.0",
         "orientation": "v",
         "showlegend": true,
         "type": "histogram",
         "x": [
          0
         ],
         "xaxis": "x",
         "y": [
          6
         ],
         "yaxis": "y"
        },
        {
         "alignmentgroup": "True",
         "bingroup": "x",
         "histfunc": "sum",
         "hovertemplate": "Y house price of unit area=47.1<br>X2 house age=%{x}<br>sum of X4 number of convenience stores=%{y}<extra></extra>",
         "legendgroup": "47.1",
         "marker": {
          "color": "#FF6692",
          "pattern": {
           "shape": ""
          }
         },
         "name": "47.1",
         "offsetgroup": "47.1",
         "orientation": "v",
         "showlegend": true,
         "type": "histogram",
         "x": [
          17.2,
          32.9
         ],
         "xaxis": "x",
         "y": [
          8,
          10
         ],
         "yaxis": "y"
        },
        {
         "alignmentgroup": "True",
         "bingroup": "x",
         "histfunc": "sum",
         "hovertemplate": "Y house price of unit area=26.6<br>X2 house age=%{x}<br>sum of X4 number of convenience stores=%{y}<extra></extra>",
         "legendgroup": "26.6",
         "marker": {
          "color": "#B6E880",
          "pattern": {
           "shape": ""
          }
         },
         "name": "26.6",
         "offsetgroup": "26.6",
         "orientation": "v",
         "showlegend": true,
         "type": "histogram",
         "x": [
          12.2,
          18
         ],
         "xaxis": "x",
         "y": [
          1,
          1
         ],
         "yaxis": "y"
        },
        {
         "alignmentgroup": "True",
         "bingroup": "x",
         "histfunc": "sum",
         "hovertemplate": "Y house price of unit area=28.4<br>X2 house age=%{x}<br>sum of X4 number of convenience stores=%{y}<extra></extra>",
         "legendgroup": "28.4",
         "marker": {
          "color": "#FF97FF",
          "pattern": {
           "shape": ""
          }
         },
         "name": "28.4",
         "offsetgroup": "28.4",
         "orientation": "v",
         "showlegend": true,
         "type": "histogram",
         "x": [
          4,
          11.9
         ],
         "xaxis": "x",
         "y": [
          3,
          1
         ],
         "yaxis": "y"
        },
        {
         "alignmentgroup": "True",
         "bingroup": "x",
         "histfunc": "sum",
         "hovertemplate": "Y house price of unit area=39.4<br>X2 house age=%{x}<br>sum of X4 number of convenience stores=%{y}<extra></extra>",
         "legendgroup": "39.4",
         "marker": {
          "color": "#FECB52",
          "pattern": {
           "shape": ""
          }
         },
         "name": "39.4",
         "offsetgroup": "39.4",
         "orientation": "v",
         "showlegend": true,
         "type": "histogram",
         "x": [
          33.3,
          11.6
         ],
         "xaxis": "x",
         "y": [
          7,
          5
         ],
         "yaxis": "y"
        },
        {
         "alignmentgroup": "True",
         "bingroup": "x",
         "histfunc": "sum",
         "hovertemplate": "Y house price of unit area=23.1<br>X2 house age=%{x}<br>sum of X4 number of convenience stores=%{y}<extra></extra>",
         "legendgroup": "23.1",
         "marker": {
          "color": "#636efa",
          "pattern": {
           "shape": ""
          }
         },
         "name": "23.1",
         "offsetgroup": "23.1",
         "orientation": "v",
         "showlegend": true,
         "type": "histogram",
         "x": [
          9.9,
          21.7
         ],
         "xaxis": "x",
         "y": [
          3,
          0
         ],
         "yaxis": "y"
        },
        {
         "alignmentgroup": "True",
         "bingroup": "x",
         "histfunc": "sum",
         "hovertemplate": "Y house price of unit area=7.6<br>X2 house age=%{x}<br>sum of X4 number of convenience stores=%{y}<extra></extra>",
         "legendgroup": "7.6",
         "marker": {
          "color": "#EF553B",
          "pattern": {
           "shape": ""
          }
         },
         "name": "7.6",
         "offsetgroup": "7.6",
         "orientation": "v",
         "showlegend": true,
         "type": "histogram",
         "x": [
          14.8
         ],
         "xaxis": "x",
         "y": [
          6
         ],
         "yaxis": "y"
        },
        {
         "alignmentgroup": "True",
         "bingroup": "x",
         "histfunc": "sum",
         "hovertemplate": "Y house price of unit area=53.3<br>X2 house age=%{x}<br>sum of X4 number of convenience stores=%{y}<extra></extra>",
         "legendgroup": "53.3",
         "marker": {
          "color": "#00cc96",
          "pattern": {
           "shape": ""
          }
         },
         "name": "53.3",
         "offsetgroup": "53.3",
         "orientation": "v",
         "showlegend": true,
         "type": "histogram",
         "x": [
          30.6,
          14.1
         ],
         "xaxis": "x",
         "y": [
          8,
          5
         ],
         "yaxis": "y"
        },
        {
         "alignmentgroup": "True",
         "bingroup": "x",
         "histfunc": "sum",
         "hovertemplate": "Y house price of unit area=46.4<br>X2 house age=%{x}<br>sum of X4 number of convenience stores=%{y}<extra></extra>",
         "legendgroup": "46.4",
         "marker": {
          "color": "#ab63fa",
          "pattern": {
           "shape": ""
          }
         },
         "name": "46.4",
         "offsetgroup": "46.4",
         "orientation": "v",
         "showlegend": true,
         "type": "histogram",
         "x": [
          20.6
         ],
         "xaxis": "x",
         "y": [
          2
         ],
         "yaxis": "y"
        },
        {
         "alignmentgroup": "True",
         "bingroup": "x",
         "histfunc": "sum",
         "hovertemplate": "Y house price of unit area=12.2<br>X2 house age=%{x}<br>sum of X4 number of convenience stores=%{y}<extra></extra>",
         "legendgroup": "12.2",
         "marker": {
          "color": "#FFA15A",
          "pattern": {
           "shape": ""
          }
         },
         "name": "12.2",
         "offsetgroup": "12.2",
         "orientation": "v",
         "showlegend": true,
         "type": "histogram",
         "x": [
          30.9
         ],
         "xaxis": "x",
         "y": [
          1
         ],
         "yaxis": "y"
        },
        {
         "alignmentgroup": "True",
         "bingroup": "x",
         "histfunc": "sum",
         "hovertemplate": "Y house price of unit area=13.0<br>X2 house age=%{x}<br>sum of X4 number of convenience stores=%{y}<extra></extra>",
         "legendgroup": "13.0",
         "marker": {
          "color": "#19d3f3",
          "pattern": {
           "shape": ""
          }
         },
         "name": "13.0",
         "offsetgroup": "13.0",
         "orientation": "v",
         "showlegend": true,
         "type": "histogram",
         "x": [
          13.6
         ],
         "xaxis": "x",
         "y": [
          0
         ],
         "yaxis": "y"
        },
        {
         "alignmentgroup": "True",
         "bingroup": "x",
         "histfunc": "sum",
         "hovertemplate": "Y house price of unit area=30.6<br>X2 house age=%{x}<br>sum of X4 number of convenience stores=%{y}<extra></extra>",
         "legendgroup": "30.6",
         "marker": {
          "color": "#FF6692",
          "pattern": {
           "shape": ""
          }
         },
         "name": "30.6",
         "offsetgroup": "30.6",
         "orientation": "v",
         "showlegend": true,
         "type": "histogram",
         "x": [
          25.3,
          13.7
         ],
         "xaxis": "x",
         "y": [
          3,
          1
         ],
         "yaxis": "y"
        },
        {
         "alignmentgroup": "True",
         "bingroup": "x",
         "histfunc": "sum",
         "hovertemplate": "Y house price of unit area=59.6<br>X2 house age=%{x}<br>sum of X4 number of convenience stores=%{y}<extra></extra>",
         "legendgroup": "59.6",
         "marker": {
          "color": "#B6E880",
          "pattern": {
           "shape": ""
          }
         },
         "name": "59.6",
         "offsetgroup": "59.6",
         "orientation": "v",
         "showlegend": true,
         "type": "histogram",
         "x": [
          16.6
         ],
         "xaxis": "x",
         "y": [
          5
         ],
         "yaxis": "y"
        },
        {
         "alignmentgroup": "True",
         "bingroup": "x",
         "histfunc": "sum",
         "hovertemplate": "Y house price of unit area=31.3<br>X2 house age=%{x}<br>sum of X4 number of convenience stores=%{y}<extra></extra>",
         "legendgroup": "31.3",
         "marker": {
          "color": "#FF97FF",
          "pattern": {
           "shape": ""
          }
         },
         "name": "31.3",
         "offsetgroup": "31.3",
         "orientation": "v",
         "showlegend": true,
         "type": "histogram",
         "x": [
          13.3,
          12.4,
          4.1,
          6.2
         ],
         "xaxis": "x",
         "y": [
          5,
          2,
          3,
          1
         ],
         "yaxis": "y"
        },
        {
         "alignmentgroup": "True",
         "bingroup": "x",
         "histfunc": "sum",
         "hovertemplate": "Y house price of unit area=32.5<br>X2 house age=%{x}<br>sum of X4 number of convenience stores=%{y}<extra></extra>",
         "legendgroup": "32.5",
         "marker": {
          "color": "#FECB52",
          "pattern": {
           "shape": ""
          }
         },
         "name": "32.5",
         "offsetgroup": "32.5",
         "orientation": "v",
         "showlegend": true,
         "type": "histogram",
         "x": [
          31.5
         ],
         "xaxis": "x",
         "y": [
          4
         ],
         "yaxis": "y"
        },
        {
         "alignmentgroup": "True",
         "bingroup": "x",
         "histfunc": "sum",
         "hovertemplate": "Y house price of unit area=45.5<br>X2 house age=%{x}<br>sum of X4 number of convenience stores=%{y}<extra></extra>",
         "legendgroup": "45.5",
         "marker": {
          "color": "#636efa",
          "pattern": {
           "shape": ""
          }
         },
         "name": "45.5",
         "offsetgroup": "45.5",
         "orientation": "v",
         "showlegend": true,
         "type": "histogram",
         "x": [
          0,
          2.1
         ],
         "xaxis": "x",
         "y": [
          0,
          5
         ],
         "yaxis": "y"
        },
        {
         "alignmentgroup": "True",
         "bingroup": "x",
         "histfunc": "sum",
         "hovertemplate": "Y house price of unit area=57.4<br>X2 house age=%{x}<br>sum of X4 number of convenience stores=%{y}<extra></extra>",
         "legendgroup": "57.4",
         "marker": {
          "color": "#EF553B",
          "pattern": {
           "shape": ""
          }
         },
         "name": "57.4",
         "offsetgroup": "57.4",
         "orientation": "v",
         "showlegend": true,
         "type": "histogram",
         "x": [
          9.9
         ],
         "xaxis": "x",
         "y": [
          7
         ],
         "yaxis": "y"
        },
        {
         "alignmentgroup": "True",
         "bingroup": "x",
         "histfunc": "sum",
         "hovertemplate": "Y house price of unit area=48.6<br>X2 house age=%{x}<br>sum of X4 number of convenience stores=%{y}<extra></extra>",
         "legendgroup": "48.6",
         "marker": {
          "color": "#00cc96",
          "pattern": {
           "shape": ""
          }
         },
         "name": "48.6",
         "offsetgroup": "48.6",
         "orientation": "v",
         "showlegend": true,
         "type": "histogram",
         "x": [
          1.1
         ],
         "xaxis": "x",
         "y": [
          6
         ],
         "yaxis": "y"
        },
        {
         "alignmentgroup": "True",
         "bingroup": "x",
         "histfunc": "sum",
         "hovertemplate": "Y house price of unit area=62.9<br>X2 house age=%{x}<br>sum of X4 number of convenience stores=%{y}<extra></extra>",
         "legendgroup": "62.9",
         "marker": {
          "color": "#ab63fa",
          "pattern": {
           "shape": ""
          }
         },
         "name": "62.9",
         "offsetgroup": "62.9",
         "orientation": "v",
         "showlegend": true,
         "type": "histogram",
         "x": [
          38.6
         ],
         "xaxis": "x",
         "y": [
          4
         ],
         "yaxis": "y"
        },
        {
         "alignmentgroup": "True",
         "bingroup": "x",
         "histfunc": "sum",
         "hovertemplate": "Y house price of unit area=60.7<br>X2 house age=%{x}<br>sum of X4 number of convenience stores=%{y}<extra></extra>",
         "legendgroup": "60.7",
         "marker": {
          "color": "#FFA15A",
          "pattern": {
           "shape": ""
          }
         },
         "name": "60.7",
         "offsetgroup": "60.7",
         "orientation": "v",
         "showlegend": true,
         "type": "histogram",
         "x": [
          41.3,
          3.8
         ],
         "xaxis": "x",
         "y": [
          6,
          5
         ],
         "yaxis": "y"
        },
        {
         "alignmentgroup": "True",
         "bingroup": "x",
         "histfunc": "sum",
         "hovertemplate": "Y house price of unit area=37.5<br>X2 house age=%{x}<br>sum of X4 number of convenience stores=%{y}<extra></extra>",
         "legendgroup": "37.5",
         "marker": {
          "color": "#19d3f3",
          "pattern": {
           "shape": ""
          }
         },
         "name": "37.5",
         "offsetgroup": "37.5",
         "orientation": "v",
         "showlegend": true,
         "type": "histogram",
         "x": [
          29.6,
          26.6,
          19.8,
          15.6
         ],
         "xaxis": "x",
         "y": [
          8,
          5,
          5,
          2
         ],
         "yaxis": "y"
        },
        {
         "alignmentgroup": "True",
         "bingroup": "x",
         "histfunc": "sum",
         "hovertemplate": "Y house price of unit area=30.7<br>X2 house age=%{x}<br>sum of X4 number of convenience stores=%{y}<extra></extra>",
         "legendgroup": "30.7",
         "marker": {
          "color": "#FF6692",
          "pattern": {
           "shape": ""
          }
         },
         "name": "30.7",
         "offsetgroup": "30.7",
         "orientation": "v",
         "showlegend": true,
         "type": "histogram",
         "x": [
          4,
          17
         ],
         "xaxis": "x",
         "y": [
          3,
          4
         ],
         "yaxis": "y"
        },
        {
         "alignmentgroup": "True",
         "bingroup": "x",
         "histfunc": "sum",
         "hovertemplate": "Y house price of unit area=39.5<br>X2 house age=%{x}<br>sum of X4 number of convenience stores=%{y}<extra></extra>",
         "legendgroup": "39.5",
         "marker": {
          "color": "#B6E880",
          "pattern": {
           "shape": ""
          }
         },
         "name": "39.5",
         "offsetgroup": "39.5",
         "orientation": "v",
         "showlegend": true,
         "type": "histogram",
         "x": [
          18
         ],
         "xaxis": "x",
         "y": [
          8
         ],
         "yaxis": "y"
        },
        {
         "alignmentgroup": "True",
         "bingroup": "x",
         "histfunc": "sum",
         "hovertemplate": "Y house price of unit area=20.8<br>X2 house age=%{x}<br>sum of X4 number of convenience stores=%{y}<extra></extra>",
         "legendgroup": "20.8",
         "marker": {
          "color": "#FF97FF",
          "pattern": {
           "shape": ""
          }
         },
         "name": "20.8",
         "offsetgroup": "20.8",
         "orientation": "v",
         "showlegend": true,
         "type": "histogram",
         "x": [
          18.9
         ],
         "xaxis": "x",
         "y": [
          0
         ],
         "yaxis": "y"
        },
        {
         "alignmentgroup": "True",
         "bingroup": "x",
         "histfunc": "sum",
         "hovertemplate": "Y house price of unit area=46.8<br>X2 house age=%{x}<br>sum of X4 number of convenience stores=%{y}<extra></extra>",
         "legendgroup": "46.8",
         "marker": {
          "color": "#FECB52",
          "pattern": {
           "shape": ""
          }
         },
         "name": "46.8",
         "offsetgroup": "46.8",
         "orientation": "v",
         "showlegend": true,
         "type": "histogram",
         "x": [
          11.4
         ],
         "xaxis": "x",
         "y": [
          5
         ],
         "yaxis": "y"
        },
        {
         "alignmentgroup": "True",
         "bingroup": "x",
         "histfunc": "sum",
         "hovertemplate": "Y house price of unit area=47.4<br>X2 house age=%{x}<br>sum of X4 number of convenience stores=%{y}<extra></extra>",
         "legendgroup": "47.4",
         "marker": {
          "color": "#636efa",
          "pattern": {
           "shape": ""
          }
         },
         "name": "47.4",
         "offsetgroup": "47.4",
         "orientation": "v",
         "showlegend": true,
         "type": "histogram",
         "x": [
          13.6
         ],
         "xaxis": "x",
         "y": [
          6
         ],
         "yaxis": "y"
        },
        {
         "alignmentgroup": "True",
         "bingroup": "x",
         "histfunc": "sum",
         "hovertemplate": "Y house price of unit area=43.5<br>X2 house age=%{x}<br>sum of X4 number of convenience stores=%{y}<extra></extra>",
         "legendgroup": "43.5",
         "marker": {
          "color": "#EF553B",
          "pattern": {
           "shape": ""
          }
         },
         "name": "43.5",
         "offsetgroup": "43.5",
         "orientation": "v",
         "showlegend": true,
         "type": "histogram",
         "x": [
          10,
          0
         ],
         "xaxis": "x",
         "y": [
          0,
          1
         ],
         "yaxis": "y"
        },
        {
         "alignmentgroup": "True",
         "bingroup": "x",
         "histfunc": "sum",
         "hovertemplate": "Y house price of unit area=42.5<br>X2 house age=%{x}<br>sum of X4 number of convenience stores=%{y}<extra></extra>",
         "legendgroup": "42.5",
         "marker": {
          "color": "#00cc96",
          "pattern": {
           "shape": ""
          }
         },
         "name": "42.5",
         "offsetgroup": "42.5",
         "orientation": "v",
         "showlegend": true,
         "type": "histogram",
         "x": [
          12.9,
          12.6,
          28.6,
          21.2
         ],
         "xaxis": "x",
         "y": [
          5,
          7,
          6,
          4
         ],
         "yaxis": "y"
        },
        {
         "alignmentgroup": "True",
         "bingroup": "x",
         "histfunc": "sum",
         "hovertemplate": "Y house price of unit area=51.4<br>X2 house age=%{x}<br>sum of X4 number of convenience stores=%{y}<extra></extra>",
         "legendgroup": "51.4",
         "marker": {
          "color": "#ab63fa",
          "pattern": {
           "shape": ""
          }
         },
         "name": "51.4",
         "offsetgroup": "51.4",
         "orientation": "v",
         "showlegend": true,
         "type": "histogram",
         "x": [
          16.2
         ],
         "xaxis": "x",
         "y": [
          5
         ],
         "yaxis": "y"
        },
        {
         "alignmentgroup": "True",
         "bingroup": "x",
         "histfunc": "sum",
         "hovertemplate": "Y house price of unit area=28.9<br>X2 house age=%{x}<br>sum of X4 number of convenience stores=%{y}<extra></extra>",
         "legendgroup": "28.9",
         "marker": {
          "color": "#FFA15A",
          "pattern": {
           "shape": ""
          }
         },
         "name": "28.9",
         "offsetgroup": "28.9",
         "orientation": "v",
         "showlegend": true,
         "type": "histogram",
         "x": [
          5.1,
          12
         ],
         "xaxis": "x",
         "y": [
          3,
          1
         ],
         "yaxis": "y"
        },
        {
         "alignmentgroup": "True",
         "bingroup": "x",
         "histfunc": "sum",
         "hovertemplate": "Y house price of unit area=40.1<br>X2 house age=%{x}<br>sum of X4 number of convenience stores=%{y}<extra></extra>",
         "legendgroup": "40.1",
         "marker": {
          "color": "#19d3f3",
          "pattern": {
           "shape": ""
          }
         },
         "name": "40.1",
         "offsetgroup": "40.1",
         "orientation": "v",
         "showlegend": true,
         "type": "histogram",
         "x": [
          13.6,
          17.2
         ],
         "xaxis": "x",
         "y": [
          5,
          5
         ],
         "yaxis": "y"
        },
        {
         "alignmentgroup": "True",
         "bingroup": "x",
         "histfunc": "sum",
         "hovertemplate": "Y house price of unit area=52.2<br>X2 house age=%{x}<br>sum of X4 number of convenience stores=%{y}<extra></extra>",
         "legendgroup": "52.2",
         "marker": {
          "color": "#FF6692",
          "pattern": {
           "shape": ""
          }
         },
         "name": "52.2",
         "offsetgroup": "52.2",
         "orientation": "v",
         "showlegend": true,
         "type": "histogram",
         "x": [
          0,
          5.2,
          0
         ],
         "xaxis": "x",
         "y": [
          0,
          5,
          1
         ],
         "yaxis": "y"
        },
        {
         "alignmentgroup": "True",
         "bingroup": "x",
         "histfunc": "sum",
         "hovertemplate": "Y house price of unit area=45.1<br>X2 house age=%{x}<br>sum of X4 number of convenience stores=%{y}<extra></extra>",
         "legendgroup": "45.1",
         "marker": {
          "color": "#B6E880",
          "pattern": {
           "shape": ""
          }
         },
         "name": "45.1",
         "offsetgroup": "45.1",
         "orientation": "v",
         "showlegend": true,
         "type": "histogram",
         "x": [
          16.4,
          1.1
         ],
         "xaxis": "x",
         "y": [
          0,
          6
         ],
         "yaxis": "y"
        },
        {
         "alignmentgroup": "True",
         "bingroup": "x",
         "histfunc": "sum",
         "hovertemplate": "Y house price of unit area=39.7<br>X2 house age=%{x}<br>sum of X4 number of convenience stores=%{y}<extra></extra>",
         "legendgroup": "39.7",
         "marker": {
          "color": "#FF97FF",
          "pattern": {
           "shape": ""
          }
         },
         "name": "39.7",
         "offsetgroup": "39.7",
         "orientation": "v",
         "showlegend": true,
         "type": "histogram",
         "x": [
          34.9,
          37.8,
          30.9
         ],
         "xaxis": "x",
         "y": [
          8,
          1,
          9
         ],
         "yaxis": "y"
        },
        {
         "alignmentgroup": "True",
         "bingroup": "x",
         "histfunc": "sum",
         "hovertemplate": "Y house price of unit area=48.5<br>X2 house age=%{x}<br>sum of X4 number of convenience stores=%{y}<extra></extra>",
         "legendgroup": "48.5",
         "marker": {
          "color": "#FECB52",
          "pattern": {
           "shape": ""
          }
         },
         "name": "48.5",
         "offsetgroup": "48.5",
         "orientation": "v",
         "showlegend": true,
         "type": "histogram",
         "x": [
          35.8,
          30.6
         ],
         "xaxis": "x",
         "y": [
          7,
          10
         ],
         "yaxis": "y"
        },
        {
         "alignmentgroup": "True",
         "bingroup": "x",
         "histfunc": "sum",
         "hovertemplate": "Y house price of unit area=44.7<br>X2 house age=%{x}<br>sum of X4 number of convenience stores=%{y}<extra></extra>",
         "legendgroup": "44.7",
         "marker": {
          "color": "#636efa",
          "pattern": {
           "shape": ""
          }
         },
         "name": "44.7",
         "offsetgroup": "44.7",
         "orientation": "v",
         "showlegend": true,
         "type": "histogram",
         "x": [
          4.9
         ],
         "xaxis": "x",
         "y": [
          9
         ],
         "yaxis": "y"
        },
        {
         "alignmentgroup": "True",
         "bingroup": "x",
         "histfunc": "sum",
         "hovertemplate": "Y house price of unit area=40.9<br>X2 house age=%{x}<br>sum of X4 number of convenience stores=%{y}<extra></extra>",
         "legendgroup": "40.9",
         "marker": {
          "color": "#EF553B",
          "pattern": {
           "shape": ""
          }
         },
         "name": "40.9",
         "offsetgroup": "40.9",
         "orientation": "v",
         "showlegend": true,
         "type": "histogram",
         "x": [
          6.5,
          34.8
         ],
         "xaxis": "x",
         "y": [
          6,
          8
         ],
         "yaxis": "y"
        },
        {
         "alignmentgroup": "True",
         "bingroup": "x",
         "histfunc": "sum",
         "hovertemplate": "Y house price of unit area=15.6<br>X2 house age=%{x}<br>sum of X4 number of convenience stores=%{y}<extra></extra>",
         "legendgroup": "15.6",
         "marker": {
          "color": "#00cc96",
          "pattern": {
           "shape": ""
          }
         },
         "name": "15.6",
         "offsetgroup": "15.6",
         "orientation": "v",
         "showlegend": true,
         "type": "histogram",
         "x": [
          13.8,
          25.6
         ],
         "xaxis": "x",
         "y": [
          0,
          0
         ],
         "yaxis": "y"
        },
        {
         "alignmentgroup": "True",
         "bingroup": "x",
         "histfunc": "sum",
         "hovertemplate": "Y house price of unit area=35.6<br>X2 house age=%{x}<br>sum of X4 number of convenience stores=%{y}<extra></extra>",
         "legendgroup": "35.6",
         "marker": {
          "color": "#ab63fa",
          "pattern": {
           "shape": ""
          }
         },
         "name": "35.6",
         "offsetgroup": "35.6",
         "orientation": "v",
         "showlegend": true,
         "type": "histogram",
         "x": [
          16.1,
          5.1
         ],
         "xaxis": "x",
         "y": [
          4,
          2
         ],
         "yaxis": "y"
        },
        {
         "alignmentgroup": "True",
         "bingroup": "x",
         "histfunc": "sum",
         "hovertemplate": "Y house price of unit area=57.8<br>X2 house age=%{x}<br>sum of X4 number of convenience stores=%{y}<extra></extra>",
         "legendgroup": "57.8",
         "marker": {
          "color": "#FFA15A",
          "pattern": {
           "shape": ""
          }
         },
         "name": "57.8",
         "offsetgroup": "57.8",
         "orientation": "v",
         "showlegend": true,
         "type": "histogram",
         "x": [
          3.5
         ],
         "xaxis": "x",
         "y": [
          8
         ],
         "yaxis": "y"
        },
        {
         "alignmentgroup": "True",
         "bingroup": "x",
         "histfunc": "sum",
         "hovertemplate": "Y house price of unit area=39.6<br>X2 house age=%{x}<br>sum of X4 number of convenience stores=%{y}<extra></extra>",
         "legendgroup": "39.6",
         "marker": {
          "color": "#19d3f3",
          "pattern": {
           "shape": ""
          }
         },
         "name": "39.6",
         "offsetgroup": "39.6",
         "orientation": "v",
         "showlegend": true,
         "type": "histogram",
         "x": [
          19.2,
          39.8
         ],
         "xaxis": "x",
         "y": [
          3,
          2
         ],
         "yaxis": "y"
        },
        {
         "alignmentgroup": "True",
         "bingroup": "x",
         "histfunc": "sum",
         "hovertemplate": "Y house price of unit area=11.6<br>X2 house age=%{x}<br>sum of X4 number of convenience stores=%{y}<extra></extra>",
         "legendgroup": "11.6",
         "marker": {
          "color": "#FF6692",
          "pattern": {
           "shape": ""
          }
         },
         "name": "11.6",
         "offsetgroup": "11.6",
         "orientation": "v",
         "showlegend": true,
         "type": "histogram",
         "x": [
          16
         ],
         "xaxis": "x",
         "y": [
          0
         ],
         "yaxis": "y"
        },
        {
         "alignmentgroup": "True",
         "bingroup": "x",
         "histfunc": "sum",
         "hovertemplate": "Y house price of unit area=55.5<br>X2 house age=%{x}<br>sum of X4 number of convenience stores=%{y}<extra></extra>",
         "legendgroup": "55.5",
         "marker": {
          "color": "#B6E880",
          "pattern": {
           "shape": ""
          }
         },
         "name": "55.5",
         "offsetgroup": "55.5",
         "orientation": "v",
         "showlegend": true,
         "type": "histogram",
         "x": [
          8.5
         ],
         "xaxis": "x",
         "y": [
          5
         ],
         "yaxis": "y"
        },
        {
         "alignmentgroup": "True",
         "bingroup": "x",
         "histfunc": "sum",
         "hovertemplate": "Y house price of unit area=55.2<br>X2 house age=%{x}<br>sum of X4 number of convenience stores=%{y}<extra></extra>",
         "legendgroup": "55.2",
         "marker": {
          "color": "#FF97FF",
          "pattern": {
           "shape": ""
          }
         },
         "name": "55.2",
         "offsetgroup": "55.2",
         "orientation": "v",
         "showlegend": true,
         "type": "histogram",
         "x": [
          0
         ],
         "xaxis": "x",
         "y": [
          0
         ],
         "yaxis": "y"
        },
        {
         "alignmentgroup": "True",
         "bingroup": "x",
         "histfunc": "sum",
         "hovertemplate": "Y house price of unit area=73.6<br>X2 house age=%{x}<br>sum of X4 number of convenience stores=%{y}<extra></extra>",
         "legendgroup": "73.6",
         "marker": {
          "color": "#FECB52",
          "pattern": {
           "shape": ""
          }
         },
         "name": "73.6",
         "offsetgroup": "73.6",
         "orientation": "v",
         "showlegend": true,
         "type": "histogram",
         "x": [
          0
         ],
         "xaxis": "x",
         "y": [
          6
         ],
         "yaxis": "y"
        },
        {
         "alignmentgroup": "True",
         "bingroup": "x",
         "histfunc": "sum",
         "hovertemplate": "Y house price of unit area=43.4<br>X2 house age=%{x}<br>sum of X4 number of convenience stores=%{y}<extra></extra>",
         "legendgroup": "43.4",
         "marker": {
          "color": "#636efa",
          "pattern": {
           "shape": ""
          }
         },
         "name": "43.4",
         "offsetgroup": "43.4",
         "orientation": "v",
         "showlegend": true,
         "type": "histogram",
         "x": [
          28.2
         ],
         "xaxis": "x",
         "y": [
          8
         ],
         "yaxis": "y"
        },
        {
         "alignmentgroup": "True",
         "bingroup": "x",
         "histfunc": "sum",
         "hovertemplate": "Y house price of unit area=23.5<br>X2 house age=%{x}<br>sum of X4 number of convenience stores=%{y}<extra></extra>",
         "legendgroup": "23.5",
         "marker": {
          "color": "#EF553B",
          "pattern": {
           "shape": ""
          }
         },
         "name": "23.5",
         "offsetgroup": "23.5",
         "orientation": "v",
         "showlegend": true,
         "type": "histogram",
         "x": [
          8.4,
          33.5
         ],
         "xaxis": "x",
         "y": [
          1,
          2
         ],
         "yaxis": "y"
        },
        {
         "alignmentgroup": "True",
         "bingroup": "x",
         "histfunc": "sum",
         "hovertemplate": "Y house price of unit area=14.4<br>X2 house age=%{x}<br>sum of X4 number of convenience stores=%{y}<extra></extra>",
         "legendgroup": "14.4",
         "marker": {
          "color": "#00cc96",
          "pattern": {
           "shape": ""
          }
         },
         "name": "14.4",
         "offsetgroup": "14.4",
         "orientation": "v",
         "showlegend": true,
         "type": "histogram",
         "x": [
          24
         ],
         "xaxis": "x",
         "y": [
          0
         ],
         "yaxis": "y"
        },
        {
         "alignmentgroup": "True",
         "bingroup": "x",
         "histfunc": "sum",
         "hovertemplate": "Y house price of unit area=58.8<br>X2 house age=%{x}<br>sum of X4 number of convenience stores=%{y}<extra></extra>",
         "legendgroup": "58.8",
         "marker": {
          "color": "#ab63fa",
          "pattern": {
           "shape": ""
          }
         },
         "name": "58.8",
         "offsetgroup": "58.8",
         "orientation": "v",
         "showlegend": true,
         "type": "histogram",
         "x": [
          3.6
         ],
         "xaxis": "x",
         "y": [
          5
         ],
         "yaxis": "y"
        },
        {
         "alignmentgroup": "True",
         "bingroup": "x",
         "histfunc": "sum",
         "hovertemplate": "Y house price of unit area=35.1<br>X2 house age=%{x}<br>sum of X4 number of convenience stores=%{y}<extra></extra>",
         "legendgroup": "35.1",
         "marker": {
          "color": "#FFA15A",
          "pattern": {
           "shape": ""
          }
         },
         "name": "35.1",
         "offsetgroup": "35.1",
         "orientation": "v",
         "showlegend": true,
         "type": "histogram",
         "x": [
          41.3
         ],
         "xaxis": "x",
         "y": [
          4
         ],
         "yaxis": "y"
        },
        {
         "alignmentgroup": "True",
         "bingroup": "x",
         "histfunc": "sum",
         "hovertemplate": "Y house price of unit area=45.2<br>X2 house age=%{x}<br>sum of X4 number of convenience stores=%{y}<extra></extra>",
         "legendgroup": "45.2",
         "marker": {
          "color": "#19d3f3",
          "pattern": {
           "shape": ""
          }
         },
         "name": "45.2",
         "offsetgroup": "45.2",
         "orientation": "v",
         "showlegend": true,
         "type": "histogram",
         "x": [
          4.3
         ],
         "xaxis": "x",
         "y": [
          7
         ],
         "yaxis": "y"
        },
        {
         "alignmentgroup": "True",
         "bingroup": "x",
         "histfunc": "sum",
         "hovertemplate": "Y house price of unit area=36.5<br>X2 house age=%{x}<br>sum of X4 number of convenience stores=%{y}<extra></extra>",
         "legendgroup": "36.5",
         "marker": {
          "color": "#FF6692",
          "pattern": {
           "shape": ""
          }
         },
         "name": "36.5",
         "offsetgroup": "36.5",
         "orientation": "v",
         "showlegend": true,
         "type": "histogram",
         "x": [
          30.2,
          27.3
         ],
         "xaxis": "x",
         "y": [
          3,
          6
         ],
         "yaxis": "y"
        },
        {
         "alignmentgroup": "True",
         "bingroup": "x",
         "histfunc": "sum",
         "hovertemplate": "Y house price of unit area=19.2<br>X2 house age=%{x}<br>sum of X4 number of convenience stores=%{y}<extra></extra>",
         "legendgroup": "19.2",
         "marker": {
          "color": "#B6E880",
          "pattern": {
           "shape": ""
          }
         },
         "name": "19.2",
         "offsetgroup": "19.2",
         "orientation": "v",
         "showlegend": true,
         "type": "histogram",
         "x": [
          13.9,
          13.6
         ],
         "xaxis": "x",
         "y": [
          0,
          0
         ],
         "yaxis": "y"
        },
        {
         "alignmentgroup": "True",
         "bingroup": "x",
         "histfunc": "sum",
         "hovertemplate": "Y house price of unit area=36.7<br>X2 house age=%{x}<br>sum of X4 number of convenience stores=%{y}<extra></extra>",
         "legendgroup": "36.7",
         "marker": {
          "color": "#FF97FF",
          "pattern": {
           "shape": ""
          }
         },
         "name": "36.7",
         "offsetgroup": "36.7",
         "orientation": "v",
         "showlegend": true,
         "type": "histogram",
         "x": [
          13.1,
          3.5
         ],
         "xaxis": "x",
         "y": [
          4,
          3
         ],
         "yaxis": "y"
        },
        {
         "alignmentgroup": "True",
         "bingroup": "x",
         "histfunc": "sum",
         "hovertemplate": "Y house price of unit area=42.6<br>X2 house age=%{x}<br>sum of X4 number of convenience stores=%{y}<extra></extra>",
         "legendgroup": "42.6",
         "marker": {
          "color": "#FECB52",
          "pattern": {
           "shape": ""
          }
         },
         "name": "42.6",
         "offsetgroup": "42.6",
         "orientation": "v",
         "showlegend": true,
         "type": "histogram",
         "x": [
          14
         ],
         "xaxis": "x",
         "y": [
          1
         ],
         "yaxis": "y"
        },
        {
         "alignmentgroup": "True",
         "bingroup": "x",
         "histfunc": "sum",
         "hovertemplate": "Y house price of unit area=15.5<br>X2 house age=%{x}<br>sum of X4 number of convenience stores=%{y}<extra></extra>",
         "legendgroup": "15.5",
         "marker": {
          "color": "#636efa",
          "pattern": {
           "shape": ""
          }
         },
         "name": "15.5",
         "offsetgroup": "15.5",
         "orientation": "v",
         "showlegend": true,
         "type": "histogram",
         "x": [
          26.9
         ],
         "xaxis": "x",
         "y": [
          0
         ],
         "yaxis": "y"
        },
        {
         "alignmentgroup": "True",
         "bingroup": "x",
         "histfunc": "sum",
         "hovertemplate": "Y house price of unit area=55.9<br>X2 house age=%{x}<br>sum of X4 number of convenience stores=%{y}<extra></extra>",
         "legendgroup": "55.9",
         "marker": {
          "color": "#EF553B",
          "pattern": {
           "shape": ""
          }
         },
         "name": "55.9",
         "offsetgroup": "55.9",
         "orientation": "v",
         "showlegend": true,
         "type": "histogram",
         "x": [
          11.6
         ],
         "xaxis": "x",
         "y": [
          8
         ],
         "yaxis": "y"
        },
        {
         "alignmentgroup": "True",
         "bingroup": "x",
         "histfunc": "sum",
         "hovertemplate": "Y house price of unit area=23.6<br>X2 house age=%{x}<br>sum of X4 number of convenience stores=%{y}<extra></extra>",
         "legendgroup": "23.6",
         "marker": {
          "color": "#00cc96",
          "pattern": {
           "shape": ""
          }
         },
         "name": "23.6",
         "offsetgroup": "23.6",
         "orientation": "v",
         "showlegend": true,
         "type": "histogram",
         "x": [
          13.5,
          15.9
         ],
         "xaxis": "x",
         "y": [
          3,
          3
         ],
         "yaxis": "y"
        },
        {
         "alignmentgroup": "True",
         "bingroup": "x",
         "histfunc": "sum",
         "hovertemplate": "Y house price of unit area=21.5<br>X2 house age=%{x}<br>sum of X4 number of convenience stores=%{y}<extra></extra>",
         "legendgroup": "21.5",
         "marker": {
          "color": "#ab63fa",
          "pattern": {
           "shape": ""
          }
         },
         "name": "21.5",
         "offsetgroup": "21.5",
         "orientation": "v",
         "showlegend": true,
         "type": "histogram",
         "x": [
          31.4
         ],
         "xaxis": "x",
         "y": [
          3
         ],
         "yaxis": "y"
        },
        {
         "alignmentgroup": "True",
         "bingroup": "x",
         "histfunc": "sum",
         "hovertemplate": "Y house price of unit area=25.7<br>X2 house age=%{x}<br>sum of X4 number of convenience stores=%{y}<extra></extra>",
         "legendgroup": "25.7",
         "marker": {
          "color": "#FFA15A",
          "pattern": {
           "shape": ""
          }
         },
         "name": "25.7",
         "offsetgroup": "25.7",
         "orientation": "v",
         "showlegend": true,
         "type": "histogram",
         "x": [
          20.9,
          18.4
         ],
         "xaxis": "x",
         "y": [
          3,
          3
         ],
         "yaxis": "y"
        },
        {
         "alignmentgroup": "True",
         "bingroup": "x",
         "histfunc": "sum",
         "hovertemplate": "Y house price of unit area=22.0<br>X2 house age=%{x}<br>sum of X4 number of convenience stores=%{y}<extra></extra>",
         "legendgroup": "22.0",
         "marker": {
          "color": "#19d3f3",
          "pattern": {
           "shape": ""
          }
         },
         "name": "22.0",
         "offsetgroup": "22.0",
         "orientation": "v",
         "showlegend": true,
         "type": "histogram",
         "x": [
          8.9
         ],
         "xaxis": "x",
         "y": [
          0
         ],
         "yaxis": "y"
        },
        {
         "alignmentgroup": "True",
         "bingroup": "x",
         "histfunc": "sum",
         "hovertemplate": "Y house price of unit area=20.5<br>X2 house age=%{x}<br>sum of X4 number of convenience stores=%{y}<extra></extra>",
         "legendgroup": "20.5",
         "marker": {
          "color": "#FF6692",
          "pattern": {
           "shape": ""
          }
         },
         "name": "20.5",
         "offsetgroup": "20.5",
         "orientation": "v",
         "showlegend": true,
         "type": "histogram",
         "x": [
          16.3
         ],
         "xaxis": "x",
         "y": [
          0
         ],
         "yaxis": "y"
        },
        {
         "alignmentgroup": "True",
         "bingroup": "x",
         "histfunc": "sum",
         "hovertemplate": "Y house price of unit area=37.8<br>X2 house age=%{x}<br>sum of X4 number of convenience stores=%{y}<extra></extra>",
         "legendgroup": "37.8",
         "marker": {
          "color": "#B6E880",
          "pattern": {
           "shape": ""
          }
         },
         "name": "37.8",
         "offsetgroup": "37.8",
         "orientation": "v",
         "showlegend": true,
         "type": "histogram",
         "x": [
          13.2
         ],
         "xaxis": "x",
         "y": [
          2
         ],
         "yaxis": "y"
        },
        {
         "alignmentgroup": "True",
         "bingroup": "x",
         "histfunc": "sum",
         "hovertemplate": "Y house price of unit area=42.7<br>X2 house age=%{x}<br>sum of X4 number of convenience stores=%{y}<extra></extra>",
         "legendgroup": "42.7",
         "marker": {
          "color": "#FF97FF",
          "pattern": {
           "shape": ""
          }
         },
         "name": "42.7",
         "offsetgroup": "42.7",
         "orientation": "v",
         "showlegend": true,
         "type": "histogram",
         "x": [
          43.8
         ],
         "xaxis": "x",
         "y": [
          7
         ],
         "yaxis": "y"
        },
        {
         "alignmentgroup": "True",
         "bingroup": "x",
         "histfunc": "sum",
         "hovertemplate": "Y house price of unit area=36.6<br>X2 house age=%{x}<br>sum of X4 number of convenience stores=%{y}<extra></extra>",
         "legendgroup": "36.6",
         "marker": {
          "color": "#FECB52",
          "pattern": {
           "shape": ""
          }
         },
         "name": "36.6",
         "offsetgroup": "36.6",
         "orientation": "v",
         "showlegend": true,
         "type": "histogram",
         "x": [
          22.8
         ],
         "xaxis": "x",
         "y": [
          2
         ],
         "yaxis": "y"
        },
        {
         "alignmentgroup": "True",
         "bingroup": "x",
         "histfunc": "sum",
         "hovertemplate": "Y house price of unit area=48.2<br>X2 house age=%{x}<br>sum of X4 number of convenience stores=%{y}<extra></extra>",
         "legendgroup": "48.2",
         "marker": {
          "color": "#636efa",
          "pattern": {
           "shape": ""
          }
         },
         "name": "48.2",
         "offsetgroup": "48.2",
         "orientation": "v",
         "showlegend": true,
         "type": "histogram",
         "x": [
          34.4,
          32.8
         ],
         "xaxis": "x",
         "y": [
          8,
          8
         ],
         "yaxis": "y"
        },
        {
         "alignmentgroup": "True",
         "bingroup": "x",
         "histfunc": "sum",
         "hovertemplate": "Y house price of unit area=39.1<br>X2 house age=%{x}<br>sum of X4 number of convenience stores=%{y}<extra></extra>",
         "legendgroup": "39.1",
         "marker": {
          "color": "#EF553B",
          "pattern": {
           "shape": ""
          }
         },
         "name": "39.1",
         "offsetgroup": "39.1",
         "orientation": "v",
         "showlegend": true,
         "type": "histogram",
         "x": [
          34
         ],
         "xaxis": "x",
         "y": [
          7
         ],
         "yaxis": "y"
        },
        {
         "alignmentgroup": "True",
         "bingroup": "x",
         "histfunc": "sum",
         "hovertemplate": "Y house price of unit area=31.6<br>X2 house age=%{x}<br>sum of X4 number of convenience stores=%{y}<extra></extra>",
         "legendgroup": "31.6",
         "marker": {
          "color": "#00cc96",
          "pattern": {
           "shape": ""
          }
         },
         "name": "31.6",
         "offsetgroup": "31.6",
         "orientation": "v",
         "showlegend": true,
         "type": "histogram",
         "x": [
          18.2
         ],
         "xaxis": "x",
         "y": [
          8
         ],
         "yaxis": "y"
        },
        {
         "alignmentgroup": "True",
         "bingroup": "x",
         "histfunc": "sum",
         "hovertemplate": "Y house price of unit area=25.5<br>X2 house age=%{x}<br>sum of X4 number of convenience stores=%{y}<extra></extra>",
         "legendgroup": "25.5",
         "marker": {
          "color": "#ab63fa",
          "pattern": {
           "shape": ""
          }
         },
         "name": "25.5",
         "offsetgroup": "25.5",
         "orientation": "v",
         "showlegend": true,
         "type": "histogram",
         "x": [
          17.4
         ],
         "xaxis": "x",
         "y": [
          0
         ],
         "yaxis": "y"
        },
        {
         "alignmentgroup": "True",
         "bingroup": "x",
         "histfunc": "sum",
         "hovertemplate": "Y house price of unit area=45.9<br>X2 house age=%{x}<br>sum of X4 number of convenience stores=%{y}<extra></extra>",
         "legendgroup": "45.9",
         "marker": {
          "color": "#FFA15A",
          "pattern": {
           "shape": ""
          }
         },
         "name": "45.9",
         "offsetgroup": "45.9",
         "orientation": "v",
         "showlegend": true,
         "type": "histogram",
         "x": [
          13.1
         ],
         "xaxis": "x",
         "y": [
          5
         ],
         "yaxis": "y"
        },
        {
         "alignmentgroup": "True",
         "bingroup": "x",
         "histfunc": "sum",
         "hovertemplate": "Y house price of unit area=31.5<br>X2 house age=%{x}<br>sum of X4 number of convenience stores=%{y}<extra></extra>",
         "legendgroup": "31.5",
         "marker": {
          "color": "#19d3f3",
          "pattern": {
           "shape": ""
          }
         },
         "name": "31.5",
         "offsetgroup": "31.5",
         "orientation": "v",
         "showlegend": true,
         "type": "histogram",
         "x": [
          38.3
         ],
         "xaxis": "x",
         "y": [
          3
         ],
         "yaxis": "y"
        },
        {
         "alignmentgroup": "True",
         "bingroup": "x",
         "histfunc": "sum",
         "hovertemplate": "Y house price of unit area=46.1<br>X2 house age=%{x}<br>sum of X4 number of convenience stores=%{y}<extra></extra>",
         "legendgroup": "46.1",
         "marker": {
          "color": "#FF6692",
          "pattern": {
           "shape": ""
          }
         },
         "name": "46.1",
         "offsetgroup": "46.1",
         "orientation": "v",
         "showlegend": true,
         "type": "histogram",
         "x": [
          15.6,
          33.2
         ],
         "xaxis": "x",
         "y": [
          5,
          10
         ],
         "yaxis": "y"
        },
        {
         "alignmentgroup": "True",
         "bingroup": "x",
         "histfunc": "sum",
         "hovertemplate": "Y house price of unit area=21.4<br>X2 house age=%{x}<br>sum of X4 number of convenience stores=%{y}<extra></extra>",
         "legendgroup": "21.4",
         "marker": {
          "color": "#B6E880",
          "pattern": {
           "shape": ""
          }
         },
         "name": "21.4",
         "offsetgroup": "21.4",
         "orientation": "v",
         "showlegend": true,
         "type": "histogram",
         "x": [
          12.8
         ],
         "xaxis": "x",
         "y": [
          3
         ],
         "yaxis": "y"
        },
        {
         "alignmentgroup": "True",
         "bingroup": "x",
         "histfunc": "sum",
         "hovertemplate": "Y house price of unit area=44.0<br>X2 house age=%{x}<br>sum of X4 number of convenience stores=%{y}<extra></extra>",
         "legendgroup": "44.0",
         "marker": {
          "color": "#FF97FF",
          "pattern": {
           "shape": ""
          }
         },
         "name": "44.0",
         "offsetgroup": "44.0",
         "orientation": "v",
         "showlegend": true,
         "type": "histogram",
         "x": [
          22.2,
          0
         ],
         "xaxis": "x",
         "y": [
          10,
          6
         ],
         "yaxis": "y"
        },
        {
         "alignmentgroup": "True",
         "bingroup": "x",
         "histfunc": "sum",
         "hovertemplate": "Y house price of unit area=26.2<br>X2 house age=%{x}<br>sum of X4 number of convenience stores=%{y}<extra></extra>",
         "legendgroup": "26.2",
         "marker": {
          "color": "#FECB52",
          "pattern": {
           "shape": ""
          }
         },
         "name": "26.2",
         "offsetgroup": "26.2",
         "orientation": "v",
         "showlegend": true,
         "type": "histogram",
         "x": [
          11.5
         ],
         "xaxis": "x",
         "y": [
          1
         ],
         "yaxis": "y"
        },
        {
         "alignmentgroup": "True",
         "bingroup": "x",
         "histfunc": "sum",
         "hovertemplate": "Y house price of unit area=31.1<br>X2 house age=%{x}<br>sum of X4 number of convenience stores=%{y}<extra></extra>",
         "legendgroup": "31.1",
         "marker": {
          "color": "#636efa",
          "pattern": {
           "shape": ""
          }
         },
         "name": "31.1",
         "offsetgroup": "31.1",
         "orientation": "v",
         "showlegend": true,
         "type": "histogram",
         "x": [
          17.6,
          2.6
         ],
         "xaxis": "x",
         "y": [
          2,
          3
         ],
         "yaxis": "y"
        },
        {
         "alignmentgroup": "True",
         "bingroup": "x",
         "histfunc": "sum",
         "hovertemplate": "Y house price of unit area=58.0<br>X2 house age=%{x}<br>sum of X4 number of convenience stores=%{y}<extra></extra>",
         "legendgroup": "58.0",
         "marker": {
          "color": "#EF553B",
          "pattern": {
           "shape": ""
          }
         },
         "name": "58.0",
         "offsetgroup": "58.0",
         "orientation": "v",
         "showlegend": true,
         "type": "histogram",
         "x": [
          6.2
         ],
         "xaxis": "x",
         "y": [
          9
         ],
         "yaxis": "y"
        },
        {
         "alignmentgroup": "True",
         "bingroup": "x",
         "histfunc": "sum",
         "hovertemplate": "Y house price of unit area=20.9<br>X2 house age=%{x}<br>sum of X4 number of convenience stores=%{y}<extra></extra>",
         "legendgroup": "20.9",
         "marker": {
          "color": "#00cc96",
          "pattern": {
           "shape": ""
          }
         },
         "name": "20.9",
         "offsetgroup": "20.9",
         "orientation": "v",
         "showlegend": true,
         "type": "histogram",
         "x": [
          18.1,
          15
         ],
         "xaxis": "x",
         "y": [
          3,
          2
         ],
         "yaxis": "y"
        },
        {
         "alignmentgroup": "True",
         "bingroup": "x",
         "histfunc": "sum",
         "hovertemplate": "Y house price of unit area=43.8<br>X2 house age=%{x}<br>sum of X4 number of convenience stores=%{y}<extra></extra>",
         "legendgroup": "43.8",
         "marker": {
          "color": "#ab63fa",
          "pattern": {
           "shape": ""
          }
         },
         "name": "43.8",
         "offsetgroup": "43.8",
         "orientation": "v",
         "showlegend": true,
         "type": "histogram",
         "x": [
          13.6
         ],
         "xaxis": "x",
         "y": [
          5
         ],
         "yaxis": "y"
        },
        {
         "alignmentgroup": "True",
         "bingroup": "x",
         "histfunc": "sum",
         "hovertemplate": "Y house price of unit area=40.2<br>X2 house age=%{x}<br>sum of X4 number of convenience stores=%{y}<extra></extra>",
         "legendgroup": "40.2",
         "marker": {
          "color": "#FFA15A",
          "pattern": {
           "shape": ""
          }
         },
         "name": "40.2",
         "offsetgroup": "40.2",
         "orientation": "v",
         "showlegend": true,
         "type": "histogram",
         "x": [
          29.3,
          32.4
         ],
         "xaxis": "x",
         "y": [
          8,
          8
         ],
         "yaxis": "y"
        },
        {
         "alignmentgroup": "True",
         "bingroup": "x",
         "histfunc": "sum",
         "hovertemplate": "Y house price of unit area=78.3<br>X2 house age=%{x}<br>sum of X4 number of convenience stores=%{y}<extra></extra>",
         "legendgroup": "78.3",
         "marker": {
          "color": "#19d3f3",
          "pattern": {
           "shape": ""
          }
         },
         "name": "78.3",
         "offsetgroup": "78.3",
         "orientation": "v",
         "showlegend": true,
         "type": "histogram",
         "x": [
          37.2
         ],
         "xaxis": "x",
         "y": [
          9
         ],
         "yaxis": "y"
        },
        {
         "alignmentgroup": "True",
         "bingroup": "x",
         "histfunc": "sum",
         "hovertemplate": "Y house price of unit area=38.5<br>X2 house age=%{x}<br>sum of X4 number of convenience stores=%{y}<extra></extra>",
         "legendgroup": "38.5",
         "marker": {
          "color": "#FF6692",
          "pattern": {
           "shape": ""
          }
         },
         "name": "38.5",
         "offsetgroup": "38.5",
         "orientation": "v",
         "showlegend": true,
         "type": "histogram",
         "x": [
          9
         ],
         "xaxis": "x",
         "y": [
          0
         ],
         "yaxis": "y"
        },
        {
         "alignmentgroup": "True",
         "bingroup": "x",
         "histfunc": "sum",
         "hovertemplate": "Y house price of unit area=46.0<br>X2 house age=%{x}<br>sum of X4 number of convenience stores=%{y}<extra></extra>",
         "legendgroup": "46.0",
         "marker": {
          "color": "#B6E880",
          "pattern": {
           "shape": ""
          }
         },
         "name": "46.0",
         "offsetgroup": "46.0",
         "orientation": "v",
         "showlegend": true,
         "type": "histogram",
         "x": [
          34.5
         ],
         "xaxis": "x",
         "y": [
          6
         ],
         "yaxis": "y"
        },
        {
         "alignmentgroup": "True",
         "bingroup": "x",
         "histfunc": "sum",
         "hovertemplate": "Y house price of unit area=49.0<br>X2 house age=%{x}<br>sum of X4 number of convenience stores=%{y}<extra></extra>",
         "legendgroup": "49.0",
         "marker": {
          "color": "#FF97FF",
          "pattern": {
           "shape": ""
          }
         },
         "name": "49.0",
         "offsetgroup": "49.0",
         "orientation": "v",
         "showlegend": true,
         "type": "histogram",
         "x": [
          1.1
         ],
         "xaxis": "x",
         "y": [
          6
         ],
         "yaxis": "y"
        },
        {
         "alignmentgroup": "True",
         "bingroup": "x",
         "histfunc": "sum",
         "hovertemplate": "Y house price of unit area=12.8<br>X2 house age=%{x}<br>sum of X4 number of convenience stores=%{y}<extra></extra>",
         "legendgroup": "12.8",
         "marker": {
          "color": "#FECB52",
          "pattern": {
           "shape": ""
          }
         },
         "name": "12.8",
         "offsetgroup": "12.8",
         "orientation": "v",
         "showlegend": true,
         "type": "histogram",
         "x": [
          16.5,
          32
         ],
         "xaxis": "x",
         "y": [
          0,
          0
         ],
         "yaxis": "y"
        },
        {
         "alignmentgroup": "True",
         "bingroup": "x",
         "histfunc": "sum",
         "hovertemplate": "Y house price of unit area=46.6<br>X2 house age=%{x}<br>sum of X4 number of convenience stores=%{y}<extra></extra>",
         "legendgroup": "46.6",
         "marker": {
          "color": "#636efa",
          "pattern": {
           "shape": ""
          }
         },
         "name": "46.6",
         "offsetgroup": "46.6",
         "orientation": "v",
         "showlegend": true,
         "type": "histogram",
         "x": [
          11.9,
          33.5,
          18.3
         ],
         "xaxis": "x",
         "y": [
          0,
          8,
          10
         ],
         "yaxis": "y"
        },
        {
         "alignmentgroup": "True",
         "bingroup": "x",
         "histfunc": "sum",
         "hovertemplate": "Y house price of unit area=19.0<br>X2 house age=%{x}<br>sum of X4 number of convenience stores=%{y}<extra></extra>",
         "legendgroup": "19.0",
         "marker": {
          "color": "#EF553B",
          "pattern": {
           "shape": ""
          }
         },
         "name": "19.0",
         "offsetgroup": "19.0",
         "orientation": "v",
         "showlegend": true,
         "type": "histogram",
         "x": [
          31
         ],
         "xaxis": "x",
         "y": [
          0
         ],
         "yaxis": "y"
        },
        {
         "alignmentgroup": "True",
         "bingroup": "x",
         "histfunc": "sum",
         "hovertemplate": "Y house price of unit area=33.4<br>X2 house age=%{x}<br>sum of X4 number of convenience stores=%{y}<extra></extra>",
         "legendgroup": "33.4",
         "marker": {
          "color": "#00cc96",
          "pattern": {
           "shape": ""
          }
         },
         "name": "33.4",
         "offsetgroup": "33.4",
         "orientation": "v",
         "showlegend": true,
         "type": "histogram",
         "x": [
          4,
          2
         ],
         "xaxis": "x",
         "y": [
          3,
          3
         ],
         "yaxis": "y"
        },
        {
         "alignmentgroup": "True",
         "bingroup": "x",
         "histfunc": "sum",
         "hovertemplate": "Y house price of unit area=14.7<br>X2 house age=%{x}<br>sum of X4 number of convenience stores=%{y}<extra></extra>",
         "legendgroup": "14.7",
         "marker": {
          "color": "#ab63fa",
          "pattern": {
           "shape": ""
          }
         },
         "name": "14.7",
         "offsetgroup": "14.7",
         "orientation": "v",
         "showlegend": true,
         "type": "histogram",
         "x": [
          16.2
         ],
         "xaxis": "x",
         "y": [
          0
         ],
         "yaxis": "y"
        },
        {
         "alignmentgroup": "True",
         "bingroup": "x",
         "histfunc": "sum",
         "hovertemplate": "Y house price of unit area=17.4<br>X2 house age=%{x}<br>sum of X4 number of convenience stores=%{y}<extra></extra>",
         "legendgroup": "17.4",
         "marker": {
          "color": "#FFA15A",
          "pattern": {
           "shape": ""
          }
         },
         "name": "17.4",
         "offsetgroup": "17.4",
         "orientation": "v",
         "showlegend": true,
         "type": "histogram",
         "x": [
          27.1,
          31.5
         ],
         "xaxis": "x",
         "y": [
          1,
          1
         ],
         "yaxis": "y"
        },
        {
         "alignmentgroup": "True",
         "bingroup": "x",
         "histfunc": "sum",
         "hovertemplate": "Y house price of unit area=32.4<br>X2 house age=%{x}<br>sum of X4 number of convenience stores=%{y}<extra></extra>",
         "legendgroup": "32.4",
         "marker": {
          "color": "#19d3f3",
          "pattern": {
           "shape": ""
          }
         },
         "name": "32.4",
         "offsetgroup": "32.4",
         "orientation": "v",
         "showlegend": true,
         "type": "histogram",
         "x": [
          39.7
         ],
         "xaxis": "x",
         "y": [
          9
         ],
         "yaxis": "y"
        },
        {
         "alignmentgroup": "True",
         "bingroup": "x",
         "histfunc": "sum",
         "hovertemplate": "Y house price of unit area=23.9<br>X2 house age=%{x}<br>sum of X4 number of convenience stores=%{y}<extra></extra>",
         "legendgroup": "23.9",
         "marker": {
          "color": "#FF6692",
          "pattern": {
           "shape": ""
          }
         },
         "name": "23.9",
         "offsetgroup": "23.9",
         "orientation": "v",
         "showlegend": true,
         "type": "histogram",
         "x": [
          8
         ],
         "xaxis": "x",
         "y": [
          4
         ],
         "yaxis": "y"
        },
        {
         "alignmentgroup": "True",
         "bingroup": "x",
         "histfunc": "sum",
         "hovertemplate": "Y house price of unit area=61.9<br>X2 house age=%{x}<br>sum of X4 number of convenience stores=%{y}<extra></extra>",
         "legendgroup": "61.9",
         "marker": {
          "color": "#B6E880",
          "pattern": {
           "shape": ""
          }
         },
         "name": "61.9",
         "offsetgroup": "61.9",
         "orientation": "v",
         "showlegend": true,
         "type": "histogram",
         "x": [
          3.6
         ],
         "xaxis": "x",
         "y": [
          10
         ],
         "yaxis": "y"
        },
        {
         "alignmentgroup": "True",
         "bingroup": "x",
         "histfunc": "sum",
         "hovertemplate": "Y house price of unit area=39.0<br>X2 house age=%{x}<br>sum of X4 number of convenience stores=%{y}<extra></extra>",
         "legendgroup": "39.0",
         "marker": {
          "color": "#FF97FF",
          "pattern": {
           "shape": ""
          }
         },
         "name": "39.0",
         "offsetgroup": "39.0",
         "orientation": "v",
         "showlegend": true,
         "type": "histogram",
         "x": [
          13
         ],
         "xaxis": "x",
         "y": [
          0
         ],
         "yaxis": "y"
        },
        {
         "alignmentgroup": "True",
         "bingroup": "x",
         "histfunc": "sum",
         "hovertemplate": "Y house price of unit area=40.6<br>X2 house age=%{x}<br>sum of X4 number of convenience stores=%{y}<extra></extra>",
         "legendgroup": "40.6",
         "marker": {
          "color": "#FECB52",
          "pattern": {
           "shape": ""
          }
         },
         "name": "40.6",
         "offsetgroup": "40.6",
         "orientation": "v",
         "showlegend": true,
         "type": "histogram",
         "x": [
          12.8,
          16.4,
          32.6,
          18.8
         ],
         "xaxis": "x",
         "y": [
          0,
          6,
          7,
          7
         ],
         "yaxis": "y"
        },
        {
         "alignmentgroup": "True",
         "bingroup": "x",
         "histfunc": "sum",
         "hovertemplate": "Y house price of unit area=29.7<br>X2 house age=%{x}<br>sum of X4 number of convenience stores=%{y}<extra></extra>",
         "legendgroup": "29.7",
         "marker": {
          "color": "#636efa",
          "pattern": {
           "shape": ""
          }
         },
         "name": "29.7",
         "offsetgroup": "29.7",
         "orientation": "v",
         "showlegend": true,
         "type": "histogram",
         "x": [
          18.1
         ],
         "xaxis": "x",
         "y": [
          0
         ],
         "yaxis": "y"
        },
        {
         "alignmentgroup": "True",
         "bingroup": "x",
         "histfunc": "sum",
         "hovertemplate": "Y house price of unit area=28.8<br>X2 house age=%{x}<br>sum of X4 number of convenience stores=%{y}<extra></extra>",
         "legendgroup": "28.8",
         "marker": {
          "color": "#EF553B",
          "pattern": {
           "shape": ""
          }
         },
         "name": "28.8",
         "offsetgroup": "28.8",
         "orientation": "v",
         "showlegend": true,
         "type": "histogram",
         "x": [
          11,
          17.7
         ],
         "xaxis": "x",
         "y": [
          2,
          0
         ],
         "yaxis": "y"
        },
        {
         "alignmentgroup": "True",
         "bingroup": "x",
         "histfunc": "sum",
         "hovertemplate": "Y house price of unit area=21.7<br>X2 house age=%{x}<br>sum of X4 number of convenience stores=%{y}<extra></extra>",
         "legendgroup": "21.7",
         "marker": {
          "color": "#00cc96",
          "pattern": {
           "shape": ""
          }
         },
         "name": "21.7",
         "offsetgroup": "21.7",
         "orientation": "v",
         "showlegend": true,
         "type": "histogram",
         "x": [
          4.8
         ],
         "xaxis": "x",
         "y": [
          3
         ],
         "yaxis": "y"
        },
        {
         "alignmentgroup": "True",
         "bingroup": "x",
         "histfunc": "sum",
         "hovertemplate": "Y house price of unit area=22.3<br>X2 house age=%{x}<br>sum of X4 number of convenience stores=%{y}<extra></extra>",
         "legendgroup": "22.3",
         "marker": {
          "color": "#ab63fa",
          "pattern": {
           "shape": ""
          }
         },
         "name": "22.3",
         "offsetgroup": "22.3",
         "orientation": "v",
         "showlegend": true,
         "type": "histogram",
         "x": [
          19,
          5.2
         ],
         "xaxis": "x",
         "y": [
          0,
          0
         ],
         "yaxis": "y"
        },
        {
         "alignmentgroup": "True",
         "bingroup": "x",
         "histfunc": "sum",
         "hovertemplate": "Y house price of unit area=15.0<br>X2 house age=%{x}<br>sum of X4 number of convenience stores=%{y}<extra></extra>",
         "legendgroup": "15.0",
         "marker": {
          "color": "#FFA15A",
          "pattern": {
           "shape": ""
          }
         },
         "name": "15.0",
         "offsetgroup": "15.0",
         "orientation": "v",
         "showlegend": true,
         "type": "histogram",
         "x": [
          18
         ],
         "xaxis": "x",
         "y": [
          1
         ],
         "yaxis": "y"
        },
        {
         "alignmentgroup": "True",
         "bingroup": "x",
         "histfunc": "sum",
         "hovertemplate": "Y house price of unit area=30.0<br>X2 house age=%{x}<br>sum of X4 number of convenience stores=%{y}<extra></extra>",
         "legendgroup": "30.0",
         "marker": {
          "color": "#19d3f3",
          "pattern": {
           "shape": ""
          }
         },
         "name": "30.0",
         "offsetgroup": "30.0",
         "orientation": "v",
         "showlegend": true,
         "type": "histogram",
         "x": [
          39.2
         ],
         "xaxis": "x",
         "y": [
          7
         ],
         "yaxis": "y"
        },
        {
         "alignmentgroup": "True",
         "bingroup": "x",
         "histfunc": "sum",
         "hovertemplate": "Y house price of unit area=13.8<br>X2 house age=%{x}<br>sum of X4 number of convenience stores=%{y}<extra></extra>",
         "legendgroup": "13.8",
         "marker": {
          "color": "#FF6692",
          "pattern": {
           "shape": ""
          }
         },
         "name": "13.8",
         "offsetgroup": "13.8",
         "orientation": "v",
         "showlegend": true,
         "type": "histogram",
         "x": [
          31.7
         ],
         "xaxis": "x",
         "y": [
          0
         ],
         "yaxis": "y"
        },
        {
         "alignmentgroup": "True",
         "bingroup": "x",
         "histfunc": "sum",
         "hovertemplate": "Y house price of unit area=52.7<br>X2 house age=%{x}<br>sum of X4 number of convenience stores=%{y}<extra></extra>",
         "legendgroup": "52.7",
         "marker": {
          "color": "#B6E880",
          "pattern": {
           "shape": ""
          }
         },
         "name": "52.7",
         "offsetgroup": "52.7",
         "orientation": "v",
         "showlegend": true,
         "type": "histogram",
         "x": [
          5.9
         ],
         "xaxis": "x",
         "y": [
          9
         ],
         "yaxis": "y"
        },
        {
         "alignmentgroup": "True",
         "bingroup": "x",
         "histfunc": "sum",
         "hovertemplate": "Y house price of unit area=25.9<br>X2 house age=%{x}<br>sum of X4 number of convenience stores=%{y}<extra></extra>",
         "legendgroup": "25.9",
         "marker": {
          "color": "#FF97FF",
          "pattern": {
           "shape": ""
          }
         },
         "name": "25.9",
         "offsetgroup": "25.9",
         "orientation": "v",
         "showlegend": true,
         "type": "histogram",
         "x": [
          30.4
         ],
         "xaxis": "x",
         "y": [
          2
         ],
         "yaxis": "y"
        },
        {
         "alignmentgroup": "True",
         "bingroup": "x",
         "histfunc": "sum",
         "hovertemplate": "Y house price of unit area=43.9<br>X2 house age=%{x}<br>sum of X4 number of convenience stores=%{y}<extra></extra>",
         "legendgroup": "43.9",
         "marker": {
          "color": "#FECB52",
          "pattern": {
           "shape": ""
          }
         },
         "name": "43.9",
         "offsetgroup": "43.9",
         "orientation": "v",
         "showlegend": true,
         "type": "histogram",
         "x": [
          17.3
         ],
         "xaxis": "x",
         "y": [
          1
         ],
         "yaxis": "y"
        },
        {
         "alignmentgroup": "True",
         "bingroup": "x",
         "histfunc": "sum",
         "hovertemplate": "Y house price of unit area=63.3<br>X2 house age=%{x}<br>sum of X4 number of convenience stores=%{y}<extra></extra>",
         "legendgroup": "63.3",
         "marker": {
          "color": "#636efa",
          "pattern": {
           "shape": ""
          }
         },
         "name": "63.3",
         "offsetgroup": "63.3",
         "orientation": "v",
         "showlegend": true,
         "type": "histogram",
         "x": [
          0,
          41.4
         ],
         "xaxis": "x",
         "y": [
          6,
          8
         ],
         "yaxis": "y"
        },
        {
         "alignmentgroup": "True",
         "bingroup": "x",
         "histfunc": "sum",
         "hovertemplate": "Y house price of unit area=24.4<br>X2 house age=%{x}<br>sum of X4 number of convenience stores=%{y}<extra></extra>",
         "legendgroup": "24.4",
         "marker": {
          "color": "#EF553B",
          "pattern": {
           "shape": ""
          }
         },
         "name": "24.4",
         "offsetgroup": "24.4",
         "orientation": "v",
         "showlegend": true,
         "type": "histogram",
         "x": [
          16.2
         ],
         "xaxis": "x",
         "y": [
          3
         ],
         "yaxis": "y"
        },
        {
         "alignmentgroup": "True",
         "bingroup": "x",
         "histfunc": "sum",
         "hovertemplate": "Y house price of unit area=53.0<br>X2 house age=%{x}<br>sum of X4 number of convenience stores=%{y}<extra></extra>",
         "legendgroup": "53.0",
         "marker": {
          "color": "#00cc96",
          "pattern": {
           "shape": ""
          }
         },
         "name": "53.0",
         "offsetgroup": "53.0",
         "orientation": "v",
         "showlegend": true,
         "type": "histogram",
         "x": [
          15.9,
          16.4
         ],
         "xaxis": "x",
         "y": [
          5,
          5
         ],
         "yaxis": "y"
        },
        {
         "alignmentgroup": "True",
         "bingroup": "x",
         "histfunc": "sum",
         "hovertemplate": "Y house price of unit area=31.7<br>X2 house age=%{x}<br>sum of X4 number of convenience stores=%{y}<extra></extra>",
         "legendgroup": "31.7",
         "marker": {
          "color": "#ab63fa",
          "pattern": {
           "shape": ""
          }
         },
         "name": "31.7",
         "offsetgroup": "31.7",
         "orientation": "v",
         "showlegend": true,
         "type": "histogram",
         "x": [
          3.9
         ],
         "xaxis": "x",
         "y": [
          3
         ],
         "yaxis": "y"
        },
        {
         "alignmentgroup": "True",
         "bingroup": "x",
         "histfunc": "sum",
         "hovertemplate": "Y house price of unit area=38.1<br>X2 house age=%{x}<br>sum of X4 number of convenience stores=%{y}<extra></extra>",
         "legendgroup": "38.1",
         "marker": {
          "color": "#FFA15A",
          "pattern": {
           "shape": ""
          }
         },
         "name": "38.1",
         "offsetgroup": "38.1",
         "orientation": "v",
         "showlegend": true,
         "type": "histogram",
         "x": [
          15.7,
          26.4,
          36.6
         ],
         "xaxis": "x",
         "y": [
          4,
          6,
          8
         ],
         "yaxis": "y"
        },
        {
         "alignmentgroup": "True",
         "bingroup": "x",
         "histfunc": "sum",
         "hovertemplate": "Y house price of unit area=23.7<br>X2 house age=%{x}<br>sum of X4 number of convenience stores=%{y}<extra></extra>",
         "legendgroup": "23.7",
         "marker": {
          "color": "#19d3f3",
          "pattern": {
           "shape": ""
          }
         },
         "name": "23.7",
         "offsetgroup": "23.7",
         "orientation": "v",
         "showlegend": true,
         "type": "histogram",
         "x": [
          17.8
         ],
         "xaxis": "x",
         "y": [
          3
         ],
         "yaxis": "y"
        },
        {
         "alignmentgroup": "True",
         "bingroup": "x",
         "histfunc": "sum",
         "hovertemplate": "Y house price of unit area=41.1<br>X2 house age=%{x}<br>sum of X4 number of convenience stores=%{y}<extra></extra>",
         "legendgroup": "41.1",
         "marker": {
          "color": "#FF6692",
          "pattern": {
           "shape": ""
          }
         },
         "name": "41.1",
         "offsetgroup": "41.1",
         "orientation": "v",
         "showlegend": true,
         "type": "histogram",
         "x": [
          34.7
         ],
         "xaxis": "x",
         "y": [
          5
         ],
         "yaxis": "y"
        },
        {
         "alignmentgroup": "True",
         "bingroup": "x",
         "histfunc": "sum",
         "hovertemplate": "Y house price of unit area=23.0<br>X2 house age=%{x}<br>sum of X4 number of convenience stores=%{y}<extra></extra>",
         "legendgroup": "23.0",
         "marker": {
          "color": "#B6E880",
          "pattern": {
           "shape": ""
          }
         },
         "name": "23.0",
         "offsetgroup": "23.0",
         "orientation": "v",
         "showlegend": true,
         "type": "histogram",
         "x": [
          17.6,
          14.7
         ],
         "xaxis": "x",
         "y": [
          0,
          2
         ],
         "yaxis": "y"
        },
        {
         "alignmentgroup": "True",
         "bingroup": "x",
         "histfunc": "sum",
         "hovertemplate": "Y house price of unit area=117.5<br>X2 house age=%{x}<br>sum of X4 number of convenience stores=%{y}<extra></extra>",
         "legendgroup": "117.5",
         "marker": {
          "color": "#FF97FF",
          "pattern": {
           "shape": ""
          }
         },
         "name": "117.5",
         "offsetgroup": "117.5",
         "orientation": "v",
         "showlegend": true,
         "type": "histogram",
         "x": [
          10.8
         ],
         "xaxis": "x",
         "y": [
          1
         ],
         "yaxis": "y"
        },
        {
         "alignmentgroup": "True",
         "bingroup": "x",
         "histfunc": "sum",
         "hovertemplate": "Y house price of unit area=40.5<br>X2 house age=%{x}<br>sum of X4 number of convenience stores=%{y}<extra></extra>",
         "legendgroup": "40.5",
         "marker": {
          "color": "#FECB52",
          "pattern": {
           "shape": ""
          }
         },
         "name": "40.5",
         "offsetgroup": "40.5",
         "orientation": "v",
         "showlegend": true,
         "type": "histogram",
         "x": [
          13,
          1.9
         ],
         "xaxis": "x",
         "y": [
          5,
          7
         ],
         "yaxis": "y"
        },
        {
         "alignmentgroup": "True",
         "bingroup": "x",
         "histfunc": "sum",
         "hovertemplate": "Y house price of unit area=49.7<br>X2 house age=%{x}<br>sum of X4 number of convenience stores=%{y}<extra></extra>",
         "legendgroup": "49.7",
         "marker": {
          "color": "#636efa",
          "pattern": {
           "shape": ""
          }
         },
         "name": "49.7",
         "offsetgroup": "49.7",
         "orientation": "v",
         "showlegend": true,
         "type": "histogram",
         "x": [
          1.5
         ],
         "xaxis": "x",
         "y": [
          7
         ],
         "yaxis": "y"
        },
        {
         "alignmentgroup": "True",
         "bingroup": "x",
         "histfunc": "sum",
         "hovertemplate": "Y house price of unit area=34.0<br>X2 house age=%{x}<br>sum of X4 number of convenience stores=%{y}<extra></extra>",
         "legendgroup": "34.0",
         "marker": {
          "color": "#EF553B",
          "pattern": {
           "shape": ""
          }
         },
         "name": "34.0",
         "offsetgroup": "34.0",
         "orientation": "v",
         "showlegend": true,
         "type": "histogram",
         "x": [
          19.1
         ],
         "xaxis": "x",
         "y": [
          5
         ],
         "yaxis": "y"
        },
        {
         "alignmentgroup": "True",
         "bingroup": "x",
         "histfunc": "sum",
         "hovertemplate": "Y house price of unit area=44.8<br>X2 house age=%{x}<br>sum of X4 number of convenience stores=%{y}<extra></extra>",
         "legendgroup": "44.8",
         "marker": {
          "color": "#00cc96",
          "pattern": {
           "shape": ""
          }
         },
         "name": "44.8",
         "offsetgroup": "44.8",
         "orientation": "v",
         "showlegend": true,
         "type": "histogram",
         "x": [
          4.7
         ],
         "xaxis": "x",
         "y": [
          9
         ],
         "yaxis": "y"
        },
        {
         "alignmentgroup": "True",
         "bingroup": "x",
         "histfunc": "sum",
         "hovertemplate": "Y house price of unit area=34.4<br>X2 house age=%{x}<br>sum of X4 number of convenience stores=%{y}<extra></extra>",
         "legendgroup": "34.4",
         "marker": {
          "color": "#ab63fa",
          "pattern": {
           "shape": ""
          }
         },
         "name": "34.4",
         "offsetgroup": "34.4",
         "orientation": "v",
         "showlegend": true,
         "type": "histogram",
         "x": [
          15
         ],
         "xaxis": "x",
         "y": [
          7
         ],
         "yaxis": "y"
        },
        {
         "alignmentgroup": "True",
         "bingroup": "x",
         "histfunc": "sum",
         "hovertemplate": "Y house price of unit area=55.3<br>X2 house age=%{x}<br>sum of X4 number of convenience stores=%{y}<extra></extra>",
         "legendgroup": "55.3",
         "marker": {
          "color": "#FFA15A",
          "pattern": {
           "shape": ""
          }
         },
         "name": "55.3",
         "offsetgroup": "55.3",
         "orientation": "v",
         "showlegend": true,
         "type": "histogram",
         "x": [
          30.1,
          0
         ],
         "xaxis": "x",
         "y": [
          3,
          0
         ],
         "yaxis": "y"
        },
        {
         "alignmentgroup": "True",
         "bingroup": "x",
         "histfunc": "sum",
         "hovertemplate": "Y house price of unit area=56.3<br>X2 house age=%{x}<br>sum of X4 number of convenience stores=%{y}<extra></extra>",
         "legendgroup": "56.3",
         "marker": {
          "color": "#19d3f3",
          "pattern": {
           "shape": ""
          }
         },
         "name": "56.3",
         "offsetgroup": "56.3",
         "orientation": "v",
         "showlegend": true,
         "type": "histogram",
         "x": [
          5.9
         ],
         "xaxis": "x",
         "y": [
          9
         ],
         "yaxis": "y"
        },
        {
         "alignmentgroup": "True",
         "bingroup": "x",
         "histfunc": "sum",
         "hovertemplate": "Y house price of unit area=44.5<br>X2 house age=%{x}<br>sum of X4 number of convenience stores=%{y}<extra></extra>",
         "legendgroup": "44.5",
         "marker": {
          "color": "#FF6692",
          "pattern": {
           "shape": ""
          }
         },
         "name": "44.5",
         "offsetgroup": "44.5",
         "orientation": "v",
         "showlegend": true,
         "type": "histogram",
         "x": [
          13.9
         ],
         "xaxis": "x",
         "y": [
          5
         ],
         "yaxis": "y"
        },
        {
         "alignmentgroup": "True",
         "bingroup": "x",
         "histfunc": "sum",
         "hovertemplate": "Y house price of unit area=37.0<br>X2 house age=%{x}<br>sum of X4 number of convenience stores=%{y}<extra></extra>",
         "legendgroup": "37.0",
         "marker": {
          "color": "#B6E880",
          "pattern": {
           "shape": ""
          }
         },
         "name": "37.0",
         "offsetgroup": "37.0",
         "orientation": "v",
         "showlegend": true,
         "type": "histogram",
         "x": [
          37.7,
          13
         ],
         "xaxis": "x",
         "y": [
          0,
          2
         ],
         "yaxis": "y"
        },
        {
         "alignmentgroup": "True",
         "bingroup": "x",
         "histfunc": "sum",
         "hovertemplate": "Y house price of unit area=24.5<br>X2 house age=%{x}<br>sum of X4 number of convenience stores=%{y}<extra></extra>",
         "legendgroup": "24.5",
         "marker": {
          "color": "#FF97FF",
          "pattern": {
           "shape": ""
          }
         },
         "name": "24.5",
         "offsetgroup": "24.5",
         "orientation": "v",
         "showlegend": true,
         "type": "histogram",
         "x": [
          17.5
         ],
         "xaxis": "x",
         "y": [
          5
         ],
         "yaxis": "y"
        },
        {
         "alignmentgroup": "True",
         "bingroup": "x",
         "histfunc": "sum",
         "hovertemplate": "Y house price of unit area=28.5<br>X2 house age=%{x}<br>sum of X4 number of convenience stores=%{y}<extra></extra>",
         "legendgroup": "28.5",
         "marker": {
          "color": "#FECB52",
          "pattern": {
           "shape": ""
          }
         },
         "name": "28.5",
         "offsetgroup": "28.5",
         "orientation": "v",
         "showlegend": true,
         "type": "histogram",
         "x": [
          34.9,
          12.7
         ],
         "xaxis": "x",
         "y": [
          4,
          1
         ],
         "yaxis": "y"
        },
        {
         "alignmentgroup": "True",
         "bingroup": "x",
         "histfunc": "sum",
         "hovertemplate": "Y house price of unit area=16.7<br>X2 house age=%{x}<br>sum of X4 number of convenience stores=%{y}<extra></extra>",
         "legendgroup": "16.7",
         "marker": {
          "color": "#636efa",
          "pattern": {
           "shape": ""
          }
         },
         "name": "16.7",
         "offsetgroup": "16.7",
         "orientation": "v",
         "showlegend": true,
         "type": "histogram",
         "x": [
          16.7
         ],
         "xaxis": "x",
         "y": [
          0
         ],
         "yaxis": "y"
        },
        {
         "alignmentgroup": "True",
         "bingroup": "x",
         "histfunc": "sum",
         "hovertemplate": "Y house price of unit area=36.9<br>X2 house age=%{x}<br>sum of X4 number of convenience stores=%{y}<extra></extra>",
         "legendgroup": "36.9",
         "marker": {
          "color": "#EF553B",
          "pattern": {
           "shape": ""
          }
         },
         "name": "36.9",
         "offsetgroup": "36.9",
         "orientation": "v",
         "showlegend": true,
         "type": "histogram",
         "x": [
          2.5
         ],
         "xaxis": "x",
         "y": [
          4
         ],
         "yaxis": "y"
        },
        {
         "alignmentgroup": "True",
         "bingroup": "x",
         "histfunc": "sum",
         "hovertemplate": "Y house price of unit area=35.7<br>X2 house age=%{x}<br>sum of X4 number of convenience stores=%{y}<extra></extra>",
         "legendgroup": "35.7",
         "marker": {
          "color": "#00cc96",
          "pattern": {
           "shape": ""
          }
         },
         "name": "35.7",
         "offsetgroup": "35.7",
         "orientation": "v",
         "showlegend": true,
         "type": "histogram",
         "x": [
          38
         ],
         "xaxis": "x",
         "y": [
          0
         ],
         "yaxis": "y"
        },
        {
         "alignmentgroup": "True",
         "bingroup": "x",
         "histfunc": "sum",
         "hovertemplate": "Y house price of unit area=23.2<br>X2 house age=%{x}<br>sum of X4 number of convenience stores=%{y}<extra></extra>",
         "legendgroup": "23.2",
         "marker": {
          "color": "#ab63fa",
          "pattern": {
           "shape": ""
          }
         },
         "name": "23.2",
         "offsetgroup": "23.2",
         "orientation": "v",
         "showlegend": true,
         "type": "histogram",
         "x": [
          16.5
         ],
         "xaxis": "x",
         "y": [
          3
         ],
         "yaxis": "y"
        },
        {
         "alignmentgroup": "True",
         "bingroup": "x",
         "histfunc": "sum",
         "hovertemplate": "Y house price of unit area=38.4<br>X2 house age=%{x}<br>sum of X4 number of convenience stores=%{y}<extra></extra>",
         "legendgroup": "38.4",
         "marker": {
          "color": "#FFA15A",
          "pattern": {
           "shape": ""
          }
         },
         "name": "38.4",
         "offsetgroup": "38.4",
         "orientation": "v",
         "showlegend": true,
         "type": "histogram",
         "x": [
          38.3,
          7.8
         ],
         "xaxis": "x",
         "y": [
          0,
          5
         ],
         "yaxis": "y"
        },
        {
         "alignmentgroup": "True",
         "bingroup": "x",
         "histfunc": "sum",
         "hovertemplate": "Y house price of unit area=29.4<br>X2 house age=%{x}<br>sum of X4 number of convenience stores=%{y}<extra></extra>",
         "legendgroup": "29.4",
         "marker": {
          "color": "#19d3f3",
          "pattern": {
           "shape": ""
          }
         },
         "name": "29.4",
         "offsetgroup": "29.4",
         "orientation": "v",
         "showlegend": true,
         "type": "histogram",
         "x": [
          20
         ],
         "xaxis": "x",
         "y": [
          3
         ],
         "yaxis": "y"
        },
        {
         "alignmentgroup": "True",
         "bingroup": "x",
         "histfunc": "sum",
         "hovertemplate": "Y house price of unit area=50.2<br>X2 house age=%{x}<br>sum of X4 number of convenience stores=%{y}<extra></extra>",
         "legendgroup": "50.2",
         "marker": {
          "color": "#FF6692",
          "pattern": {
           "shape": ""
          }
         },
         "name": "50.2",
         "offsetgroup": "50.2",
         "orientation": "v",
         "showlegend": true,
         "type": "histogram",
         "x": [
          14.4
         ],
         "xaxis": "x",
         "y": [
          1
         ],
         "yaxis": "y"
        },
        {
         "alignmentgroup": "True",
         "bingroup": "x",
         "histfunc": "sum",
         "hovertemplate": "Y house price of unit area=24.7<br>X2 house age=%{x}<br>sum of X4 number of convenience stores=%{y}<extra></extra>",
         "legendgroup": "24.7",
         "marker": {
          "color": "#B6E880",
          "pattern": {
           "shape": ""
          }
         },
         "name": "24.7",
         "offsetgroup": "24.7",
         "orientation": "v",
         "showlegend": true,
         "type": "histogram",
         "x": [
          10.3,
          16.4,
          5.6,
          32.6
         ],
         "xaxis": "x",
         "y": [
          0,
          2,
          0,
          1
         ],
         "yaxis": "y"
        },
        {
         "alignmentgroup": "True",
         "bingroup": "x",
         "histfunc": "sum",
         "hovertemplate": "Y house price of unit area=19.1<br>X2 house age=%{x}<br>sum of X4 number of convenience stores=%{y}<extra></extra>",
         "legendgroup": "19.1",
         "marker": {
          "color": "#FF97FF",
          "pattern": {
           "shape": ""
          }
         },
         "name": "19.1",
         "offsetgroup": "19.1",
         "orientation": "v",
         "showlegend": true,
         "type": "histogram",
         "x": [
          30.3
         ],
         "xaxis": "x",
         "y": [
          0
         ],
         "yaxis": "y"
        },
        {
         "alignmentgroup": "True",
         "bingroup": "x",
         "histfunc": "sum",
         "hovertemplate": "Y house price of unit area=78.0<br>X2 house age=%{x}<br>sum of X4 number of convenience stores=%{y}<extra></extra>",
         "legendgroup": "78.0",
         "marker": {
          "color": "#FECB52",
          "pattern": {
           "shape": ""
          }
         },
         "name": "78.0",
         "offsetgroup": "78.0",
         "orientation": "v",
         "showlegend": true,
         "type": "histogram",
         "x": [
          35.4
         ],
         "xaxis": "x",
         "y": [
          9
         ],
         "yaxis": "y"
        },
        {
         "alignmentgroup": "True",
         "bingroup": "x",
         "histfunc": "sum",
         "hovertemplate": "Y house price of unit area=42.8<br>X2 house age=%{x}<br>sum of X4 number of convenience stores=%{y}<extra></extra>",
         "legendgroup": "42.8",
         "marker": {
          "color": "#636efa",
          "pattern": {
           "shape": ""
          }
         },
         "name": "42.8",
         "offsetgroup": "42.8",
         "orientation": "v",
         "showlegend": true,
         "type": "histogram",
         "x": [
          8.3
         ],
         "xaxis": "x",
         "y": [
          5
         ],
         "yaxis": "y"
        },
        {
         "alignmentgroup": "True",
         "bingroup": "x",
         "histfunc": "sum",
         "hovertemplate": "Y house price of unit area=41.6<br>X2 house age=%{x}<br>sum of X4 number of convenience stores=%{y}<extra></extra>",
         "legendgroup": "41.6",
         "marker": {
          "color": "#EF553B",
          "pattern": {
           "shape": ""
          }
         },
         "name": "41.6",
         "offsetgroup": "41.6",
         "orientation": "v",
         "showlegend": true,
         "type": "histogram",
         "x": [
          3.7
         ],
         "xaxis": "x",
         "y": [
          6
         ],
         "yaxis": "y"
        },
        {
         "alignmentgroup": "True",
         "bingroup": "x",
         "histfunc": "sum",
         "hovertemplate": "Y house price of unit area=49.8<br>X2 house age=%{x}<br>sum of X4 number of convenience stores=%{y}<extra></extra>",
         "legendgroup": "49.8",
         "marker": {
          "color": "#00cc96",
          "pattern": {
           "shape": ""
          }
         },
         "name": "49.8",
         "offsetgroup": "49.8",
         "orientation": "v",
         "showlegend": true,
         "type": "histogram",
         "x": [
          7.1
         ],
         "xaxis": "x",
         "y": [
          10
         ],
         "yaxis": "y"
        },
        {
         "alignmentgroup": "True",
         "bingroup": "x",
         "histfunc": "sum",
         "hovertemplate": "Y house price of unit area=26.9<br>X2 house age=%{x}<br>sum of X4 number of convenience stores=%{y}<extra></extra>",
         "legendgroup": "26.9",
         "marker": {
          "color": "#ab63fa",
          "pattern": {
           "shape": ""
          }
         },
         "name": "26.9",
         "offsetgroup": "26.9",
         "orientation": "v",
         "showlegend": true,
         "type": "histogram",
         "x": [
          34.6
         ],
         "xaxis": "x",
         "y": [
          5
         ],
         "yaxis": "y"
        },
        {
         "alignmentgroup": "True",
         "bingroup": "x",
         "histfunc": "sum",
         "hovertemplate": "Y house price of unit area=18.6<br>X2 house age=%{x}<br>sum of X4 number of convenience stores=%{y}<extra></extra>",
         "legendgroup": "18.6",
         "marker": {
          "color": "#FFA15A",
          "pattern": {
           "shape": ""
          }
         },
         "name": "18.6",
         "offsetgroup": "18.6",
         "orientation": "v",
         "showlegend": true,
         "type": "histogram",
         "x": [
          13.5
         ],
         "xaxis": "x",
         "y": [
          0
         ],
         "yaxis": "y"
        },
        {
         "alignmentgroup": "True",
         "bingroup": "x",
         "histfunc": "sum",
         "hovertemplate": "Y house price of unit area=37.7<br>X2 house age=%{x}<br>sum of X4 number of convenience stores=%{y}<extra></extra>",
         "legendgroup": "37.7",
         "marker": {
          "color": "#19d3f3",
          "pattern": {
           "shape": ""
          }
         },
         "name": "37.7",
         "offsetgroup": "37.7",
         "orientation": "v",
         "showlegend": true,
         "type": "histogram",
         "x": [
          16.9
         ],
         "xaxis": "x",
         "y": [
          4
         ],
         "yaxis": "y"
        },
        {
         "alignmentgroup": "True",
         "bingroup": "x",
         "histfunc": "sum",
         "hovertemplate": "Y house price of unit area=33.1<br>X2 house age=%{x}<br>sum of X4 number of convenience stores=%{y}<extra></extra>",
         "legendgroup": "33.1",
         "marker": {
          "color": "#FF6692",
          "pattern": {
           "shape": ""
          }
         },
         "name": "33.1",
         "offsetgroup": "33.1",
         "orientation": "v",
         "showlegend": true,
         "type": "histogram",
         "x": [
          12.9,
          35.3
         ],
         "xaxis": "x",
         "y": [
          1,
          7
         ],
         "yaxis": "y"
        },
        {
         "alignmentgroup": "True",
         "bingroup": "x",
         "histfunc": "sum",
         "hovertemplate": "Y house price of unit area=62.1<br>X2 house age=%{x}<br>sum of X4 number of convenience stores=%{y}<extra></extra>",
         "legendgroup": "62.1",
         "marker": {
          "color": "#B6E880",
          "pattern": {
           "shape": ""
          }
         },
         "name": "62.1",
         "offsetgroup": "62.1",
         "orientation": "v",
         "showlegend": true,
         "type": "histogram",
         "x": [
          4.1
         ],
         "xaxis": "x",
         "y": [
          7
         ],
         "yaxis": "y"
        },
        {
         "alignmentgroup": "True",
         "bingroup": "x",
         "histfunc": "sum",
         "hovertemplate": "Y house price of unit area=22.8<br>X2 house age=%{x}<br>sum of X4 number of convenience stores=%{y}<extra></extra>",
         "legendgroup": "22.8",
         "marker": {
          "color": "#FF97FF",
          "pattern": {
           "shape": ""
          }
         },
         "name": "22.8",
         "offsetgroup": "22.8",
         "orientation": "v",
         "showlegend": true,
         "type": "histogram",
         "x": [
          30,
          20.2
         ],
         "xaxis": "x",
         "y": [
          5,
          3
         ],
         "yaxis": "y"
        },
        {
         "alignmentgroup": "True",
         "bingroup": "x",
         "histfunc": "sum",
         "hovertemplate": "Y house price of unit area=30.9<br>X2 house age=%{x}<br>sum of X4 number of convenience stores=%{y}<extra></extra>",
         "legendgroup": "30.9",
         "marker": {
          "color": "#FECB52",
          "pattern": {
           "shape": ""
          }
         },
         "name": "30.9",
         "offsetgroup": "30.9",
         "orientation": "v",
         "showlegend": true,
         "type": "histogram",
         "x": [
          31.3
         ],
         "xaxis": "x",
         "y": [
          5
         ],
         "yaxis": "y"
        },
        {
         "alignmentgroup": "True",
         "bingroup": "x",
         "histfunc": "sum",
         "hovertemplate": "Y house price of unit area=50.4<br>X2 house age=%{x}<br>sum of X4 number of convenience stores=%{y}<extra></extra>",
         "legendgroup": "50.4",
         "marker": {
          "color": "#636efa",
          "pattern": {
           "shape": ""
          }
         },
         "name": "50.4",
         "offsetgroup": "50.4",
         "orientation": "v",
         "showlegend": true,
         "type": "histogram",
         "x": [
          1.7
         ],
         "xaxis": "x",
         "y": [
          5
         ],
         "yaxis": "y"
        },
        {
         "alignmentgroup": "True",
         "bingroup": "x",
         "histfunc": "sum",
         "hovertemplate": "Y house price of unit area=42.9<br>X2 house age=%{x}<br>sum of X4 number of convenience stores=%{y}<extra></extra>",
         "legendgroup": "42.9",
         "marker": {
          "color": "#EF553B",
          "pattern": {
           "shape": ""
          }
         },
         "name": "42.9",
         "offsetgroup": "42.9",
         "orientation": "v",
         "showlegend": true,
         "type": "histogram",
         "x": [
          33.6
         ],
         "xaxis": "x",
         "y": [
          0
         ],
         "yaxis": "y"
        },
        {
         "alignmentgroup": "True",
         "bingroup": "x",
         "histfunc": "sum",
         "hovertemplate": "Y house price of unit area=41.2<br>X2 house age=%{x}<br>sum of X4 number of convenience stores=%{y}<extra></extra>",
         "legendgroup": "41.2",
         "marker": {
          "color": "#00cc96",
          "pattern": {
           "shape": ""
          }
         },
         "name": "41.2",
         "offsetgroup": "41.2",
         "orientation": "v",
         "showlegend": true,
         "type": "histogram",
         "x": [
          34.6,
          16.4
         ],
         "xaxis": "x",
         "y": [
          0,
          5
         ],
         "yaxis": "y"
        },
        {
         "alignmentgroup": "True",
         "bingroup": "x",
         "histfunc": "sum",
         "hovertemplate": "Y house price of unit area=30.8<br>X2 house age=%{x}<br>sum of X4 number of convenience stores=%{y}<extra></extra>",
         "legendgroup": "30.8",
         "marker": {
          "color": "#ab63fa",
          "pattern": {
           "shape": ""
          }
         },
         "name": "30.8",
         "offsetgroup": "30.8",
         "orientation": "v",
         "showlegend": true,
         "type": "histogram",
         "x": [
          13.2
         ],
         "xaxis": "x",
         "y": [
          2
         ],
         "yaxis": "y"
        },
        {
         "alignmentgroup": "True",
         "bingroup": "x",
         "histfunc": "sum",
         "hovertemplate": "Y house price of unit area=11.2<br>X2 house age=%{x}<br>sum of X4 number of convenience stores=%{y}<extra></extra>",
         "legendgroup": "11.2",
         "marker": {
          "color": "#FFA15A",
          "pattern": {
           "shape": ""
          }
         },
         "name": "11.2",
         "offsetgroup": "11.2",
         "orientation": "v",
         "showlegend": true,
         "type": "histogram",
         "x": [
          17.4
         ],
         "xaxis": "x",
         "y": [
          1
         ],
         "yaxis": "y"
        },
        {
         "alignmentgroup": "True",
         "bingroup": "x",
         "histfunc": "sum",
         "hovertemplate": "Y house price of unit area=53.7<br>X2 house age=%{x}<br>sum of X4 number of convenience stores=%{y}<extra></extra>",
         "legendgroup": "53.7",
         "marker": {
          "color": "#19d3f3",
          "pattern": {
           "shape": ""
          }
         },
         "name": "53.7",
         "offsetgroup": "53.7",
         "orientation": "v",
         "showlegend": true,
         "type": "histogram",
         "x": [
          4.6
         ],
         "xaxis": "x",
         "y": [
          6
         ],
         "yaxis": "y"
        },
        {
         "alignmentgroup": "True",
         "bingroup": "x",
         "histfunc": "sum",
         "hovertemplate": "Y house price of unit area=28.6<br>X2 house age=%{x}<br>sum of X4 number of convenience stores=%{y}<extra></extra>",
         "legendgroup": "28.6",
         "marker": {
          "color": "#FF6692",
          "pattern": {
           "shape": ""
          }
         },
         "name": "28.6",
         "offsetgroup": "28.6",
         "orientation": "v",
         "showlegend": true,
         "type": "histogram",
         "x": [
          4
         ],
         "xaxis": "x",
         "y": [
          3
         ],
         "yaxis": "y"
        },
        {
         "alignmentgroup": "True",
         "bingroup": "x",
         "histfunc": "sum",
         "hovertemplate": "Y house price of unit area=30.1<br>X2 house age=%{x}<br>sum of X4 number of convenience stores=%{y}<extra></extra>",
         "legendgroup": "30.1",
         "marker": {
          "color": "#B6E880",
          "pattern": {
           "shape": ""
          }
         },
         "name": "30.1",
         "offsetgroup": "30.1",
         "orientation": "v",
         "showlegend": true,
         "type": "histogram",
         "x": [
          12.2
         ],
         "xaxis": "x",
         "y": [
          1
         ],
         "yaxis": "y"
        },
        {
         "alignmentgroup": "True",
         "bingroup": "x",
         "histfunc": "sum",
         "hovertemplate": "Y house price of unit area=45.3<br>X2 house age=%{x}<br>sum of X4 number of convenience stores=%{y}<extra></extra>",
         "legendgroup": "45.3",
         "marker": {
          "color": "#FF97FF",
          "pattern": {
           "shape": ""
          }
         },
         "name": "45.3",
         "offsetgroup": "45.3",
         "orientation": "v",
         "showlegend": true,
         "type": "histogram",
         "x": [
          10.3
         ],
         "xaxis": "x",
         "y": [
          1
         ],
         "yaxis": "y"
        },
        {
         "alignmentgroup": "True",
         "bingroup": "x",
         "histfunc": "sum",
         "hovertemplate": "Y house price of unit area=44.9<br>X2 house age=%{x}<br>sum of X4 number of convenience stores=%{y}<extra></extra>",
         "legendgroup": "44.9",
         "marker": {
          "color": "#FECB52",
          "pattern": {
           "shape": ""
          }
         },
         "name": "44.9",
         "offsetgroup": "44.9",
         "orientation": "v",
         "showlegend": true,
         "type": "histogram",
         "x": [
          0
         ],
         "xaxis": "x",
         "y": [
          9
         ],
         "yaxis": "y"
        },
        {
         "alignmentgroup": "True",
         "bingroup": "x",
         "histfunc": "sum",
         "hovertemplate": "Y house price of unit area=40.0<br>X2 house age=%{x}<br>sum of X4 number of convenience stores=%{y}<extra></extra>",
         "legendgroup": "40.0",
         "marker": {
          "color": "#636efa",
          "pattern": {
           "shape": ""
          }
         },
         "name": "40.0",
         "offsetgroup": "40.0",
         "orientation": "v",
         "showlegend": true,
         "type": "histogram",
         "x": [
          17.1
         ],
         "xaxis": "x",
         "y": [
          4
         ],
         "yaxis": "y"
        },
        {
         "alignmentgroup": "True",
         "bingroup": "x",
         "histfunc": "sum",
         "hovertemplate": "Y house price of unit area=24.8<br>X2 house age=%{x}<br>sum of X4 number of convenience stores=%{y}<extra></extra>",
         "legendgroup": "24.8",
         "marker": {
          "color": "#EF553B",
          "pattern": {
           "shape": ""
          }
         },
         "name": "24.8",
         "offsetgroup": "24.8",
         "orientation": "v",
         "showlegend": true,
         "type": "histogram",
         "x": [
          14.2
         ],
         "xaxis": "x",
         "y": [
          1
         ],
         "yaxis": "y"
        },
        {
         "alignmentgroup": "True",
         "bingroup": "x",
         "histfunc": "sum",
         "hovertemplate": "Y house price of unit area=42.1<br>X2 house age=%{x}<br>sum of X4 number of convenience stores=%{y}<extra></extra>",
         "legendgroup": "42.1",
         "marker": {
          "color": "#00cc96",
          "pattern": {
           "shape": ""
          }
         },
         "name": "42.1",
         "offsetgroup": "42.1",
         "orientation": "v",
         "showlegend": true,
         "type": "histogram",
         "x": [
          15.9
         ],
         "xaxis": "x",
         "y": [
          5
         ],
         "yaxis": "y"
        },
        {
         "alignmentgroup": "True",
         "bingroup": "x",
         "histfunc": "sum",
         "hovertemplate": "Y house price of unit area=41.5<br>X2 house age=%{x}<br>sum of X4 number of convenience stores=%{y}<extra></extra>",
         "legendgroup": "41.5",
         "marker": {
          "color": "#ab63fa",
          "pattern": {
           "shape": ""
          }
         },
         "name": "41.5",
         "offsetgroup": "41.5",
         "orientation": "v",
         "showlegend": true,
         "type": "histogram",
         "x": [
          33.9
         ],
         "xaxis": "x",
         "y": [
          7
         ],
         "yaxis": "y"
        },
        {
         "alignmentgroup": "True",
         "bingroup": "x",
         "histfunc": "sum",
         "hovertemplate": "Y house price of unit area=49.5<br>X2 house age=%{x}<br>sum of X4 number of convenience stores=%{y}<extra></extra>",
         "legendgroup": "49.5",
         "marker": {
          "color": "#FFA15A",
          "pattern": {
           "shape": ""
          }
         },
         "name": "49.5",
         "offsetgroup": "49.5",
         "orientation": "v",
         "showlegend": true,
         "type": "histogram",
         "x": [
          5.4
         ],
         "xaxis": "x",
         "y": [
          5
         ],
         "yaxis": "y"
        },
        {
         "alignmentgroup": "True",
         "bingroup": "x",
         "histfunc": "sum",
         "hovertemplate": "Y house price of unit area=69.7<br>X2 house age=%{x}<br>sum of X4 number of convenience stores=%{y}<extra></extra>",
         "legendgroup": "69.7",
         "marker": {
          "color": "#19d3f3",
          "pattern": {
           "shape": ""
          }
         },
         "name": "69.7",
         "offsetgroup": "69.7",
         "orientation": "v",
         "showlegend": true,
         "type": "histogram",
         "x": [
          0
         ],
         "xaxis": "x",
         "y": [
          6
         ],
         "yaxis": "y"
        },
        {
         "alignmentgroup": "True",
         "bingroup": "x",
         "histfunc": "sum",
         "hovertemplate": "Y house price of unit area=12.9<br>X2 house age=%{x}<br>sum of X4 number of convenience stores=%{y}<extra></extra>",
         "legendgroup": "12.9",
         "marker": {
          "color": "#FF6692",
          "pattern": {
           "shape": ""
          }
         },
         "name": "12.9",
         "offsetgroup": "12.9",
         "orientation": "v",
         "showlegend": true,
         "type": "histogram",
         "x": [
          16.1
         ],
         "xaxis": "x",
         "y": [
          0
         ],
         "yaxis": "y"
        },
        {
         "alignmentgroup": "True",
         "bingroup": "x",
         "histfunc": "sum",
         "hovertemplate": "Y house price of unit area=67.7<br>X2 house age=%{x}<br>sum of X4 number of convenience stores=%{y}<extra></extra>",
         "legendgroup": "67.7",
         "marker": {
          "color": "#B6E880",
          "pattern": {
           "shape": ""
          }
         },
         "name": "67.7",
         "offsetgroup": "67.7",
         "orientation": "v",
         "showlegend": true,
         "type": "histogram",
         "x": [
          40.9
         ],
         "xaxis": "x",
         "y": [
          8
         ],
         "yaxis": "y"
        },
        {
         "alignmentgroup": "True",
         "bingroup": "x",
         "histfunc": "sum",
         "hovertemplate": "Y house price of unit area=38.6<br>X2 house age=%{x}<br>sum of X4 number of convenience stores=%{y}<extra></extra>",
         "legendgroup": "38.6",
         "marker": {
          "color": "#FF97FF",
          "pattern": {
           "shape": ""
          }
         },
         "name": "38.6",
         "offsetgroup": "38.6",
         "orientation": "v",
         "showlegend": true,
         "type": "histogram",
         "x": [
          32.8
         ],
         "xaxis": "x",
         "y": [
          9
         ],
         "yaxis": "y"
        },
        {
         "alignmentgroup": "True",
         "bingroup": "x",
         "histfunc": "sum",
         "hovertemplate": "Y house price of unit area=35.3<br>X2 house age=%{x}<br>sum of X4 number of convenience stores=%{y}<extra></extra>",
         "legendgroup": "35.3",
         "marker": {
          "color": "#FECB52",
          "pattern": {
           "shape": ""
          }
         },
         "name": "35.3",
         "offsetgroup": "35.3",
         "orientation": "v",
         "showlegend": true,
         "type": "histogram",
         "x": [
          42.7
         ],
         "xaxis": "x",
         "y": [
          6
         ],
         "yaxis": "y"
        },
        {
         "alignmentgroup": "True",
         "bingroup": "x",
         "histfunc": "sum",
         "hovertemplate": "Y house price of unit area=31.9<br>X2 house age=%{x}<br>sum of X4 number of convenience stores=%{y}<extra></extra>",
         "legendgroup": "31.9",
         "marker": {
          "color": "#636efa",
          "pattern": {
           "shape": ""
          }
         },
         "name": "31.9",
         "offsetgroup": "31.9",
         "orientation": "v",
         "showlegend": true,
         "type": "histogram",
         "x": [
          37.1
         ],
         "xaxis": "x",
         "y": [
          1
         ],
         "yaxis": "y"
        },
        {
         "alignmentgroup": "True",
         "bingroup": "x",
         "histfunc": "sum",
         "hovertemplate": "Y house price of unit area=32.2<br>X2 house age=%{x}<br>sum of X4 number of convenience stores=%{y}<extra></extra>",
         "legendgroup": "32.2",
         "marker": {
          "color": "#EF553B",
          "pattern": {
           "shape": ""
          }
         },
         "name": "32.2",
         "offsetgroup": "32.2",
         "orientation": "v",
         "showlegend": true,
         "type": "histogram",
         "x": [
          13.1
         ],
         "xaxis": "x",
         "y": [
          4
         ],
         "yaxis": "y"
        },
        {
         "alignmentgroup": "True",
         "bingroup": "x",
         "histfunc": "sum",
         "hovertemplate": "Y house price of unit area=37.3<br>X2 house age=%{x}<br>sum of X4 number of convenience stores=%{y}<extra></extra>",
         "legendgroup": "37.3",
         "marker": {
          "color": "#00cc96",
          "pattern": {
           "shape": ""
          }
         },
         "name": "37.3",
         "offsetgroup": "37.3",
         "orientation": "v",
         "showlegend": true,
         "type": "histogram",
         "x": [
          12.7
         ],
         "xaxis": "x",
         "y": [
          1
         ],
         "yaxis": "y"
        },
        {
         "alignmentgroup": "True",
         "bingroup": "x",
         "histfunc": "sum",
         "hovertemplate": "Y house price of unit area=35.5<br>X2 house age=%{x}<br>sum of X4 number of convenience stores=%{y}<extra></extra>",
         "legendgroup": "35.5",
         "marker": {
          "color": "#ab63fa",
          "pattern": {
           "shape": ""
          }
         },
         "name": "35.5",
         "offsetgroup": "35.5",
         "orientation": "v",
         "showlegend": true,
         "type": "histogram",
         "x": [
          26.8
         ],
         "xaxis": "x",
         "y": [
          5
         ],
         "yaxis": "y"
        },
        {
         "alignmentgroup": "True",
         "bingroup": "x",
         "histfunc": "sum",
         "hovertemplate": "Y house price of unit area=37.2<br>X2 house age=%{x}<br>sum of X4 number of convenience stores=%{y}<extra></extra>",
         "legendgroup": "37.2",
         "marker": {
          "color": "#FFA15A",
          "pattern": {
           "shape": ""
          }
         },
         "name": "37.2",
         "offsetgroup": "37.2",
         "orientation": "v",
         "showlegend": true,
         "type": "histogram",
         "x": [
          23
         ],
         "xaxis": "x",
         "y": [
          6
         ],
         "yaxis": "y"
        },
        {
         "alignmentgroup": "True",
         "bingroup": "x",
         "histfunc": "sum",
         "hovertemplate": "Y house price of unit area=28.1<br>X2 house age=%{x}<br>sum of X4 number of convenience stores=%{y}<extra></extra>",
         "legendgroup": "28.1",
         "marker": {
          "color": "#19d3f3",
          "pattern": {
           "shape": ""
          }
         },
         "name": "28.1",
         "offsetgroup": "28.1",
         "orientation": "v",
         "showlegend": true,
         "type": "histogram",
         "x": [
          18.5
         ],
         "xaxis": "x",
         "y": [
          3
         ],
         "yaxis": "y"
        },
        {
         "alignmentgroup": "True",
         "bingroup": "x",
         "histfunc": "sum",
         "hovertemplate": "Y house price of unit area=15.4<br>X2 house age=%{x}<br>sum of X4 number of convenience stores=%{y}<extra></extra>",
         "legendgroup": "15.4",
         "marker": {
          "color": "#FF6692",
          "pattern": {
           "shape": ""
          }
         },
         "name": "15.4",
         "offsetgroup": "15.4",
         "orientation": "v",
         "showlegend": true,
         "type": "histogram",
         "x": [
          13.7
         ],
         "xaxis": "x",
         "y": [
          0
         ],
         "yaxis": "y"
        },
        {
         "alignmentgroup": "True",
         "bingroup": "x",
         "histfunc": "sum",
         "hovertemplate": "Y house price of unit area=50.0<br>X2 house age=%{x}<br>sum of X4 number of convenience stores=%{y}<extra></extra>",
         "legendgroup": "50.0",
         "marker": {
          "color": "#B6E880",
          "pattern": {
           "shape": ""
          }
         },
         "name": "50.0",
         "offsetgroup": "50.0",
         "orientation": "v",
         "showlegend": true,
         "type": "histogram",
         "x": [
          5.6
         ],
         "xaxis": "x",
         "y": [
          9
         ],
         "yaxis": "y"
        },
        {
         "alignmentgroup": "True",
         "bingroup": "x",
         "histfunc": "sum",
         "hovertemplate": "Y house price of unit area=52.5<br>X2 house age=%{x}<br>sum of X4 number of convenience stores=%{y}<extra></extra>",
         "legendgroup": "52.5",
         "marker": {
          "color": "#FF97FF",
          "pattern": {
           "shape": ""
          }
         },
         "name": "52.5",
         "offsetgroup": "52.5",
         "orientation": "v",
         "showlegend": true,
         "type": "histogram",
         "x": [
          8.1
         ],
         "xaxis": "x",
         "y": [
          5
         ],
         "yaxis": "y"
        },
        {
         "alignmentgroup": "True",
         "bingroup": "x",
         "histfunc": "sum",
         "hovertemplate": "Y house price of unit area=63.9<br>X2 house age=%{x}<br>sum of X4 number of convenience stores=%{y}<extra></extra>",
         "legendgroup": "63.9",
         "marker": {
          "color": "#FECB52",
          "pattern": {
           "shape": ""
          }
         },
         "name": "63.9",
         "offsetgroup": "63.9",
         "orientation": "v",
         "showlegend": true,
         "type": "histogram",
         "x": [
          6.5
         ],
         "xaxis": "x",
         "y": [
          9
         ],
         "yaxis": "y"
        }
       ],
       "layout": {
        "barmode": "relative",
        "legend": {
         "title": {
          "text": "Y house price of unit area"
         },
         "tracegroupgap": 0
        },
        "margin": {
         "t": 60
        },
        "template": {
         "data": {
          "bar": [
           {
            "error_x": {
             "color": "#2a3f5f"
            },
            "error_y": {
             "color": "#2a3f5f"
            },
            "marker": {
             "line": {
              "color": "#E5ECF6",
              "width": 0.5
             },
             "pattern": {
              "fillmode": "overlay",
              "size": 10,
              "solidity": 0.2
             }
            },
            "type": "bar"
           }
          ],
          "barpolar": [
           {
            "marker": {
             "line": {
              "color": "#E5ECF6",
              "width": 0.5
             },
             "pattern": {
              "fillmode": "overlay",
              "size": 10,
              "solidity": 0.2
             }
            },
            "type": "barpolar"
           }
          ],
          "carpet": [
           {
            "aaxis": {
             "endlinecolor": "#2a3f5f",
             "gridcolor": "white",
             "linecolor": "white",
             "minorgridcolor": "white",
             "startlinecolor": "#2a3f5f"
            },
            "baxis": {
             "endlinecolor": "#2a3f5f",
             "gridcolor": "white",
             "linecolor": "white",
             "minorgridcolor": "white",
             "startlinecolor": "#2a3f5f"
            },
            "type": "carpet"
           }
          ],
          "choropleth": [
           {
            "colorbar": {
             "outlinewidth": 0,
             "ticks": ""
            },
            "type": "choropleth"
           }
          ],
          "contour": [
           {
            "colorbar": {
             "outlinewidth": 0,
             "ticks": ""
            },
            "colorscale": [
             [
              0,
              "#0d0887"
             ],
             [
              0.1111111111111111,
              "#46039f"
             ],
             [
              0.2222222222222222,
              "#7201a8"
             ],
             [
              0.3333333333333333,
              "#9c179e"
             ],
             [
              0.4444444444444444,
              "#bd3786"
             ],
             [
              0.5555555555555556,
              "#d8576b"
             ],
             [
              0.6666666666666666,
              "#ed7953"
             ],
             [
              0.7777777777777778,
              "#fb9f3a"
             ],
             [
              0.8888888888888888,
              "#fdca26"
             ],
             [
              1,
              "#f0f921"
             ]
            ],
            "type": "contour"
           }
          ],
          "contourcarpet": [
           {
            "colorbar": {
             "outlinewidth": 0,
             "ticks": ""
            },
            "type": "contourcarpet"
           }
          ],
          "heatmap": [
           {
            "colorbar": {
             "outlinewidth": 0,
             "ticks": ""
            },
            "colorscale": [
             [
              0,
              "#0d0887"
             ],
             [
              0.1111111111111111,
              "#46039f"
             ],
             [
              0.2222222222222222,
              "#7201a8"
             ],
             [
              0.3333333333333333,
              "#9c179e"
             ],
             [
              0.4444444444444444,
              "#bd3786"
             ],
             [
              0.5555555555555556,
              "#d8576b"
             ],
             [
              0.6666666666666666,
              "#ed7953"
             ],
             [
              0.7777777777777778,
              "#fb9f3a"
             ],
             [
              0.8888888888888888,
              "#fdca26"
             ],
             [
              1,
              "#f0f921"
             ]
            ],
            "type": "heatmap"
           }
          ],
          "heatmapgl": [
           {
            "colorbar": {
             "outlinewidth": 0,
             "ticks": ""
            },
            "colorscale": [
             [
              0,
              "#0d0887"
             ],
             [
              0.1111111111111111,
              "#46039f"
             ],
             [
              0.2222222222222222,
              "#7201a8"
             ],
             [
              0.3333333333333333,
              "#9c179e"
             ],
             [
              0.4444444444444444,
              "#bd3786"
             ],
             [
              0.5555555555555556,
              "#d8576b"
             ],
             [
              0.6666666666666666,
              "#ed7953"
             ],
             [
              0.7777777777777778,
              "#fb9f3a"
             ],
             [
              0.8888888888888888,
              "#fdca26"
             ],
             [
              1,
              "#f0f921"
             ]
            ],
            "type": "heatmapgl"
           }
          ],
          "histogram": [
           {
            "marker": {
             "pattern": {
              "fillmode": "overlay",
              "size": 10,
              "solidity": 0.2
             }
            },
            "type": "histogram"
           }
          ],
          "histogram2d": [
           {
            "colorbar": {
             "outlinewidth": 0,
             "ticks": ""
            },
            "colorscale": [
             [
              0,
              "#0d0887"
             ],
             [
              0.1111111111111111,
              "#46039f"
             ],
             [
              0.2222222222222222,
              "#7201a8"
             ],
             [
              0.3333333333333333,
              "#9c179e"
             ],
             [
              0.4444444444444444,
              "#bd3786"
             ],
             [
              0.5555555555555556,
              "#d8576b"
             ],
             [
              0.6666666666666666,
              "#ed7953"
             ],
             [
              0.7777777777777778,
              "#fb9f3a"
             ],
             [
              0.8888888888888888,
              "#fdca26"
             ],
             [
              1,
              "#f0f921"
             ]
            ],
            "type": "histogram2d"
           }
          ],
          "histogram2dcontour": [
           {
            "colorbar": {
             "outlinewidth": 0,
             "ticks": ""
            },
            "colorscale": [
             [
              0,
              "#0d0887"
             ],
             [
              0.1111111111111111,
              "#46039f"
             ],
             [
              0.2222222222222222,
              "#7201a8"
             ],
             [
              0.3333333333333333,
              "#9c179e"
             ],
             [
              0.4444444444444444,
              "#bd3786"
             ],
             [
              0.5555555555555556,
              "#d8576b"
             ],
             [
              0.6666666666666666,
              "#ed7953"
             ],
             [
              0.7777777777777778,
              "#fb9f3a"
             ],
             [
              0.8888888888888888,
              "#fdca26"
             ],
             [
              1,
              "#f0f921"
             ]
            ],
            "type": "histogram2dcontour"
           }
          ],
          "mesh3d": [
           {
            "colorbar": {
             "outlinewidth": 0,
             "ticks": ""
            },
            "type": "mesh3d"
           }
          ],
          "parcoords": [
           {
            "line": {
             "colorbar": {
              "outlinewidth": 0,
              "ticks": ""
             }
            },
            "type": "parcoords"
           }
          ],
          "pie": [
           {
            "automargin": true,
            "type": "pie"
           }
          ],
          "scatter": [
           {
            "fillpattern": {
             "fillmode": "overlay",
             "size": 10,
             "solidity": 0.2
            },
            "type": "scatter"
           }
          ],
          "scatter3d": [
           {
            "line": {
             "colorbar": {
              "outlinewidth": 0,
              "ticks": ""
             }
            },
            "marker": {
             "colorbar": {
              "outlinewidth": 0,
              "ticks": ""
             }
            },
            "type": "scatter3d"
           }
          ],
          "scattercarpet": [
           {
            "marker": {
             "colorbar": {
              "outlinewidth": 0,
              "ticks": ""
             }
            },
            "type": "scattercarpet"
           }
          ],
          "scattergeo": [
           {
            "marker": {
             "colorbar": {
              "outlinewidth": 0,
              "ticks": ""
             }
            },
            "type": "scattergeo"
           }
          ],
          "scattergl": [
           {
            "marker": {
             "colorbar": {
              "outlinewidth": 0,
              "ticks": ""
             }
            },
            "type": "scattergl"
           }
          ],
          "scattermapbox": [
           {
            "marker": {
             "colorbar": {
              "outlinewidth": 0,
              "ticks": ""
             }
            },
            "type": "scattermapbox"
           }
          ],
          "scatterpolar": [
           {
            "marker": {
             "colorbar": {
              "outlinewidth": 0,
              "ticks": ""
             }
            },
            "type": "scatterpolar"
           }
          ],
          "scatterpolargl": [
           {
            "marker": {
             "colorbar": {
              "outlinewidth": 0,
              "ticks": ""
             }
            },
            "type": "scatterpolargl"
           }
          ],
          "scatterternary": [
           {
            "marker": {
             "colorbar": {
              "outlinewidth": 0,
              "ticks": ""
             }
            },
            "type": "scatterternary"
           }
          ],
          "surface": [
           {
            "colorbar": {
             "outlinewidth": 0,
             "ticks": ""
            },
            "colorscale": [
             [
              0,
              "#0d0887"
             ],
             [
              0.1111111111111111,
              "#46039f"
             ],
             [
              0.2222222222222222,
              "#7201a8"
             ],
             [
              0.3333333333333333,
              "#9c179e"
             ],
             [
              0.4444444444444444,
              "#bd3786"
             ],
             [
              0.5555555555555556,
              "#d8576b"
             ],
             [
              0.6666666666666666,
              "#ed7953"
             ],
             [
              0.7777777777777778,
              "#fb9f3a"
             ],
             [
              0.8888888888888888,
              "#fdca26"
             ],
             [
              1,
              "#f0f921"
             ]
            ],
            "type": "surface"
           }
          ],
          "table": [
           {
            "cells": {
             "fill": {
              "color": "#EBF0F8"
             },
             "line": {
              "color": "white"
             }
            },
            "header": {
             "fill": {
              "color": "#C8D4E3"
             },
             "line": {
              "color": "white"
             }
            },
            "type": "table"
           }
          ]
         },
         "layout": {
          "annotationdefaults": {
           "arrowcolor": "#2a3f5f",
           "arrowhead": 0,
           "arrowwidth": 1
          },
          "autotypenumbers": "strict",
          "coloraxis": {
           "colorbar": {
            "outlinewidth": 0,
            "ticks": ""
           }
          },
          "colorscale": {
           "diverging": [
            [
             0,
             "#8e0152"
            ],
            [
             0.1,
             "#c51b7d"
            ],
            [
             0.2,
             "#de77ae"
            ],
            [
             0.3,
             "#f1b6da"
            ],
            [
             0.4,
             "#fde0ef"
            ],
            [
             0.5,
             "#f7f7f7"
            ],
            [
             0.6,
             "#e6f5d0"
            ],
            [
             0.7,
             "#b8e186"
            ],
            [
             0.8,
             "#7fbc41"
            ],
            [
             0.9,
             "#4d9221"
            ],
            [
             1,
             "#276419"
            ]
           ],
           "sequential": [
            [
             0,
             "#0d0887"
            ],
            [
             0.1111111111111111,
             "#46039f"
            ],
            [
             0.2222222222222222,
             "#7201a8"
            ],
            [
             0.3333333333333333,
             "#9c179e"
            ],
            [
             0.4444444444444444,
             "#bd3786"
            ],
            [
             0.5555555555555556,
             "#d8576b"
            ],
            [
             0.6666666666666666,
             "#ed7953"
            ],
            [
             0.7777777777777778,
             "#fb9f3a"
            ],
            [
             0.8888888888888888,
             "#fdca26"
            ],
            [
             1,
             "#f0f921"
            ]
           ],
           "sequentialminus": [
            [
             0,
             "#0d0887"
            ],
            [
             0.1111111111111111,
             "#46039f"
            ],
            [
             0.2222222222222222,
             "#7201a8"
            ],
            [
             0.3333333333333333,
             "#9c179e"
            ],
            [
             0.4444444444444444,
             "#bd3786"
            ],
            [
             0.5555555555555556,
             "#d8576b"
            ],
            [
             0.6666666666666666,
             "#ed7953"
            ],
            [
             0.7777777777777778,
             "#fb9f3a"
            ],
            [
             0.8888888888888888,
             "#fdca26"
            ],
            [
             1,
             "#f0f921"
            ]
           ]
          },
          "colorway": [
           "#636efa",
           "#EF553B",
           "#00cc96",
           "#ab63fa",
           "#FFA15A",
           "#19d3f3",
           "#FF6692",
           "#B6E880",
           "#FF97FF",
           "#FECB52"
          ],
          "font": {
           "color": "#2a3f5f"
          },
          "geo": {
           "bgcolor": "white",
           "lakecolor": "white",
           "landcolor": "#E5ECF6",
           "showlakes": true,
           "showland": true,
           "subunitcolor": "white"
          },
          "hoverlabel": {
           "align": "left"
          },
          "hovermode": "closest",
          "mapbox": {
           "style": "light"
          },
          "paper_bgcolor": "white",
          "plot_bgcolor": "#E5ECF6",
          "polar": {
           "angularaxis": {
            "gridcolor": "white",
            "linecolor": "white",
            "ticks": ""
           },
           "bgcolor": "#E5ECF6",
           "radialaxis": {
            "gridcolor": "white",
            "linecolor": "white",
            "ticks": ""
           }
          },
          "scene": {
           "xaxis": {
            "backgroundcolor": "#E5ECF6",
            "gridcolor": "white",
            "gridwidth": 2,
            "linecolor": "white",
            "showbackground": true,
            "ticks": "",
            "zerolinecolor": "white"
           },
           "yaxis": {
            "backgroundcolor": "#E5ECF6",
            "gridcolor": "white",
            "gridwidth": 2,
            "linecolor": "white",
            "showbackground": true,
            "ticks": "",
            "zerolinecolor": "white"
           },
           "zaxis": {
            "backgroundcolor": "#E5ECF6",
            "gridcolor": "white",
            "gridwidth": 2,
            "linecolor": "white",
            "showbackground": true,
            "ticks": "",
            "zerolinecolor": "white"
           }
          },
          "shapedefaults": {
           "line": {
            "color": "#2a3f5f"
           }
          },
          "ternary": {
           "aaxis": {
            "gridcolor": "white",
            "linecolor": "white",
            "ticks": ""
           },
           "baxis": {
            "gridcolor": "white",
            "linecolor": "white",
            "ticks": ""
           },
           "bgcolor": "#E5ECF6",
           "caxis": {
            "gridcolor": "white",
            "linecolor": "white",
            "ticks": ""
           }
          },
          "title": {
           "x": 0.05
          },
          "xaxis": {
           "automargin": true,
           "gridcolor": "white",
           "linecolor": "white",
           "ticks": "",
           "title": {
            "standoff": 15
           },
           "zerolinecolor": "white",
           "zerolinewidth": 2
          },
          "yaxis": {
           "automargin": true,
           "gridcolor": "white",
           "linecolor": "white",
           "ticks": "",
           "title": {
            "standoff": 15
           },
           "zerolinecolor": "white",
           "zerolinewidth": 2
          }
         }
        },
        "width": 500,
        "xaxis": {
         "anchor": "y",
         "domain": [
          0,
          1
         ],
         "title": {
          "text": "X2 house age"
         }
        },
        "yaxis": {
         "anchor": "x",
         "domain": [
          0,
          1
         ],
         "title": {
          "text": "sum of X4 number of convenience stores"
         }
        }
       }
      },
      "text/html": [
       "<div>                            <div id=\"e3d4fc7a-fae5-4c02-b17d-5d5d6be0457c\" class=\"plotly-graph-div\" style=\"height:525px; width:500px;\"></div>            <script type=\"text/javascript\">                require([\"plotly\"], function(Plotly) {                    window.PLOTLYENV=window.PLOTLYENV || {};                                    if (document.getElementById(\"e3d4fc7a-fae5-4c02-b17d-5d5d6be0457c\")) {                    Plotly.newPlot(                        \"e3d4fc7a-fae5-4c02-b17d-5d5d6be0457c\",                        [{\"alignmentgroup\":\"True\",\"bingroup\":\"x\",\"histfunc\":\"sum\",\"hovertemplate\":\"Y house price of unit area=37.9<br>X2 house age=%{x}<br>sum of X4 number of convenience stores=%{y}<extra></extra>\",\"legendgroup\":\"37.9\",\"marker\":{\"color\":\"#636efa\",\"pattern\":{\"shape\":\"\"}},\"name\":\"37.9\",\"offsetgroup\":\"37.9\",\"orientation\":\"v\",\"showlegend\":true,\"x\":[32.0,0.0],\"xaxis\":\"x\",\"y\":[10,0],\"yaxis\":\"y\",\"type\":\"histogram\"},{\"alignmentgroup\":\"True\",\"bingroup\":\"x\",\"histfunc\":\"sum\",\"hovertemplate\":\"Y house price of unit area=42.2<br>X2 house age=%{x}<br>sum of X4 number of convenience stores=%{y}<extra></extra>\",\"legendgroup\":\"42.2\",\"marker\":{\"color\":\"#EF553B\",\"pattern\":{\"shape\":\"\"}},\"name\":\"42.2\",\"offsetgroup\":\"42.2\",\"orientation\":\"v\",\"showlegend\":true,\"x\":[19.5,33.4,21.3],\"xaxis\":\"x\",\"y\":[9,6,4],\"yaxis\":\"y\",\"type\":\"histogram\"},{\"alignmentgroup\":\"True\",\"bingroup\":\"x\",\"histfunc\":\"sum\",\"hovertemplate\":\"Y house price of unit area=47.3<br>X2 house age=%{x}<br>sum of X4 number of convenience stores=%{y}<extra></extra>\",\"legendgroup\":\"47.3\",\"marker\":{\"color\":\"#00cc96\",\"pattern\":{\"shape\":\"\"}},\"name\":\"47.3\",\"offsetgroup\":\"47.3\",\"orientation\":\"v\",\"showlegend\":true,\"x\":[13.3,8.0],\"xaxis\":\"x\",\"y\":[5,9],\"yaxis\":\"y\",\"type\":\"histogram\"},{\"alignmentgroup\":\"True\",\"bingroup\":\"x\",\"histfunc\":\"sum\",\"hovertemplate\":\"Y house price of unit area=54.8<br>X2 house age=%{x}<br>sum of X4 number of convenience stores=%{y}<extra></extra>\",\"legendgroup\":\"54.8\",\"marker\":{\"color\":\"#ab63fa\",\"pattern\":{\"shape\":\"\"}},\"name\":\"54.8\",\"offsetgroup\":\"54.8\",\"orientation\":\"v\",\"showlegend\":true,\"x\":[13.3],\"xaxis\":\"x\",\"y\":[5],\"yaxis\":\"y\",\"type\":\"histogram\"},{\"alignmentgroup\":\"True\",\"bingroup\":\"x\",\"histfunc\":\"sum\",\"hovertemplate\":\"Y house price of unit area=43.1<br>X2 house age=%{x}<br>sum of X4 number of convenience stores=%{y}<extra></extra>\",\"legendgroup\":\"43.1\",\"marker\":{\"color\":\"#FFA15A\",\"pattern\":{\"shape\":\"\"}},\"name\":\"43.1\",\"offsetgroup\":\"43.1\",\"orientation\":\"v\",\"showlegend\":true,\"x\":[5.0,18.2],\"xaxis\":\"x\",\"y\":[5,1],\"yaxis\":\"y\",\"type\":\"histogram\"},{\"alignmentgroup\":\"True\",\"bingroup\":\"x\",\"histfunc\":\"sum\",\"hovertemplate\":\"Y house price of unit area=32.1<br>X2 house age=%{x}<br>sum of X4 number of convenience stores=%{y}<extra></extra>\",\"legendgroup\":\"32.1\",\"marker\":{\"color\":\"#19d3f3\",\"pattern\":{\"shape\":\"\"}},\"name\":\"32.1\",\"offsetgroup\":\"32.1\",\"orientation\":\"v\",\"showlegend\":true,\"x\":[7.1],\"xaxis\":\"x\",\"y\":[3],\"yaxis\":\"y\",\"type\":\"histogram\"},{\"alignmentgroup\":\"True\",\"bingroup\":\"x\",\"histfunc\":\"sum\",\"hovertemplate\":\"Y house price of unit area=40.3<br>X2 house age=%{x}<br>sum of X4 number of convenience stores=%{y}<extra></extra>\",\"legendgroup\":\"40.3\",\"marker\":{\"color\":\"#FF6692\",\"pattern\":{\"shape\":\"\"}},\"name\":\"40.3\",\"offsetgroup\":\"40.3\",\"orientation\":\"v\",\"showlegend\":true,\"x\":[34.5,11.8,29.1,16.9],\"xaxis\":\"x\",\"y\":[7,4,4,4],\"yaxis\":\"y\",\"type\":\"histogram\"},{\"alignmentgroup\":\"True\",\"bingroup\":\"x\",\"histfunc\":\"sum\",\"hovertemplate\":\"Y house price of unit area=46.7<br>X2 house age=%{x}<br>sum of X4 number of convenience stores=%{y}<extra></extra>\",\"legendgroup\":\"46.7\",\"marker\":{\"color\":\"#B6E880\",\"pattern\":{\"shape\":\"\"}},\"name\":\"46.7\",\"offsetgroup\":\"46.7\",\"orientation\":\"v\",\"showlegend\":true,\"x\":[20.3],\"xaxis\":\"x\",\"y\":[6],\"yaxis\":\"y\",\"type\":\"histogram\"},{\"alignmentgroup\":\"True\",\"bingroup\":\"x\",\"histfunc\":\"sum\",\"hovertemplate\":\"Y house price of unit area=18.8<br>X2 house age=%{x}<br>sum of X4 number of convenience stores=%{y}<extra></extra>\",\"legendgroup\":\"18.8\",\"marker\":{\"color\":\"#FF97FF\",\"pattern\":{\"shape\":\"\"}},\"name\":\"18.8\",\"offsetgroup\":\"18.8\",\"orientation\":\"v\",\"showlegend\":true,\"x\":[31.7,17.0],\"xaxis\":\"x\",\"y\":[1,0],\"yaxis\":\"y\",\"type\":\"histogram\"},{\"alignmentgroup\":\"True\",\"bingroup\":\"x\",\"histfunc\":\"sum\",\"hovertemplate\":\"Y house price of unit area=22.1<br>X2 house age=%{x}<br>sum of X4 number of convenience stores=%{y}<extra></extra>\",\"legendgroup\":\"22.1\",\"marker\":{\"color\":\"#FECB52\",\"pattern\":{\"shape\":\"\"}},\"name\":\"22.1\",\"offsetgroup\":\"22.1\",\"orientation\":\"v\",\"showlegend\":true,\"x\":[17.9,25.9],\"xaxis\":\"x\",\"y\":[3,0],\"yaxis\":\"y\",\"type\":\"histogram\"},{\"alignmentgroup\":\"True\",\"bingroup\":\"x\",\"histfunc\":\"sum\",\"hovertemplate\":\"Y house price of unit area=41.4<br>X2 house age=%{x}<br>sum of X4 number of convenience stores=%{y}<extra></extra>\",\"legendgroup\":\"41.4\",\"marker\":{\"color\":\"#636efa\",\"pattern\":{\"shape\":\"\"}},\"name\":\"41.4\",\"offsetgroup\":\"41.4\",\"orientation\":\"v\",\"showlegend\":true,\"x\":[34.8,13.7],\"xaxis\":\"x\",\"y\":[1,7],\"yaxis\":\"y\",\"type\":\"histogram\"},{\"alignmentgroup\":\"True\",\"bingroup\":\"x\",\"histfunc\":\"sum\",\"hovertemplate\":\"Y house price of unit area=58.1<br>X2 house age=%{x}<br>sum of X4 number of convenience stores=%{y}<extra></extra>\",\"legendgroup\":\"58.1\",\"marker\":{\"color\":\"#EF553B\",\"pattern\":{\"shape\":\"\"}},\"name\":\"58.1\",\"offsetgroup\":\"58.1\",\"orientation\":\"v\",\"showlegend\":true,\"x\":[6.3,6.6],\"xaxis\":\"x\",\"y\":[9,9],\"yaxis\":\"y\",\"type\":\"histogram\"},{\"alignmentgroup\":\"True\",\"bingroup\":\"x\",\"histfunc\":\"sum\",\"hovertemplate\":\"Y house price of unit area=39.3<br>X2 house age=%{x}<br>sum of X4 number of convenience stores=%{y}<extra></extra>\",\"legendgroup\":\"39.3\",\"marker\":{\"color\":\"#00cc96\",\"pattern\":{\"shape\":\"\"}},\"name\":\"39.3\",\"offsetgroup\":\"39.3\",\"orientation\":\"v\",\"showlegend\":true,\"x\":[13.0,12.9],\"xaxis\":\"x\",\"y\":[5,7],\"yaxis\":\"y\",\"type\":\"histogram\"},{\"alignmentgroup\":\"True\",\"bingroup\":\"x\",\"histfunc\":\"sum\",\"hovertemplate\":\"Y house price of unit area=23.8<br>X2 house age=%{x}<br>sum of X4 number of convenience stores=%{y}<extra></extra>\",\"legendgroup\":\"23.8\",\"marker\":{\"color\":\"#ab63fa\",\"pattern\":{\"shape\":\"\"}},\"name\":\"23.8\",\"offsetgroup\":\"23.8\",\"orientation\":\"v\",\"showlegend\":true,\"x\":[20.4,21.7],\"xaxis\":\"x\",\"y\":[4,0],\"yaxis\":\"y\",\"type\":\"histogram\"},{\"alignmentgroup\":\"True\",\"bingroup\":\"x\",\"histfunc\":\"sum\",\"hovertemplate\":\"Y house price of unit area=34.3<br>X2 house age=%{x}<br>sum of X4 number of convenience stores=%{y}<extra></extra>\",\"legendgroup\":\"34.3\",\"marker\":{\"color\":\"#FFA15A\",\"pattern\":{\"shape\":\"\"}},\"name\":\"34.3\",\"offsetgroup\":\"34.3\",\"orientation\":\"v\",\"showlegend\":true,\"x\":[13.2],\"xaxis\":\"x\",\"y\":[4],\"yaxis\":\"y\",\"type\":\"histogram\"},{\"alignmentgroup\":\"True\",\"bingroup\":\"x\",\"histfunc\":\"sum\",\"hovertemplate\":\"Y house price of unit area=50.5<br>X2 house age=%{x}<br>sum of X4 number of convenience stores=%{y}<extra></extra>\",\"legendgroup\":\"50.5\",\"marker\":{\"color\":\"#19d3f3\",\"pattern\":{\"shape\":\"\"}},\"name\":\"50.5\",\"offsetgroup\":\"50.5\",\"orientation\":\"v\",\"showlegend\":true,\"x\":[35.7],\"xaxis\":\"x\",\"y\":[2],\"yaxis\":\"y\",\"type\":\"histogram\"},{\"alignmentgroup\":\"True\",\"bingroup\":\"x\",\"histfunc\":\"sum\",\"hovertemplate\":\"Y house price of unit area=70.1<br>X2 house age=%{x}<br>sum of X4 number of convenience stores=%{y}<extra></extra>\",\"legendgroup\":\"70.1\",\"marker\":{\"color\":\"#FF6692\",\"pattern\":{\"shape\":\"\"}},\"name\":\"70.1\",\"offsetgroup\":\"70.1\",\"orientation\":\"v\",\"showlegend\":true,\"x\":[0.0],\"xaxis\":\"x\",\"y\":[6],\"yaxis\":\"y\",\"type\":\"histogram\"},{\"alignmentgroup\":\"True\",\"bingroup\":\"x\",\"histfunc\":\"sum\",\"hovertemplate\":\"Y house price of unit area=37.4<br>X2 house age=%{x}<br>sum of X4 number of convenience stores=%{y}<extra></extra>\",\"legendgroup\":\"37.4\",\"marker\":{\"color\":\"#B6E880\",\"pattern\":{\"shape\":\"\"}},\"name\":\"37.4\",\"offsetgroup\":\"37.4\",\"orientation\":\"v\",\"showlegend\":true,\"x\":[17.7,15.5,27.6,37.3],\"xaxis\":\"x\",\"y\":[1,4,5,8],\"yaxis\":\"y\",\"type\":\"histogram\"},{\"alignmentgroup\":\"True\",\"bingroup\":\"x\",\"histfunc\":\"sum\",\"hovertemplate\":\"Y house price of unit area=42.3<br>X2 house age=%{x}<br>sum of X4 number of convenience stores=%{y}<extra></extra>\",\"legendgroup\":\"42.3\",\"marker\":{\"color\":\"#FF97FF\",\"pattern\":{\"shape\":\"\"}},\"name\":\"42.3\",\"offsetgroup\":\"42.3\",\"orientation\":\"v\",\"showlegend\":true,\"x\":[16.9,35.3,9.1,13.2],\"xaxis\":\"x\",\"y\":[8,8,0,5],\"yaxis\":\"y\",\"type\":\"histogram\"},{\"alignmentgroup\":\"True\",\"bingroup\":\"x\",\"histfunc\":\"sum\",\"hovertemplate\":\"Y house price of unit area=47.7<br>X2 house age=%{x}<br>sum of X4 number of convenience stores=%{y}<extra></extra>\",\"legendgroup\":\"47.7\",\"marker\":{\"color\":\"#FECB52\",\"pattern\":{\"shape\":\"\"}},\"name\":\"47.7\",\"offsetgroup\":\"47.7\",\"orientation\":\"v\",\"showlegend\":true,\"x\":[1.5,3.1],\"xaxis\":\"x\",\"y\":[7,6],\"yaxis\":\"y\",\"type\":\"histogram\"},{\"alignmentgroup\":\"True\",\"bingroup\":\"x\",\"histfunc\":\"sum\",\"hovertemplate\":\"Y house price of unit area=29.3<br>X2 house age=%{x}<br>sum of X4 number of convenience stores=%{y}<extra></extra>\",\"legendgroup\":\"29.3\",\"marker\":{\"color\":\"#636efa\",\"pattern\":{\"shape\":\"\"}},\"name\":\"29.3\",\"offsetgroup\":\"29.3\",\"orientation\":\"v\",\"showlegend\":true,\"x\":[4.5,15.2,13.2,16.3],\"xaxis\":\"x\",\"y\":[3,0,1,0],\"yaxis\":\"y\",\"type\":\"histogram\"},{\"alignmentgroup\":\"True\",\"bingroup\":\"x\",\"histfunc\":\"sum\",\"hovertemplate\":\"Y house price of unit area=51.6<br>X2 house age=%{x}<br>sum of X4 number of convenience stores=%{y}<extra></extra>\",\"legendgroup\":\"51.6\",\"marker\":{\"color\":\"#EF553B\",\"pattern\":{\"shape\":\"\"}},\"name\":\"51.6\",\"offsetgroup\":\"51.6\",\"orientation\":\"v\",\"showlegend\":true,\"x\":[10.5,8.1],\"xaxis\":\"x\",\"y\":[7,5],\"yaxis\":\"y\",\"type\":\"histogram\"},{\"alignmentgroup\":\"True\",\"bingroup\":\"x\",\"histfunc\":\"sum\",\"hovertemplate\":\"Y house price of unit area=24.6<br>X2 house age=%{x}<br>sum of X4 number of convenience stores=%{y}<extra></extra>\",\"legendgroup\":\"24.6\",\"marker\":{\"color\":\"#00cc96\",\"pattern\":{\"shape\":\"\"}},\"name\":\"24.6\",\"offsetgroup\":\"24.6\",\"orientation\":\"v\",\"showlegend\":true,\"x\":[14.7],\"xaxis\":\"x\",\"y\":[1],\"yaxis\":\"y\",\"type\":\"histogram\"},{\"alignmentgroup\":\"True\",\"bingroup\":\"x\",\"histfunc\":\"sum\",\"hovertemplate\":\"Y house price of unit area=47.9<br>X2 house age=%{x}<br>sum of X4 number of convenience stores=%{y}<extra></extra>\",\"legendgroup\":\"47.9\",\"marker\":{\"color\":\"#ab63fa\",\"pattern\":{\"shape\":\"\"}},\"name\":\"47.9\",\"offsetgroup\":\"47.9\",\"orientation\":\"v\",\"showlegend\":true,\"x\":[10.1],\"xaxis\":\"x\",\"y\":[7],\"yaxis\":\"y\",\"type\":\"histogram\"},{\"alignmentgroup\":\"True\",\"bingroup\":\"x\",\"histfunc\":\"sum\",\"hovertemplate\":\"Y house price of unit area=38.8<br>X2 house age=%{x}<br>sum of X4 number of convenience stores=%{y}<extra></extra>\",\"legendgroup\":\"38.8\",\"marker\":{\"color\":\"#FFA15A\",\"pattern\":{\"shape\":\"\"}},\"name\":\"38.8\",\"offsetgroup\":\"38.8\",\"orientation\":\"v\",\"showlegend\":true,\"x\":[39.6],\"xaxis\":\"x\",\"y\":[4],\"yaxis\":\"y\",\"type\":\"histogram\"},{\"alignmentgroup\":\"True\",\"bingroup\":\"x\",\"histfunc\":\"sum\",\"hovertemplate\":\"Y house price of unit area=27.0<br>X2 house age=%{x}<br>sum of X4 number of convenience stores=%{y}<extra></extra>\",\"legendgroup\":\"27.0\",\"marker\":{\"color\":\"#19d3f3\",\"pattern\":{\"shape\":\"\"}},\"name\":\"27.0\",\"offsetgroup\":\"27.0\",\"orientation\":\"v\",\"showlegend\":true,\"x\":[29.3,32.1,1.8],\"xaxis\":\"x\",\"y\":[2,3,1],\"yaxis\":\"y\",\"type\":\"histogram\"},{\"alignmentgroup\":\"True\",\"bingroup\":\"x\",\"histfunc\":\"sum\",\"hovertemplate\":\"Y house price of unit area=56.2<br>X2 house age=%{x}<br>sum of X4 number of convenience stores=%{y}<extra></extra>\",\"legendgroup\":\"56.2\",\"marker\":{\"color\":\"#FF6692\",\"pattern\":{\"shape\":\"\"}},\"name\":\"56.2\",\"offsetgroup\":\"56.2\",\"orientation\":\"v\",\"showlegend\":true,\"x\":[3.1],\"xaxis\":\"x\",\"y\":[5],\"yaxis\":\"y\",\"type\":\"histogram\"},{\"alignmentgroup\":\"True\",\"bingroup\":\"x\",\"histfunc\":\"sum\",\"hovertemplate\":\"Y house price of unit area=33.6<br>X2 house age=%{x}<br>sum of X4 number of convenience stores=%{y}<extra></extra>\",\"legendgroup\":\"33.6\",\"marker\":{\"color\":\"#B6E880\",\"pattern\":{\"shape\":\"\"}},\"name\":\"33.6\",\"offsetgroup\":\"33.6\",\"orientation\":\"v\",\"showlegend\":true,\"x\":[10.4],\"xaxis\":\"x\",\"y\":[5],\"yaxis\":\"y\",\"type\":\"histogram\"},{\"alignmentgroup\":\"True\",\"bingroup\":\"x\",\"histfunc\":\"sum\",\"hovertemplate\":\"Y house price of unit area=47.0<br>X2 house age=%{x}<br>sum of X4 number of convenience stores=%{y}<extra></extra>\",\"legendgroup\":\"47.0\",\"marker\":{\"color\":\"#FF97FF\",\"pattern\":{\"shape\":\"\"}},\"name\":\"47.0\",\"offsetgroup\":\"47.0\",\"orientation\":\"v\",\"showlegend\":true,\"x\":[19.2,7.8],\"xaxis\":\"x\",\"y\":[4,5],\"yaxis\":\"y\",\"type\":\"histogram\"},{\"alignmentgroup\":\"True\",\"bingroup\":\"x\",\"histfunc\":\"sum\",\"hovertemplate\":\"Y house price of unit area=57.1<br>X2 house age=%{x}<br>sum of X4 number of convenience stores=%{y}<extra></extra>\",\"legendgroup\":\"57.1\",\"marker\":{\"color\":\"#FECB52\",\"pattern\":{\"shape\":\"\"}},\"name\":\"57.1\",\"offsetgroup\":\"57.1\",\"orientation\":\"v\",\"showlegend\":true,\"x\":[7.1],\"xaxis\":\"x\",\"y\":[5],\"yaxis\":\"y\",\"type\":\"histogram\"},{\"alignmentgroup\":\"True\",\"bingroup\":\"x\",\"histfunc\":\"sum\",\"hovertemplate\":\"Y house price of unit area=25.0<br>X2 house age=%{x}<br>sum of X4 number of convenience stores=%{y}<extra></extra>\",\"legendgroup\":\"25.0\",\"marker\":{\"color\":\"#636efa\",\"pattern\":{\"shape\":\"\"}},\"name\":\"25.0\",\"offsetgroup\":\"25.0\",\"orientation\":\"v\",\"showlegend\":true,\"x\":[29.6],\"xaxis\":\"x\",\"y\":[7],\"yaxis\":\"y\",\"type\":\"histogram\"},{\"alignmentgroup\":\"True\",\"bingroup\":\"x\",\"histfunc\":\"sum\",\"hovertemplate\":\"Y house price of unit area=34.2<br>X2 house age=%{x}<br>sum of X4 number of convenience stores=%{y}<extra></extra>\",\"legendgroup\":\"34.2\",\"marker\":{\"color\":\"#EF553B\",\"pattern\":{\"shape\":\"\"}},\"name\":\"34.2\",\"offsetgroup\":\"34.2\",\"orientation\":\"v\",\"showlegend\":true,\"x\":[37.9,38.5],\"xaxis\":\"x\",\"y\":[1,3],\"yaxis\":\"y\",\"type\":\"histogram\"},{\"alignmentgroup\":\"True\",\"bingroup\":\"x\",\"histfunc\":\"sum\",\"hovertemplate\":\"Y house price of unit area=49.3<br>X2 house age=%{x}<br>sum of X4 number of convenience stores=%{y}<extra></extra>\",\"legendgroup\":\"49.3\",\"marker\":{\"color\":\"#00cc96\",\"pattern\":{\"shape\":\"\"}},\"name\":\"49.3\",\"offsetgroup\":\"49.3\",\"orientation\":\"v\",\"showlegend\":true,\"x\":[16.5,9.7],\"xaxis\":\"x\",\"y\":[6,5],\"yaxis\":\"y\",\"type\":\"histogram\"},{\"alignmentgroup\":\"True\",\"bingroup\":\"x\",\"histfunc\":\"sum\",\"hovertemplate\":\"Y house price of unit area=55.1<br>X2 house age=%{x}<br>sum of X4 number of convenience stores=%{y}<extra></extra>\",\"legendgroup\":\"55.1\",\"marker\":{\"color\":\"#ab63fa\",\"pattern\":{\"shape\":\"\"}},\"name\":\"55.1\",\"offsetgroup\":\"55.1\",\"orientation\":\"v\",\"showlegend\":true,\"x\":[15.4],\"xaxis\":\"x\",\"y\":[7],\"yaxis\":\"y\",\"type\":\"histogram\"},{\"alignmentgroup\":\"True\",\"bingroup\":\"x\",\"histfunc\":\"sum\",\"hovertemplate\":\"Y house price of unit area=27.3<br>X2 house age=%{x}<br>sum of X4 number of convenience stores=%{y}<extra></extra>\",\"legendgroup\":\"27.3\",\"marker\":{\"color\":\"#FFA15A\",\"pattern\":{\"shape\":\"\"}},\"name\":\"27.3\",\"offsetgroup\":\"27.3\",\"orientation\":\"v\",\"showlegend\":true,\"x\":[13.9,15.6,10.4],\"xaxis\":\"x\",\"y\":[0,2,4],\"yaxis\":\"y\",\"type\":\"histogram\"},{\"alignmentgroup\":\"True\",\"bingroup\":\"x\",\"histfunc\":\"sum\",\"hovertemplate\":\"Y house price of unit area=22.9<br>X2 house age=%{x}<br>sum of X4 number of convenience stores=%{y}<extra></extra>\",\"legendgroup\":\"22.9\",\"marker\":{\"color\":\"#19d3f3\",\"pattern\":{\"shape\":\"\"}},\"name\":\"22.9\",\"offsetgroup\":\"22.9\",\"orientation\":\"v\",\"showlegend\":true,\"x\":[14.7],\"xaxis\":\"x\",\"y\":[2],\"yaxis\":\"y\",\"type\":\"histogram\"},{\"alignmentgroup\":\"True\",\"bingroup\":\"x\",\"histfunc\":\"sum\",\"hovertemplate\":\"Y house price of unit area=25.3<br>X2 house age=%{x}<br>sum of X4 number of convenience stores=%{y}<extra></extra>\",\"legendgroup\":\"25.3\",\"marker\":{\"color\":\"#FF6692\",\"pattern\":{\"shape\":\"\"}},\"name\":\"25.3\",\"offsetgroup\":\"25.3\",\"orientation\":\"v\",\"showlegend\":true,\"x\":[12.0,17.5,23.0],\"xaxis\":\"x\",\"y\":[1,0,0],\"yaxis\":\"y\",\"type\":\"histogram\"},{\"alignmentgroup\":\"True\",\"bingroup\":\"x\",\"histfunc\":\"sum\",\"hovertemplate\":\"Y house price of unit area=46.2<br>X2 house age=%{x}<br>sum of X4 number of convenience stores=%{y}<extra></extra>\",\"legendgroup\":\"46.2\",\"marker\":{\"color\":\"#B6E880\",\"pattern\":{\"shape\":\"\"}},\"name\":\"46.2\",\"offsetgroup\":\"46.2\",\"orientation\":\"v\",\"showlegend\":true,\"x\":[16.2],\"xaxis\":\"x\",\"y\":[5],\"yaxis\":\"y\",\"type\":\"histogram\"},{\"alignmentgroup\":\"True\",\"bingroup\":\"x\",\"histfunc\":\"sum\",\"hovertemplate\":\"Y house price of unit area=15.9<br>X2 house age=%{x}<br>sum of X4 number of convenience stores=%{y}<extra></extra>\",\"legendgroup\":\"15.9\",\"marker\":{\"color\":\"#FF97FF\",\"pattern\":{\"shape\":\"\"}},\"name\":\"15.9\",\"offsetgroup\":\"15.9\",\"orientation\":\"v\",\"showlegend\":true,\"x\":[13.6],\"xaxis\":\"x\",\"y\":[0],\"yaxis\":\"y\",\"type\":\"histogram\"},{\"alignmentgroup\":\"True\",\"bingroup\":\"x\",\"histfunc\":\"sum\",\"hovertemplate\":\"Y house price of unit area=18.2<br>X2 house age=%{x}<br>sum of X4 number of convenience stores=%{y}<extra></extra>\",\"legendgroup\":\"18.2\",\"marker\":{\"color\":\"#FECB52\",\"pattern\":{\"shape\":\"\"}},\"name\":\"18.2\",\"offsetgroup\":\"18.2\",\"orientation\":\"v\",\"showlegend\":true,\"x\":[16.8],\"xaxis\":\"x\",\"y\":[0],\"yaxis\":\"y\",\"type\":\"histogram\"},{\"alignmentgroup\":\"True\",\"bingroup\":\"x\",\"histfunc\":\"sum\",\"hovertemplate\":\"Y house price of unit area=34.7<br>X2 house age=%{x}<br>sum of X4 number of convenience stores=%{y}<extra></extra>\",\"legendgroup\":\"34.7\",\"marker\":{\"color\":\"#636efa\",\"pattern\":{\"shape\":\"\"}},\"name\":\"34.7\",\"offsetgroup\":\"34.7\",\"orientation\":\"v\",\"showlegend\":true,\"x\":[36.1],\"xaxis\":\"x\",\"y\":[5],\"yaxis\":\"y\",\"type\":\"histogram\"},{\"alignmentgroup\":\"True\",\"bingroup\":\"x\",\"histfunc\":\"sum\",\"hovertemplate\":\"Y house price of unit area=34.1<br>X2 house age=%{x}<br>sum of X4 number of convenience stores=%{y}<extra></extra>\",\"legendgroup\":\"34.1\",\"marker\":{\"color\":\"#EF553B\",\"pattern\":{\"shape\":\"\"}},\"name\":\"34.1\",\"offsetgroup\":\"34.1\",\"orientation\":\"v\",\"showlegend\":true,\"x\":[34.4,31.4,12.5],\"xaxis\":\"x\",\"y\":[6,2,4],\"yaxis\":\"y\",\"type\":\"histogram\"},{\"alignmentgroup\":\"True\",\"bingroup\":\"x\",\"histfunc\":\"sum\",\"hovertemplate\":\"Y house price of unit area=53.9<br>X2 house age=%{x}<br>sum of X4 number of convenience stores=%{y}<extra></extra>\",\"legendgroup\":\"53.9\",\"marker\":{\"color\":\"#00cc96\",\"pattern\":{\"shape\":\"\"}},\"name\":\"53.9\",\"offsetgroup\":\"53.9\",\"orientation\":\"v\",\"showlegend\":true,\"x\":[2.7],\"xaxis\":\"x\",\"y\":[4],\"yaxis\":\"y\",\"type\":\"histogram\"},{\"alignmentgroup\":\"True\",\"bingroup\":\"x\",\"histfunc\":\"sum\",\"hovertemplate\":\"Y house price of unit area=38.3<br>X2 house age=%{x}<br>sum of X4 number of convenience stores=%{y}<extra></extra>\",\"legendgroup\":\"38.3\",\"marker\":{\"color\":\"#ab63fa\",\"pattern\":{\"shape\":\"\"}},\"name\":\"38.3\",\"offsetgroup\":\"38.3\",\"orientation\":\"v\",\"showlegend\":true,\"x\":[36.6],\"xaxis\":\"x\",\"y\":[8],\"yaxis\":\"y\",\"type\":\"histogram\"},{\"alignmentgroup\":\"True\",\"bingroup\":\"x\",\"histfunc\":\"sum\",\"hovertemplate\":\"Y house price of unit area=42.0<br>X2 house age=%{x}<br>sum of X4 number of convenience stores=%{y}<extra></extra>\",\"legendgroup\":\"42.0\",\"marker\":{\"color\":\"#FFA15A\",\"pattern\":{\"shape\":\"\"}},\"name\":\"42.0\",\"offsetgroup\":\"42.0\",\"orientation\":\"v\",\"showlegend\":true,\"x\":[21.7,12.5,33.0,13.3],\"xaxis\":\"x\",\"y\":[9,5,9,7],\"yaxis\":\"y\",\"type\":\"histogram\"},{\"alignmentgroup\":\"True\",\"bingroup\":\"x\",\"histfunc\":\"sum\",\"hovertemplate\":\"Y house price of unit area=61.5<br>X2 house age=%{x}<br>sum of X4 number of convenience stores=%{y}<extra></extra>\",\"legendgroup\":\"61.5\",\"marker\":{\"color\":\"#19d3f3\",\"pattern\":{\"shape\":\"\"}},\"name\":\"61.5\",\"offsetgroup\":\"61.5\",\"orientation\":\"v\",\"showlegend\":true,\"x\":[35.9],\"xaxis\":\"x\",\"y\":[3],\"yaxis\":\"y\",\"type\":\"histogram\"},{\"alignmentgroup\":\"True\",\"bingroup\":\"x\",\"histfunc\":\"sum\",\"hovertemplate\":\"Y house price of unit area=13.4<br>X2 house age=%{x}<br>sum of X4 number of convenience stores=%{y}<extra></extra>\",\"legendgroup\":\"13.4\",\"marker\":{\"color\":\"#FF6692\",\"pattern\":{\"shape\":\"\"}},\"name\":\"13.4\",\"offsetgroup\":\"13.4\",\"orientation\":\"v\",\"showlegend\":true,\"x\":[24.2],\"xaxis\":\"x\",\"y\":[0],\"yaxis\":\"y\",\"type\":\"histogram\"},{\"alignmentgroup\":\"True\",\"bingroup\":\"x\",\"histfunc\":\"sum\",\"hovertemplate\":\"Y house price of unit area=13.2<br>X2 house age=%{x}<br>sum of X4 number of convenience stores=%{y}<extra></extra>\",\"legendgroup\":\"13.2\",\"marker\":{\"color\":\"#B6E880\",\"pattern\":{\"shape\":\"\"}},\"name\":\"13.2\",\"offsetgroup\":\"13.2\",\"orientation\":\"v\",\"showlegend\":true,\"x\":[29.4],\"xaxis\":\"x\",\"y\":[1],\"yaxis\":\"y\",\"type\":\"histogram\"},{\"alignmentgroup\":\"True\",\"bingroup\":\"x\",\"histfunc\":\"sum\",\"hovertemplate\":\"Y house price of unit area=44.2<br>X2 house age=%{x}<br>sum of X4 number of convenience stores=%{y}<extra></extra>\",\"legendgroup\":\"44.2\",\"marker\":{\"color\":\"#FF97FF\",\"pattern\":{\"shape\":\"\"}},\"name\":\"44.2\",\"offsetgroup\":\"44.2\",\"orientation\":\"v\",\"showlegend\":true,\"x\":[21.7],\"xaxis\":\"x\",\"y\":[4],\"yaxis\":\"y\",\"type\":\"histogram\"},{\"alignmentgroup\":\"True\",\"bingroup\":\"x\",\"histfunc\":\"sum\",\"hovertemplate\":\"Y house price of unit area=20.7<br>X2 house age=%{x}<br>sum of X4 number of convenience stores=%{y}<extra></extra>\",\"legendgroup\":\"20.7\",\"marker\":{\"color\":\"#FECB52\",\"pattern\":{\"shape\":\"\"}},\"name\":\"20.7\",\"offsetgroup\":\"20.7\",\"orientation\":\"v\",\"showlegend\":true,\"x\":[31.3,16.9],\"xaxis\":\"x\",\"y\":[1,0],\"yaxis\":\"y\",\"type\":\"histogram\"},{\"alignmentgroup\":\"True\",\"bingroup\":\"x\",\"histfunc\":\"sum\",\"hovertemplate\":\"Y house price of unit area=38.9<br>X2 house age=%{x}<br>sum of X4 number of convenience stores=%{y}<extra></extra>\",\"legendgroup\":\"38.9\",\"marker\":{\"color\":\"#636efa\",\"pattern\":{\"shape\":\"\"}},\"name\":\"38.9\",\"offsetgroup\":\"38.9\",\"orientation\":\"v\",\"showlegend\":true,\"x\":[13.3],\"xaxis\":\"x\",\"y\":[5],\"yaxis\":\"y\",\"type\":\"histogram\"},{\"alignmentgroup\":\"True\",\"bingroup\":\"x\",\"histfunc\":\"sum\",\"hovertemplate\":\"Y house price of unit area=51.7<br>X2 house age=%{x}<br>sum of X4 number of convenience stores=%{y}<extra></extra>\",\"legendgroup\":\"51.7\",\"marker\":{\"color\":\"#EF553B\",\"pattern\":{\"shape\":\"\"}},\"name\":\"51.7\",\"offsetgroup\":\"51.7\",\"orientation\":\"v\",\"showlegend\":true,\"x\":[16.1,4.1],\"xaxis\":\"x\",\"y\":[5,5],\"yaxis\":\"y\",\"type\":\"histogram\"},{\"alignmentgroup\":\"True\",\"bingroup\":\"x\",\"histfunc\":\"sum\",\"hovertemplate\":\"Y house price of unit area=13.7<br>X2 house age=%{x}<br>sum of X4 number of convenience stores=%{y}<extra></extra>\",\"legendgroup\":\"13.7\",\"marker\":{\"color\":\"#00cc96\",\"pattern\":{\"shape\":\"\"}},\"name\":\"13.7\",\"offsetgroup\":\"13.7\",\"orientation\":\"v\",\"showlegend\":true,\"x\":[31.7],\"xaxis\":\"x\",\"y\":[0],\"yaxis\":\"y\",\"type\":\"histogram\"},{\"alignmentgroup\":\"True\",\"bingroup\":\"x\",\"histfunc\":\"sum\",\"hovertemplate\":\"Y house price of unit area=41.9<br>X2 house age=%{x}<br>sum of X4 number of convenience stores=%{y}<extra></extra>\",\"legendgroup\":\"41.9\",\"marker\":{\"color\":\"#ab63fa\",\"pattern\":{\"shape\":\"\"}},\"name\":\"41.9\",\"offsetgroup\":\"41.9\",\"orientation\":\"v\",\"showlegend\":true,\"x\":[33.6],\"xaxis\":\"x\",\"y\":[8],\"yaxis\":\"y\",\"type\":\"histogram\"},{\"alignmentgroup\":\"True\",\"bingroup\":\"x\",\"histfunc\":\"sum\",\"hovertemplate\":\"Y house price of unit area=53.5<br>X2 house age=%{x}<br>sum of X4 number of convenience stores=%{y}<extra></extra>\",\"legendgroup\":\"53.5\",\"marker\":{\"color\":\"#FFA15A\",\"pattern\":{\"shape\":\"\"}},\"name\":\"53.5\",\"offsetgroup\":\"53.5\",\"orientation\":\"v\",\"showlegend\":true,\"x\":[3.5,5.7],\"xaxis\":\"x\",\"y\":[7,9],\"yaxis\":\"y\",\"type\":\"histogram\"},{\"alignmentgroup\":\"True\",\"bingroup\":\"x\",\"histfunc\":\"sum\",\"hovertemplate\":\"Y house price of unit area=22.6<br>X2 house age=%{x}<br>sum of X4 number of convenience stores=%{y}<extra></extra>\",\"legendgroup\":\"22.6\",\"marker\":{\"color\":\"#19d3f3\",\"pattern\":{\"shape\":\"\"}},\"name\":\"22.6\",\"offsetgroup\":\"22.6\",\"orientation\":\"v\",\"showlegend\":true,\"x\":[30.3],\"xaxis\":\"x\",\"y\":[1],\"yaxis\":\"y\",\"type\":\"histogram\"},{\"alignmentgroup\":\"True\",\"bingroup\":\"x\",\"histfunc\":\"sum\",\"hovertemplate\":\"Y house price of unit area=42.4<br>X2 house age=%{x}<br>sum of X4 number of convenience stores=%{y}<extra></extra>\",\"legendgroup\":\"42.4\",\"marker\":{\"color\":\"#FF6692\",\"pattern\":{\"shape\":\"\"}},\"name\":\"42.4\",\"offsetgroup\":\"42.4\",\"orientation\":\"v\",\"showlegend\":true,\"x\":[13.3],\"xaxis\":\"x\",\"y\":[5],\"yaxis\":\"y\",\"type\":\"histogram\"},{\"alignmentgroup\":\"True\",\"bingroup\":\"x\",\"histfunc\":\"sum\",\"hovertemplate\":\"Y house price of unit area=21.3<br>X2 house age=%{x}<br>sum of X4 number of convenience stores=%{y}<extra></extra>\",\"legendgroup\":\"21.3\",\"marker\":{\"color\":\"#B6E880\",\"pattern\":{\"shape\":\"\"}},\"name\":\"21.3\",\"offsetgroup\":\"21.3\",\"orientation\":\"v\",\"showlegend\":true,\"x\":[11.0],\"xaxis\":\"x\",\"y\":[2],\"yaxis\":\"y\",\"type\":\"histogram\"},{\"alignmentgroup\":\"True\",\"bingroup\":\"x\",\"histfunc\":\"sum\",\"hovertemplate\":\"Y house price of unit area=63.2<br>X2 house age=%{x}<br>sum of X4 number of convenience stores=%{y}<extra></extra>\",\"legendgroup\":\"63.2\",\"marker\":{\"color\":\"#FF97FF\",\"pattern\":{\"shape\":\"\"}},\"name\":\"63.2\",\"offsetgroup\":\"63.2\",\"orientation\":\"v\",\"showlegend\":true,\"x\":[5.3],\"xaxis\":\"x\",\"y\":[6],\"yaxis\":\"y\",\"type\":\"histogram\"},{\"alignmentgroup\":\"True\",\"bingroup\":\"x\",\"histfunc\":\"sum\",\"hovertemplate\":\"Y house price of unit area=27.7<br>X2 house age=%{x}<br>sum of X4 number of convenience stores=%{y}<extra></extra>\",\"legendgroup\":\"27.7\",\"marker\":{\"color\":\"#FECB52\",\"pattern\":{\"shape\":\"\"}},\"name\":\"27.7\",\"offsetgroup\":\"27.7\",\"orientation\":\"v\",\"showlegend\":true,\"x\":[17.2,21.2,7.6],\"xaxis\":\"x\",\"y\":[3,3,3],\"yaxis\":\"y\",\"type\":\"histogram\"},{\"alignmentgroup\":\"True\",\"bingroup\":\"x\",\"histfunc\":\"sum\",\"hovertemplate\":\"Y house price of unit area=55.0<br>X2 house age=%{x}<br>sum of X4 number of convenience stores=%{y}<extra></extra>\",\"legendgroup\":\"55.0\",\"marker\":{\"color\":\"#636efa\",\"pattern\":{\"shape\":\"\"}},\"name\":\"55.0\",\"offsetgroup\":\"55.0\",\"orientation\":\"v\",\"showlegend\":true,\"x\":[2.6,3.8,16.2],\"xaxis\":\"x\",\"y\":[4,5,5],\"yaxis\":\"y\",\"type\":\"histogram\"},{\"alignmentgroup\":\"True\",\"bingroup\":\"x\",\"histfunc\":\"sum\",\"hovertemplate\":\"Y house price of unit area=44.3<br>X2 house age=%{x}<br>sum of X4 number of convenience stores=%{y}<extra></extra>\",\"legendgroup\":\"44.3\",\"marker\":{\"color\":\"#EF553B\",\"pattern\":{\"shape\":\"\"}},\"name\":\"44.3\",\"offsetgroup\":\"44.3\",\"orientation\":\"v\",\"showlegend\":true,\"x\":[40.1,34.8],\"xaxis\":\"x\",\"y\":[8,8],\"yaxis\":\"y\",\"type\":\"histogram\"},{\"alignmentgroup\":\"True\",\"bingroup\":\"x\",\"histfunc\":\"sum\",\"hovertemplate\":\"Y house price of unit area=50.7<br>X2 house age=%{x}<br>sum of X4 number of convenience stores=%{y}<extra></extra>\",\"legendgroup\":\"50.7\",\"marker\":{\"color\":\"#00cc96\",\"pattern\":{\"shape\":\"\"}},\"name\":\"50.7\",\"offsetgroup\":\"50.7\",\"orientation\":\"v\",\"showlegend\":true,\"x\":[1.0],\"xaxis\":\"x\",\"y\":[6],\"yaxis\":\"y\",\"type\":\"histogram\"},{\"alignmentgroup\":\"True\",\"bingroup\":\"x\",\"histfunc\":\"sum\",\"hovertemplate\":\"Y house price of unit area=56.8<br>X2 house age=%{x}<br>sum of X4 number of convenience stores=%{y}<extra></extra>\",\"legendgroup\":\"56.8\",\"marker\":{\"color\":\"#ab63fa\",\"pattern\":{\"shape\":\"\"}},\"name\":\"56.8\",\"offsetgroup\":\"56.8\",\"orientation\":\"v\",\"showlegend\":true,\"x\":[8.5,3.9],\"xaxis\":\"x\",\"y\":[5,8],\"yaxis\":\"y\",\"type\":\"histogram\"},{\"alignmentgroup\":\"True\",\"bingroup\":\"x\",\"histfunc\":\"sum\",\"hovertemplate\":\"Y house price of unit area=36.2<br>X2 house age=%{x}<br>sum of X4 number of convenience stores=%{y}<extra></extra>\",\"legendgroup\":\"36.2\",\"marker\":{\"color\":\"#FFA15A\",\"pattern\":{\"shape\":\"\"}},\"name\":\"36.2\",\"offsetgroup\":\"36.2\",\"orientation\":\"v\",\"showlegend\":true,\"x\":[30.4],\"xaxis\":\"x\",\"y\":[6],\"yaxis\":\"y\",\"type\":\"histogram\"},{\"alignmentgroup\":\"True\",\"bingroup\":\"x\",\"histfunc\":\"sum\",\"hovertemplate\":\"Y house price of unit area=59.0<br>X2 house age=%{x}<br>sum of X4 number of convenience stores=%{y}<extra></extra>\",\"legendgroup\":\"59.0\",\"marker\":{\"color\":\"#19d3f3\",\"pattern\":{\"shape\":\"\"}},\"name\":\"59.0\",\"offsetgroup\":\"59.0\",\"orientation\":\"v\",\"showlegend\":true,\"x\":[6.6],\"xaxis\":\"x\",\"y\":[9],\"yaxis\":\"y\",\"type\":\"histogram\"},{\"alignmentgroup\":\"True\",\"bingroup\":\"x\",\"histfunc\":\"sum\",\"hovertemplate\":\"Y house price of unit area=40.8<br>X2 house age=%{x}<br>sum of X4 number of convenience stores=%{y}<extra></extra>\",\"legendgroup\":\"40.8\",\"marker\":{\"color\":\"#FF6692\",\"pattern\":{\"shape\":\"\"}},\"name\":\"40.8\",\"offsetgroup\":\"40.8\",\"orientation\":\"v\",\"showlegend\":true,\"x\":[35.5,28.0,7.5],\"xaxis\":\"x\",\"y\":[3,6,5],\"yaxis\":\"y\",\"type\":\"histogram\"},{\"alignmentgroup\":\"True\",\"bingroup\":\"x\",\"histfunc\":\"sum\",\"hovertemplate\":\"Y house price of unit area=36.3<br>X2 house age=%{x}<br>sum of X4 number of convenience stores=%{y}<extra></extra>\",\"legendgroup\":\"36.3\",\"marker\":{\"color\":\"#B6E880\",\"pattern\":{\"shape\":\"\"}},\"name\":\"36.3\",\"offsetgroup\":\"36.3\",\"orientation\":\"v\",\"showlegend\":true,\"x\":[32.5,31.5],\"xaxis\":\"x\",\"y\":[8,9],\"yaxis\":\"y\",\"type\":\"histogram\"},{\"alignmentgroup\":\"True\",\"bingroup\":\"x\",\"histfunc\":\"sum\",\"hovertemplate\":\"Y house price of unit area=20.0<br>X2 house age=%{x}<br>sum of X4 number of convenience stores=%{y}<extra></extra>\",\"legendgroup\":\"20.0\",\"marker\":{\"color\":\"#FF97FF\",\"pattern\":{\"shape\":\"\"}},\"name\":\"20.0\",\"offsetgroup\":\"20.0\",\"orientation\":\"v\",\"showlegend\":true,\"x\":[13.8],\"xaxis\":\"x\",\"y\":[0],\"yaxis\":\"y\",\"type\":\"histogram\"},{\"alignmentgroup\":\"True\",\"bingroup\":\"x\",\"histfunc\":\"sum\",\"hovertemplate\":\"Y house price of unit area=54.4<br>X2 house age=%{x}<br>sum of X4 number of convenience stores=%{y}<extra></extra>\",\"legendgroup\":\"54.4\",\"marker\":{\"color\":\"#FECB52\",\"pattern\":{\"shape\":\"\"}},\"name\":\"54.4\",\"offsetgroup\":\"54.4\",\"orientation\":\"v\",\"showlegend\":true,\"x\":[6.8,1.1,3.4],\"xaxis\":\"x\",\"y\":[10,6,7],\"yaxis\":\"y\",\"type\":\"histogram\"},{\"alignmentgroup\":\"True\",\"bingroup\":\"x\",\"histfunc\":\"sum\",\"hovertemplate\":\"Y house price of unit area=29.5<br>X2 house age=%{x}<br>sum of X4 number of convenience stores=%{y}<extra></extra>\",\"legendgroup\":\"29.5\",\"marker\":{\"color\":\"#636efa\",\"pattern\":{\"shape\":\"\"}},\"name\":\"29.5\",\"offsetgroup\":\"29.5\",\"orientation\":\"v\",\"showlegend\":true,\"x\":[12.3,17.3],\"xaxis\":\"x\",\"y\":[1,4],\"yaxis\":\"y\",\"type\":\"histogram\"},{\"alignmentgroup\":\"True\",\"bingroup\":\"x\",\"histfunc\":\"sum\",\"hovertemplate\":\"Y house price of unit area=36.8<br>X2 house age=%{x}<br>sum of X4 number of convenience stores=%{y}<extra></extra>\",\"legendgroup\":\"36.8\",\"marker\":{\"color\":\"#EF553B\",\"pattern\":{\"shape\":\"\"}},\"name\":\"36.8\",\"offsetgroup\":\"36.8\",\"orientation\":\"v\",\"showlegend\":true,\"x\":[35.9,30.8],\"xaxis\":\"x\",\"y\":[3,6],\"yaxis\":\"y\",\"type\":\"histogram\"},{\"alignmentgroup\":\"True\",\"bingroup\":\"x\",\"histfunc\":\"sum\",\"hovertemplate\":\"Y house price of unit area=25.6<br>X2 house age=%{x}<br>sum of X4 number of convenience stores=%{y}<extra></extra>\",\"legendgroup\":\"25.6\",\"marker\":{\"color\":\"#00cc96\",\"pattern\":{\"shape\":\"\"}},\"name\":\"25.6\",\"offsetgroup\":\"25.6\",\"orientation\":\"v\",\"showlegend\":true,\"x\":[20.5,2.0,16.2],\"xaxis\":\"x\",\"y\":[3,1,3],\"yaxis\":\"y\",\"type\":\"histogram\"},{\"alignmentgroup\":\"True\",\"bingroup\":\"x\",\"histfunc\":\"sum\",\"hovertemplate\":\"Y house price of unit area=29.8<br>X2 house age=%{x}<br>sum of X4 number of convenience stores=%{y}<extra></extra>\",\"legendgroup\":\"29.8\",\"marker\":{\"color\":\"#ab63fa\",\"pattern\":{\"shape\":\"\"}},\"name\":\"29.8\",\"offsetgroup\":\"29.8\",\"orientation\":\"v\",\"showlegend\":true,\"x\":[38.2],\"xaxis\":\"x\",\"y\":[2],\"yaxis\":\"y\",\"type\":\"histogram\"},{\"alignmentgroup\":\"True\",\"bingroup\":\"x\",\"histfunc\":\"sum\",\"hovertemplate\":\"Y house price of unit area=26.5<br>X2 house age=%{x}<br>sum of X4 number of convenience stores=%{y}<extra></extra>\",\"legendgroup\":\"26.5\",\"marker\":{\"color\":\"#FFA15A\",\"pattern\":{\"shape\":\"\"}},\"name\":\"26.5\",\"offsetgroup\":\"26.5\",\"orientation\":\"v\",\"showlegend\":true,\"x\":[18.0,14.6,17.7],\"xaxis\":\"x\",\"y\":[1,1,8],\"yaxis\":\"y\",\"type\":\"histogram\"},{\"alignmentgroup\":\"True\",\"bingroup\":\"x\",\"histfunc\":\"sum\",\"hovertemplate\":\"Y house price of unit area=48.1<br>X2 house age=%{x}<br>sum of X4 number of convenience stores=%{y}<extra></extra>\",\"legendgroup\":\"48.1\",\"marker\":{\"color\":\"#19d3f3\",\"pattern\":{\"shape\":\"\"}},\"name\":\"48.1\",\"offsetgroup\":\"48.1\",\"orientation\":\"v\",\"showlegend\":true,\"x\":[13.2,19.2],\"xaxis\":\"x\",\"y\":[7,8],\"yaxis\":\"y\",\"type\":\"histogram\"},{\"alignmentgroup\":\"True\",\"bingroup\":\"x\",\"histfunc\":\"sum\",\"hovertemplate\":\"Y house price of unit area=17.7<br>X2 house age=%{x}<br>sum of X4 number of convenience stores=%{y}<extra></extra>\",\"legendgroup\":\"17.7\",\"marker\":{\"color\":\"#FF6692\",\"pattern\":{\"shape\":\"\"}},\"name\":\"17.7\",\"offsetgroup\":\"17.7\",\"orientation\":\"v\",\"showlegend\":true,\"x\":[25.3],\"xaxis\":\"x\",\"y\":[3],\"yaxis\":\"y\",\"type\":\"histogram\"},{\"alignmentgroup\":\"True\",\"bingroup\":\"x\",\"histfunc\":\"sum\",\"hovertemplate\":\"Y house price of unit area=43.7<br>X2 house age=%{x}<br>sum of X4 number of convenience stores=%{y}<extra></extra>\",\"legendgroup\":\"43.7\",\"marker\":{\"color\":\"#B6E880\",\"pattern\":{\"shape\":\"\"}},\"name\":\"43.7\",\"offsetgroup\":\"43.7\",\"orientation\":\"v\",\"showlegend\":true,\"x\":[15.1],\"xaxis\":\"x\",\"y\":[7],\"yaxis\":\"y\",\"type\":\"histogram\"},{\"alignmentgroup\":\"True\",\"bingroup\":\"x\",\"histfunc\":\"sum\",\"hovertemplate\":\"Y house price of unit area=50.8<br>X2 house age=%{x}<br>sum of X4 number of convenience stores=%{y}<extra></extra>\",\"legendgroup\":\"50.8\",\"marker\":{\"color\":\"#FF97FF\",\"pattern\":{\"shape\":\"\"}},\"name\":\"50.8\",\"offsetgroup\":\"50.8\",\"orientation\":\"v\",\"showlegend\":true,\"x\":[0.0],\"xaxis\":\"x\",\"y\":[9],\"yaxis\":\"y\",\"type\":\"histogram\"},{\"alignmentgroup\":\"True\",\"bingroup\":\"x\",\"histfunc\":\"sum\",\"hovertemplate\":\"Y house price of unit area=18.3<br>X2 house age=%{x}<br>sum of X4 number of convenience stores=%{y}<extra></extra>\",\"legendgroup\":\"18.3\",\"marker\":{\"color\":\"#FECB52\",\"pattern\":{\"shape\":\"\"}},\"name\":\"18.3\",\"offsetgroup\":\"18.3\",\"orientation\":\"v\",\"showlegend\":true,\"x\":[16.9,30.7],\"xaxis\":\"x\",\"y\":[0,0],\"yaxis\":\"y\",\"type\":\"histogram\"},{\"alignmentgroup\":\"True\",\"bingroup\":\"x\",\"histfunc\":\"sum\",\"hovertemplate\":\"Y house price of unit area=48.0<br>X2 house age=%{x}<br>sum of X4 number of convenience stores=%{y}<extra></extra>\",\"legendgroup\":\"48.0\",\"marker\":{\"color\":\"#636efa\",\"pattern\":{\"shape\":\"\"}},\"name\":\"48.0\",\"offsetgroup\":\"48.0\",\"orientation\":\"v\",\"showlegend\":true,\"x\":[8.9,13.6,32.3],\"xaxis\":\"x\",\"y\":[0,5,10],\"yaxis\":\"y\",\"type\":\"histogram\"},{\"alignmentgroup\":\"True\",\"bingroup\":\"x\",\"histfunc\":\"sum\",\"hovertemplate\":\"Y house price of unit area=45.4<br>X2 house age=%{x}<br>sum of X4 number of convenience stores=%{y}<extra></extra>\",\"legendgroup\":\"45.4\",\"marker\":{\"color\":\"#EF553B\",\"pattern\":{\"shape\":\"\"}},\"name\":\"45.4\",\"offsetgroup\":\"45.4\",\"orientation\":\"v\",\"showlegend\":true,\"x\":[0.0,2.3],\"xaxis\":\"x\",\"y\":[1,6],\"yaxis\":\"y\",\"type\":\"histogram\"},{\"alignmentgroup\":\"True\",\"bingroup\":\"x\",\"histfunc\":\"sum\",\"hovertemplate\":\"Y house price of unit area=43.2<br>X2 house age=%{x}<br>sum of X4 number of convenience stores=%{y}<extra></extra>\",\"legendgroup\":\"43.2\",\"marker\":{\"color\":\"#00cc96\",\"pattern\":{\"shape\":\"\"}},\"name\":\"43.2\",\"offsetgroup\":\"43.2\",\"orientation\":\"v\",\"showlegend\":true,\"x\":[9.1,3.2],\"xaxis\":\"x\",\"y\":[0,8],\"yaxis\":\"y\",\"type\":\"histogram\"},{\"alignmentgroup\":\"True\",\"bingroup\":\"x\",\"histfunc\":\"sum\",\"hovertemplate\":\"Y house price of unit area=21.8<br>X2 house age=%{x}<br>sum of X4 number of convenience stores=%{y}<extra></extra>\",\"legendgroup\":\"21.8\",\"marker\":{\"color\":\"#ab63fa\",\"pattern\":{\"shape\":\"\"}},\"name\":\"21.8\",\"offsetgroup\":\"21.8\",\"orientation\":\"v\",\"showlegend\":true,\"x\":[20.6,14.1,18.2],\"xaxis\":\"x\",\"y\":[4,0,3],\"yaxis\":\"y\",\"type\":\"histogram\"},{\"alignmentgroup\":\"True\",\"bingroup\":\"x\",\"histfunc\":\"sum\",\"hovertemplate\":\"Y house price of unit area=16.1<br>X2 house age=%{x}<br>sum of X4 number of convenience stores=%{y}<extra></extra>\",\"legendgroup\":\"16.1\",\"marker\":{\"color\":\"#FFA15A\",\"pattern\":{\"shape\":\"\"}},\"name\":\"16.1\",\"offsetgroup\":\"16.1\",\"orientation\":\"v\",\"showlegend\":true,\"x\":[31.9],\"xaxis\":\"x\",\"y\":[0],\"yaxis\":\"y\",\"type\":\"histogram\"},{\"alignmentgroup\":\"True\",\"bingroup\":\"x\",\"histfunc\":\"sum\",\"hovertemplate\":\"Y house price of unit area=41.0<br>X2 house age=%{x}<br>sum of X4 number of convenience stores=%{y}<extra></extra>\",\"legendgroup\":\"41.0\",\"marker\":{\"color\":\"#19d3f3\",\"pattern\":{\"shape\":\"\"}},\"name\":\"41.0\",\"offsetgroup\":\"41.0\",\"orientation\":\"v\",\"showlegend\":true,\"x\":[40.9,38.5,27.5],\"xaxis\":\"x\",\"y\":[5,7,7],\"yaxis\":\"y\",\"type\":\"histogram\"},{\"alignmentgroup\":\"True\",\"bingroup\":\"x\",\"histfunc\":\"sum\",\"hovertemplate\":\"Y house price of unit area=51.8<br>X2 house age=%{x}<br>sum of X4 number of convenience stores=%{y}<extra></extra>\",\"legendgroup\":\"51.8\",\"marker\":{\"color\":\"#FF6692\",\"pattern\":{\"shape\":\"\"}},\"name\":\"51.8\",\"offsetgroup\":\"51.8\",\"orientation\":\"v\",\"showlegend\":true,\"x\":[8.0,1.1],\"xaxis\":\"x\",\"y\":[5,5],\"yaxis\":\"y\",\"type\":\"histogram\"},{\"alignmentgroup\":\"True\",\"bingroup\":\"x\",\"histfunc\":\"sum\",\"hovertemplate\":\"Y house price of unit area=59.5<br>X2 house age=%{x}<br>sum of X4 number of convenience stores=%{y}<extra></extra>\",\"legendgroup\":\"59.5\",\"marker\":{\"color\":\"#B6E880\",\"pattern\":{\"shape\":\"\"}},\"name\":\"59.5\",\"offsetgroup\":\"59.5\",\"orientation\":\"v\",\"showlegend\":true,\"x\":[6.4],\"xaxis\":\"x\",\"y\":[9],\"yaxis\":\"y\",\"type\":\"histogram\"},{\"alignmentgroup\":\"True\",\"bingroup\":\"x\",\"histfunc\":\"sum\",\"hovertemplate\":\"Y house price of unit area=34.6<br>X2 house age=%{x}<br>sum of X4 number of convenience stores=%{y}<extra></extra>\",\"legendgroup\":\"34.6\",\"marker\":{\"color\":\"#FF97FF\",\"pattern\":{\"shape\":\"\"}},\"name\":\"34.6\",\"offsetgroup\":\"34.6\",\"orientation\":\"v\",\"showlegend\":true,\"x\":[28.4,15.2],\"xaxis\":\"x\",\"y\":[3,5],\"yaxis\":\"y\",\"type\":\"histogram\"},{\"alignmentgroup\":\"True\",\"bingroup\":\"x\",\"histfunc\":\"sum\",\"hovertemplate\":\"Y house price of unit area=51.0<br>X2 house age=%{x}<br>sum of X4 number of convenience stores=%{y}<extra></extra>\",\"legendgroup\":\"51.0\",\"marker\":{\"color\":\"#FECB52\",\"pattern\":{\"shape\":\"\"}},\"name\":\"51.0\",\"offsetgroup\":\"51.0\",\"orientation\":\"v\",\"showlegend\":true,\"x\":[16.4,16.6],\"xaxis\":\"x\",\"y\":[5,6],\"yaxis\":\"y\",\"type\":\"histogram\"},{\"alignmentgroup\":\"True\",\"bingroup\":\"x\",\"histfunc\":\"sum\",\"hovertemplate\":\"Y house price of unit area=62.2<br>X2 house age=%{x}<br>sum of X4 number of convenience stores=%{y}<extra></extra>\",\"legendgroup\":\"62.2\",\"marker\":{\"color\":\"#636efa\",\"pattern\":{\"shape\":\"\"}},\"name\":\"62.2\",\"offsetgroup\":\"62.2\",\"orientation\":\"v\",\"showlegend\":true,\"x\":[6.4],\"xaxis\":\"x\",\"y\":[9],\"yaxis\":\"y\",\"type\":\"histogram\"},{\"alignmentgroup\":\"True\",\"bingroup\":\"x\",\"histfunc\":\"sum\",\"hovertemplate\":\"Y house price of unit area=38.2<br>X2 house age=%{x}<br>sum of X4 number of convenience stores=%{y}<extra></extra>\",\"legendgroup\":\"38.2\",\"marker\":{\"color\":\"#EF553B\",\"pattern\":{\"shape\":\"\"}},\"name\":\"38.2\",\"offsetgroup\":\"38.2\",\"orientation\":\"v\",\"showlegend\":true,\"x\":[17.5],\"xaxis\":\"x\",\"y\":[4],\"yaxis\":\"y\",\"type\":\"histogram\"},{\"alignmentgroup\":\"True\",\"bingroup\":\"x\",\"histfunc\":\"sum\",\"hovertemplate\":\"Y house price of unit area=32.9<br>X2 house age=%{x}<br>sum of X4 number of convenience stores=%{y}<extra></extra>\",\"legendgroup\":\"32.9\",\"marker\":{\"color\":\"#00cc96\",\"pattern\":{\"shape\":\"\"}},\"name\":\"32.9\",\"offsetgroup\":\"32.9\",\"orientation\":\"v\",\"showlegend\":true,\"x\":[12.7,19.2],\"xaxis\":\"x\",\"y\":[1,5],\"yaxis\":\"y\",\"type\":\"histogram\"},{\"alignmentgroup\":\"True\",\"bingroup\":\"x\",\"histfunc\":\"sum\",\"hovertemplate\":\"Y house price of unit area=45.7<br>X2 house age=%{x}<br>sum of X4 number of convenience stores=%{y}<extra></extra>\",\"legendgroup\":\"45.7\",\"marker\":{\"color\":\"#ab63fa\",\"pattern\":{\"shape\":\"\"}},\"name\":\"45.7\",\"offsetgroup\":\"45.7\",\"orientation\":\"v\",\"showlegend\":true,\"x\":[0.0],\"xaxis\":\"x\",\"y\":[6],\"yaxis\":\"y\",\"type\":\"histogram\"},{\"alignmentgroup\":\"True\",\"bingroup\":\"x\",\"histfunc\":\"sum\",\"hovertemplate\":\"Y house price of unit area=30.5<br>X2 house age=%{x}<br>sum of X4 number of convenience stores=%{y}<extra></extra>\",\"legendgroup\":\"30.5\",\"marker\":{\"color\":\"#FFA15A\",\"pattern\":{\"shape\":\"\"}},\"name\":\"30.5\",\"offsetgroup\":\"30.5\",\"orientation\":\"v\",\"showlegend\":true,\"x\":[32.7,14.7],\"xaxis\":\"x\",\"y\":[6,2],\"yaxis\":\"y\",\"type\":\"histogram\"},{\"alignmentgroup\":\"True\",\"bingroup\":\"x\",\"histfunc\":\"sum\",\"hovertemplate\":\"Y house price of unit area=71.0<br>X2 house age=%{x}<br>sum of X4 number of convenience stores=%{y}<extra></extra>\",\"legendgroup\":\"71.0\",\"marker\":{\"color\":\"#19d3f3\",\"pattern\":{\"shape\":\"\"}},\"name\":\"71.0\",\"offsetgroup\":\"71.0\",\"orientation\":\"v\",\"showlegend\":true,\"x\":[0.0],\"xaxis\":\"x\",\"y\":[6],\"yaxis\":\"y\",\"type\":\"histogram\"},{\"alignmentgroup\":\"True\",\"bingroup\":\"x\",\"histfunc\":\"sum\",\"hovertemplate\":\"Y house price of unit area=47.1<br>X2 house age=%{x}<br>sum of X4 number of convenience stores=%{y}<extra></extra>\",\"legendgroup\":\"47.1\",\"marker\":{\"color\":\"#FF6692\",\"pattern\":{\"shape\":\"\"}},\"name\":\"47.1\",\"offsetgroup\":\"47.1\",\"orientation\":\"v\",\"showlegend\":true,\"x\":[17.2,32.9],\"xaxis\":\"x\",\"y\":[8,10],\"yaxis\":\"y\",\"type\":\"histogram\"},{\"alignmentgroup\":\"True\",\"bingroup\":\"x\",\"histfunc\":\"sum\",\"hovertemplate\":\"Y house price of unit area=26.6<br>X2 house age=%{x}<br>sum of X4 number of convenience stores=%{y}<extra></extra>\",\"legendgroup\":\"26.6\",\"marker\":{\"color\":\"#B6E880\",\"pattern\":{\"shape\":\"\"}},\"name\":\"26.6\",\"offsetgroup\":\"26.6\",\"orientation\":\"v\",\"showlegend\":true,\"x\":[12.2,18.0],\"xaxis\":\"x\",\"y\":[1,1],\"yaxis\":\"y\",\"type\":\"histogram\"},{\"alignmentgroup\":\"True\",\"bingroup\":\"x\",\"histfunc\":\"sum\",\"hovertemplate\":\"Y house price of unit area=28.4<br>X2 house age=%{x}<br>sum of X4 number of convenience stores=%{y}<extra></extra>\",\"legendgroup\":\"28.4\",\"marker\":{\"color\":\"#FF97FF\",\"pattern\":{\"shape\":\"\"}},\"name\":\"28.4\",\"offsetgroup\":\"28.4\",\"orientation\":\"v\",\"showlegend\":true,\"x\":[4.0,11.9],\"xaxis\":\"x\",\"y\":[3,1],\"yaxis\":\"y\",\"type\":\"histogram\"},{\"alignmentgroup\":\"True\",\"bingroup\":\"x\",\"histfunc\":\"sum\",\"hovertemplate\":\"Y house price of unit area=39.4<br>X2 house age=%{x}<br>sum of X4 number of convenience stores=%{y}<extra></extra>\",\"legendgroup\":\"39.4\",\"marker\":{\"color\":\"#FECB52\",\"pattern\":{\"shape\":\"\"}},\"name\":\"39.4\",\"offsetgroup\":\"39.4\",\"orientation\":\"v\",\"showlegend\":true,\"x\":[33.3,11.6],\"xaxis\":\"x\",\"y\":[7,5],\"yaxis\":\"y\",\"type\":\"histogram\"},{\"alignmentgroup\":\"True\",\"bingroup\":\"x\",\"histfunc\":\"sum\",\"hovertemplate\":\"Y house price of unit area=23.1<br>X2 house age=%{x}<br>sum of X4 number of convenience stores=%{y}<extra></extra>\",\"legendgroup\":\"23.1\",\"marker\":{\"color\":\"#636efa\",\"pattern\":{\"shape\":\"\"}},\"name\":\"23.1\",\"offsetgroup\":\"23.1\",\"orientation\":\"v\",\"showlegend\":true,\"x\":[9.9,21.7],\"xaxis\":\"x\",\"y\":[3,0],\"yaxis\":\"y\",\"type\":\"histogram\"},{\"alignmentgroup\":\"True\",\"bingroup\":\"x\",\"histfunc\":\"sum\",\"hovertemplate\":\"Y house price of unit area=7.6<br>X2 house age=%{x}<br>sum of X4 number of convenience stores=%{y}<extra></extra>\",\"legendgroup\":\"7.6\",\"marker\":{\"color\":\"#EF553B\",\"pattern\":{\"shape\":\"\"}},\"name\":\"7.6\",\"offsetgroup\":\"7.6\",\"orientation\":\"v\",\"showlegend\":true,\"x\":[14.8],\"xaxis\":\"x\",\"y\":[6],\"yaxis\":\"y\",\"type\":\"histogram\"},{\"alignmentgroup\":\"True\",\"bingroup\":\"x\",\"histfunc\":\"sum\",\"hovertemplate\":\"Y house price of unit area=53.3<br>X2 house age=%{x}<br>sum of X4 number of convenience stores=%{y}<extra></extra>\",\"legendgroup\":\"53.3\",\"marker\":{\"color\":\"#00cc96\",\"pattern\":{\"shape\":\"\"}},\"name\":\"53.3\",\"offsetgroup\":\"53.3\",\"orientation\":\"v\",\"showlegend\":true,\"x\":[30.6,14.1],\"xaxis\":\"x\",\"y\":[8,5],\"yaxis\":\"y\",\"type\":\"histogram\"},{\"alignmentgroup\":\"True\",\"bingroup\":\"x\",\"histfunc\":\"sum\",\"hovertemplate\":\"Y house price of unit area=46.4<br>X2 house age=%{x}<br>sum of X4 number of convenience stores=%{y}<extra></extra>\",\"legendgroup\":\"46.4\",\"marker\":{\"color\":\"#ab63fa\",\"pattern\":{\"shape\":\"\"}},\"name\":\"46.4\",\"offsetgroup\":\"46.4\",\"orientation\":\"v\",\"showlegend\":true,\"x\":[20.6],\"xaxis\":\"x\",\"y\":[2],\"yaxis\":\"y\",\"type\":\"histogram\"},{\"alignmentgroup\":\"True\",\"bingroup\":\"x\",\"histfunc\":\"sum\",\"hovertemplate\":\"Y house price of unit area=12.2<br>X2 house age=%{x}<br>sum of X4 number of convenience stores=%{y}<extra></extra>\",\"legendgroup\":\"12.2\",\"marker\":{\"color\":\"#FFA15A\",\"pattern\":{\"shape\":\"\"}},\"name\":\"12.2\",\"offsetgroup\":\"12.2\",\"orientation\":\"v\",\"showlegend\":true,\"x\":[30.9],\"xaxis\":\"x\",\"y\":[1],\"yaxis\":\"y\",\"type\":\"histogram\"},{\"alignmentgroup\":\"True\",\"bingroup\":\"x\",\"histfunc\":\"sum\",\"hovertemplate\":\"Y house price of unit area=13.0<br>X2 house age=%{x}<br>sum of X4 number of convenience stores=%{y}<extra></extra>\",\"legendgroup\":\"13.0\",\"marker\":{\"color\":\"#19d3f3\",\"pattern\":{\"shape\":\"\"}},\"name\":\"13.0\",\"offsetgroup\":\"13.0\",\"orientation\":\"v\",\"showlegend\":true,\"x\":[13.6],\"xaxis\":\"x\",\"y\":[0],\"yaxis\":\"y\",\"type\":\"histogram\"},{\"alignmentgroup\":\"True\",\"bingroup\":\"x\",\"histfunc\":\"sum\",\"hovertemplate\":\"Y house price of unit area=30.6<br>X2 house age=%{x}<br>sum of X4 number of convenience stores=%{y}<extra></extra>\",\"legendgroup\":\"30.6\",\"marker\":{\"color\":\"#FF6692\",\"pattern\":{\"shape\":\"\"}},\"name\":\"30.6\",\"offsetgroup\":\"30.6\",\"orientation\":\"v\",\"showlegend\":true,\"x\":[25.3,13.7],\"xaxis\":\"x\",\"y\":[3,1],\"yaxis\":\"y\",\"type\":\"histogram\"},{\"alignmentgroup\":\"True\",\"bingroup\":\"x\",\"histfunc\":\"sum\",\"hovertemplate\":\"Y house price of unit area=59.6<br>X2 house age=%{x}<br>sum of X4 number of convenience stores=%{y}<extra></extra>\",\"legendgroup\":\"59.6\",\"marker\":{\"color\":\"#B6E880\",\"pattern\":{\"shape\":\"\"}},\"name\":\"59.6\",\"offsetgroup\":\"59.6\",\"orientation\":\"v\",\"showlegend\":true,\"x\":[16.6],\"xaxis\":\"x\",\"y\":[5],\"yaxis\":\"y\",\"type\":\"histogram\"},{\"alignmentgroup\":\"True\",\"bingroup\":\"x\",\"histfunc\":\"sum\",\"hovertemplate\":\"Y house price of unit area=31.3<br>X2 house age=%{x}<br>sum of X4 number of convenience stores=%{y}<extra></extra>\",\"legendgroup\":\"31.3\",\"marker\":{\"color\":\"#FF97FF\",\"pattern\":{\"shape\":\"\"}},\"name\":\"31.3\",\"offsetgroup\":\"31.3\",\"orientation\":\"v\",\"showlegend\":true,\"x\":[13.3,12.4,4.1,6.2],\"xaxis\":\"x\",\"y\":[5,2,3,1],\"yaxis\":\"y\",\"type\":\"histogram\"},{\"alignmentgroup\":\"True\",\"bingroup\":\"x\",\"histfunc\":\"sum\",\"hovertemplate\":\"Y house price of unit area=32.5<br>X2 house age=%{x}<br>sum of X4 number of convenience stores=%{y}<extra></extra>\",\"legendgroup\":\"32.5\",\"marker\":{\"color\":\"#FECB52\",\"pattern\":{\"shape\":\"\"}},\"name\":\"32.5\",\"offsetgroup\":\"32.5\",\"orientation\":\"v\",\"showlegend\":true,\"x\":[31.5],\"xaxis\":\"x\",\"y\":[4],\"yaxis\":\"y\",\"type\":\"histogram\"},{\"alignmentgroup\":\"True\",\"bingroup\":\"x\",\"histfunc\":\"sum\",\"hovertemplate\":\"Y house price of unit area=45.5<br>X2 house age=%{x}<br>sum of X4 number of convenience stores=%{y}<extra></extra>\",\"legendgroup\":\"45.5\",\"marker\":{\"color\":\"#636efa\",\"pattern\":{\"shape\":\"\"}},\"name\":\"45.5\",\"offsetgroup\":\"45.5\",\"orientation\":\"v\",\"showlegend\":true,\"x\":[0.0,2.1],\"xaxis\":\"x\",\"y\":[0,5],\"yaxis\":\"y\",\"type\":\"histogram\"},{\"alignmentgroup\":\"True\",\"bingroup\":\"x\",\"histfunc\":\"sum\",\"hovertemplate\":\"Y house price of unit area=57.4<br>X2 house age=%{x}<br>sum of X4 number of convenience stores=%{y}<extra></extra>\",\"legendgroup\":\"57.4\",\"marker\":{\"color\":\"#EF553B\",\"pattern\":{\"shape\":\"\"}},\"name\":\"57.4\",\"offsetgroup\":\"57.4\",\"orientation\":\"v\",\"showlegend\":true,\"x\":[9.9],\"xaxis\":\"x\",\"y\":[7],\"yaxis\":\"y\",\"type\":\"histogram\"},{\"alignmentgroup\":\"True\",\"bingroup\":\"x\",\"histfunc\":\"sum\",\"hovertemplate\":\"Y house price of unit area=48.6<br>X2 house age=%{x}<br>sum of X4 number of convenience stores=%{y}<extra></extra>\",\"legendgroup\":\"48.6\",\"marker\":{\"color\":\"#00cc96\",\"pattern\":{\"shape\":\"\"}},\"name\":\"48.6\",\"offsetgroup\":\"48.6\",\"orientation\":\"v\",\"showlegend\":true,\"x\":[1.1],\"xaxis\":\"x\",\"y\":[6],\"yaxis\":\"y\",\"type\":\"histogram\"},{\"alignmentgroup\":\"True\",\"bingroup\":\"x\",\"histfunc\":\"sum\",\"hovertemplate\":\"Y house price of unit area=62.9<br>X2 house age=%{x}<br>sum of X4 number of convenience stores=%{y}<extra></extra>\",\"legendgroup\":\"62.9\",\"marker\":{\"color\":\"#ab63fa\",\"pattern\":{\"shape\":\"\"}},\"name\":\"62.9\",\"offsetgroup\":\"62.9\",\"orientation\":\"v\",\"showlegend\":true,\"x\":[38.6],\"xaxis\":\"x\",\"y\":[4],\"yaxis\":\"y\",\"type\":\"histogram\"},{\"alignmentgroup\":\"True\",\"bingroup\":\"x\",\"histfunc\":\"sum\",\"hovertemplate\":\"Y house price of unit area=60.7<br>X2 house age=%{x}<br>sum of X4 number of convenience stores=%{y}<extra></extra>\",\"legendgroup\":\"60.7\",\"marker\":{\"color\":\"#FFA15A\",\"pattern\":{\"shape\":\"\"}},\"name\":\"60.7\",\"offsetgroup\":\"60.7\",\"orientation\":\"v\",\"showlegend\":true,\"x\":[41.3,3.8],\"xaxis\":\"x\",\"y\":[6,5],\"yaxis\":\"y\",\"type\":\"histogram\"},{\"alignmentgroup\":\"True\",\"bingroup\":\"x\",\"histfunc\":\"sum\",\"hovertemplate\":\"Y house price of unit area=37.5<br>X2 house age=%{x}<br>sum of X4 number of convenience stores=%{y}<extra></extra>\",\"legendgroup\":\"37.5\",\"marker\":{\"color\":\"#19d3f3\",\"pattern\":{\"shape\":\"\"}},\"name\":\"37.5\",\"offsetgroup\":\"37.5\",\"orientation\":\"v\",\"showlegend\":true,\"x\":[29.6,26.6,19.8,15.6],\"xaxis\":\"x\",\"y\":[8,5,5,2],\"yaxis\":\"y\",\"type\":\"histogram\"},{\"alignmentgroup\":\"True\",\"bingroup\":\"x\",\"histfunc\":\"sum\",\"hovertemplate\":\"Y house price of unit area=30.7<br>X2 house age=%{x}<br>sum of X4 number of convenience stores=%{y}<extra></extra>\",\"legendgroup\":\"30.7\",\"marker\":{\"color\":\"#FF6692\",\"pattern\":{\"shape\":\"\"}},\"name\":\"30.7\",\"offsetgroup\":\"30.7\",\"orientation\":\"v\",\"showlegend\":true,\"x\":[4.0,17.0],\"xaxis\":\"x\",\"y\":[3,4],\"yaxis\":\"y\",\"type\":\"histogram\"},{\"alignmentgroup\":\"True\",\"bingroup\":\"x\",\"histfunc\":\"sum\",\"hovertemplate\":\"Y house price of unit area=39.5<br>X2 house age=%{x}<br>sum of X4 number of convenience stores=%{y}<extra></extra>\",\"legendgroup\":\"39.5\",\"marker\":{\"color\":\"#B6E880\",\"pattern\":{\"shape\":\"\"}},\"name\":\"39.5\",\"offsetgroup\":\"39.5\",\"orientation\":\"v\",\"showlegend\":true,\"x\":[18.0],\"xaxis\":\"x\",\"y\":[8],\"yaxis\":\"y\",\"type\":\"histogram\"},{\"alignmentgroup\":\"True\",\"bingroup\":\"x\",\"histfunc\":\"sum\",\"hovertemplate\":\"Y house price of unit area=20.8<br>X2 house age=%{x}<br>sum of X4 number of convenience stores=%{y}<extra></extra>\",\"legendgroup\":\"20.8\",\"marker\":{\"color\":\"#FF97FF\",\"pattern\":{\"shape\":\"\"}},\"name\":\"20.8\",\"offsetgroup\":\"20.8\",\"orientation\":\"v\",\"showlegend\":true,\"x\":[18.9],\"xaxis\":\"x\",\"y\":[0],\"yaxis\":\"y\",\"type\":\"histogram\"},{\"alignmentgroup\":\"True\",\"bingroup\":\"x\",\"histfunc\":\"sum\",\"hovertemplate\":\"Y house price of unit area=46.8<br>X2 house age=%{x}<br>sum of X4 number of convenience stores=%{y}<extra></extra>\",\"legendgroup\":\"46.8\",\"marker\":{\"color\":\"#FECB52\",\"pattern\":{\"shape\":\"\"}},\"name\":\"46.8\",\"offsetgroup\":\"46.8\",\"orientation\":\"v\",\"showlegend\":true,\"x\":[11.4],\"xaxis\":\"x\",\"y\":[5],\"yaxis\":\"y\",\"type\":\"histogram\"},{\"alignmentgroup\":\"True\",\"bingroup\":\"x\",\"histfunc\":\"sum\",\"hovertemplate\":\"Y house price of unit area=47.4<br>X2 house age=%{x}<br>sum of X4 number of convenience stores=%{y}<extra></extra>\",\"legendgroup\":\"47.4\",\"marker\":{\"color\":\"#636efa\",\"pattern\":{\"shape\":\"\"}},\"name\":\"47.4\",\"offsetgroup\":\"47.4\",\"orientation\":\"v\",\"showlegend\":true,\"x\":[13.6],\"xaxis\":\"x\",\"y\":[6],\"yaxis\":\"y\",\"type\":\"histogram\"},{\"alignmentgroup\":\"True\",\"bingroup\":\"x\",\"histfunc\":\"sum\",\"hovertemplate\":\"Y house price of unit area=43.5<br>X2 house age=%{x}<br>sum of X4 number of convenience stores=%{y}<extra></extra>\",\"legendgroup\":\"43.5\",\"marker\":{\"color\":\"#EF553B\",\"pattern\":{\"shape\":\"\"}},\"name\":\"43.5\",\"offsetgroup\":\"43.5\",\"orientation\":\"v\",\"showlegend\":true,\"x\":[10.0,0.0],\"xaxis\":\"x\",\"y\":[0,1],\"yaxis\":\"y\",\"type\":\"histogram\"},{\"alignmentgroup\":\"True\",\"bingroup\":\"x\",\"histfunc\":\"sum\",\"hovertemplate\":\"Y house price of unit area=42.5<br>X2 house age=%{x}<br>sum of X4 number of convenience stores=%{y}<extra></extra>\",\"legendgroup\":\"42.5\",\"marker\":{\"color\":\"#00cc96\",\"pattern\":{\"shape\":\"\"}},\"name\":\"42.5\",\"offsetgroup\":\"42.5\",\"orientation\":\"v\",\"showlegend\":true,\"x\":[12.9,12.6,28.6,21.2],\"xaxis\":\"x\",\"y\":[5,7,6,4],\"yaxis\":\"y\",\"type\":\"histogram\"},{\"alignmentgroup\":\"True\",\"bingroup\":\"x\",\"histfunc\":\"sum\",\"hovertemplate\":\"Y house price of unit area=51.4<br>X2 house age=%{x}<br>sum of X4 number of convenience stores=%{y}<extra></extra>\",\"legendgroup\":\"51.4\",\"marker\":{\"color\":\"#ab63fa\",\"pattern\":{\"shape\":\"\"}},\"name\":\"51.4\",\"offsetgroup\":\"51.4\",\"orientation\":\"v\",\"showlegend\":true,\"x\":[16.2],\"xaxis\":\"x\",\"y\":[5],\"yaxis\":\"y\",\"type\":\"histogram\"},{\"alignmentgroup\":\"True\",\"bingroup\":\"x\",\"histfunc\":\"sum\",\"hovertemplate\":\"Y house price of unit area=28.9<br>X2 house age=%{x}<br>sum of X4 number of convenience stores=%{y}<extra></extra>\",\"legendgroup\":\"28.9\",\"marker\":{\"color\":\"#FFA15A\",\"pattern\":{\"shape\":\"\"}},\"name\":\"28.9\",\"offsetgroup\":\"28.9\",\"orientation\":\"v\",\"showlegend\":true,\"x\":[5.1,12.0],\"xaxis\":\"x\",\"y\":[3,1],\"yaxis\":\"y\",\"type\":\"histogram\"},{\"alignmentgroup\":\"True\",\"bingroup\":\"x\",\"histfunc\":\"sum\",\"hovertemplate\":\"Y house price of unit area=40.1<br>X2 house age=%{x}<br>sum of X4 number of convenience stores=%{y}<extra></extra>\",\"legendgroup\":\"40.1\",\"marker\":{\"color\":\"#19d3f3\",\"pattern\":{\"shape\":\"\"}},\"name\":\"40.1\",\"offsetgroup\":\"40.1\",\"orientation\":\"v\",\"showlegend\":true,\"x\":[13.6,17.2],\"xaxis\":\"x\",\"y\":[5,5],\"yaxis\":\"y\",\"type\":\"histogram\"},{\"alignmentgroup\":\"True\",\"bingroup\":\"x\",\"histfunc\":\"sum\",\"hovertemplate\":\"Y house price of unit area=52.2<br>X2 house age=%{x}<br>sum of X4 number of convenience stores=%{y}<extra></extra>\",\"legendgroup\":\"52.2\",\"marker\":{\"color\":\"#FF6692\",\"pattern\":{\"shape\":\"\"}},\"name\":\"52.2\",\"offsetgroup\":\"52.2\",\"orientation\":\"v\",\"showlegend\":true,\"x\":[0.0,5.2,0.0],\"xaxis\":\"x\",\"y\":[0,5,1],\"yaxis\":\"y\",\"type\":\"histogram\"},{\"alignmentgroup\":\"True\",\"bingroup\":\"x\",\"histfunc\":\"sum\",\"hovertemplate\":\"Y house price of unit area=45.1<br>X2 house age=%{x}<br>sum of X4 number of convenience stores=%{y}<extra></extra>\",\"legendgroup\":\"45.1\",\"marker\":{\"color\":\"#B6E880\",\"pattern\":{\"shape\":\"\"}},\"name\":\"45.1\",\"offsetgroup\":\"45.1\",\"orientation\":\"v\",\"showlegend\":true,\"x\":[16.4,1.1],\"xaxis\":\"x\",\"y\":[0,6],\"yaxis\":\"y\",\"type\":\"histogram\"},{\"alignmentgroup\":\"True\",\"bingroup\":\"x\",\"histfunc\":\"sum\",\"hovertemplate\":\"Y house price of unit area=39.7<br>X2 house age=%{x}<br>sum of X4 number of convenience stores=%{y}<extra></extra>\",\"legendgroup\":\"39.7\",\"marker\":{\"color\":\"#FF97FF\",\"pattern\":{\"shape\":\"\"}},\"name\":\"39.7\",\"offsetgroup\":\"39.7\",\"orientation\":\"v\",\"showlegend\":true,\"x\":[34.9,37.8,30.9],\"xaxis\":\"x\",\"y\":[8,1,9],\"yaxis\":\"y\",\"type\":\"histogram\"},{\"alignmentgroup\":\"True\",\"bingroup\":\"x\",\"histfunc\":\"sum\",\"hovertemplate\":\"Y house price of unit area=48.5<br>X2 house age=%{x}<br>sum of X4 number of convenience stores=%{y}<extra></extra>\",\"legendgroup\":\"48.5\",\"marker\":{\"color\":\"#FECB52\",\"pattern\":{\"shape\":\"\"}},\"name\":\"48.5\",\"offsetgroup\":\"48.5\",\"orientation\":\"v\",\"showlegend\":true,\"x\":[35.8,30.6],\"xaxis\":\"x\",\"y\":[7,10],\"yaxis\":\"y\",\"type\":\"histogram\"},{\"alignmentgroup\":\"True\",\"bingroup\":\"x\",\"histfunc\":\"sum\",\"hovertemplate\":\"Y house price of unit area=44.7<br>X2 house age=%{x}<br>sum of X4 number of convenience stores=%{y}<extra></extra>\",\"legendgroup\":\"44.7\",\"marker\":{\"color\":\"#636efa\",\"pattern\":{\"shape\":\"\"}},\"name\":\"44.7\",\"offsetgroup\":\"44.7\",\"orientation\":\"v\",\"showlegend\":true,\"x\":[4.9],\"xaxis\":\"x\",\"y\":[9],\"yaxis\":\"y\",\"type\":\"histogram\"},{\"alignmentgroup\":\"True\",\"bingroup\":\"x\",\"histfunc\":\"sum\",\"hovertemplate\":\"Y house price of unit area=40.9<br>X2 house age=%{x}<br>sum of X4 number of convenience stores=%{y}<extra></extra>\",\"legendgroup\":\"40.9\",\"marker\":{\"color\":\"#EF553B\",\"pattern\":{\"shape\":\"\"}},\"name\":\"40.9\",\"offsetgroup\":\"40.9\",\"orientation\":\"v\",\"showlegend\":true,\"x\":[6.5,34.8],\"xaxis\":\"x\",\"y\":[6,8],\"yaxis\":\"y\",\"type\":\"histogram\"},{\"alignmentgroup\":\"True\",\"bingroup\":\"x\",\"histfunc\":\"sum\",\"hovertemplate\":\"Y house price of unit area=15.6<br>X2 house age=%{x}<br>sum of X4 number of convenience stores=%{y}<extra></extra>\",\"legendgroup\":\"15.6\",\"marker\":{\"color\":\"#00cc96\",\"pattern\":{\"shape\":\"\"}},\"name\":\"15.6\",\"offsetgroup\":\"15.6\",\"orientation\":\"v\",\"showlegend\":true,\"x\":[13.8,25.6],\"xaxis\":\"x\",\"y\":[0,0],\"yaxis\":\"y\",\"type\":\"histogram\"},{\"alignmentgroup\":\"True\",\"bingroup\":\"x\",\"histfunc\":\"sum\",\"hovertemplate\":\"Y house price of unit area=35.6<br>X2 house age=%{x}<br>sum of X4 number of convenience stores=%{y}<extra></extra>\",\"legendgroup\":\"35.6\",\"marker\":{\"color\":\"#ab63fa\",\"pattern\":{\"shape\":\"\"}},\"name\":\"35.6\",\"offsetgroup\":\"35.6\",\"orientation\":\"v\",\"showlegend\":true,\"x\":[16.1,5.1],\"xaxis\":\"x\",\"y\":[4,2],\"yaxis\":\"y\",\"type\":\"histogram\"},{\"alignmentgroup\":\"True\",\"bingroup\":\"x\",\"histfunc\":\"sum\",\"hovertemplate\":\"Y house price of unit area=57.8<br>X2 house age=%{x}<br>sum of X4 number of convenience stores=%{y}<extra></extra>\",\"legendgroup\":\"57.8\",\"marker\":{\"color\":\"#FFA15A\",\"pattern\":{\"shape\":\"\"}},\"name\":\"57.8\",\"offsetgroup\":\"57.8\",\"orientation\":\"v\",\"showlegend\":true,\"x\":[3.5],\"xaxis\":\"x\",\"y\":[8],\"yaxis\":\"y\",\"type\":\"histogram\"},{\"alignmentgroup\":\"True\",\"bingroup\":\"x\",\"histfunc\":\"sum\",\"hovertemplate\":\"Y house price of unit area=39.6<br>X2 house age=%{x}<br>sum of X4 number of convenience stores=%{y}<extra></extra>\",\"legendgroup\":\"39.6\",\"marker\":{\"color\":\"#19d3f3\",\"pattern\":{\"shape\":\"\"}},\"name\":\"39.6\",\"offsetgroup\":\"39.6\",\"orientation\":\"v\",\"showlegend\":true,\"x\":[19.2,39.8],\"xaxis\":\"x\",\"y\":[3,2],\"yaxis\":\"y\",\"type\":\"histogram\"},{\"alignmentgroup\":\"True\",\"bingroup\":\"x\",\"histfunc\":\"sum\",\"hovertemplate\":\"Y house price of unit area=11.6<br>X2 house age=%{x}<br>sum of X4 number of convenience stores=%{y}<extra></extra>\",\"legendgroup\":\"11.6\",\"marker\":{\"color\":\"#FF6692\",\"pattern\":{\"shape\":\"\"}},\"name\":\"11.6\",\"offsetgroup\":\"11.6\",\"orientation\":\"v\",\"showlegend\":true,\"x\":[16.0],\"xaxis\":\"x\",\"y\":[0],\"yaxis\":\"y\",\"type\":\"histogram\"},{\"alignmentgroup\":\"True\",\"bingroup\":\"x\",\"histfunc\":\"sum\",\"hovertemplate\":\"Y house price of unit area=55.5<br>X2 house age=%{x}<br>sum of X4 number of convenience stores=%{y}<extra></extra>\",\"legendgroup\":\"55.5\",\"marker\":{\"color\":\"#B6E880\",\"pattern\":{\"shape\":\"\"}},\"name\":\"55.5\",\"offsetgroup\":\"55.5\",\"orientation\":\"v\",\"showlegend\":true,\"x\":[8.5],\"xaxis\":\"x\",\"y\":[5],\"yaxis\":\"y\",\"type\":\"histogram\"},{\"alignmentgroup\":\"True\",\"bingroup\":\"x\",\"histfunc\":\"sum\",\"hovertemplate\":\"Y house price of unit area=55.2<br>X2 house age=%{x}<br>sum of X4 number of convenience stores=%{y}<extra></extra>\",\"legendgroup\":\"55.2\",\"marker\":{\"color\":\"#FF97FF\",\"pattern\":{\"shape\":\"\"}},\"name\":\"55.2\",\"offsetgroup\":\"55.2\",\"orientation\":\"v\",\"showlegend\":true,\"x\":[0.0],\"xaxis\":\"x\",\"y\":[0],\"yaxis\":\"y\",\"type\":\"histogram\"},{\"alignmentgroup\":\"True\",\"bingroup\":\"x\",\"histfunc\":\"sum\",\"hovertemplate\":\"Y house price of unit area=73.6<br>X2 house age=%{x}<br>sum of X4 number of convenience stores=%{y}<extra></extra>\",\"legendgroup\":\"73.6\",\"marker\":{\"color\":\"#FECB52\",\"pattern\":{\"shape\":\"\"}},\"name\":\"73.6\",\"offsetgroup\":\"73.6\",\"orientation\":\"v\",\"showlegend\":true,\"x\":[0.0],\"xaxis\":\"x\",\"y\":[6],\"yaxis\":\"y\",\"type\":\"histogram\"},{\"alignmentgroup\":\"True\",\"bingroup\":\"x\",\"histfunc\":\"sum\",\"hovertemplate\":\"Y house price of unit area=43.4<br>X2 house age=%{x}<br>sum of X4 number of convenience stores=%{y}<extra></extra>\",\"legendgroup\":\"43.4\",\"marker\":{\"color\":\"#636efa\",\"pattern\":{\"shape\":\"\"}},\"name\":\"43.4\",\"offsetgroup\":\"43.4\",\"orientation\":\"v\",\"showlegend\":true,\"x\":[28.2],\"xaxis\":\"x\",\"y\":[8],\"yaxis\":\"y\",\"type\":\"histogram\"},{\"alignmentgroup\":\"True\",\"bingroup\":\"x\",\"histfunc\":\"sum\",\"hovertemplate\":\"Y house price of unit area=23.5<br>X2 house age=%{x}<br>sum of X4 number of convenience stores=%{y}<extra></extra>\",\"legendgroup\":\"23.5\",\"marker\":{\"color\":\"#EF553B\",\"pattern\":{\"shape\":\"\"}},\"name\":\"23.5\",\"offsetgroup\":\"23.5\",\"orientation\":\"v\",\"showlegend\":true,\"x\":[8.4,33.5],\"xaxis\":\"x\",\"y\":[1,2],\"yaxis\":\"y\",\"type\":\"histogram\"},{\"alignmentgroup\":\"True\",\"bingroup\":\"x\",\"histfunc\":\"sum\",\"hovertemplate\":\"Y house price of unit area=14.4<br>X2 house age=%{x}<br>sum of X4 number of convenience stores=%{y}<extra></extra>\",\"legendgroup\":\"14.4\",\"marker\":{\"color\":\"#00cc96\",\"pattern\":{\"shape\":\"\"}},\"name\":\"14.4\",\"offsetgroup\":\"14.4\",\"orientation\":\"v\",\"showlegend\":true,\"x\":[24.0],\"xaxis\":\"x\",\"y\":[0],\"yaxis\":\"y\",\"type\":\"histogram\"},{\"alignmentgroup\":\"True\",\"bingroup\":\"x\",\"histfunc\":\"sum\",\"hovertemplate\":\"Y house price of unit area=58.8<br>X2 house age=%{x}<br>sum of X4 number of convenience stores=%{y}<extra></extra>\",\"legendgroup\":\"58.8\",\"marker\":{\"color\":\"#ab63fa\",\"pattern\":{\"shape\":\"\"}},\"name\":\"58.8\",\"offsetgroup\":\"58.8\",\"orientation\":\"v\",\"showlegend\":true,\"x\":[3.6],\"xaxis\":\"x\",\"y\":[5],\"yaxis\":\"y\",\"type\":\"histogram\"},{\"alignmentgroup\":\"True\",\"bingroup\":\"x\",\"histfunc\":\"sum\",\"hovertemplate\":\"Y house price of unit area=35.1<br>X2 house age=%{x}<br>sum of X4 number of convenience stores=%{y}<extra></extra>\",\"legendgroup\":\"35.1\",\"marker\":{\"color\":\"#FFA15A\",\"pattern\":{\"shape\":\"\"}},\"name\":\"35.1\",\"offsetgroup\":\"35.1\",\"orientation\":\"v\",\"showlegend\":true,\"x\":[41.3],\"xaxis\":\"x\",\"y\":[4],\"yaxis\":\"y\",\"type\":\"histogram\"},{\"alignmentgroup\":\"True\",\"bingroup\":\"x\",\"histfunc\":\"sum\",\"hovertemplate\":\"Y house price of unit area=45.2<br>X2 house age=%{x}<br>sum of X4 number of convenience stores=%{y}<extra></extra>\",\"legendgroup\":\"45.2\",\"marker\":{\"color\":\"#19d3f3\",\"pattern\":{\"shape\":\"\"}},\"name\":\"45.2\",\"offsetgroup\":\"45.2\",\"orientation\":\"v\",\"showlegend\":true,\"x\":[4.3],\"xaxis\":\"x\",\"y\":[7],\"yaxis\":\"y\",\"type\":\"histogram\"},{\"alignmentgroup\":\"True\",\"bingroup\":\"x\",\"histfunc\":\"sum\",\"hovertemplate\":\"Y house price of unit area=36.5<br>X2 house age=%{x}<br>sum of X4 number of convenience stores=%{y}<extra></extra>\",\"legendgroup\":\"36.5\",\"marker\":{\"color\":\"#FF6692\",\"pattern\":{\"shape\":\"\"}},\"name\":\"36.5\",\"offsetgroup\":\"36.5\",\"orientation\":\"v\",\"showlegend\":true,\"x\":[30.2,27.3],\"xaxis\":\"x\",\"y\":[3,6],\"yaxis\":\"y\",\"type\":\"histogram\"},{\"alignmentgroup\":\"True\",\"bingroup\":\"x\",\"histfunc\":\"sum\",\"hovertemplate\":\"Y house price of unit area=19.2<br>X2 house age=%{x}<br>sum of X4 number of convenience stores=%{y}<extra></extra>\",\"legendgroup\":\"19.2\",\"marker\":{\"color\":\"#B6E880\",\"pattern\":{\"shape\":\"\"}},\"name\":\"19.2\",\"offsetgroup\":\"19.2\",\"orientation\":\"v\",\"showlegend\":true,\"x\":[13.9,13.6],\"xaxis\":\"x\",\"y\":[0,0],\"yaxis\":\"y\",\"type\":\"histogram\"},{\"alignmentgroup\":\"True\",\"bingroup\":\"x\",\"histfunc\":\"sum\",\"hovertemplate\":\"Y house price of unit area=36.7<br>X2 house age=%{x}<br>sum of X4 number of convenience stores=%{y}<extra></extra>\",\"legendgroup\":\"36.7\",\"marker\":{\"color\":\"#FF97FF\",\"pattern\":{\"shape\":\"\"}},\"name\":\"36.7\",\"offsetgroup\":\"36.7\",\"orientation\":\"v\",\"showlegend\":true,\"x\":[13.1,3.5],\"xaxis\":\"x\",\"y\":[4,3],\"yaxis\":\"y\",\"type\":\"histogram\"},{\"alignmentgroup\":\"True\",\"bingroup\":\"x\",\"histfunc\":\"sum\",\"hovertemplate\":\"Y house price of unit area=42.6<br>X2 house age=%{x}<br>sum of X4 number of convenience stores=%{y}<extra></extra>\",\"legendgroup\":\"42.6\",\"marker\":{\"color\":\"#FECB52\",\"pattern\":{\"shape\":\"\"}},\"name\":\"42.6\",\"offsetgroup\":\"42.6\",\"orientation\":\"v\",\"showlegend\":true,\"x\":[14.0],\"xaxis\":\"x\",\"y\":[1],\"yaxis\":\"y\",\"type\":\"histogram\"},{\"alignmentgroup\":\"True\",\"bingroup\":\"x\",\"histfunc\":\"sum\",\"hovertemplate\":\"Y house price of unit area=15.5<br>X2 house age=%{x}<br>sum of X4 number of convenience stores=%{y}<extra></extra>\",\"legendgroup\":\"15.5\",\"marker\":{\"color\":\"#636efa\",\"pattern\":{\"shape\":\"\"}},\"name\":\"15.5\",\"offsetgroup\":\"15.5\",\"orientation\":\"v\",\"showlegend\":true,\"x\":[26.9],\"xaxis\":\"x\",\"y\":[0],\"yaxis\":\"y\",\"type\":\"histogram\"},{\"alignmentgroup\":\"True\",\"bingroup\":\"x\",\"histfunc\":\"sum\",\"hovertemplate\":\"Y house price of unit area=55.9<br>X2 house age=%{x}<br>sum of X4 number of convenience stores=%{y}<extra></extra>\",\"legendgroup\":\"55.9\",\"marker\":{\"color\":\"#EF553B\",\"pattern\":{\"shape\":\"\"}},\"name\":\"55.9\",\"offsetgroup\":\"55.9\",\"orientation\":\"v\",\"showlegend\":true,\"x\":[11.6],\"xaxis\":\"x\",\"y\":[8],\"yaxis\":\"y\",\"type\":\"histogram\"},{\"alignmentgroup\":\"True\",\"bingroup\":\"x\",\"histfunc\":\"sum\",\"hovertemplate\":\"Y house price of unit area=23.6<br>X2 house age=%{x}<br>sum of X4 number of convenience stores=%{y}<extra></extra>\",\"legendgroup\":\"23.6\",\"marker\":{\"color\":\"#00cc96\",\"pattern\":{\"shape\":\"\"}},\"name\":\"23.6\",\"offsetgroup\":\"23.6\",\"orientation\":\"v\",\"showlegend\":true,\"x\":[13.5,15.9],\"xaxis\":\"x\",\"y\":[3,3],\"yaxis\":\"y\",\"type\":\"histogram\"},{\"alignmentgroup\":\"True\",\"bingroup\":\"x\",\"histfunc\":\"sum\",\"hovertemplate\":\"Y house price of unit area=21.5<br>X2 house age=%{x}<br>sum of X4 number of convenience stores=%{y}<extra></extra>\",\"legendgroup\":\"21.5\",\"marker\":{\"color\":\"#ab63fa\",\"pattern\":{\"shape\":\"\"}},\"name\":\"21.5\",\"offsetgroup\":\"21.5\",\"orientation\":\"v\",\"showlegend\":true,\"x\":[31.4],\"xaxis\":\"x\",\"y\":[3],\"yaxis\":\"y\",\"type\":\"histogram\"},{\"alignmentgroup\":\"True\",\"bingroup\":\"x\",\"histfunc\":\"sum\",\"hovertemplate\":\"Y house price of unit area=25.7<br>X2 house age=%{x}<br>sum of X4 number of convenience stores=%{y}<extra></extra>\",\"legendgroup\":\"25.7\",\"marker\":{\"color\":\"#FFA15A\",\"pattern\":{\"shape\":\"\"}},\"name\":\"25.7\",\"offsetgroup\":\"25.7\",\"orientation\":\"v\",\"showlegend\":true,\"x\":[20.9,18.4],\"xaxis\":\"x\",\"y\":[3,3],\"yaxis\":\"y\",\"type\":\"histogram\"},{\"alignmentgroup\":\"True\",\"bingroup\":\"x\",\"histfunc\":\"sum\",\"hovertemplate\":\"Y house price of unit area=22.0<br>X2 house age=%{x}<br>sum of X4 number of convenience stores=%{y}<extra></extra>\",\"legendgroup\":\"22.0\",\"marker\":{\"color\":\"#19d3f3\",\"pattern\":{\"shape\":\"\"}},\"name\":\"22.0\",\"offsetgroup\":\"22.0\",\"orientation\":\"v\",\"showlegend\":true,\"x\":[8.9],\"xaxis\":\"x\",\"y\":[0],\"yaxis\":\"y\",\"type\":\"histogram\"},{\"alignmentgroup\":\"True\",\"bingroup\":\"x\",\"histfunc\":\"sum\",\"hovertemplate\":\"Y house price of unit area=20.5<br>X2 house age=%{x}<br>sum of X4 number of convenience stores=%{y}<extra></extra>\",\"legendgroup\":\"20.5\",\"marker\":{\"color\":\"#FF6692\",\"pattern\":{\"shape\":\"\"}},\"name\":\"20.5\",\"offsetgroup\":\"20.5\",\"orientation\":\"v\",\"showlegend\":true,\"x\":[16.3],\"xaxis\":\"x\",\"y\":[0],\"yaxis\":\"y\",\"type\":\"histogram\"},{\"alignmentgroup\":\"True\",\"bingroup\":\"x\",\"histfunc\":\"sum\",\"hovertemplate\":\"Y house price of unit area=37.8<br>X2 house age=%{x}<br>sum of X4 number of convenience stores=%{y}<extra></extra>\",\"legendgroup\":\"37.8\",\"marker\":{\"color\":\"#B6E880\",\"pattern\":{\"shape\":\"\"}},\"name\":\"37.8\",\"offsetgroup\":\"37.8\",\"orientation\":\"v\",\"showlegend\":true,\"x\":[13.2],\"xaxis\":\"x\",\"y\":[2],\"yaxis\":\"y\",\"type\":\"histogram\"},{\"alignmentgroup\":\"True\",\"bingroup\":\"x\",\"histfunc\":\"sum\",\"hovertemplate\":\"Y house price of unit area=42.7<br>X2 house age=%{x}<br>sum of X4 number of convenience stores=%{y}<extra></extra>\",\"legendgroup\":\"42.7\",\"marker\":{\"color\":\"#FF97FF\",\"pattern\":{\"shape\":\"\"}},\"name\":\"42.7\",\"offsetgroup\":\"42.7\",\"orientation\":\"v\",\"showlegend\":true,\"x\":[43.8],\"xaxis\":\"x\",\"y\":[7],\"yaxis\":\"y\",\"type\":\"histogram\"},{\"alignmentgroup\":\"True\",\"bingroup\":\"x\",\"histfunc\":\"sum\",\"hovertemplate\":\"Y house price of unit area=36.6<br>X2 house age=%{x}<br>sum of X4 number of convenience stores=%{y}<extra></extra>\",\"legendgroup\":\"36.6\",\"marker\":{\"color\":\"#FECB52\",\"pattern\":{\"shape\":\"\"}},\"name\":\"36.6\",\"offsetgroup\":\"36.6\",\"orientation\":\"v\",\"showlegend\":true,\"x\":[22.8],\"xaxis\":\"x\",\"y\":[2],\"yaxis\":\"y\",\"type\":\"histogram\"},{\"alignmentgroup\":\"True\",\"bingroup\":\"x\",\"histfunc\":\"sum\",\"hovertemplate\":\"Y house price of unit area=48.2<br>X2 house age=%{x}<br>sum of X4 number of convenience stores=%{y}<extra></extra>\",\"legendgroup\":\"48.2\",\"marker\":{\"color\":\"#636efa\",\"pattern\":{\"shape\":\"\"}},\"name\":\"48.2\",\"offsetgroup\":\"48.2\",\"orientation\":\"v\",\"showlegend\":true,\"x\":[34.4,32.8],\"xaxis\":\"x\",\"y\":[8,8],\"yaxis\":\"y\",\"type\":\"histogram\"},{\"alignmentgroup\":\"True\",\"bingroup\":\"x\",\"histfunc\":\"sum\",\"hovertemplate\":\"Y house price of unit area=39.1<br>X2 house age=%{x}<br>sum of X4 number of convenience stores=%{y}<extra></extra>\",\"legendgroup\":\"39.1\",\"marker\":{\"color\":\"#EF553B\",\"pattern\":{\"shape\":\"\"}},\"name\":\"39.1\",\"offsetgroup\":\"39.1\",\"orientation\":\"v\",\"showlegend\":true,\"x\":[34.0],\"xaxis\":\"x\",\"y\":[7],\"yaxis\":\"y\",\"type\":\"histogram\"},{\"alignmentgroup\":\"True\",\"bingroup\":\"x\",\"histfunc\":\"sum\",\"hovertemplate\":\"Y house price of unit area=31.6<br>X2 house age=%{x}<br>sum of X4 number of convenience stores=%{y}<extra></extra>\",\"legendgroup\":\"31.6\",\"marker\":{\"color\":\"#00cc96\",\"pattern\":{\"shape\":\"\"}},\"name\":\"31.6\",\"offsetgroup\":\"31.6\",\"orientation\":\"v\",\"showlegend\":true,\"x\":[18.2],\"xaxis\":\"x\",\"y\":[8],\"yaxis\":\"y\",\"type\":\"histogram\"},{\"alignmentgroup\":\"True\",\"bingroup\":\"x\",\"histfunc\":\"sum\",\"hovertemplate\":\"Y house price of unit area=25.5<br>X2 house age=%{x}<br>sum of X4 number of convenience stores=%{y}<extra></extra>\",\"legendgroup\":\"25.5\",\"marker\":{\"color\":\"#ab63fa\",\"pattern\":{\"shape\":\"\"}},\"name\":\"25.5\",\"offsetgroup\":\"25.5\",\"orientation\":\"v\",\"showlegend\":true,\"x\":[17.4],\"xaxis\":\"x\",\"y\":[0],\"yaxis\":\"y\",\"type\":\"histogram\"},{\"alignmentgroup\":\"True\",\"bingroup\":\"x\",\"histfunc\":\"sum\",\"hovertemplate\":\"Y house price of unit area=45.9<br>X2 house age=%{x}<br>sum of X4 number of convenience stores=%{y}<extra></extra>\",\"legendgroup\":\"45.9\",\"marker\":{\"color\":\"#FFA15A\",\"pattern\":{\"shape\":\"\"}},\"name\":\"45.9\",\"offsetgroup\":\"45.9\",\"orientation\":\"v\",\"showlegend\":true,\"x\":[13.1],\"xaxis\":\"x\",\"y\":[5],\"yaxis\":\"y\",\"type\":\"histogram\"},{\"alignmentgroup\":\"True\",\"bingroup\":\"x\",\"histfunc\":\"sum\",\"hovertemplate\":\"Y house price of unit area=31.5<br>X2 house age=%{x}<br>sum of X4 number of convenience stores=%{y}<extra></extra>\",\"legendgroup\":\"31.5\",\"marker\":{\"color\":\"#19d3f3\",\"pattern\":{\"shape\":\"\"}},\"name\":\"31.5\",\"offsetgroup\":\"31.5\",\"orientation\":\"v\",\"showlegend\":true,\"x\":[38.3],\"xaxis\":\"x\",\"y\":[3],\"yaxis\":\"y\",\"type\":\"histogram\"},{\"alignmentgroup\":\"True\",\"bingroup\":\"x\",\"histfunc\":\"sum\",\"hovertemplate\":\"Y house price of unit area=46.1<br>X2 house age=%{x}<br>sum of X4 number of convenience stores=%{y}<extra></extra>\",\"legendgroup\":\"46.1\",\"marker\":{\"color\":\"#FF6692\",\"pattern\":{\"shape\":\"\"}},\"name\":\"46.1\",\"offsetgroup\":\"46.1\",\"orientation\":\"v\",\"showlegend\":true,\"x\":[15.6,33.2],\"xaxis\":\"x\",\"y\":[5,10],\"yaxis\":\"y\",\"type\":\"histogram\"},{\"alignmentgroup\":\"True\",\"bingroup\":\"x\",\"histfunc\":\"sum\",\"hovertemplate\":\"Y house price of unit area=21.4<br>X2 house age=%{x}<br>sum of X4 number of convenience stores=%{y}<extra></extra>\",\"legendgroup\":\"21.4\",\"marker\":{\"color\":\"#B6E880\",\"pattern\":{\"shape\":\"\"}},\"name\":\"21.4\",\"offsetgroup\":\"21.4\",\"orientation\":\"v\",\"showlegend\":true,\"x\":[12.8],\"xaxis\":\"x\",\"y\":[3],\"yaxis\":\"y\",\"type\":\"histogram\"},{\"alignmentgroup\":\"True\",\"bingroup\":\"x\",\"histfunc\":\"sum\",\"hovertemplate\":\"Y house price of unit area=44.0<br>X2 house age=%{x}<br>sum of X4 number of convenience stores=%{y}<extra></extra>\",\"legendgroup\":\"44.0\",\"marker\":{\"color\":\"#FF97FF\",\"pattern\":{\"shape\":\"\"}},\"name\":\"44.0\",\"offsetgroup\":\"44.0\",\"orientation\":\"v\",\"showlegend\":true,\"x\":[22.2,0.0],\"xaxis\":\"x\",\"y\":[10,6],\"yaxis\":\"y\",\"type\":\"histogram\"},{\"alignmentgroup\":\"True\",\"bingroup\":\"x\",\"histfunc\":\"sum\",\"hovertemplate\":\"Y house price of unit area=26.2<br>X2 house age=%{x}<br>sum of X4 number of convenience stores=%{y}<extra></extra>\",\"legendgroup\":\"26.2\",\"marker\":{\"color\":\"#FECB52\",\"pattern\":{\"shape\":\"\"}},\"name\":\"26.2\",\"offsetgroup\":\"26.2\",\"orientation\":\"v\",\"showlegend\":true,\"x\":[11.5],\"xaxis\":\"x\",\"y\":[1],\"yaxis\":\"y\",\"type\":\"histogram\"},{\"alignmentgroup\":\"True\",\"bingroup\":\"x\",\"histfunc\":\"sum\",\"hovertemplate\":\"Y house price of unit area=31.1<br>X2 house age=%{x}<br>sum of X4 number of convenience stores=%{y}<extra></extra>\",\"legendgroup\":\"31.1\",\"marker\":{\"color\":\"#636efa\",\"pattern\":{\"shape\":\"\"}},\"name\":\"31.1\",\"offsetgroup\":\"31.1\",\"orientation\":\"v\",\"showlegend\":true,\"x\":[17.6,2.6],\"xaxis\":\"x\",\"y\":[2,3],\"yaxis\":\"y\",\"type\":\"histogram\"},{\"alignmentgroup\":\"True\",\"bingroup\":\"x\",\"histfunc\":\"sum\",\"hovertemplate\":\"Y house price of unit area=58.0<br>X2 house age=%{x}<br>sum of X4 number of convenience stores=%{y}<extra></extra>\",\"legendgroup\":\"58.0\",\"marker\":{\"color\":\"#EF553B\",\"pattern\":{\"shape\":\"\"}},\"name\":\"58.0\",\"offsetgroup\":\"58.0\",\"orientation\":\"v\",\"showlegend\":true,\"x\":[6.2],\"xaxis\":\"x\",\"y\":[9],\"yaxis\":\"y\",\"type\":\"histogram\"},{\"alignmentgroup\":\"True\",\"bingroup\":\"x\",\"histfunc\":\"sum\",\"hovertemplate\":\"Y house price of unit area=20.9<br>X2 house age=%{x}<br>sum of X4 number of convenience stores=%{y}<extra></extra>\",\"legendgroup\":\"20.9\",\"marker\":{\"color\":\"#00cc96\",\"pattern\":{\"shape\":\"\"}},\"name\":\"20.9\",\"offsetgroup\":\"20.9\",\"orientation\":\"v\",\"showlegend\":true,\"x\":[18.1,15.0],\"xaxis\":\"x\",\"y\":[3,2],\"yaxis\":\"y\",\"type\":\"histogram\"},{\"alignmentgroup\":\"True\",\"bingroup\":\"x\",\"histfunc\":\"sum\",\"hovertemplate\":\"Y house price of unit area=43.8<br>X2 house age=%{x}<br>sum of X4 number of convenience stores=%{y}<extra></extra>\",\"legendgroup\":\"43.8\",\"marker\":{\"color\":\"#ab63fa\",\"pattern\":{\"shape\":\"\"}},\"name\":\"43.8\",\"offsetgroup\":\"43.8\",\"orientation\":\"v\",\"showlegend\":true,\"x\":[13.6],\"xaxis\":\"x\",\"y\":[5],\"yaxis\":\"y\",\"type\":\"histogram\"},{\"alignmentgroup\":\"True\",\"bingroup\":\"x\",\"histfunc\":\"sum\",\"hovertemplate\":\"Y house price of unit area=40.2<br>X2 house age=%{x}<br>sum of X4 number of convenience stores=%{y}<extra></extra>\",\"legendgroup\":\"40.2\",\"marker\":{\"color\":\"#FFA15A\",\"pattern\":{\"shape\":\"\"}},\"name\":\"40.2\",\"offsetgroup\":\"40.2\",\"orientation\":\"v\",\"showlegend\":true,\"x\":[29.3,32.4],\"xaxis\":\"x\",\"y\":[8,8],\"yaxis\":\"y\",\"type\":\"histogram\"},{\"alignmentgroup\":\"True\",\"bingroup\":\"x\",\"histfunc\":\"sum\",\"hovertemplate\":\"Y house price of unit area=78.3<br>X2 house age=%{x}<br>sum of X4 number of convenience stores=%{y}<extra></extra>\",\"legendgroup\":\"78.3\",\"marker\":{\"color\":\"#19d3f3\",\"pattern\":{\"shape\":\"\"}},\"name\":\"78.3\",\"offsetgroup\":\"78.3\",\"orientation\":\"v\",\"showlegend\":true,\"x\":[37.2],\"xaxis\":\"x\",\"y\":[9],\"yaxis\":\"y\",\"type\":\"histogram\"},{\"alignmentgroup\":\"True\",\"bingroup\":\"x\",\"histfunc\":\"sum\",\"hovertemplate\":\"Y house price of unit area=38.5<br>X2 house age=%{x}<br>sum of X4 number of convenience stores=%{y}<extra></extra>\",\"legendgroup\":\"38.5\",\"marker\":{\"color\":\"#FF6692\",\"pattern\":{\"shape\":\"\"}},\"name\":\"38.5\",\"offsetgroup\":\"38.5\",\"orientation\":\"v\",\"showlegend\":true,\"x\":[9.0],\"xaxis\":\"x\",\"y\":[0],\"yaxis\":\"y\",\"type\":\"histogram\"},{\"alignmentgroup\":\"True\",\"bingroup\":\"x\",\"histfunc\":\"sum\",\"hovertemplate\":\"Y house price of unit area=46.0<br>X2 house age=%{x}<br>sum of X4 number of convenience stores=%{y}<extra></extra>\",\"legendgroup\":\"46.0\",\"marker\":{\"color\":\"#B6E880\",\"pattern\":{\"shape\":\"\"}},\"name\":\"46.0\",\"offsetgroup\":\"46.0\",\"orientation\":\"v\",\"showlegend\":true,\"x\":[34.5],\"xaxis\":\"x\",\"y\":[6],\"yaxis\":\"y\",\"type\":\"histogram\"},{\"alignmentgroup\":\"True\",\"bingroup\":\"x\",\"histfunc\":\"sum\",\"hovertemplate\":\"Y house price of unit area=49.0<br>X2 house age=%{x}<br>sum of X4 number of convenience stores=%{y}<extra></extra>\",\"legendgroup\":\"49.0\",\"marker\":{\"color\":\"#FF97FF\",\"pattern\":{\"shape\":\"\"}},\"name\":\"49.0\",\"offsetgroup\":\"49.0\",\"orientation\":\"v\",\"showlegend\":true,\"x\":[1.1],\"xaxis\":\"x\",\"y\":[6],\"yaxis\":\"y\",\"type\":\"histogram\"},{\"alignmentgroup\":\"True\",\"bingroup\":\"x\",\"histfunc\":\"sum\",\"hovertemplate\":\"Y house price of unit area=12.8<br>X2 house age=%{x}<br>sum of X4 number of convenience stores=%{y}<extra></extra>\",\"legendgroup\":\"12.8\",\"marker\":{\"color\":\"#FECB52\",\"pattern\":{\"shape\":\"\"}},\"name\":\"12.8\",\"offsetgroup\":\"12.8\",\"orientation\":\"v\",\"showlegend\":true,\"x\":[16.5,32.0],\"xaxis\":\"x\",\"y\":[0,0],\"yaxis\":\"y\",\"type\":\"histogram\"},{\"alignmentgroup\":\"True\",\"bingroup\":\"x\",\"histfunc\":\"sum\",\"hovertemplate\":\"Y house price of unit area=46.6<br>X2 house age=%{x}<br>sum of X4 number of convenience stores=%{y}<extra></extra>\",\"legendgroup\":\"46.6\",\"marker\":{\"color\":\"#636efa\",\"pattern\":{\"shape\":\"\"}},\"name\":\"46.6\",\"offsetgroup\":\"46.6\",\"orientation\":\"v\",\"showlegend\":true,\"x\":[11.9,33.5,18.3],\"xaxis\":\"x\",\"y\":[0,8,10],\"yaxis\":\"y\",\"type\":\"histogram\"},{\"alignmentgroup\":\"True\",\"bingroup\":\"x\",\"histfunc\":\"sum\",\"hovertemplate\":\"Y house price of unit area=19.0<br>X2 house age=%{x}<br>sum of X4 number of convenience stores=%{y}<extra></extra>\",\"legendgroup\":\"19.0\",\"marker\":{\"color\":\"#EF553B\",\"pattern\":{\"shape\":\"\"}},\"name\":\"19.0\",\"offsetgroup\":\"19.0\",\"orientation\":\"v\",\"showlegend\":true,\"x\":[31.0],\"xaxis\":\"x\",\"y\":[0],\"yaxis\":\"y\",\"type\":\"histogram\"},{\"alignmentgroup\":\"True\",\"bingroup\":\"x\",\"histfunc\":\"sum\",\"hovertemplate\":\"Y house price of unit area=33.4<br>X2 house age=%{x}<br>sum of X4 number of convenience stores=%{y}<extra></extra>\",\"legendgroup\":\"33.4\",\"marker\":{\"color\":\"#00cc96\",\"pattern\":{\"shape\":\"\"}},\"name\":\"33.4\",\"offsetgroup\":\"33.4\",\"orientation\":\"v\",\"showlegend\":true,\"x\":[4.0,2.0],\"xaxis\":\"x\",\"y\":[3,3],\"yaxis\":\"y\",\"type\":\"histogram\"},{\"alignmentgroup\":\"True\",\"bingroup\":\"x\",\"histfunc\":\"sum\",\"hovertemplate\":\"Y house price of unit area=14.7<br>X2 house age=%{x}<br>sum of X4 number of convenience stores=%{y}<extra></extra>\",\"legendgroup\":\"14.7\",\"marker\":{\"color\":\"#ab63fa\",\"pattern\":{\"shape\":\"\"}},\"name\":\"14.7\",\"offsetgroup\":\"14.7\",\"orientation\":\"v\",\"showlegend\":true,\"x\":[16.2],\"xaxis\":\"x\",\"y\":[0],\"yaxis\":\"y\",\"type\":\"histogram\"},{\"alignmentgroup\":\"True\",\"bingroup\":\"x\",\"histfunc\":\"sum\",\"hovertemplate\":\"Y house price of unit area=17.4<br>X2 house age=%{x}<br>sum of X4 number of convenience stores=%{y}<extra></extra>\",\"legendgroup\":\"17.4\",\"marker\":{\"color\":\"#FFA15A\",\"pattern\":{\"shape\":\"\"}},\"name\":\"17.4\",\"offsetgroup\":\"17.4\",\"orientation\":\"v\",\"showlegend\":true,\"x\":[27.1,31.5],\"xaxis\":\"x\",\"y\":[1,1],\"yaxis\":\"y\",\"type\":\"histogram\"},{\"alignmentgroup\":\"True\",\"bingroup\":\"x\",\"histfunc\":\"sum\",\"hovertemplate\":\"Y house price of unit area=32.4<br>X2 house age=%{x}<br>sum of X4 number of convenience stores=%{y}<extra></extra>\",\"legendgroup\":\"32.4\",\"marker\":{\"color\":\"#19d3f3\",\"pattern\":{\"shape\":\"\"}},\"name\":\"32.4\",\"offsetgroup\":\"32.4\",\"orientation\":\"v\",\"showlegend\":true,\"x\":[39.7],\"xaxis\":\"x\",\"y\":[9],\"yaxis\":\"y\",\"type\":\"histogram\"},{\"alignmentgroup\":\"True\",\"bingroup\":\"x\",\"histfunc\":\"sum\",\"hovertemplate\":\"Y house price of unit area=23.9<br>X2 house age=%{x}<br>sum of X4 number of convenience stores=%{y}<extra></extra>\",\"legendgroup\":\"23.9\",\"marker\":{\"color\":\"#FF6692\",\"pattern\":{\"shape\":\"\"}},\"name\":\"23.9\",\"offsetgroup\":\"23.9\",\"orientation\":\"v\",\"showlegend\":true,\"x\":[8.0],\"xaxis\":\"x\",\"y\":[4],\"yaxis\":\"y\",\"type\":\"histogram\"},{\"alignmentgroup\":\"True\",\"bingroup\":\"x\",\"histfunc\":\"sum\",\"hovertemplate\":\"Y house price of unit area=61.9<br>X2 house age=%{x}<br>sum of X4 number of convenience stores=%{y}<extra></extra>\",\"legendgroup\":\"61.9\",\"marker\":{\"color\":\"#B6E880\",\"pattern\":{\"shape\":\"\"}},\"name\":\"61.9\",\"offsetgroup\":\"61.9\",\"orientation\":\"v\",\"showlegend\":true,\"x\":[3.6],\"xaxis\":\"x\",\"y\":[10],\"yaxis\":\"y\",\"type\":\"histogram\"},{\"alignmentgroup\":\"True\",\"bingroup\":\"x\",\"histfunc\":\"sum\",\"hovertemplate\":\"Y house price of unit area=39.0<br>X2 house age=%{x}<br>sum of X4 number of convenience stores=%{y}<extra></extra>\",\"legendgroup\":\"39.0\",\"marker\":{\"color\":\"#FF97FF\",\"pattern\":{\"shape\":\"\"}},\"name\":\"39.0\",\"offsetgroup\":\"39.0\",\"orientation\":\"v\",\"showlegend\":true,\"x\":[13.0],\"xaxis\":\"x\",\"y\":[0],\"yaxis\":\"y\",\"type\":\"histogram\"},{\"alignmentgroup\":\"True\",\"bingroup\":\"x\",\"histfunc\":\"sum\",\"hovertemplate\":\"Y house price of unit area=40.6<br>X2 house age=%{x}<br>sum of X4 number of convenience stores=%{y}<extra></extra>\",\"legendgroup\":\"40.6\",\"marker\":{\"color\":\"#FECB52\",\"pattern\":{\"shape\":\"\"}},\"name\":\"40.6\",\"offsetgroup\":\"40.6\",\"orientation\":\"v\",\"showlegend\":true,\"x\":[12.8,16.4,32.6,18.8],\"xaxis\":\"x\",\"y\":[0,6,7,7],\"yaxis\":\"y\",\"type\":\"histogram\"},{\"alignmentgroup\":\"True\",\"bingroup\":\"x\",\"histfunc\":\"sum\",\"hovertemplate\":\"Y house price of unit area=29.7<br>X2 house age=%{x}<br>sum of X4 number of convenience stores=%{y}<extra></extra>\",\"legendgroup\":\"29.7\",\"marker\":{\"color\":\"#636efa\",\"pattern\":{\"shape\":\"\"}},\"name\":\"29.7\",\"offsetgroup\":\"29.7\",\"orientation\":\"v\",\"showlegend\":true,\"x\":[18.1],\"xaxis\":\"x\",\"y\":[0],\"yaxis\":\"y\",\"type\":\"histogram\"},{\"alignmentgroup\":\"True\",\"bingroup\":\"x\",\"histfunc\":\"sum\",\"hovertemplate\":\"Y house price of unit area=28.8<br>X2 house age=%{x}<br>sum of X4 number of convenience stores=%{y}<extra></extra>\",\"legendgroup\":\"28.8\",\"marker\":{\"color\":\"#EF553B\",\"pattern\":{\"shape\":\"\"}},\"name\":\"28.8\",\"offsetgroup\":\"28.8\",\"orientation\":\"v\",\"showlegend\":true,\"x\":[11.0,17.7],\"xaxis\":\"x\",\"y\":[2,0],\"yaxis\":\"y\",\"type\":\"histogram\"},{\"alignmentgroup\":\"True\",\"bingroup\":\"x\",\"histfunc\":\"sum\",\"hovertemplate\":\"Y house price of unit area=21.7<br>X2 house age=%{x}<br>sum of X4 number of convenience stores=%{y}<extra></extra>\",\"legendgroup\":\"21.7\",\"marker\":{\"color\":\"#00cc96\",\"pattern\":{\"shape\":\"\"}},\"name\":\"21.7\",\"offsetgroup\":\"21.7\",\"orientation\":\"v\",\"showlegend\":true,\"x\":[4.8],\"xaxis\":\"x\",\"y\":[3],\"yaxis\":\"y\",\"type\":\"histogram\"},{\"alignmentgroup\":\"True\",\"bingroup\":\"x\",\"histfunc\":\"sum\",\"hovertemplate\":\"Y house price of unit area=22.3<br>X2 house age=%{x}<br>sum of X4 number of convenience stores=%{y}<extra></extra>\",\"legendgroup\":\"22.3\",\"marker\":{\"color\":\"#ab63fa\",\"pattern\":{\"shape\":\"\"}},\"name\":\"22.3\",\"offsetgroup\":\"22.3\",\"orientation\":\"v\",\"showlegend\":true,\"x\":[19.0,5.2],\"xaxis\":\"x\",\"y\":[0,0],\"yaxis\":\"y\",\"type\":\"histogram\"},{\"alignmentgroup\":\"True\",\"bingroup\":\"x\",\"histfunc\":\"sum\",\"hovertemplate\":\"Y house price of unit area=15.0<br>X2 house age=%{x}<br>sum of X4 number of convenience stores=%{y}<extra></extra>\",\"legendgroup\":\"15.0\",\"marker\":{\"color\":\"#FFA15A\",\"pattern\":{\"shape\":\"\"}},\"name\":\"15.0\",\"offsetgroup\":\"15.0\",\"orientation\":\"v\",\"showlegend\":true,\"x\":[18.0],\"xaxis\":\"x\",\"y\":[1],\"yaxis\":\"y\",\"type\":\"histogram\"},{\"alignmentgroup\":\"True\",\"bingroup\":\"x\",\"histfunc\":\"sum\",\"hovertemplate\":\"Y house price of unit area=30.0<br>X2 house age=%{x}<br>sum of X4 number of convenience stores=%{y}<extra></extra>\",\"legendgroup\":\"30.0\",\"marker\":{\"color\":\"#19d3f3\",\"pattern\":{\"shape\":\"\"}},\"name\":\"30.0\",\"offsetgroup\":\"30.0\",\"orientation\":\"v\",\"showlegend\":true,\"x\":[39.2],\"xaxis\":\"x\",\"y\":[7],\"yaxis\":\"y\",\"type\":\"histogram\"},{\"alignmentgroup\":\"True\",\"bingroup\":\"x\",\"histfunc\":\"sum\",\"hovertemplate\":\"Y house price of unit area=13.8<br>X2 house age=%{x}<br>sum of X4 number of convenience stores=%{y}<extra></extra>\",\"legendgroup\":\"13.8\",\"marker\":{\"color\":\"#FF6692\",\"pattern\":{\"shape\":\"\"}},\"name\":\"13.8\",\"offsetgroup\":\"13.8\",\"orientation\":\"v\",\"showlegend\":true,\"x\":[31.7],\"xaxis\":\"x\",\"y\":[0],\"yaxis\":\"y\",\"type\":\"histogram\"},{\"alignmentgroup\":\"True\",\"bingroup\":\"x\",\"histfunc\":\"sum\",\"hovertemplate\":\"Y house price of unit area=52.7<br>X2 house age=%{x}<br>sum of X4 number of convenience stores=%{y}<extra></extra>\",\"legendgroup\":\"52.7\",\"marker\":{\"color\":\"#B6E880\",\"pattern\":{\"shape\":\"\"}},\"name\":\"52.7\",\"offsetgroup\":\"52.7\",\"orientation\":\"v\",\"showlegend\":true,\"x\":[5.9],\"xaxis\":\"x\",\"y\":[9],\"yaxis\":\"y\",\"type\":\"histogram\"},{\"alignmentgroup\":\"True\",\"bingroup\":\"x\",\"histfunc\":\"sum\",\"hovertemplate\":\"Y house price of unit area=25.9<br>X2 house age=%{x}<br>sum of X4 number of convenience stores=%{y}<extra></extra>\",\"legendgroup\":\"25.9\",\"marker\":{\"color\":\"#FF97FF\",\"pattern\":{\"shape\":\"\"}},\"name\":\"25.9\",\"offsetgroup\":\"25.9\",\"orientation\":\"v\",\"showlegend\":true,\"x\":[30.4],\"xaxis\":\"x\",\"y\":[2],\"yaxis\":\"y\",\"type\":\"histogram\"},{\"alignmentgroup\":\"True\",\"bingroup\":\"x\",\"histfunc\":\"sum\",\"hovertemplate\":\"Y house price of unit area=43.9<br>X2 house age=%{x}<br>sum of X4 number of convenience stores=%{y}<extra></extra>\",\"legendgroup\":\"43.9\",\"marker\":{\"color\":\"#FECB52\",\"pattern\":{\"shape\":\"\"}},\"name\":\"43.9\",\"offsetgroup\":\"43.9\",\"orientation\":\"v\",\"showlegend\":true,\"x\":[17.3],\"xaxis\":\"x\",\"y\":[1],\"yaxis\":\"y\",\"type\":\"histogram\"},{\"alignmentgroup\":\"True\",\"bingroup\":\"x\",\"histfunc\":\"sum\",\"hovertemplate\":\"Y house price of unit area=63.3<br>X2 house age=%{x}<br>sum of X4 number of convenience stores=%{y}<extra></extra>\",\"legendgroup\":\"63.3\",\"marker\":{\"color\":\"#636efa\",\"pattern\":{\"shape\":\"\"}},\"name\":\"63.3\",\"offsetgroup\":\"63.3\",\"orientation\":\"v\",\"showlegend\":true,\"x\":[0.0,41.4],\"xaxis\":\"x\",\"y\":[6,8],\"yaxis\":\"y\",\"type\":\"histogram\"},{\"alignmentgroup\":\"True\",\"bingroup\":\"x\",\"histfunc\":\"sum\",\"hovertemplate\":\"Y house price of unit area=24.4<br>X2 house age=%{x}<br>sum of X4 number of convenience stores=%{y}<extra></extra>\",\"legendgroup\":\"24.4\",\"marker\":{\"color\":\"#EF553B\",\"pattern\":{\"shape\":\"\"}},\"name\":\"24.4\",\"offsetgroup\":\"24.4\",\"orientation\":\"v\",\"showlegend\":true,\"x\":[16.2],\"xaxis\":\"x\",\"y\":[3],\"yaxis\":\"y\",\"type\":\"histogram\"},{\"alignmentgroup\":\"True\",\"bingroup\":\"x\",\"histfunc\":\"sum\",\"hovertemplate\":\"Y house price of unit area=53.0<br>X2 house age=%{x}<br>sum of X4 number of convenience stores=%{y}<extra></extra>\",\"legendgroup\":\"53.0\",\"marker\":{\"color\":\"#00cc96\",\"pattern\":{\"shape\":\"\"}},\"name\":\"53.0\",\"offsetgroup\":\"53.0\",\"orientation\":\"v\",\"showlegend\":true,\"x\":[15.9,16.4],\"xaxis\":\"x\",\"y\":[5,5],\"yaxis\":\"y\",\"type\":\"histogram\"},{\"alignmentgroup\":\"True\",\"bingroup\":\"x\",\"histfunc\":\"sum\",\"hovertemplate\":\"Y house price of unit area=31.7<br>X2 house age=%{x}<br>sum of X4 number of convenience stores=%{y}<extra></extra>\",\"legendgroup\":\"31.7\",\"marker\":{\"color\":\"#ab63fa\",\"pattern\":{\"shape\":\"\"}},\"name\":\"31.7\",\"offsetgroup\":\"31.7\",\"orientation\":\"v\",\"showlegend\":true,\"x\":[3.9],\"xaxis\":\"x\",\"y\":[3],\"yaxis\":\"y\",\"type\":\"histogram\"},{\"alignmentgroup\":\"True\",\"bingroup\":\"x\",\"histfunc\":\"sum\",\"hovertemplate\":\"Y house price of unit area=38.1<br>X2 house age=%{x}<br>sum of X4 number of convenience stores=%{y}<extra></extra>\",\"legendgroup\":\"38.1\",\"marker\":{\"color\":\"#FFA15A\",\"pattern\":{\"shape\":\"\"}},\"name\":\"38.1\",\"offsetgroup\":\"38.1\",\"orientation\":\"v\",\"showlegend\":true,\"x\":[15.7,26.4,36.6],\"xaxis\":\"x\",\"y\":[4,6,8],\"yaxis\":\"y\",\"type\":\"histogram\"},{\"alignmentgroup\":\"True\",\"bingroup\":\"x\",\"histfunc\":\"sum\",\"hovertemplate\":\"Y house price of unit area=23.7<br>X2 house age=%{x}<br>sum of X4 number of convenience stores=%{y}<extra></extra>\",\"legendgroup\":\"23.7\",\"marker\":{\"color\":\"#19d3f3\",\"pattern\":{\"shape\":\"\"}},\"name\":\"23.7\",\"offsetgroup\":\"23.7\",\"orientation\":\"v\",\"showlegend\":true,\"x\":[17.8],\"xaxis\":\"x\",\"y\":[3],\"yaxis\":\"y\",\"type\":\"histogram\"},{\"alignmentgroup\":\"True\",\"bingroup\":\"x\",\"histfunc\":\"sum\",\"hovertemplate\":\"Y house price of unit area=41.1<br>X2 house age=%{x}<br>sum of X4 number of convenience stores=%{y}<extra></extra>\",\"legendgroup\":\"41.1\",\"marker\":{\"color\":\"#FF6692\",\"pattern\":{\"shape\":\"\"}},\"name\":\"41.1\",\"offsetgroup\":\"41.1\",\"orientation\":\"v\",\"showlegend\":true,\"x\":[34.7],\"xaxis\":\"x\",\"y\":[5],\"yaxis\":\"y\",\"type\":\"histogram\"},{\"alignmentgroup\":\"True\",\"bingroup\":\"x\",\"histfunc\":\"sum\",\"hovertemplate\":\"Y house price of unit area=23.0<br>X2 house age=%{x}<br>sum of X4 number of convenience stores=%{y}<extra></extra>\",\"legendgroup\":\"23.0\",\"marker\":{\"color\":\"#B6E880\",\"pattern\":{\"shape\":\"\"}},\"name\":\"23.0\",\"offsetgroup\":\"23.0\",\"orientation\":\"v\",\"showlegend\":true,\"x\":[17.6,14.7],\"xaxis\":\"x\",\"y\":[0,2],\"yaxis\":\"y\",\"type\":\"histogram\"},{\"alignmentgroup\":\"True\",\"bingroup\":\"x\",\"histfunc\":\"sum\",\"hovertemplate\":\"Y house price of unit area=117.5<br>X2 house age=%{x}<br>sum of X4 number of convenience stores=%{y}<extra></extra>\",\"legendgroup\":\"117.5\",\"marker\":{\"color\":\"#FF97FF\",\"pattern\":{\"shape\":\"\"}},\"name\":\"117.5\",\"offsetgroup\":\"117.5\",\"orientation\":\"v\",\"showlegend\":true,\"x\":[10.8],\"xaxis\":\"x\",\"y\":[1],\"yaxis\":\"y\",\"type\":\"histogram\"},{\"alignmentgroup\":\"True\",\"bingroup\":\"x\",\"histfunc\":\"sum\",\"hovertemplate\":\"Y house price of unit area=40.5<br>X2 house age=%{x}<br>sum of X4 number of convenience stores=%{y}<extra></extra>\",\"legendgroup\":\"40.5\",\"marker\":{\"color\":\"#FECB52\",\"pattern\":{\"shape\":\"\"}},\"name\":\"40.5\",\"offsetgroup\":\"40.5\",\"orientation\":\"v\",\"showlegend\":true,\"x\":[13.0,1.9],\"xaxis\":\"x\",\"y\":[5,7],\"yaxis\":\"y\",\"type\":\"histogram\"},{\"alignmentgroup\":\"True\",\"bingroup\":\"x\",\"histfunc\":\"sum\",\"hovertemplate\":\"Y house price of unit area=49.7<br>X2 house age=%{x}<br>sum of X4 number of convenience stores=%{y}<extra></extra>\",\"legendgroup\":\"49.7\",\"marker\":{\"color\":\"#636efa\",\"pattern\":{\"shape\":\"\"}},\"name\":\"49.7\",\"offsetgroup\":\"49.7\",\"orientation\":\"v\",\"showlegend\":true,\"x\":[1.5],\"xaxis\":\"x\",\"y\":[7],\"yaxis\":\"y\",\"type\":\"histogram\"},{\"alignmentgroup\":\"True\",\"bingroup\":\"x\",\"histfunc\":\"sum\",\"hovertemplate\":\"Y house price of unit area=34.0<br>X2 house age=%{x}<br>sum of X4 number of convenience stores=%{y}<extra></extra>\",\"legendgroup\":\"34.0\",\"marker\":{\"color\":\"#EF553B\",\"pattern\":{\"shape\":\"\"}},\"name\":\"34.0\",\"offsetgroup\":\"34.0\",\"orientation\":\"v\",\"showlegend\":true,\"x\":[19.1],\"xaxis\":\"x\",\"y\":[5],\"yaxis\":\"y\",\"type\":\"histogram\"},{\"alignmentgroup\":\"True\",\"bingroup\":\"x\",\"histfunc\":\"sum\",\"hovertemplate\":\"Y house price of unit area=44.8<br>X2 house age=%{x}<br>sum of X4 number of convenience stores=%{y}<extra></extra>\",\"legendgroup\":\"44.8\",\"marker\":{\"color\":\"#00cc96\",\"pattern\":{\"shape\":\"\"}},\"name\":\"44.8\",\"offsetgroup\":\"44.8\",\"orientation\":\"v\",\"showlegend\":true,\"x\":[4.7],\"xaxis\":\"x\",\"y\":[9],\"yaxis\":\"y\",\"type\":\"histogram\"},{\"alignmentgroup\":\"True\",\"bingroup\":\"x\",\"histfunc\":\"sum\",\"hovertemplate\":\"Y house price of unit area=34.4<br>X2 house age=%{x}<br>sum of X4 number of convenience stores=%{y}<extra></extra>\",\"legendgroup\":\"34.4\",\"marker\":{\"color\":\"#ab63fa\",\"pattern\":{\"shape\":\"\"}},\"name\":\"34.4\",\"offsetgroup\":\"34.4\",\"orientation\":\"v\",\"showlegend\":true,\"x\":[15.0],\"xaxis\":\"x\",\"y\":[7],\"yaxis\":\"y\",\"type\":\"histogram\"},{\"alignmentgroup\":\"True\",\"bingroup\":\"x\",\"histfunc\":\"sum\",\"hovertemplate\":\"Y house price of unit area=55.3<br>X2 house age=%{x}<br>sum of X4 number of convenience stores=%{y}<extra></extra>\",\"legendgroup\":\"55.3\",\"marker\":{\"color\":\"#FFA15A\",\"pattern\":{\"shape\":\"\"}},\"name\":\"55.3\",\"offsetgroup\":\"55.3\",\"orientation\":\"v\",\"showlegend\":true,\"x\":[30.1,0.0],\"xaxis\":\"x\",\"y\":[3,0],\"yaxis\":\"y\",\"type\":\"histogram\"},{\"alignmentgroup\":\"True\",\"bingroup\":\"x\",\"histfunc\":\"sum\",\"hovertemplate\":\"Y house price of unit area=56.3<br>X2 house age=%{x}<br>sum of X4 number of convenience stores=%{y}<extra></extra>\",\"legendgroup\":\"56.3\",\"marker\":{\"color\":\"#19d3f3\",\"pattern\":{\"shape\":\"\"}},\"name\":\"56.3\",\"offsetgroup\":\"56.3\",\"orientation\":\"v\",\"showlegend\":true,\"x\":[5.9],\"xaxis\":\"x\",\"y\":[9],\"yaxis\":\"y\",\"type\":\"histogram\"},{\"alignmentgroup\":\"True\",\"bingroup\":\"x\",\"histfunc\":\"sum\",\"hovertemplate\":\"Y house price of unit area=44.5<br>X2 house age=%{x}<br>sum of X4 number of convenience stores=%{y}<extra></extra>\",\"legendgroup\":\"44.5\",\"marker\":{\"color\":\"#FF6692\",\"pattern\":{\"shape\":\"\"}},\"name\":\"44.5\",\"offsetgroup\":\"44.5\",\"orientation\":\"v\",\"showlegend\":true,\"x\":[13.9],\"xaxis\":\"x\",\"y\":[5],\"yaxis\":\"y\",\"type\":\"histogram\"},{\"alignmentgroup\":\"True\",\"bingroup\":\"x\",\"histfunc\":\"sum\",\"hovertemplate\":\"Y house price of unit area=37.0<br>X2 house age=%{x}<br>sum of X4 number of convenience stores=%{y}<extra></extra>\",\"legendgroup\":\"37.0\",\"marker\":{\"color\":\"#B6E880\",\"pattern\":{\"shape\":\"\"}},\"name\":\"37.0\",\"offsetgroup\":\"37.0\",\"orientation\":\"v\",\"showlegend\":true,\"x\":[37.7,13.0],\"xaxis\":\"x\",\"y\":[0,2],\"yaxis\":\"y\",\"type\":\"histogram\"},{\"alignmentgroup\":\"True\",\"bingroup\":\"x\",\"histfunc\":\"sum\",\"hovertemplate\":\"Y house price of unit area=24.5<br>X2 house age=%{x}<br>sum of X4 number of convenience stores=%{y}<extra></extra>\",\"legendgroup\":\"24.5\",\"marker\":{\"color\":\"#FF97FF\",\"pattern\":{\"shape\":\"\"}},\"name\":\"24.5\",\"offsetgroup\":\"24.5\",\"orientation\":\"v\",\"showlegend\":true,\"x\":[17.5],\"xaxis\":\"x\",\"y\":[5],\"yaxis\":\"y\",\"type\":\"histogram\"},{\"alignmentgroup\":\"True\",\"bingroup\":\"x\",\"histfunc\":\"sum\",\"hovertemplate\":\"Y house price of unit area=28.5<br>X2 house age=%{x}<br>sum of X4 number of convenience stores=%{y}<extra></extra>\",\"legendgroup\":\"28.5\",\"marker\":{\"color\":\"#FECB52\",\"pattern\":{\"shape\":\"\"}},\"name\":\"28.5\",\"offsetgroup\":\"28.5\",\"orientation\":\"v\",\"showlegend\":true,\"x\":[34.9,12.7],\"xaxis\":\"x\",\"y\":[4,1],\"yaxis\":\"y\",\"type\":\"histogram\"},{\"alignmentgroup\":\"True\",\"bingroup\":\"x\",\"histfunc\":\"sum\",\"hovertemplate\":\"Y house price of unit area=16.7<br>X2 house age=%{x}<br>sum of X4 number of convenience stores=%{y}<extra></extra>\",\"legendgroup\":\"16.7\",\"marker\":{\"color\":\"#636efa\",\"pattern\":{\"shape\":\"\"}},\"name\":\"16.7\",\"offsetgroup\":\"16.7\",\"orientation\":\"v\",\"showlegend\":true,\"x\":[16.7],\"xaxis\":\"x\",\"y\":[0],\"yaxis\":\"y\",\"type\":\"histogram\"},{\"alignmentgroup\":\"True\",\"bingroup\":\"x\",\"histfunc\":\"sum\",\"hovertemplate\":\"Y house price of unit area=36.9<br>X2 house age=%{x}<br>sum of X4 number of convenience stores=%{y}<extra></extra>\",\"legendgroup\":\"36.9\",\"marker\":{\"color\":\"#EF553B\",\"pattern\":{\"shape\":\"\"}},\"name\":\"36.9\",\"offsetgroup\":\"36.9\",\"orientation\":\"v\",\"showlegend\":true,\"x\":[2.5],\"xaxis\":\"x\",\"y\":[4],\"yaxis\":\"y\",\"type\":\"histogram\"},{\"alignmentgroup\":\"True\",\"bingroup\":\"x\",\"histfunc\":\"sum\",\"hovertemplate\":\"Y house price of unit area=35.7<br>X2 house age=%{x}<br>sum of X4 number of convenience stores=%{y}<extra></extra>\",\"legendgroup\":\"35.7\",\"marker\":{\"color\":\"#00cc96\",\"pattern\":{\"shape\":\"\"}},\"name\":\"35.7\",\"offsetgroup\":\"35.7\",\"orientation\":\"v\",\"showlegend\":true,\"x\":[38.0],\"xaxis\":\"x\",\"y\":[0],\"yaxis\":\"y\",\"type\":\"histogram\"},{\"alignmentgroup\":\"True\",\"bingroup\":\"x\",\"histfunc\":\"sum\",\"hovertemplate\":\"Y house price of unit area=23.2<br>X2 house age=%{x}<br>sum of X4 number of convenience stores=%{y}<extra></extra>\",\"legendgroup\":\"23.2\",\"marker\":{\"color\":\"#ab63fa\",\"pattern\":{\"shape\":\"\"}},\"name\":\"23.2\",\"offsetgroup\":\"23.2\",\"orientation\":\"v\",\"showlegend\":true,\"x\":[16.5],\"xaxis\":\"x\",\"y\":[3],\"yaxis\":\"y\",\"type\":\"histogram\"},{\"alignmentgroup\":\"True\",\"bingroup\":\"x\",\"histfunc\":\"sum\",\"hovertemplate\":\"Y house price of unit area=38.4<br>X2 house age=%{x}<br>sum of X4 number of convenience stores=%{y}<extra></extra>\",\"legendgroup\":\"38.4\",\"marker\":{\"color\":\"#FFA15A\",\"pattern\":{\"shape\":\"\"}},\"name\":\"38.4\",\"offsetgroup\":\"38.4\",\"orientation\":\"v\",\"showlegend\":true,\"x\":[38.3,7.8],\"xaxis\":\"x\",\"y\":[0,5],\"yaxis\":\"y\",\"type\":\"histogram\"},{\"alignmentgroup\":\"True\",\"bingroup\":\"x\",\"histfunc\":\"sum\",\"hovertemplate\":\"Y house price of unit area=29.4<br>X2 house age=%{x}<br>sum of X4 number of convenience stores=%{y}<extra></extra>\",\"legendgroup\":\"29.4\",\"marker\":{\"color\":\"#19d3f3\",\"pattern\":{\"shape\":\"\"}},\"name\":\"29.4\",\"offsetgroup\":\"29.4\",\"orientation\":\"v\",\"showlegend\":true,\"x\":[20.0],\"xaxis\":\"x\",\"y\":[3],\"yaxis\":\"y\",\"type\":\"histogram\"},{\"alignmentgroup\":\"True\",\"bingroup\":\"x\",\"histfunc\":\"sum\",\"hovertemplate\":\"Y house price of unit area=50.2<br>X2 house age=%{x}<br>sum of X4 number of convenience stores=%{y}<extra></extra>\",\"legendgroup\":\"50.2\",\"marker\":{\"color\":\"#FF6692\",\"pattern\":{\"shape\":\"\"}},\"name\":\"50.2\",\"offsetgroup\":\"50.2\",\"orientation\":\"v\",\"showlegend\":true,\"x\":[14.4],\"xaxis\":\"x\",\"y\":[1],\"yaxis\":\"y\",\"type\":\"histogram\"},{\"alignmentgroup\":\"True\",\"bingroup\":\"x\",\"histfunc\":\"sum\",\"hovertemplate\":\"Y house price of unit area=24.7<br>X2 house age=%{x}<br>sum of X4 number of convenience stores=%{y}<extra></extra>\",\"legendgroup\":\"24.7\",\"marker\":{\"color\":\"#B6E880\",\"pattern\":{\"shape\":\"\"}},\"name\":\"24.7\",\"offsetgroup\":\"24.7\",\"orientation\":\"v\",\"showlegend\":true,\"x\":[10.3,16.4,5.6,32.6],\"xaxis\":\"x\",\"y\":[0,2,0,1],\"yaxis\":\"y\",\"type\":\"histogram\"},{\"alignmentgroup\":\"True\",\"bingroup\":\"x\",\"histfunc\":\"sum\",\"hovertemplate\":\"Y house price of unit area=19.1<br>X2 house age=%{x}<br>sum of X4 number of convenience stores=%{y}<extra></extra>\",\"legendgroup\":\"19.1\",\"marker\":{\"color\":\"#FF97FF\",\"pattern\":{\"shape\":\"\"}},\"name\":\"19.1\",\"offsetgroup\":\"19.1\",\"orientation\":\"v\",\"showlegend\":true,\"x\":[30.3],\"xaxis\":\"x\",\"y\":[0],\"yaxis\":\"y\",\"type\":\"histogram\"},{\"alignmentgroup\":\"True\",\"bingroup\":\"x\",\"histfunc\":\"sum\",\"hovertemplate\":\"Y house price of unit area=78.0<br>X2 house age=%{x}<br>sum of X4 number of convenience stores=%{y}<extra></extra>\",\"legendgroup\":\"78.0\",\"marker\":{\"color\":\"#FECB52\",\"pattern\":{\"shape\":\"\"}},\"name\":\"78.0\",\"offsetgroup\":\"78.0\",\"orientation\":\"v\",\"showlegend\":true,\"x\":[35.4],\"xaxis\":\"x\",\"y\":[9],\"yaxis\":\"y\",\"type\":\"histogram\"},{\"alignmentgroup\":\"True\",\"bingroup\":\"x\",\"histfunc\":\"sum\",\"hovertemplate\":\"Y house price of unit area=42.8<br>X2 house age=%{x}<br>sum of X4 number of convenience stores=%{y}<extra></extra>\",\"legendgroup\":\"42.8\",\"marker\":{\"color\":\"#636efa\",\"pattern\":{\"shape\":\"\"}},\"name\":\"42.8\",\"offsetgroup\":\"42.8\",\"orientation\":\"v\",\"showlegend\":true,\"x\":[8.3],\"xaxis\":\"x\",\"y\":[5],\"yaxis\":\"y\",\"type\":\"histogram\"},{\"alignmentgroup\":\"True\",\"bingroup\":\"x\",\"histfunc\":\"sum\",\"hovertemplate\":\"Y house price of unit area=41.6<br>X2 house age=%{x}<br>sum of X4 number of convenience stores=%{y}<extra></extra>\",\"legendgroup\":\"41.6\",\"marker\":{\"color\":\"#EF553B\",\"pattern\":{\"shape\":\"\"}},\"name\":\"41.6\",\"offsetgroup\":\"41.6\",\"orientation\":\"v\",\"showlegend\":true,\"x\":[3.7],\"xaxis\":\"x\",\"y\":[6],\"yaxis\":\"y\",\"type\":\"histogram\"},{\"alignmentgroup\":\"True\",\"bingroup\":\"x\",\"histfunc\":\"sum\",\"hovertemplate\":\"Y house price of unit area=49.8<br>X2 house age=%{x}<br>sum of X4 number of convenience stores=%{y}<extra></extra>\",\"legendgroup\":\"49.8\",\"marker\":{\"color\":\"#00cc96\",\"pattern\":{\"shape\":\"\"}},\"name\":\"49.8\",\"offsetgroup\":\"49.8\",\"orientation\":\"v\",\"showlegend\":true,\"x\":[7.1],\"xaxis\":\"x\",\"y\":[10],\"yaxis\":\"y\",\"type\":\"histogram\"},{\"alignmentgroup\":\"True\",\"bingroup\":\"x\",\"histfunc\":\"sum\",\"hovertemplate\":\"Y house price of unit area=26.9<br>X2 house age=%{x}<br>sum of X4 number of convenience stores=%{y}<extra></extra>\",\"legendgroup\":\"26.9\",\"marker\":{\"color\":\"#ab63fa\",\"pattern\":{\"shape\":\"\"}},\"name\":\"26.9\",\"offsetgroup\":\"26.9\",\"orientation\":\"v\",\"showlegend\":true,\"x\":[34.6],\"xaxis\":\"x\",\"y\":[5],\"yaxis\":\"y\",\"type\":\"histogram\"},{\"alignmentgroup\":\"True\",\"bingroup\":\"x\",\"histfunc\":\"sum\",\"hovertemplate\":\"Y house price of unit area=18.6<br>X2 house age=%{x}<br>sum of X4 number of convenience stores=%{y}<extra></extra>\",\"legendgroup\":\"18.6\",\"marker\":{\"color\":\"#FFA15A\",\"pattern\":{\"shape\":\"\"}},\"name\":\"18.6\",\"offsetgroup\":\"18.6\",\"orientation\":\"v\",\"showlegend\":true,\"x\":[13.5],\"xaxis\":\"x\",\"y\":[0],\"yaxis\":\"y\",\"type\":\"histogram\"},{\"alignmentgroup\":\"True\",\"bingroup\":\"x\",\"histfunc\":\"sum\",\"hovertemplate\":\"Y house price of unit area=37.7<br>X2 house age=%{x}<br>sum of X4 number of convenience stores=%{y}<extra></extra>\",\"legendgroup\":\"37.7\",\"marker\":{\"color\":\"#19d3f3\",\"pattern\":{\"shape\":\"\"}},\"name\":\"37.7\",\"offsetgroup\":\"37.7\",\"orientation\":\"v\",\"showlegend\":true,\"x\":[16.9],\"xaxis\":\"x\",\"y\":[4],\"yaxis\":\"y\",\"type\":\"histogram\"},{\"alignmentgroup\":\"True\",\"bingroup\":\"x\",\"histfunc\":\"sum\",\"hovertemplate\":\"Y house price of unit area=33.1<br>X2 house age=%{x}<br>sum of X4 number of convenience stores=%{y}<extra></extra>\",\"legendgroup\":\"33.1\",\"marker\":{\"color\":\"#FF6692\",\"pattern\":{\"shape\":\"\"}},\"name\":\"33.1\",\"offsetgroup\":\"33.1\",\"orientation\":\"v\",\"showlegend\":true,\"x\":[12.9,35.3],\"xaxis\":\"x\",\"y\":[1,7],\"yaxis\":\"y\",\"type\":\"histogram\"},{\"alignmentgroup\":\"True\",\"bingroup\":\"x\",\"histfunc\":\"sum\",\"hovertemplate\":\"Y house price of unit area=62.1<br>X2 house age=%{x}<br>sum of X4 number of convenience stores=%{y}<extra></extra>\",\"legendgroup\":\"62.1\",\"marker\":{\"color\":\"#B6E880\",\"pattern\":{\"shape\":\"\"}},\"name\":\"62.1\",\"offsetgroup\":\"62.1\",\"orientation\":\"v\",\"showlegend\":true,\"x\":[4.1],\"xaxis\":\"x\",\"y\":[7],\"yaxis\":\"y\",\"type\":\"histogram\"},{\"alignmentgroup\":\"True\",\"bingroup\":\"x\",\"histfunc\":\"sum\",\"hovertemplate\":\"Y house price of unit area=22.8<br>X2 house age=%{x}<br>sum of X4 number of convenience stores=%{y}<extra></extra>\",\"legendgroup\":\"22.8\",\"marker\":{\"color\":\"#FF97FF\",\"pattern\":{\"shape\":\"\"}},\"name\":\"22.8\",\"offsetgroup\":\"22.8\",\"orientation\":\"v\",\"showlegend\":true,\"x\":[30.0,20.2],\"xaxis\":\"x\",\"y\":[5,3],\"yaxis\":\"y\",\"type\":\"histogram\"},{\"alignmentgroup\":\"True\",\"bingroup\":\"x\",\"histfunc\":\"sum\",\"hovertemplate\":\"Y house price of unit area=30.9<br>X2 house age=%{x}<br>sum of X4 number of convenience stores=%{y}<extra></extra>\",\"legendgroup\":\"30.9\",\"marker\":{\"color\":\"#FECB52\",\"pattern\":{\"shape\":\"\"}},\"name\":\"30.9\",\"offsetgroup\":\"30.9\",\"orientation\":\"v\",\"showlegend\":true,\"x\":[31.3],\"xaxis\":\"x\",\"y\":[5],\"yaxis\":\"y\",\"type\":\"histogram\"},{\"alignmentgroup\":\"True\",\"bingroup\":\"x\",\"histfunc\":\"sum\",\"hovertemplate\":\"Y house price of unit area=50.4<br>X2 house age=%{x}<br>sum of X4 number of convenience stores=%{y}<extra></extra>\",\"legendgroup\":\"50.4\",\"marker\":{\"color\":\"#636efa\",\"pattern\":{\"shape\":\"\"}},\"name\":\"50.4\",\"offsetgroup\":\"50.4\",\"orientation\":\"v\",\"showlegend\":true,\"x\":[1.7],\"xaxis\":\"x\",\"y\":[5],\"yaxis\":\"y\",\"type\":\"histogram\"},{\"alignmentgroup\":\"True\",\"bingroup\":\"x\",\"histfunc\":\"sum\",\"hovertemplate\":\"Y house price of unit area=42.9<br>X2 house age=%{x}<br>sum of X4 number of convenience stores=%{y}<extra></extra>\",\"legendgroup\":\"42.9\",\"marker\":{\"color\":\"#EF553B\",\"pattern\":{\"shape\":\"\"}},\"name\":\"42.9\",\"offsetgroup\":\"42.9\",\"orientation\":\"v\",\"showlegend\":true,\"x\":[33.6],\"xaxis\":\"x\",\"y\":[0],\"yaxis\":\"y\",\"type\":\"histogram\"},{\"alignmentgroup\":\"True\",\"bingroup\":\"x\",\"histfunc\":\"sum\",\"hovertemplate\":\"Y house price of unit area=41.2<br>X2 house age=%{x}<br>sum of X4 number of convenience stores=%{y}<extra></extra>\",\"legendgroup\":\"41.2\",\"marker\":{\"color\":\"#00cc96\",\"pattern\":{\"shape\":\"\"}},\"name\":\"41.2\",\"offsetgroup\":\"41.2\",\"orientation\":\"v\",\"showlegend\":true,\"x\":[34.6,16.4],\"xaxis\":\"x\",\"y\":[0,5],\"yaxis\":\"y\",\"type\":\"histogram\"},{\"alignmentgroup\":\"True\",\"bingroup\":\"x\",\"histfunc\":\"sum\",\"hovertemplate\":\"Y house price of unit area=30.8<br>X2 house age=%{x}<br>sum of X4 number of convenience stores=%{y}<extra></extra>\",\"legendgroup\":\"30.8\",\"marker\":{\"color\":\"#ab63fa\",\"pattern\":{\"shape\":\"\"}},\"name\":\"30.8\",\"offsetgroup\":\"30.8\",\"orientation\":\"v\",\"showlegend\":true,\"x\":[13.2],\"xaxis\":\"x\",\"y\":[2],\"yaxis\":\"y\",\"type\":\"histogram\"},{\"alignmentgroup\":\"True\",\"bingroup\":\"x\",\"histfunc\":\"sum\",\"hovertemplate\":\"Y house price of unit area=11.2<br>X2 house age=%{x}<br>sum of X4 number of convenience stores=%{y}<extra></extra>\",\"legendgroup\":\"11.2\",\"marker\":{\"color\":\"#FFA15A\",\"pattern\":{\"shape\":\"\"}},\"name\":\"11.2\",\"offsetgroup\":\"11.2\",\"orientation\":\"v\",\"showlegend\":true,\"x\":[17.4],\"xaxis\":\"x\",\"y\":[1],\"yaxis\":\"y\",\"type\":\"histogram\"},{\"alignmentgroup\":\"True\",\"bingroup\":\"x\",\"histfunc\":\"sum\",\"hovertemplate\":\"Y house price of unit area=53.7<br>X2 house age=%{x}<br>sum of X4 number of convenience stores=%{y}<extra></extra>\",\"legendgroup\":\"53.7\",\"marker\":{\"color\":\"#19d3f3\",\"pattern\":{\"shape\":\"\"}},\"name\":\"53.7\",\"offsetgroup\":\"53.7\",\"orientation\":\"v\",\"showlegend\":true,\"x\":[4.6],\"xaxis\":\"x\",\"y\":[6],\"yaxis\":\"y\",\"type\":\"histogram\"},{\"alignmentgroup\":\"True\",\"bingroup\":\"x\",\"histfunc\":\"sum\",\"hovertemplate\":\"Y house price of unit area=28.6<br>X2 house age=%{x}<br>sum of X4 number of convenience stores=%{y}<extra></extra>\",\"legendgroup\":\"28.6\",\"marker\":{\"color\":\"#FF6692\",\"pattern\":{\"shape\":\"\"}},\"name\":\"28.6\",\"offsetgroup\":\"28.6\",\"orientation\":\"v\",\"showlegend\":true,\"x\":[4.0],\"xaxis\":\"x\",\"y\":[3],\"yaxis\":\"y\",\"type\":\"histogram\"},{\"alignmentgroup\":\"True\",\"bingroup\":\"x\",\"histfunc\":\"sum\",\"hovertemplate\":\"Y house price of unit area=30.1<br>X2 house age=%{x}<br>sum of X4 number of convenience stores=%{y}<extra></extra>\",\"legendgroup\":\"30.1\",\"marker\":{\"color\":\"#B6E880\",\"pattern\":{\"shape\":\"\"}},\"name\":\"30.1\",\"offsetgroup\":\"30.1\",\"orientation\":\"v\",\"showlegend\":true,\"x\":[12.2],\"xaxis\":\"x\",\"y\":[1],\"yaxis\":\"y\",\"type\":\"histogram\"},{\"alignmentgroup\":\"True\",\"bingroup\":\"x\",\"histfunc\":\"sum\",\"hovertemplate\":\"Y house price of unit area=45.3<br>X2 house age=%{x}<br>sum of X4 number of convenience stores=%{y}<extra></extra>\",\"legendgroup\":\"45.3\",\"marker\":{\"color\":\"#FF97FF\",\"pattern\":{\"shape\":\"\"}},\"name\":\"45.3\",\"offsetgroup\":\"45.3\",\"orientation\":\"v\",\"showlegend\":true,\"x\":[10.3],\"xaxis\":\"x\",\"y\":[1],\"yaxis\":\"y\",\"type\":\"histogram\"},{\"alignmentgroup\":\"True\",\"bingroup\":\"x\",\"histfunc\":\"sum\",\"hovertemplate\":\"Y house price of unit area=44.9<br>X2 house age=%{x}<br>sum of X4 number of convenience stores=%{y}<extra></extra>\",\"legendgroup\":\"44.9\",\"marker\":{\"color\":\"#FECB52\",\"pattern\":{\"shape\":\"\"}},\"name\":\"44.9\",\"offsetgroup\":\"44.9\",\"orientation\":\"v\",\"showlegend\":true,\"x\":[0.0],\"xaxis\":\"x\",\"y\":[9],\"yaxis\":\"y\",\"type\":\"histogram\"},{\"alignmentgroup\":\"True\",\"bingroup\":\"x\",\"histfunc\":\"sum\",\"hovertemplate\":\"Y house price of unit area=40.0<br>X2 house age=%{x}<br>sum of X4 number of convenience stores=%{y}<extra></extra>\",\"legendgroup\":\"40.0\",\"marker\":{\"color\":\"#636efa\",\"pattern\":{\"shape\":\"\"}},\"name\":\"40.0\",\"offsetgroup\":\"40.0\",\"orientation\":\"v\",\"showlegend\":true,\"x\":[17.1],\"xaxis\":\"x\",\"y\":[4],\"yaxis\":\"y\",\"type\":\"histogram\"},{\"alignmentgroup\":\"True\",\"bingroup\":\"x\",\"histfunc\":\"sum\",\"hovertemplate\":\"Y house price of unit area=24.8<br>X2 house age=%{x}<br>sum of X4 number of convenience stores=%{y}<extra></extra>\",\"legendgroup\":\"24.8\",\"marker\":{\"color\":\"#EF553B\",\"pattern\":{\"shape\":\"\"}},\"name\":\"24.8\",\"offsetgroup\":\"24.8\",\"orientation\":\"v\",\"showlegend\":true,\"x\":[14.2],\"xaxis\":\"x\",\"y\":[1],\"yaxis\":\"y\",\"type\":\"histogram\"},{\"alignmentgroup\":\"True\",\"bingroup\":\"x\",\"histfunc\":\"sum\",\"hovertemplate\":\"Y house price of unit area=42.1<br>X2 house age=%{x}<br>sum of X4 number of convenience stores=%{y}<extra></extra>\",\"legendgroup\":\"42.1\",\"marker\":{\"color\":\"#00cc96\",\"pattern\":{\"shape\":\"\"}},\"name\":\"42.1\",\"offsetgroup\":\"42.1\",\"orientation\":\"v\",\"showlegend\":true,\"x\":[15.9],\"xaxis\":\"x\",\"y\":[5],\"yaxis\":\"y\",\"type\":\"histogram\"},{\"alignmentgroup\":\"True\",\"bingroup\":\"x\",\"histfunc\":\"sum\",\"hovertemplate\":\"Y house price of unit area=41.5<br>X2 house age=%{x}<br>sum of X4 number of convenience stores=%{y}<extra></extra>\",\"legendgroup\":\"41.5\",\"marker\":{\"color\":\"#ab63fa\",\"pattern\":{\"shape\":\"\"}},\"name\":\"41.5\",\"offsetgroup\":\"41.5\",\"orientation\":\"v\",\"showlegend\":true,\"x\":[33.9],\"xaxis\":\"x\",\"y\":[7],\"yaxis\":\"y\",\"type\":\"histogram\"},{\"alignmentgroup\":\"True\",\"bingroup\":\"x\",\"histfunc\":\"sum\",\"hovertemplate\":\"Y house price of unit area=49.5<br>X2 house age=%{x}<br>sum of X4 number of convenience stores=%{y}<extra></extra>\",\"legendgroup\":\"49.5\",\"marker\":{\"color\":\"#FFA15A\",\"pattern\":{\"shape\":\"\"}},\"name\":\"49.5\",\"offsetgroup\":\"49.5\",\"orientation\":\"v\",\"showlegend\":true,\"x\":[5.4],\"xaxis\":\"x\",\"y\":[5],\"yaxis\":\"y\",\"type\":\"histogram\"},{\"alignmentgroup\":\"True\",\"bingroup\":\"x\",\"histfunc\":\"sum\",\"hovertemplate\":\"Y house price of unit area=69.7<br>X2 house age=%{x}<br>sum of X4 number of convenience stores=%{y}<extra></extra>\",\"legendgroup\":\"69.7\",\"marker\":{\"color\":\"#19d3f3\",\"pattern\":{\"shape\":\"\"}},\"name\":\"69.7\",\"offsetgroup\":\"69.7\",\"orientation\":\"v\",\"showlegend\":true,\"x\":[0.0],\"xaxis\":\"x\",\"y\":[6],\"yaxis\":\"y\",\"type\":\"histogram\"},{\"alignmentgroup\":\"True\",\"bingroup\":\"x\",\"histfunc\":\"sum\",\"hovertemplate\":\"Y house price of unit area=12.9<br>X2 house age=%{x}<br>sum of X4 number of convenience stores=%{y}<extra></extra>\",\"legendgroup\":\"12.9\",\"marker\":{\"color\":\"#FF6692\",\"pattern\":{\"shape\":\"\"}},\"name\":\"12.9\",\"offsetgroup\":\"12.9\",\"orientation\":\"v\",\"showlegend\":true,\"x\":[16.1],\"xaxis\":\"x\",\"y\":[0],\"yaxis\":\"y\",\"type\":\"histogram\"},{\"alignmentgroup\":\"True\",\"bingroup\":\"x\",\"histfunc\":\"sum\",\"hovertemplate\":\"Y house price of unit area=67.7<br>X2 house age=%{x}<br>sum of X4 number of convenience stores=%{y}<extra></extra>\",\"legendgroup\":\"67.7\",\"marker\":{\"color\":\"#B6E880\",\"pattern\":{\"shape\":\"\"}},\"name\":\"67.7\",\"offsetgroup\":\"67.7\",\"orientation\":\"v\",\"showlegend\":true,\"x\":[40.9],\"xaxis\":\"x\",\"y\":[8],\"yaxis\":\"y\",\"type\":\"histogram\"},{\"alignmentgroup\":\"True\",\"bingroup\":\"x\",\"histfunc\":\"sum\",\"hovertemplate\":\"Y house price of unit area=38.6<br>X2 house age=%{x}<br>sum of X4 number of convenience stores=%{y}<extra></extra>\",\"legendgroup\":\"38.6\",\"marker\":{\"color\":\"#FF97FF\",\"pattern\":{\"shape\":\"\"}},\"name\":\"38.6\",\"offsetgroup\":\"38.6\",\"orientation\":\"v\",\"showlegend\":true,\"x\":[32.8],\"xaxis\":\"x\",\"y\":[9],\"yaxis\":\"y\",\"type\":\"histogram\"},{\"alignmentgroup\":\"True\",\"bingroup\":\"x\",\"histfunc\":\"sum\",\"hovertemplate\":\"Y house price of unit area=35.3<br>X2 house age=%{x}<br>sum of X4 number of convenience stores=%{y}<extra></extra>\",\"legendgroup\":\"35.3\",\"marker\":{\"color\":\"#FECB52\",\"pattern\":{\"shape\":\"\"}},\"name\":\"35.3\",\"offsetgroup\":\"35.3\",\"orientation\":\"v\",\"showlegend\":true,\"x\":[42.7],\"xaxis\":\"x\",\"y\":[6],\"yaxis\":\"y\",\"type\":\"histogram\"},{\"alignmentgroup\":\"True\",\"bingroup\":\"x\",\"histfunc\":\"sum\",\"hovertemplate\":\"Y house price of unit area=31.9<br>X2 house age=%{x}<br>sum of X4 number of convenience stores=%{y}<extra></extra>\",\"legendgroup\":\"31.9\",\"marker\":{\"color\":\"#636efa\",\"pattern\":{\"shape\":\"\"}},\"name\":\"31.9\",\"offsetgroup\":\"31.9\",\"orientation\":\"v\",\"showlegend\":true,\"x\":[37.1],\"xaxis\":\"x\",\"y\":[1],\"yaxis\":\"y\",\"type\":\"histogram\"},{\"alignmentgroup\":\"True\",\"bingroup\":\"x\",\"histfunc\":\"sum\",\"hovertemplate\":\"Y house price of unit area=32.2<br>X2 house age=%{x}<br>sum of X4 number of convenience stores=%{y}<extra></extra>\",\"legendgroup\":\"32.2\",\"marker\":{\"color\":\"#EF553B\",\"pattern\":{\"shape\":\"\"}},\"name\":\"32.2\",\"offsetgroup\":\"32.2\",\"orientation\":\"v\",\"showlegend\":true,\"x\":[13.1],\"xaxis\":\"x\",\"y\":[4],\"yaxis\":\"y\",\"type\":\"histogram\"},{\"alignmentgroup\":\"True\",\"bingroup\":\"x\",\"histfunc\":\"sum\",\"hovertemplate\":\"Y house price of unit area=37.3<br>X2 house age=%{x}<br>sum of X4 number of convenience stores=%{y}<extra></extra>\",\"legendgroup\":\"37.3\",\"marker\":{\"color\":\"#00cc96\",\"pattern\":{\"shape\":\"\"}},\"name\":\"37.3\",\"offsetgroup\":\"37.3\",\"orientation\":\"v\",\"showlegend\":true,\"x\":[12.7],\"xaxis\":\"x\",\"y\":[1],\"yaxis\":\"y\",\"type\":\"histogram\"},{\"alignmentgroup\":\"True\",\"bingroup\":\"x\",\"histfunc\":\"sum\",\"hovertemplate\":\"Y house price of unit area=35.5<br>X2 house age=%{x}<br>sum of X4 number of convenience stores=%{y}<extra></extra>\",\"legendgroup\":\"35.5\",\"marker\":{\"color\":\"#ab63fa\",\"pattern\":{\"shape\":\"\"}},\"name\":\"35.5\",\"offsetgroup\":\"35.5\",\"orientation\":\"v\",\"showlegend\":true,\"x\":[26.8],\"xaxis\":\"x\",\"y\":[5],\"yaxis\":\"y\",\"type\":\"histogram\"},{\"alignmentgroup\":\"True\",\"bingroup\":\"x\",\"histfunc\":\"sum\",\"hovertemplate\":\"Y house price of unit area=37.2<br>X2 house age=%{x}<br>sum of X4 number of convenience stores=%{y}<extra></extra>\",\"legendgroup\":\"37.2\",\"marker\":{\"color\":\"#FFA15A\",\"pattern\":{\"shape\":\"\"}},\"name\":\"37.2\",\"offsetgroup\":\"37.2\",\"orientation\":\"v\",\"showlegend\":true,\"x\":[23.0],\"xaxis\":\"x\",\"y\":[6],\"yaxis\":\"y\",\"type\":\"histogram\"},{\"alignmentgroup\":\"True\",\"bingroup\":\"x\",\"histfunc\":\"sum\",\"hovertemplate\":\"Y house price of unit area=28.1<br>X2 house age=%{x}<br>sum of X4 number of convenience stores=%{y}<extra></extra>\",\"legendgroup\":\"28.1\",\"marker\":{\"color\":\"#19d3f3\",\"pattern\":{\"shape\":\"\"}},\"name\":\"28.1\",\"offsetgroup\":\"28.1\",\"orientation\":\"v\",\"showlegend\":true,\"x\":[18.5],\"xaxis\":\"x\",\"y\":[3],\"yaxis\":\"y\",\"type\":\"histogram\"},{\"alignmentgroup\":\"True\",\"bingroup\":\"x\",\"histfunc\":\"sum\",\"hovertemplate\":\"Y house price of unit area=15.4<br>X2 house age=%{x}<br>sum of X4 number of convenience stores=%{y}<extra></extra>\",\"legendgroup\":\"15.4\",\"marker\":{\"color\":\"#FF6692\",\"pattern\":{\"shape\":\"\"}},\"name\":\"15.4\",\"offsetgroup\":\"15.4\",\"orientation\":\"v\",\"showlegend\":true,\"x\":[13.7],\"xaxis\":\"x\",\"y\":[0],\"yaxis\":\"y\",\"type\":\"histogram\"},{\"alignmentgroup\":\"True\",\"bingroup\":\"x\",\"histfunc\":\"sum\",\"hovertemplate\":\"Y house price of unit area=50.0<br>X2 house age=%{x}<br>sum of X4 number of convenience stores=%{y}<extra></extra>\",\"legendgroup\":\"50.0\",\"marker\":{\"color\":\"#B6E880\",\"pattern\":{\"shape\":\"\"}},\"name\":\"50.0\",\"offsetgroup\":\"50.0\",\"orientation\":\"v\",\"showlegend\":true,\"x\":[5.6],\"xaxis\":\"x\",\"y\":[9],\"yaxis\":\"y\",\"type\":\"histogram\"},{\"alignmentgroup\":\"True\",\"bingroup\":\"x\",\"histfunc\":\"sum\",\"hovertemplate\":\"Y house price of unit area=52.5<br>X2 house age=%{x}<br>sum of X4 number of convenience stores=%{y}<extra></extra>\",\"legendgroup\":\"52.5\",\"marker\":{\"color\":\"#FF97FF\",\"pattern\":{\"shape\":\"\"}},\"name\":\"52.5\",\"offsetgroup\":\"52.5\",\"orientation\":\"v\",\"showlegend\":true,\"x\":[8.1],\"xaxis\":\"x\",\"y\":[5],\"yaxis\":\"y\",\"type\":\"histogram\"},{\"alignmentgroup\":\"True\",\"bingroup\":\"x\",\"histfunc\":\"sum\",\"hovertemplate\":\"Y house price of unit area=63.9<br>X2 house age=%{x}<br>sum of X4 number of convenience stores=%{y}<extra></extra>\",\"legendgroup\":\"63.9\",\"marker\":{\"color\":\"#FECB52\",\"pattern\":{\"shape\":\"\"}},\"name\":\"63.9\",\"offsetgroup\":\"63.9\",\"orientation\":\"v\",\"showlegend\":true,\"x\":[6.5],\"xaxis\":\"x\",\"y\":[9],\"yaxis\":\"y\",\"type\":\"histogram\"}],                        {\"template\":{\"data\":{\"histogram2dcontour\":[{\"type\":\"histogram2dcontour\",\"colorbar\":{\"outlinewidth\":0,\"ticks\":\"\"},\"colorscale\":[[0.0,\"#0d0887\"],[0.1111111111111111,\"#46039f\"],[0.2222222222222222,\"#7201a8\"],[0.3333333333333333,\"#9c179e\"],[0.4444444444444444,\"#bd3786\"],[0.5555555555555556,\"#d8576b\"],[0.6666666666666666,\"#ed7953\"],[0.7777777777777778,\"#fb9f3a\"],[0.8888888888888888,\"#fdca26\"],[1.0,\"#f0f921\"]]}],\"choropleth\":[{\"type\":\"choropleth\",\"colorbar\":{\"outlinewidth\":0,\"ticks\":\"\"}}],\"histogram2d\":[{\"type\":\"histogram2d\",\"colorbar\":{\"outlinewidth\":0,\"ticks\":\"\"},\"colorscale\":[[0.0,\"#0d0887\"],[0.1111111111111111,\"#46039f\"],[0.2222222222222222,\"#7201a8\"],[0.3333333333333333,\"#9c179e\"],[0.4444444444444444,\"#bd3786\"],[0.5555555555555556,\"#d8576b\"],[0.6666666666666666,\"#ed7953\"],[0.7777777777777778,\"#fb9f3a\"],[0.8888888888888888,\"#fdca26\"],[1.0,\"#f0f921\"]]}],\"heatmap\":[{\"type\":\"heatmap\",\"colorbar\":{\"outlinewidth\":0,\"ticks\":\"\"},\"colorscale\":[[0.0,\"#0d0887\"],[0.1111111111111111,\"#46039f\"],[0.2222222222222222,\"#7201a8\"],[0.3333333333333333,\"#9c179e\"],[0.4444444444444444,\"#bd3786\"],[0.5555555555555556,\"#d8576b\"],[0.6666666666666666,\"#ed7953\"],[0.7777777777777778,\"#fb9f3a\"],[0.8888888888888888,\"#fdca26\"],[1.0,\"#f0f921\"]]}],\"heatmapgl\":[{\"type\":\"heatmapgl\",\"colorbar\":{\"outlinewidth\":0,\"ticks\":\"\"},\"colorscale\":[[0.0,\"#0d0887\"],[0.1111111111111111,\"#46039f\"],[0.2222222222222222,\"#7201a8\"],[0.3333333333333333,\"#9c179e\"],[0.4444444444444444,\"#bd3786\"],[0.5555555555555556,\"#d8576b\"],[0.6666666666666666,\"#ed7953\"],[0.7777777777777778,\"#fb9f3a\"],[0.8888888888888888,\"#fdca26\"],[1.0,\"#f0f921\"]]}],\"contourcarpet\":[{\"type\":\"contourcarpet\",\"colorbar\":{\"outlinewidth\":0,\"ticks\":\"\"}}],\"contour\":[{\"type\":\"contour\",\"colorbar\":{\"outlinewidth\":0,\"ticks\":\"\"},\"colorscale\":[[0.0,\"#0d0887\"],[0.1111111111111111,\"#46039f\"],[0.2222222222222222,\"#7201a8\"],[0.3333333333333333,\"#9c179e\"],[0.4444444444444444,\"#bd3786\"],[0.5555555555555556,\"#d8576b\"],[0.6666666666666666,\"#ed7953\"],[0.7777777777777778,\"#fb9f3a\"],[0.8888888888888888,\"#fdca26\"],[1.0,\"#f0f921\"]]}],\"surface\":[{\"type\":\"surface\",\"colorbar\":{\"outlinewidth\":0,\"ticks\":\"\"},\"colorscale\":[[0.0,\"#0d0887\"],[0.1111111111111111,\"#46039f\"],[0.2222222222222222,\"#7201a8\"],[0.3333333333333333,\"#9c179e\"],[0.4444444444444444,\"#bd3786\"],[0.5555555555555556,\"#d8576b\"],[0.6666666666666666,\"#ed7953\"],[0.7777777777777778,\"#fb9f3a\"],[0.8888888888888888,\"#fdca26\"],[1.0,\"#f0f921\"]]}],\"mesh3d\":[{\"type\":\"mesh3d\",\"colorbar\":{\"outlinewidth\":0,\"ticks\":\"\"}}],\"scatter\":[{\"fillpattern\":{\"fillmode\":\"overlay\",\"size\":10,\"solidity\":0.2},\"type\":\"scatter\"}],\"parcoords\":[{\"type\":\"parcoords\",\"line\":{\"colorbar\":{\"outlinewidth\":0,\"ticks\":\"\"}}}],\"scatterpolargl\":[{\"type\":\"scatterpolargl\",\"marker\":{\"colorbar\":{\"outlinewidth\":0,\"ticks\":\"\"}}}],\"bar\":[{\"error_x\":{\"color\":\"#2a3f5f\"},\"error_y\":{\"color\":\"#2a3f5f\"},\"marker\":{\"line\":{\"color\":\"#E5ECF6\",\"width\":0.5},\"pattern\":{\"fillmode\":\"overlay\",\"size\":10,\"solidity\":0.2}},\"type\":\"bar\"}],\"scattergeo\":[{\"type\":\"scattergeo\",\"marker\":{\"colorbar\":{\"outlinewidth\":0,\"ticks\":\"\"}}}],\"scatterpolar\":[{\"type\":\"scatterpolar\",\"marker\":{\"colorbar\":{\"outlinewidth\":0,\"ticks\":\"\"}}}],\"histogram\":[{\"marker\":{\"pattern\":{\"fillmode\":\"overlay\",\"size\":10,\"solidity\":0.2}},\"type\":\"histogram\"}],\"scattergl\":[{\"type\":\"scattergl\",\"marker\":{\"colorbar\":{\"outlinewidth\":0,\"ticks\":\"\"}}}],\"scatter3d\":[{\"type\":\"scatter3d\",\"line\":{\"colorbar\":{\"outlinewidth\":0,\"ticks\":\"\"}},\"marker\":{\"colorbar\":{\"outlinewidth\":0,\"ticks\":\"\"}}}],\"scattermapbox\":[{\"type\":\"scattermapbox\",\"marker\":{\"colorbar\":{\"outlinewidth\":0,\"ticks\":\"\"}}}],\"scatterternary\":[{\"type\":\"scatterternary\",\"marker\":{\"colorbar\":{\"outlinewidth\":0,\"ticks\":\"\"}}}],\"scattercarpet\":[{\"type\":\"scattercarpet\",\"marker\":{\"colorbar\":{\"outlinewidth\":0,\"ticks\":\"\"}}}],\"carpet\":[{\"aaxis\":{\"endlinecolor\":\"#2a3f5f\",\"gridcolor\":\"white\",\"linecolor\":\"white\",\"minorgridcolor\":\"white\",\"startlinecolor\":\"#2a3f5f\"},\"baxis\":{\"endlinecolor\":\"#2a3f5f\",\"gridcolor\":\"white\",\"linecolor\":\"white\",\"minorgridcolor\":\"white\",\"startlinecolor\":\"#2a3f5f\"},\"type\":\"carpet\"}],\"table\":[{\"cells\":{\"fill\":{\"color\":\"#EBF0F8\"},\"line\":{\"color\":\"white\"}},\"header\":{\"fill\":{\"color\":\"#C8D4E3\"},\"line\":{\"color\":\"white\"}},\"type\":\"table\"}],\"barpolar\":[{\"marker\":{\"line\":{\"color\":\"#E5ECF6\",\"width\":0.5},\"pattern\":{\"fillmode\":\"overlay\",\"size\":10,\"solidity\":0.2}},\"type\":\"barpolar\"}],\"pie\":[{\"automargin\":true,\"type\":\"pie\"}]},\"layout\":{\"autotypenumbers\":\"strict\",\"colorway\":[\"#636efa\",\"#EF553B\",\"#00cc96\",\"#ab63fa\",\"#FFA15A\",\"#19d3f3\",\"#FF6692\",\"#B6E880\",\"#FF97FF\",\"#FECB52\"],\"font\":{\"color\":\"#2a3f5f\"},\"hovermode\":\"closest\",\"hoverlabel\":{\"align\":\"left\"},\"paper_bgcolor\":\"white\",\"plot_bgcolor\":\"#E5ECF6\",\"polar\":{\"bgcolor\":\"#E5ECF6\",\"angularaxis\":{\"gridcolor\":\"white\",\"linecolor\":\"white\",\"ticks\":\"\"},\"radialaxis\":{\"gridcolor\":\"white\",\"linecolor\":\"white\",\"ticks\":\"\"}},\"ternary\":{\"bgcolor\":\"#E5ECF6\",\"aaxis\":{\"gridcolor\":\"white\",\"linecolor\":\"white\",\"ticks\":\"\"},\"baxis\":{\"gridcolor\":\"white\",\"linecolor\":\"white\",\"ticks\":\"\"},\"caxis\":{\"gridcolor\":\"white\",\"linecolor\":\"white\",\"ticks\":\"\"}},\"coloraxis\":{\"colorbar\":{\"outlinewidth\":0,\"ticks\":\"\"}},\"colorscale\":{\"sequential\":[[0.0,\"#0d0887\"],[0.1111111111111111,\"#46039f\"],[0.2222222222222222,\"#7201a8\"],[0.3333333333333333,\"#9c179e\"],[0.4444444444444444,\"#bd3786\"],[0.5555555555555556,\"#d8576b\"],[0.6666666666666666,\"#ed7953\"],[0.7777777777777778,\"#fb9f3a\"],[0.8888888888888888,\"#fdca26\"],[1.0,\"#f0f921\"]],\"sequentialminus\":[[0.0,\"#0d0887\"],[0.1111111111111111,\"#46039f\"],[0.2222222222222222,\"#7201a8\"],[0.3333333333333333,\"#9c179e\"],[0.4444444444444444,\"#bd3786\"],[0.5555555555555556,\"#d8576b\"],[0.6666666666666666,\"#ed7953\"],[0.7777777777777778,\"#fb9f3a\"],[0.8888888888888888,\"#fdca26\"],[1.0,\"#f0f921\"]],\"diverging\":[[0,\"#8e0152\"],[0.1,\"#c51b7d\"],[0.2,\"#de77ae\"],[0.3,\"#f1b6da\"],[0.4,\"#fde0ef\"],[0.5,\"#f7f7f7\"],[0.6,\"#e6f5d0\"],[0.7,\"#b8e186\"],[0.8,\"#7fbc41\"],[0.9,\"#4d9221\"],[1,\"#276419\"]]},\"xaxis\":{\"gridcolor\":\"white\",\"linecolor\":\"white\",\"ticks\":\"\",\"title\":{\"standoff\":15},\"zerolinecolor\":\"white\",\"automargin\":true,\"zerolinewidth\":2},\"yaxis\":{\"gridcolor\":\"white\",\"linecolor\":\"white\",\"ticks\":\"\",\"title\":{\"standoff\":15},\"zerolinecolor\":\"white\",\"automargin\":true,\"zerolinewidth\":2},\"scene\":{\"xaxis\":{\"backgroundcolor\":\"#E5ECF6\",\"gridcolor\":\"white\",\"linecolor\":\"white\",\"showbackground\":true,\"ticks\":\"\",\"zerolinecolor\":\"white\",\"gridwidth\":2},\"yaxis\":{\"backgroundcolor\":\"#E5ECF6\",\"gridcolor\":\"white\",\"linecolor\":\"white\",\"showbackground\":true,\"ticks\":\"\",\"zerolinecolor\":\"white\",\"gridwidth\":2},\"zaxis\":{\"backgroundcolor\":\"#E5ECF6\",\"gridcolor\":\"white\",\"linecolor\":\"white\",\"showbackground\":true,\"ticks\":\"\",\"zerolinecolor\":\"white\",\"gridwidth\":2}},\"shapedefaults\":{\"line\":{\"color\":\"#2a3f5f\"}},\"annotationdefaults\":{\"arrowcolor\":\"#2a3f5f\",\"arrowhead\":0,\"arrowwidth\":1},\"geo\":{\"bgcolor\":\"white\",\"landcolor\":\"#E5ECF6\",\"subunitcolor\":\"white\",\"showland\":true,\"showlakes\":true,\"lakecolor\":\"white\"},\"title\":{\"x\":0.05},\"mapbox\":{\"style\":\"light\"}}},\"xaxis\":{\"anchor\":\"y\",\"domain\":[0.0,1.0],\"title\":{\"text\":\"X2 house age\"}},\"yaxis\":{\"anchor\":\"x\",\"domain\":[0.0,1.0],\"title\":{\"text\":\"sum of X4 number of convenience stores\"}},\"legend\":{\"title\":{\"text\":\"Y house price of unit area\"},\"tracegroupgap\":0},\"margin\":{\"t\":60},\"barmode\":\"relative\",\"width\":500},                        {\"responsive\": true}                    ).then(function(){\n",
       "                            \n",
       "var gd = document.getElementById('e3d4fc7a-fae5-4c02-b17d-5d5d6be0457c');\n",
       "var x = new MutationObserver(function (mutations, observer) {{\n",
       "        var display = window.getComputedStyle(gd).display;\n",
       "        if (!display || display === 'none') {{\n",
       "            console.log([gd, 'removed!']);\n",
       "            Plotly.purge(gd);\n",
       "            observer.disconnect();\n",
       "        }}\n",
       "}});\n",
       "\n",
       "// Listen for the removal of the full notebook cells\n",
       "var notebookContainer = gd.closest('#notebook-container');\n",
       "if (notebookContainer) {{\n",
       "    x.observe(notebookContainer, {childList: true});\n",
       "}}\n",
       "\n",
       "// Listen for the clearing of the current output cell\n",
       "var outputEl = gd.closest('.output');\n",
       "if (outputEl) {{\n",
       "    x.observe(outputEl, {childList: true});\n",
       "}}\n",
       "\n",
       "                        })                };                });            </script>        </div>"
      ]
     },
     "metadata": {},
     "output_type": "display_data"
    }
   ],
   "source": [
    "fig = px.histogram(data,x = \"X2 house age\",y = \"X4 number of convenience stores\",width=500,color= \"Y house price of unit area\"\n",
    ")\n",
    "fig.show()"
   ]
  },
  {
   "cell_type": "code",
   "execution_count": 52,
   "id": "3d9ce6ee",
   "metadata": {},
   "outputs": [
    {
     "data": {
      "image/png": "[encoded data removed]",
      "text/plain": [
       "<Figure size 640x480 with 2 Axes>"
      ]
     },
     "metadata": {},
     "output_type": "display_data"
    }
   ],
   "source": [
    "# plt.figure()\n",
    "sns.heatmap(data.corr(),annot = True,cmap = \"YlGnBu\");"
   ]
  },
  {
   "cell_type": "code",
   "execution_count": 53,
   "id": "09964ea6",
   "metadata": {},
   "outputs": [
    {
     "data": {
      "text/plain": [
       "0        84.87882\n",
       "1       306.59470\n",
       "2       561.98450\n",
       "3       561.98450\n",
       "4       390.56840\n",
       "          ...    \n",
       "409    4082.01500\n",
       "410      90.45606\n",
       "411     390.96960\n",
       "412     104.81010\n",
       "413      90.45606\n",
       "Name: X3 distance to the nearest MRT station, Length: 414, dtype: float64"
      ]
     },
     "execution_count": 53,
     "metadata": {},
     "output_type": "execute_result"
    }
   ],
   "source": [
    "# x1,x2,X3 is not giving a good relation\n",
    "data.pop('X1 transaction date')\n",
    "data.pop('X2 house age')\n",
    "data.pop('X3 distance to the nearest MRT station')"
   ]
  },
  {
   "cell_type": "code",
   "execution_count": 54,
   "id": "7ece0275",
   "metadata": {},
   "outputs": [
    {
     "data": {
      "image/png": "[encoded data removed]",
      "text/plain": [
       "<Figure size 640x480 with 2 Axes>"
      ]
     },
     "metadata": {},
     "output_type": "display_data"
    }
   ],
   "source": [
    "sns.heatmap(data.corr(),annot = True,cmap = \"YlGnBu\");"
   ]
  },
  {
   "cell_type": "code",
   "execution_count": null,
   "id": "3518b80c",
   "metadata": {},
   "outputs": [],
   "source": []
  },
  {
   "cell_type": "code",
   "execution_count": null,
   "id": "abeb92c4",
   "metadata": {},
   "outputs": [],
   "source": []
  },
  {
   "cell_type": "code",
   "execution_count": 55,
   "id": "f58b2a8c",
   "metadata": {},
   "outputs": [],
   "source": [
    "import numpy as np\n",
    "from sklearn.impute import SimpleImputer\n",
    "from sklearn.preprocessing import MinMaxScaler, OneHotEncoder\n",
    "from sklearn.model_selection import train_test_split\n",
    "\n",
    "# Identify input and target columns\n",
    "input_cols, target_col = data.columns[1:-1], data.columns[-1]\n",
    "inputs_df, targets = data[input_cols].copy(), data[target_col].copy()\n"
   ]
  },
  {
   "cell_type": "code",
   "execution_count": 56,
   "id": "52b525b6",
   "metadata": {},
   "outputs": [
    {
     "data": {
      "text/html": [
       "<div>\n",
       "<style scoped>\n",
       "    .dataframe tbody tr th:only-of-type {\n",
       "        vertical-align: middle;\n",
       "    }\n",
       "\n",
       "    .dataframe tbody tr th {\n",
       "        vertical-align: top;\n",
       "    }\n",
       "\n",
       "    .dataframe thead th {\n",
       "        text-align: right;\n",
       "    }\n",
       "</style>\n",
       "<table border=\"1\" class=\"dataframe\">\n",
       "  <thead>\n",
       "    <tr style=\"text-align: right;\">\n",
       "      <th></th>\n",
       "      <th>X5 latitude</th>\n",
       "      <th>X6 longitude</th>\n",
       "    </tr>\n",
       "  </thead>\n",
       "  <tbody>\n",
       "    <tr>\n",
       "      <th>0</th>\n",
       "      <td>24.98298</td>\n",
       "      <td>121.54024</td>\n",
       "    </tr>\n",
       "    <tr>\n",
       "      <th>1</th>\n",
       "      <td>24.98034</td>\n",
       "      <td>121.53951</td>\n",
       "    </tr>\n",
       "    <tr>\n",
       "      <th>2</th>\n",
       "      <td>24.98746</td>\n",
       "      <td>121.54391</td>\n",
       "    </tr>\n",
       "    <tr>\n",
       "      <th>3</th>\n",
       "      <td>24.98746</td>\n",
       "      <td>121.54391</td>\n",
       "    </tr>\n",
       "    <tr>\n",
       "      <th>4</th>\n",
       "      <td>24.97937</td>\n",
       "      <td>121.54245</td>\n",
       "    </tr>\n",
       "    <tr>\n",
       "      <th>...</th>\n",
       "      <td>...</td>\n",
       "      <td>...</td>\n",
       "    </tr>\n",
       "    <tr>\n",
       "      <th>409</th>\n",
       "      <td>24.94155</td>\n",
       "      <td>121.50381</td>\n",
       "    </tr>\n",
       "    <tr>\n",
       "      <th>410</th>\n",
       "      <td>24.97433</td>\n",
       "      <td>121.54310</td>\n",
       "    </tr>\n",
       "    <tr>\n",
       "      <th>411</th>\n",
       "      <td>24.97923</td>\n",
       "      <td>121.53986</td>\n",
       "    </tr>\n",
       "    <tr>\n",
       "      <th>412</th>\n",
       "      <td>24.96674</td>\n",
       "      <td>121.54067</td>\n",
       "    </tr>\n",
       "    <tr>\n",
       "      <th>413</th>\n",
       "      <td>24.97433</td>\n",
       "      <td>121.54310</td>\n",
       "    </tr>\n",
       "  </tbody>\n",
       "</table>\n",
       "<p>414 rows × 2 columns</p>\n",
       "</div>"
      ],
      "text/plain": [
       "     X5 latitude  X6 longitude\n",
       "0       24.98298     121.54024\n",
       "1       24.98034     121.53951\n",
       "2       24.98746     121.54391\n",
       "3       24.98746     121.54391\n",
       "4       24.97937     121.54245\n",
       "..           ...           ...\n",
       "409     24.94155     121.50381\n",
       "410     24.97433     121.54310\n",
       "411     24.97923     121.53986\n",
       "412     24.96674     121.54067\n",
       "413     24.97433     121.54310\n",
       "\n",
       "[414 rows x 2 columns]"
      ]
     },
     "execution_count": 56,
     "metadata": {},
     "output_type": "execute_result"
    }
   ],
   "source": [
    "inputs_df"
   ]
  },
  {
   "cell_type": "code",
   "execution_count": 23,
   "id": "c7d9c7fb",
   "metadata": {},
   "outputs": [
    {
     "data": {
      "text/plain": [
       "0      37.9\n",
       "1      42.2\n",
       "2      47.3\n",
       "3      54.8\n",
       "4      43.1\n",
       "       ... \n",
       "409    15.4\n",
       "410    50.0\n",
       "411    40.6\n",
       "412    52.5\n",
       "413    63.9\n",
       "Name: Y house price of unit area, Length: 414, dtype: float64"
      ]
     },
     "execution_count": 23,
     "metadata": {},
     "output_type": "execute_result"
    }
   ],
   "source": [
    "targets"
   ]
  },
  {
   "cell_type": "code",
   "execution_count": 26,
   "id": "3d8859f1",
   "metadata": {},
   "outputs": [],
   "source": [
    "# Impute and scale numeric columns\n",
    "imputer = SimpleImputer().fit(inputs_df)\n",
    "inputs_df = imputer.transform(inputs_df)\n",
    "scaler = MinMaxScaler().fit(inputs_df)\n",
    "inputs_df = scaler.transform(inputs_df)"
   ]
  },
  {
   "cell_type": "code",
   "execution_count": 27,
   "id": "9941aef2",
   "metadata": {},
   "outputs": [
    {
     "data": {
      "text/plain": [
       "array([[0.73059361, 0.00951267, 1.        , 0.61694135, 0.71932284],\n",
       "       [0.44520548, 0.04380939, 0.9       , 0.5849491 , 0.71145137],\n",
       "       [0.30365297, 0.08331505, 0.5       , 0.67123122, 0.75889584],\n",
       "       ...,\n",
       "       [0.42922374, 0.05686115, 0.7       , 0.57149782, 0.71522536],\n",
       "       [0.18493151, 0.0125958 , 0.5       , 0.42014057, 0.72395946],\n",
       "       [0.14840183, 0.0103754 , 0.9       , 0.51211827, 0.75016174]])"
      ]
     },
     "execution_count": 27,
     "metadata": {},
     "output_type": "execute_result"
    }
   ],
   "source": [
    "inputs_df"
   ]
  },
  {
   "cell_type": "code",
   "execution_count": 28,
   "id": "23e42563",
   "metadata": {},
   "outputs": [],
   "source": [
    "# Create training and validation sets\n",
    "train_inputs, val_inputs, train_targets, val_targets = train_test_split(\n",
    "    inputs_df, targets, test_size=0.25, random_state=42)"
   ]
  },
  {
   "cell_type": "code",
   "execution_count": null,
   "id": "91532e04",
   "metadata": {},
   "outputs": [],
   "source": []
  }
 ],
 "metadata": {
  "kernelspec": {
   "display_name": "Python 3 (ipykernel)",
   "language": "python",
   "name": "python3"
  },
  "language_info": {
   "codemirror_mode": {
    "name": "ipython",
    "version": 3
   },
   "file_extension": ".py",
   "mimetype": "text/x-python",
   "name": "python",
   "nbconvert_exporter": "python",
   "pygments_lexer": "ipython3",
   "version": "3.10.8"
  }
 },
 "nbformat": 4,
 "nbformat_minor": 5
}
